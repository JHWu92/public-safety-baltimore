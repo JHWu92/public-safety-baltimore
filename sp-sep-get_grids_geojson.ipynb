{
 "cells": [
  {
   "cell_type": "code",
   "execution_count": 1,
   "metadata": {
    "collapsed": true
   },
   "outputs": [],
   "source": [
    "from src.spatial_unit import baltimore_grids\n",
    "\n",
    "from src.constants import PathShape\n",
    "\n",
    "import geopandas as gp"
   ]
  },
  {
   "cell_type": "code",
   "execution_count": 8,
   "metadata": {},
   "outputs": [],
   "source": [
    "for grid_side in [50, 100, 150, 200, 250, 1000]:\n",
    "    grids = baltimore_grids(grid_side=grid_side, cityline_path=PathShape.cityline)\n",
    "    grids.Cen_coords= grids.Cen_coords.astype(str)\n",
    "    grids['side'] = grid_side\n",
    "    grids.to_file('data/baltimore-spu-grid-side-%d.geojson' % grid_side,driver=\"GeoJSON\")"
   ]
  },
  {
   "cell_type": "code",
   "execution_count": null,
   "metadata": {
    "collapsed": true
   },
   "outputs": [],
   "source": []
  }
 ],
 "metadata": {
  "kernelspec": {
   "display_name": "Python [default]",
   "language": "python",
   "name": "python3"
  },
  "language_info": {
   "codemirror_mode": {
    "name": "ipython",
    "version": 3
   },
   "file_extension": ".py",
   "mimetype": "text/x-python",
   "name": "python",
   "nbconvert_exporter": "python",
   "pygments_lexer": "ipython3",
   "version": "3.6.6"
  }
 },
 "nbformat": 4,
 "nbformat_minor": 2
}
