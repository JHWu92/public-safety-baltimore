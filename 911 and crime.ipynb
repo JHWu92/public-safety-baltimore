{
 "cells": [
  {
   "cell_type": "markdown",
   "metadata": {},
   "source": [
    "# related papers\n",
    "http://journals.sagepub.com/doi/pdf/10.1177/0081175015576601\n",
    "\n",
    "http://www.lifescienceglobal.com/pms/index.php/ijcs/article/view/5052/2853\n",
    "\n",
    "https://papers.ssrn.com/sol3/papers.cfm?abstract_id=2770506\n",
    "\n",
    "https://www.ijdp.org/article/S0955-3959(17)30288-8/abstract\n",
    "\n",
    "http://article.socialsciencesjournal.org/pdf/10.11648.j.ss.20180702.15.pdf\n",
    "\n",
    "https://www.sciencedirect.com/science/article/pii/S0091743503002330\n",
    "\n",
    "https://www.sciencedirect.com/science/article/pii/S0013935109000498\n",
    "\n",
    "https://onlinelibrary.wiley.com/doi/abs/10.1111/ecpo.12102\n",
    "\n",
    "http://journals.sagepub.com/doi/abs/10.1177/0003122416663494\n",
    "\n",
    "http://journals.sagepub.com/doi/pdf/10.1177/0022427806298356\n",
    "\n",
    "https://waset.org/abstracts/environmental-and-ecological-engineering/76986\n",
    "\n",
    "http://www.mdpi.com/2220-9964/7/2/43\n",
    "\n",
    "http://discovery.ucl.ac.uk/11291/1/11291.pdf (hot spot report)"
   ]
  },
  {
   "cell_type": "code",
   "execution_count": 1,
   "metadata": {
    "collapsed": true
   },
   "outputs": [],
   "source": [
    "import pandas as pd\n",
    "from shapely.geometry import Point\n",
    "import geopandas as gp\n",
    "\n",
    "import datetime\n",
    "from dateutil.relativedelta import relativedelta\n",
    "\n",
    "\n",
    "from src import constants as C\n",
    "from src.data_prep import prep_data_from_raw, prep_911, prep_crime"
   ]
  },
  {
   "cell_type": "code",
   "execution_count": 2,
   "metadata": {},
   "outputs": [
    {
     "data": {
      "text/plain": [
       "{'init': 'epsg:3559', 'no_defs': True}"
      ]
     },
     "execution_count": 2,
     "metadata": {},
     "output_type": "execute_result"
    }
   ],
   "source": [
    "d911 = prep_911(by_category=False, gpdf=True, coords_series=False)\n",
    "d911.geometry = d911.buffer(30)\n",
    "d911.reset_index(inplace=True)\n",
    "d911.crs"
   ]
  },
  {
   "cell_type": "code",
   "execution_count": 3,
   "metadata": {
    "collapsed": true,
    "scrolled": true
   },
   "outputs": [],
   "source": [
    "crimes = prep_crime(path='data/open-baltimore/clean/crimes-dev-set.csv',by_category=False, gpdf=True, coords_series=False)\n",
    "crimes.reset_index(inplace=True)\n",
    "crimes.geometry = crimes.buffer(30)"
   ]
  },
  {
   "cell_type": "code",
   "execution_count": 4,
   "metadata": {
    "collapsed": true
   },
   "outputs": [],
   "source": [
    "# crimes = prep_data_from_raw('data/open-baltimore/raw/BPD_Part_1_Victim_Based_Crime_Data.csv', \n",
    "#                  col_lon='Longitude', col_lat='Latitude', col_date='CrimeDate', to_epsg=3559)\n",
    "\n",
    "# crimes= crimes.loc['2015-01-01':]\n",
    "# crimes['geometry'] = crimes.Coords.apply(lambda x: Point(*x))\n",
    "# crimes = gp.GeoDataFrame(crimes)\n",
    "# crimes.geometry = crimes.buffer(30)\n",
    "# crimes.reset_index(inplace=True)\n",
    "# crimes.crs = {'init': 'epsg:3559', 'no_defs': True}"
   ]
  },
  {
   "cell_type": "code",
   "execution_count": 5,
   "metadata": {
    "collapsed": true
   },
   "outputs": [],
   "source": [
    "ym_crime = set(crimes.Date.apply(lambda x: (x.year, x.month)).unique())\n",
    "ym_911 = set(d911.Date.apply(lambda x: (x.year, x.month)).unique())\n",
    "yms = list(ym_crime & ym_911)"
   ]
  },
  {
   "cell_type": "code",
   "execution_count": 6,
   "metadata": {},
   "outputs": [
    {
     "name": "stderr",
     "output_type": "stream",
     "text": [
      "D:\\ProgramFiles\\Anaconda3\\lib\\site-packages\\numpy\\lib\\function_base.py:2652: RuntimeWarning: invalid value encountered in ? (vectorized)\n",
      "  outputs = ufunc(*inputs)\n"
     ]
    }
   ],
   "source": [
    "pairs = []\n",
    "for y, m in yms:\n",
    "    date = datetime.datetime(year=y, month=m, day=1)\n",
    "    start = date - datetime.timedelta(days=1)\n",
    "    end = date + relativedelta(months=+1)\n",
    "    slice_crimes = crimes[(crimes.Date>=start) & (crimes.Date<=end)]\n",
    "    slice_d911 = d911[(d911.Date>=start) & (d911.Date<=end)]\n",
    "    joined = gp.sjoin(slice_d911[['Date', 'geometry']], slice_crimes[['Date', 'geometry']])\n",
    "    pairs.append(\n",
    "        joined[joined.Date_left == joined.Date_right].reset_index()[['index', 'index_right']].rename(\n",
    "            columns={'index': 'i911', 'index_right': 'icrime'})    \n",
    "    )\n",
    "\n",
    "pairs = pd.concat(pairs, ignore_index=True)"
   ]
  },
  {
   "cell_type": "code",
   "execution_count": 7,
   "metadata": {},
   "outputs": [
    {
     "data": {
      "text/plain": [
       "(92820, 17)"
      ]
     },
     "execution_count": 7,
     "metadata": {},
     "output_type": "execute_result"
    }
   ],
   "source": [
    "crimes[(crimes.Date>='2015-01-01') & (crimes.Date<='2017-01-01')].shape"
   ]
  },
  {
   "cell_type": "code",
   "execution_count": 8,
   "metadata": {},
   "outputs": [
    {
     "data": {
      "text/plain": [
       "(40206,)"
      ]
     },
     "execution_count": 8,
     "metadata": {},
     "output_type": "execute_result"
    }
   ],
   "source": [
    "pairs.groupby('icrime').size().shape"
   ]
  },
  {
   "cell_type": "code",
   "execution_count": 9,
   "metadata": {
    "scrolled": true
   },
   "outputs": [
    {
     "data": {
      "text/plain": [
       "i911\n",
       "436077    11\n",
       "436152    11\n",
       "436230    11\n",
       "436196    11\n",
       "435844    11\n",
       "436171    11\n",
       "436284    11\n",
       "436080    11\n",
       "436116    11\n",
       "436136    11\n",
       "114159     7\n",
       "114247     7\n",
       "114249     7\n",
       "114450     7\n",
       "114343     7\n",
       "365345     6\n",
       "584391     6\n",
       "584384     6\n",
       "46395      6\n",
       "215997     6\n",
       "95289      6\n",
       "113471     6\n",
       "95215      6\n",
       "71576      6\n",
       "127676     6\n",
       "127677     6\n",
       "392015     6\n",
       "216003     6\n",
       "113164     6\n",
       "112933     6\n",
       "          ..\n",
       "415938     1\n",
       "415934     1\n",
       "416231     1\n",
       "416235     1\n",
       "416527     1\n",
       "416238     1\n",
       "416513     1\n",
       "416511     1\n",
       "416507     1\n",
       "416492     1\n",
       "416457     1\n",
       "416429     1\n",
       "416419     1\n",
       "416412     1\n",
       "416400     1\n",
       "416358     1\n",
       "416353     1\n",
       "416346     1\n",
       "416345     1\n",
       "416342     1\n",
       "416337     1\n",
       "416334     1\n",
       "416309     1\n",
       "416306     1\n",
       "416302     1\n",
       "416270     1\n",
       "416262     1\n",
       "416259     1\n",
       "416251     1\n",
       "58         1\n",
       "Length: 60161, dtype: int64"
      ]
     },
     "execution_count": 9,
     "metadata": {},
     "output_type": "execute_result"
    }
   ],
   "source": [
    "pairs.groupby('i911').size().sort_values(ascending=False)"
   ]
  },
  {
   "cell_type": "code",
   "execution_count": 10,
   "metadata": {
    "collapsed": true
   },
   "outputs": [],
   "source": [
    "idx_crimes = pairs.icrime.unique()\n",
    "idx_911 = pairs.i911.unique()"
   ]
  },
  {
   "cell_type": "code",
   "execution_count": 75,
   "metadata": {
    "collapsed": true
   },
   "outputs": [],
   "source": [
    "%matplotlib inline"
   ]
  },
  {
   "cell_type": "code",
   "execution_count": 47,
   "metadata": {
    "scrolled": true
   },
   "outputs": [
    {
     "data": {
      "text/html": [
       "<div>\n",
       "<style>\n",
       "    .dataframe thead tr:only-child th {\n",
       "        text-align: right;\n",
       "    }\n",
       "\n",
       "    .dataframe thead th {\n",
       "        text-align: left;\n",
       "    }\n",
       "\n",
       "    .dataframe tbody tr th {\n",
       "        vertical-align: top;\n",
       "    }\n",
       "</style>\n",
       "<table border=\"1\" class=\"dataframe\">\n",
       "  <thead>\n",
       "    <tr style=\"text-align: right;\">\n",
       "      <th></th>\n",
       "      <th>Date</th>\n",
       "      <th>ori_index</th>\n",
       "      <th>Time</th>\n",
       "      <th>CrimeCode</th>\n",
       "      <th>Location</th>\n",
       "      <th>Description</th>\n",
       "      <th>Weapon</th>\n",
       "      <th>Post</th>\n",
       "      <th>District</th>\n",
       "      <th>Neighborhood</th>\n",
       "      <th>Longitude</th>\n",
       "      <th>Latitude</th>\n",
       "      <th>Premise</th>\n",
       "      <th>Category</th>\n",
       "      <th>In/Outside</th>\n",
       "      <th>Coords</th>\n",
       "      <th>geometry</th>\n",
       "    </tr>\n",
       "  </thead>\n",
       "  <tbody>\n",
       "    <tr>\n",
       "      <th>179877</th>\n",
       "      <td>2016-11-30</td>\n",
       "      <td>61079</td>\n",
       "      <td>18:00:00</td>\n",
       "      <td>9S</td>\n",
       "      <td>2900 GARRISON BLVD</td>\n",
       "      <td>SHOOTING</td>\n",
       "      <td>FIREARM</td>\n",
       "      <td>641.0</td>\n",
       "      <td>NORTHWESTERN</td>\n",
       "      <td>Hanlon-Longwood</td>\n",
       "      <td>-76.67729</td>\n",
       "      <td>39.32049</td>\n",
       "      <td>Public Are</td>\n",
       "      <td>shooting</td>\n",
       "      <td>O</td>\n",
       "      <td>(427828.0384116637, 183634.42648913254)</td>\n",
       "      <td>POLYGON ((427858.0384116637 183634.4264891325,...</td>\n",
       "    </tr>\n",
       "    <tr>\n",
       "      <th>179878</th>\n",
       "      <td>2016-11-30</td>\n",
       "      <td>61075</td>\n",
       "      <td>18:00:00</td>\n",
       "      <td>1F</td>\n",
       "      <td>2900 GARRISON BLVD</td>\n",
       "      <td>HOMICIDE</td>\n",
       "      <td>FIREARM</td>\n",
       "      <td>641.0</td>\n",
       "      <td>NORTHWESTERN</td>\n",
       "      <td>Hanlon-Longwood</td>\n",
       "      <td>-76.67729</td>\n",
       "      <td>39.32049</td>\n",
       "      <td>Public Are</td>\n",
       "      <td>homicide</td>\n",
       "      <td>O</td>\n",
       "      <td>(427828.0384116637, 183634.42648913254)</td>\n",
       "      <td>POLYGON ((427858.0384116637 183634.4264891325,...</td>\n",
       "    </tr>\n",
       "    <tr>\n",
       "      <th>179886</th>\n",
       "      <td>2016-11-30</td>\n",
       "      <td>61089</td>\n",
       "      <td>18:00:00</td>\n",
       "      <td>4A</td>\n",
       "      <td>2900 GARRISN BLVD</td>\n",
       "      <td>AGG. ASSAULT</td>\n",
       "      <td>FIREARM</td>\n",
       "      <td>641.0</td>\n",
       "      <td>NORTHWESTERN</td>\n",
       "      <td>Hanlon-Longwood</td>\n",
       "      <td>-76.67729</td>\n",
       "      <td>39.32049</td>\n",
       "      <td>OTHER - OU</td>\n",
       "      <td>assault</td>\n",
       "      <td>O</td>\n",
       "      <td>(427828.0384116637, 183634.42648913254)</td>\n",
       "      <td>POLYGON ((427858.0384116637 183634.4264891325,...</td>\n",
       "    </tr>\n",
       "    <tr>\n",
       "      <th>179878</th>\n",
       "      <td>2016-11-30</td>\n",
       "      <td>61075</td>\n",
       "      <td>18:00:00</td>\n",
       "      <td>1F</td>\n",
       "      <td>2900 GARRISON BLVD</td>\n",
       "      <td>HOMICIDE</td>\n",
       "      <td>FIREARM</td>\n",
       "      <td>641.0</td>\n",
       "      <td>NORTHWESTERN</td>\n",
       "      <td>Hanlon-Longwood</td>\n",
       "      <td>-76.67729</td>\n",
       "      <td>39.32049</td>\n",
       "      <td>Public Are</td>\n",
       "      <td>homicide</td>\n",
       "      <td>O</td>\n",
       "      <td>(427828.0384116637, 183634.42648913254)</td>\n",
       "      <td>POLYGON ((427858.0384116637 183634.4264891325,...</td>\n",
       "    </tr>\n",
       "    <tr>\n",
       "      <th>179877</th>\n",
       "      <td>2016-11-30</td>\n",
       "      <td>61079</td>\n",
       "      <td>18:00:00</td>\n",
       "      <td>9S</td>\n",
       "      <td>2900 GARRISON BLVD</td>\n",
       "      <td>SHOOTING</td>\n",
       "      <td>FIREARM</td>\n",
       "      <td>641.0</td>\n",
       "      <td>NORTHWESTERN</td>\n",
       "      <td>Hanlon-Longwood</td>\n",
       "      <td>-76.67729</td>\n",
       "      <td>39.32049</td>\n",
       "      <td>Public Are</td>\n",
       "      <td>shooting</td>\n",
       "      <td>O</td>\n",
       "      <td>(427828.0384116637, 183634.42648913254)</td>\n",
       "      <td>POLYGON ((427858.0384116637 183634.4264891325,...</td>\n",
       "    </tr>\n",
       "    <tr>\n",
       "      <th>179886</th>\n",
       "      <td>2016-11-30</td>\n",
       "      <td>61089</td>\n",
       "      <td>18:00:00</td>\n",
       "      <td>4A</td>\n",
       "      <td>2900 GARRISN BLVD</td>\n",
       "      <td>AGG. ASSAULT</td>\n",
       "      <td>FIREARM</td>\n",
       "      <td>641.0</td>\n",
       "      <td>NORTHWESTERN</td>\n",
       "      <td>Hanlon-Longwood</td>\n",
       "      <td>-76.67729</td>\n",
       "      <td>39.32049</td>\n",
       "      <td>OTHER - OU</td>\n",
       "      <td>assault</td>\n",
       "      <td>O</td>\n",
       "      <td>(427828.0384116637, 183634.42648913254)</td>\n",
       "      <td>POLYGON ((427858.0384116637 183634.4264891325,...</td>\n",
       "    </tr>\n",
       "  </tbody>\n",
       "</table>\n",
       "</div>"
      ],
      "text/plain": [
       "             Date  ori_index      Time CrimeCode            Location  \\\n",
       "179877 2016-11-30      61079  18:00:00        9S  2900 GARRISON BLVD   \n",
       "179878 2016-11-30      61075  18:00:00        1F  2900 GARRISON BLVD   \n",
       "179886 2016-11-30      61089  18:00:00        4A   2900 GARRISN BLVD   \n",
       "179878 2016-11-30      61075  18:00:00        1F  2900 GARRISON BLVD   \n",
       "179877 2016-11-30      61079  18:00:00        9S  2900 GARRISON BLVD   \n",
       "179886 2016-11-30      61089  18:00:00        4A   2900 GARRISN BLVD   \n",
       "\n",
       "         Description   Weapon   Post      District     Neighborhood  \\\n",
       "179877      SHOOTING  FIREARM  641.0  NORTHWESTERN  Hanlon-Longwood   \n",
       "179878      HOMICIDE  FIREARM  641.0  NORTHWESTERN  Hanlon-Longwood   \n",
       "179886  AGG. ASSAULT  FIREARM  641.0  NORTHWESTERN  Hanlon-Longwood   \n",
       "179878      HOMICIDE  FIREARM  641.0  NORTHWESTERN  Hanlon-Longwood   \n",
       "179877      SHOOTING  FIREARM  641.0  NORTHWESTERN  Hanlon-Longwood   \n",
       "179886  AGG. ASSAULT  FIREARM  641.0  NORTHWESTERN  Hanlon-Longwood   \n",
       "\n",
       "        Longitude  Latitude     Premise Category      In/Outside  \\\n",
       "179877  -76.67729  39.32049  Public Are      shooting          O   \n",
       "179878  -76.67729  39.32049  Public Are      homicide          O   \n",
       "179886  -76.67729  39.32049  OTHER - OU       assault          O   \n",
       "179878  -76.67729  39.32049  Public Are      homicide          O   \n",
       "179877  -76.67729  39.32049  Public Are      shooting          O   \n",
       "179886  -76.67729  39.32049  OTHER - OU       assault          O   \n",
       "\n",
       "                                         Coords  \\\n",
       "179877  (427828.0384116637, 183634.42648913254)   \n",
       "179878  (427828.0384116637, 183634.42648913254)   \n",
       "179886  (427828.0384116637, 183634.42648913254)   \n",
       "179878  (427828.0384116637, 183634.42648913254)   \n",
       "179877  (427828.0384116637, 183634.42648913254)   \n",
       "179886  (427828.0384116637, 183634.42648913254)   \n",
       "\n",
       "                                                 geometry  \n",
       "179877  POLYGON ((427858.0384116637 183634.4264891325,...  \n",
       "179878  POLYGON ((427858.0384116637 183634.4264891325,...  \n",
       "179886  POLYGON ((427858.0384116637 183634.4264891325,...  \n",
       "179878  POLYGON ((427858.0384116637 183634.4264891325,...  \n",
       "179877  POLYGON ((427858.0384116637 183634.4264891325,...  \n",
       "179886  POLYGON ((427858.0384116637 183634.4264891325,...  "
      ]
     },
     "execution_count": 47,
     "metadata": {},
     "output_type": "execute_result"
    }
   ],
   "source": [
    "# duplicates in crime\n",
    "crimes.loc[pairs[pairs.i911==609242].icrime]"
   ]
  },
  {
   "cell_type": "code",
   "execution_count": 11,
   "metadata": {
    "collapsed": true
   },
   "outputs": [],
   "source": [
    "\n",
    "from importlib import reload\n",
    "import src.vis; reload(src.vis)\n",
    "import src.vis.map; reload(src.vis.map)\n",
    "from src.vis.map import marker_cluster, marker_cluster_fast\n"
   ]
  },
  {
   "cell_type": "code",
   "execution_count": 17,
   "metadata": {},
   "outputs": [],
   "source": [
    "from wKit.vis.map import marker_cluster_fast"
   ]
  },
  {
   "cell_type": "code",
   "execution_count": 12,
   "metadata": {},
   "outputs": [],
   "source": [
    "target_c = crimes.loc[idx_crimes]\n",
    "target_9 = d911.loc[idx_911]"
   ]
  },
  {
   "cell_type": "code",
   "execution_count": 13,
   "metadata": {
    "collapsed": true
   },
   "outputs": [],
   "source": [
    "name_location = {\n",
    "    'crimes': list(zip(target_c.Latitude.tolist(), target_c.Longitude.tolist())),\n",
    "    '911': list(zip(target_9.Latitude.tolist(), target_9.Longitude.tolist()))\n",
    "}"
   ]
  },
  {
   "cell_type": "code",
   "execution_count": 20,
   "metadata": {
    "collapsed": true
   },
   "outputs": [],
   "source": [
    "marker_cluster_fast(name_location, lonlat=False, filename='tmp/crime_911.html')"
   ]
  }
 ],
 "metadata": {
  "kernelspec": {
   "display_name": "Python 3",
   "language": "python",
   "name": "python3"
  },
  "language_info": {
   "codemirror_mode": {
    "name": "ipython",
    "version": 3
   },
   "file_extension": ".py",
   "mimetype": "text/x-python",
   "name": "python",
   "nbconvert_exporter": "python",
   "pygments_lexer": "ipython3",
   "version": "3.6.1"
  }
 },
 "nbformat": 4,
 "nbformat_minor": 2
}
