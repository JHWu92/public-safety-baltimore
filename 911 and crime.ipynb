{
 "cells": [
  {
   "cell_type": "markdown",
   "metadata": {},
   "source": [
    "# related papers\n",
    "http://journals.sagepub.com/doi/pdf/10.1177/0081175015576601\n",
    "\n",
    "http://www.lifescienceglobal.com/pms/index.php/ijcs/article/view/5052/2853\n",
    "\n",
    "https://papers.ssrn.com/sol3/papers.cfm?abstract_id=2770506\n",
    "\n",
    "https://www.ijdp.org/article/S0955-3959(17)30288-8/abstract\n",
    "\n",
    "http://article.socialsciencesjournal.org/pdf/10.11648.j.ss.20180702.15.pdf\n",
    "\n",
    "https://www.sciencedirect.com/science/article/pii/S0091743503002330\n",
    "\n",
    "https://www.sciencedirect.com/science/article/pii/S0013935109000498\n",
    "\n",
    "https://onlinelibrary.wiley.com/doi/abs/10.1111/ecpo.12102\n",
    "\n",
    "http://journals.sagepub.com/doi/abs/10.1177/0003122416663494\n",
    "\n",
    "http://journals.sagepub.com/doi/pdf/10.1177/0022427806298356\n",
    "\n",
    "https://waset.org/abstracts/environmental-and-ecological-engineering/76986\n",
    "\n",
    "http://www.mdpi.com/2220-9964/7/2/43\n",
    "\n",
    "http://discovery.ucl.ac.uk/11291/1/11291.pdf (hot spot report)"
   ]
  },
  {
   "cell_type": "code",
   "execution_count": 1,
   "metadata": {
    "collapsed": true
   },
   "outputs": [],
   "source": [
    "%matplotlib inline\n",
    "import pandas as pd\n",
    "from shapely.geometry import Point\n",
    "import geopandas as gp\n",
    "\n",
    "import datetime\n",
    "from dateutil.relativedelta import relativedelta\n",
    "\n",
    "\n",
    "from src import constants as C\n",
    "from src.data_prep import prep_data_from_raw, prep_911, prep_crime"
   ]
  },
  {
   "cell_type": "markdown",
   "metadata": {},
   "source": [
    "# load data"
   ]
  },
  {
   "cell_type": "code",
   "execution_count": 2,
   "metadata": {},
   "outputs": [
    {
     "data": {
      "text/plain": [
       "{'init': 'epsg:3559', 'no_defs': True}"
      ]
     },
     "execution_count": 2,
     "metadata": {},
     "output_type": "execute_result"
    }
   ],
   "source": [
    "d911 = prep_911(by_category=False, gpdf=True, coords_series=False)\n",
    "d911.reset_index(inplace=True)\n",
    "d911.crs"
   ]
  },
  {
   "cell_type": "code",
   "execution_count": 3,
   "metadata": {
    "collapsed": true,
    "scrolled": true
   },
   "outputs": [],
   "source": [
    "crimes = prep_crime(path='data/open-baltimore/clean/crimes-dev-set.csv',by_category=False, gpdf=True, coords_series=False)\n",
    "crimes.reset_index(inplace=True)"
   ]
  },
  {
   "cell_type": "code",
   "execution_count": 4,
   "metadata": {
    "collapsed": true
   },
   "outputs": [],
   "source": [
    "# crimes = prep_data_from_raw('data/open-baltimore/raw/BPD_Part_1_Victim_Based_Crime_Data.csv', \n",
    "#                  col_lon='Longitude', col_lat='Latitude', col_date='CrimeDate', to_epsg=3559)\n",
    "\n",
    "# crimes= crimes.loc['2015-01-01':]\n",
    "# crimes['geometry'] = crimes.Coords.apply(lambda x: Point(*x))\n",
    "# crimes = gp.GeoDataFrame(crimes)\n",
    "# crimes.geometry = crimes.buffer(30)\n",
    "# crimes.reset_index(inplace=True)\n",
    "# crimes.crs = {'init': 'epsg:3559', 'no_defs': True}"
   ]
  },
  {
   "cell_type": "markdown",
   "metadata": {},
   "source": [
    "# sjoin"
   ]
  },
  {
   "cell_type": "code",
   "execution_count": 5,
   "metadata": {},
   "outputs": [
    {
     "data": {
      "text/plain": [
       "24"
      ]
     },
     "execution_count": 5,
     "metadata": {},
     "output_type": "execute_result"
    }
   ],
   "source": [
    "# do sjoin per (Year, Month)\n",
    "ym_crime = set(crimes.DateTime.apply(lambda x: (x.year, x.month)).unique())\n",
    "ym_911 = set(d911.DateTime.apply(lambda x: (x.year, x.month)).unique())\n",
    "yms = list(ym_crime & ym_911)\n",
    "len(yms)"
   ]
  },
  {
   "cell_type": "code",
   "execution_count": 6,
   "metadata": {
    "collapsed": true
   },
   "outputs": [],
   "source": [
    "# sjoin within 100 meters\n",
    "# d911.geometry = d911.buffer(30)\n",
    "crimes_bf = crimes.copy()\n",
    "crimes_bf.geometry = crimes_bf.buffer(100)"
   ]
  },
  {
   "cell_type": "code",
   "execution_count": 7,
   "metadata": {
    "collapsed": true
   },
   "outputs": [],
   "source": [
    "pairs = []\n",
    "for y, m in yms:\n",
    "    # - 1 day in case a crime happened just seconds before 1st of a month\n",
    "    # include the 1st of next month in case a crime happend just seconds after this month\n",
    "    # this may create duplicates, drop duplicates later\n",
    "    date = datetime.datetime(year=y, month=m, day=1)\n",
    "    start = date - datetime.timedelta(days=1)\n",
    "    end = date + relativedelta(months=+1)\n",
    "    \n",
    "    # slice data by start and end date\n",
    "    sted_crimes = crimes_bf[(crimes_bf.DateTime>=start) & (crimes_bf.DateTime<=end)]\n",
    "    sted_d911 = d911[(d911.DateTime>=start) & (d911.DateTime<=end)]\n",
    "    \n",
    "    # Spatial constraint: 911 call is within X-meter radius of crime\n",
    "    joined = gp.sjoin(sted_d911[['DateTime', 'geometry']], sted_crimes[['DateTime', 'geometry']])\n",
    "    \n",
    "    # DateTime constraint: 911 call is within 12 hours after crime happened, \n",
    "    # or 911 can also be within 1 hour before crime, considering the crimeTime may not be accurate\n",
    "    joined = joined.reset_index().rename(columns={'index': 'i911', 'index_right': 'icrime'})\n",
    "    joined['dt_diff'] = joined.apply(lambda x: (x.DateTime_left - x.DateTime_right).total_seconds()/3600, axis=1)\n",
    "    cond = (joined.dt_diff >= -1) & (joined.dt_diff <= 12 )\n",
    "    pairs.append(joined[cond][['i911', 'icrime', 'dt_diff']])\n",
    "#     break\n",
    "\n",
    "pairs = pd.concat(pairs, ignore_index=True)\n",
    "# drop duplicates\n",
    "pairs = pairs[~pairs.duplicated()]"
   ]
  },
  {
   "cell_type": "code",
   "execution_count": 8,
   "metadata": {
    "collapsed": true
   },
   "outputs": [],
   "source": [
    "crime_in_range = crimes[(crimes.DateTime>='2014-12-31') & (crimes.DateTime<='2017-01-01')]\n",
    "d911_in_range = d911[(d911.DateTime>='2014-12-31') & (d911.DateTime<='2017-01-01')]\n",
    "num_crimes = len(crime_in_range)\n",
    "num_911 = len(d911_in_range)"
   ]
  },
  {
   "cell_type": "code",
   "execution_count": 9,
   "metadata": {
    "collapsed": true
   },
   "outputs": [],
   "source": [
    "idx_crimes = pairs.icrime.unique()\n",
    "idx_911 = pairs.i911.unique()"
   ]
  },
  {
   "cell_type": "code",
   "execution_count": 10,
   "metadata": {},
   "outputs": [
    {
     "data": {
      "text/plain": [
       "'crime: 49714/92926=0.53, 911: 72460/634100=0.11'"
      ]
     },
     "execution_count": 10,
     "metadata": {},
     "output_type": "execute_result"
    }
   ],
   "source": [
    "'crime: %d/%d=%.02f, 911: %d/%d=%.02f' % (len(idx_crimes), num_crimes,len(idx_crimes) / num_crimes, len(idx_911), num_911, len(idx_911) / num_911)"
   ]
  },
  {
   "cell_type": "code",
   "execution_count": 10,
   "metadata": {},
   "outputs": [
    {
     "data": {
      "text/plain": [
       "'crime: 49714/92926=0.53, 911: 72460/634100=0.11'"
      ]
     },
     "execution_count": 10,
     "metadata": {},
     "output_type": "execute_result"
    }
   ],
   "source": [
    "'crime: %d/%d=%.02f, 911: %d/%d=%.02f' % (len(idx_crimes), num_crimes,len(idx_crimes) / num_crimes, len(idx_911), num_911, len(idx_911) / num_911)"
   ]
  },
  {
   "cell_type": "markdown",
   "metadata": {},
   "source": [
    "# add info to pairs"
   ]
  },
  {
   "cell_type": "code",
   "execution_count": 11,
   "metadata": {
    "collapsed": true
   },
   "outputs": [],
   "source": [
    "# information to be added to pairs\n",
    "\n",
    "col_c = ['DateTime', 'Category', 'Latitude', 'Longitude', 'Weapon', 'Neighborhood', 'In/Outside', 'Coords', 'geometry']\n",
    "paired_c = crimes.loc[idx_crimes][col_c]\n",
    "# col_c = [c+'_c' for c in col_c]\n",
    "paired_c.columns = [c+'_c' for c in col_c]\n",
    "\n",
    "col_9 = ['DateTime', 'Category', 'description', 'Latitude', 'Longitude', 'priority', 'Coords', 'geometry']\n",
    "paired_9 = d911.loc[idx_911][col_9]\n",
    "# col_9 = [c+'_9' for c in col_9]\n",
    "paired_9.columns = [c+'_9' for c in col_9]"
   ]
  },
  {
   "cell_type": "code",
   "execution_count": 12,
   "metadata": {
    "collapsed": true
   },
   "outputs": [],
   "source": [
    "# for do-over merge\n",
    "# pairs = pairs[['i911', 'icrime', 'dt_diff', 'distance']]"
   ]
  },
  {
   "cell_type": "code",
   "execution_count": 13,
   "metadata": {
    "collapsed": true
   },
   "outputs": [],
   "source": [
    "pairs = pairs.merge(paired_9, left_on='i911', right_index=True).merge(paired_c, left_on='icrime', right_index=True)"
   ]
  },
  {
   "cell_type": "code",
   "execution_count": 14,
   "metadata": {
    "collapsed": true
   },
   "outputs": [],
   "source": [
    "from scipy.spatial import distance\n",
    "pairs['distance'] = pairs.apply(lambda x: distance.euclidean(x.Coords_9, x.Coords_c), axis=1)"
   ]
  },
  {
   "cell_type": "code",
   "execution_count": 15,
   "metadata": {},
   "outputs": [],
   "source": [
    "# pairs.set_index(['icrime', 'Category_c', 'DateTime_c','i911']).sort_index()"
   ]
  },
  {
   "cell_type": "code",
   "execution_count": 16,
   "metadata": {
    "scrolled": true
   },
   "outputs": [
    {
     "data": {
      "text/html": [
       "<div>\n",
       "<style>\n",
       "    .dataframe thead tr:only-child th {\n",
       "        text-align: right;\n",
       "    }\n",
       "\n",
       "    .dataframe thead th {\n",
       "        text-align: left;\n",
       "    }\n",
       "\n",
       "    .dataframe tbody tr th {\n",
       "        vertical-align: top;\n",
       "    }\n",
       "</style>\n",
       "<table border=\"1\" class=\"dataframe\">\n",
       "  <thead>\n",
       "    <tr style=\"text-align: right;\">\n",
       "      <th></th>\n",
       "      <th>i911</th>\n",
       "      <th>icrime</th>\n",
       "      <th>dt_diff</th>\n",
       "      <th>DateTime_9</th>\n",
       "      <th>Category_9</th>\n",
       "      <th>description_9</th>\n",
       "      <th>Latitude_9</th>\n",
       "      <th>Longitude_9</th>\n",
       "      <th>priority_9</th>\n",
       "      <th>Coords_9</th>\n",
       "      <th>...</th>\n",
       "      <th>DateTime_c</th>\n",
       "      <th>Category_c</th>\n",
       "      <th>Latitude_c</th>\n",
       "      <th>Longitude_c</th>\n",
       "      <th>Weapon_c</th>\n",
       "      <th>Neighborhood_c</th>\n",
       "      <th>In/Outside_c</th>\n",
       "      <th>Coords_c</th>\n",
       "      <th>geometry_c</th>\n",
       "      <th>distance</th>\n",
       "    </tr>\n",
       "  </thead>\n",
       "  <tbody>\n",
       "    <tr>\n",
       "      <th>31283</th>\n",
       "      <td>436116</td>\n",
       "      <td>153293</td>\n",
       "      <td>6.600000</td>\n",
       "      <td>2016-05-21 18:36:00</td>\n",
       "      <td>assault</td>\n",
       "      <td>COMMON ASSAULT</td>\n",
       "      <td>39.349203</td>\n",
       "      <td>-76.676391</td>\n",
       "      <td>Medium</td>\n",
       "      <td>(427894.2608454607, 186822.39437438943)</td>\n",
       "      <td>...</td>\n",
       "      <td>2016-05-21 12:00:00</td>\n",
       "      <td>theft_larceny</td>\n",
       "      <td>39.34911</td>\n",
       "      <td>-76.67611</td>\n",
       "      <td>NaN</td>\n",
       "      <td>Pimlico Good Neighbors</td>\n",
       "      <td>O</td>\n",
       "      <td>(427918.51885131863, 186812.155445374)</td>\n",
       "      <td>POINT (427918.5188513186 186812.155445374)</td>\n",
       "      <td>26.330335</td>\n",
       "    </tr>\n",
       "    <tr>\n",
       "      <th>31311</th>\n",
       "      <td>436116</td>\n",
       "      <td>153296</td>\n",
       "      <td>7.183333</td>\n",
       "      <td>2016-05-21 18:36:00</td>\n",
       "      <td>assault</td>\n",
       "      <td>COMMON ASSAULT</td>\n",
       "      <td>39.349203</td>\n",
       "      <td>-76.676391</td>\n",
       "      <td>Medium</td>\n",
       "      <td>(427894.2608454607, 186822.39437438943)</td>\n",
       "      <td>...</td>\n",
       "      <td>2016-05-21 11:25:00</td>\n",
       "      <td>theft_larceny</td>\n",
       "      <td>39.34911</td>\n",
       "      <td>-76.67611</td>\n",
       "      <td>NaN</td>\n",
       "      <td>Pimlico Good Neighbors</td>\n",
       "      <td>O</td>\n",
       "      <td>(427918.51885131863, 186812.155445374)</td>\n",
       "      <td>POINT (427918.5188513186 186812.155445374)</td>\n",
       "      <td>26.330335</td>\n",
       "    </tr>\n",
       "    <tr>\n",
       "      <th>31331</th>\n",
       "      <td>436116</td>\n",
       "      <td>153309</td>\n",
       "      <td>10.600000</td>\n",
       "      <td>2016-05-21 18:36:00</td>\n",
       "      <td>assault</td>\n",
       "      <td>COMMON ASSAULT</td>\n",
       "      <td>39.349203</td>\n",
       "      <td>-76.676391</td>\n",
       "      <td>Medium</td>\n",
       "      <td>(427894.2608454607, 186822.39437438943)</td>\n",
       "      <td>...</td>\n",
       "      <td>2016-05-21 08:00:00</td>\n",
       "      <td>theft_larceny</td>\n",
       "      <td>39.34911</td>\n",
       "      <td>-76.67611</td>\n",
       "      <td>NaN</td>\n",
       "      <td>Pimlico Good Neighbors</td>\n",
       "      <td>O</td>\n",
       "      <td>(427918.51885131863, 186812.155445374)</td>\n",
       "      <td>POINT (427918.5188513186 186812.155445374)</td>\n",
       "      <td>26.330335</td>\n",
       "    </tr>\n",
       "    <tr>\n",
       "      <th>31292</th>\n",
       "      <td>436116</td>\n",
       "      <td>153214</td>\n",
       "      <td>3.100000</td>\n",
       "      <td>2016-05-21 18:36:00</td>\n",
       "      <td>assault</td>\n",
       "      <td>COMMON ASSAULT</td>\n",
       "      <td>39.349203</td>\n",
       "      <td>-76.676391</td>\n",
       "      <td>Medium</td>\n",
       "      <td>(427894.2608454607, 186822.39437438943)</td>\n",
       "      <td>...</td>\n",
       "      <td>2016-05-21 15:30:00</td>\n",
       "      <td>theft_larceny</td>\n",
       "      <td>39.34911</td>\n",
       "      <td>-76.67611</td>\n",
       "      <td>NaN</td>\n",
       "      <td>Pimlico Good Neighbors</td>\n",
       "      <td>O</td>\n",
       "      <td>(427918.51885131863, 186812.155445374)</td>\n",
       "      <td>POINT (427918.5188513186 186812.155445374)</td>\n",
       "      <td>26.330335</td>\n",
       "    </tr>\n",
       "    <tr>\n",
       "      <th>31301</th>\n",
       "      <td>436116</td>\n",
       "      <td>153194</td>\n",
       "      <td>2.600000</td>\n",
       "      <td>2016-05-21 18:36:00</td>\n",
       "      <td>assault</td>\n",
       "      <td>COMMON ASSAULT</td>\n",
       "      <td>39.349203</td>\n",
       "      <td>-76.676391</td>\n",
       "      <td>Medium</td>\n",
       "      <td>(427894.2608454607, 186822.39437438943)</td>\n",
       "      <td>...</td>\n",
       "      <td>2016-05-21 16:00:00</td>\n",
       "      <td>theft_larceny</td>\n",
       "      <td>39.34911</td>\n",
       "      <td>-76.67611</td>\n",
       "      <td>NaN</td>\n",
       "      <td>Pimlico Good Neighbors</td>\n",
       "      <td>O</td>\n",
       "      <td>(427918.51885131863, 186812.155445374)</td>\n",
       "      <td>POINT (427918.5188513186 186812.155445374)</td>\n",
       "      <td>26.330335</td>\n",
       "    </tr>\n",
       "    <tr>\n",
       "      <th>31320</th>\n",
       "      <td>436116</td>\n",
       "      <td>153292</td>\n",
       "      <td>5.600000</td>\n",
       "      <td>2016-05-21 18:36:00</td>\n",
       "      <td>assault</td>\n",
       "      <td>COMMON ASSAULT</td>\n",
       "      <td>39.349203</td>\n",
       "      <td>-76.676391</td>\n",
       "      <td>Medium</td>\n",
       "      <td>(427894.2608454607, 186822.39437438943)</td>\n",
       "      <td>...</td>\n",
       "      <td>2016-05-21 13:00:00</td>\n",
       "      <td>theft_larceny</td>\n",
       "      <td>39.34911</td>\n",
       "      <td>-76.67611</td>\n",
       "      <td>NaN</td>\n",
       "      <td>Pimlico Good Neighbors</td>\n",
       "      <td>O</td>\n",
       "      <td>(427918.51885131863, 186812.155445374)</td>\n",
       "      <td>POINT (427918.5188513186 186812.155445374)</td>\n",
       "      <td>26.330335</td>\n",
       "    </tr>\n",
       "    <tr>\n",
       "      <th>31337</th>\n",
       "      <td>436116</td>\n",
       "      <td>153290</td>\n",
       "      <td>5.100000</td>\n",
       "      <td>2016-05-21 18:36:00</td>\n",
       "      <td>assault</td>\n",
       "      <td>COMMON ASSAULT</td>\n",
       "      <td>39.349203</td>\n",
       "      <td>-76.676391</td>\n",
       "      <td>Medium</td>\n",
       "      <td>(427894.2608454607, 186822.39437438943)</td>\n",
       "      <td>...</td>\n",
       "      <td>2016-05-21 13:30:00</td>\n",
       "      <td>theft_larceny</td>\n",
       "      <td>39.34911</td>\n",
       "      <td>-76.67611</td>\n",
       "      <td>NaN</td>\n",
       "      <td>Pimlico Good Neighbors</td>\n",
       "      <td>O</td>\n",
       "      <td>(427918.51885131863, 186812.155445374)</td>\n",
       "      <td>POINT (427918.5188513186 186812.155445374)</td>\n",
       "      <td>26.330335</td>\n",
       "    </tr>\n",
       "    <tr>\n",
       "      <th>31360</th>\n",
       "      <td>436116</td>\n",
       "      <td>153206</td>\n",
       "      <td>0.100000</td>\n",
       "      <td>2016-05-21 18:36:00</td>\n",
       "      <td>assault</td>\n",
       "      <td>COMMON ASSAULT</td>\n",
       "      <td>39.349203</td>\n",
       "      <td>-76.676391</td>\n",
       "      <td>Medium</td>\n",
       "      <td>(427894.2608454607, 186822.39437438943)</td>\n",
       "      <td>...</td>\n",
       "      <td>2016-05-21 18:30:00</td>\n",
       "      <td>theft_larceny</td>\n",
       "      <td>39.34911</td>\n",
       "      <td>-76.67611</td>\n",
       "      <td>NaN</td>\n",
       "      <td>Pimlico Good Neighbors</td>\n",
       "      <td>O</td>\n",
       "      <td>(427918.51885131863, 186812.155445374)</td>\n",
       "      <td>POINT (427918.5188513186 186812.155445374)</td>\n",
       "      <td>26.330335</td>\n",
       "    </tr>\n",
       "    <tr>\n",
       "      <th>31344</th>\n",
       "      <td>436116</td>\n",
       "      <td>153220</td>\n",
       "      <td>-0.400000</td>\n",
       "      <td>2016-05-21 18:36:00</td>\n",
       "      <td>assault</td>\n",
       "      <td>COMMON ASSAULT</td>\n",
       "      <td>39.349203</td>\n",
       "      <td>-76.676391</td>\n",
       "      <td>Medium</td>\n",
       "      <td>(427894.2608454607, 186822.39437438943)</td>\n",
       "      <td>...</td>\n",
       "      <td>2016-05-21 19:00:00</td>\n",
       "      <td>theft_larceny</td>\n",
       "      <td>39.34911</td>\n",
       "      <td>-76.67611</td>\n",
       "      <td>NaN</td>\n",
       "      <td>Pimlico Good Neighbors</td>\n",
       "      <td>O</td>\n",
       "      <td>(427918.51885131863, 186812.155445374)</td>\n",
       "      <td>POINT (427918.5188513186 186812.155445374)</td>\n",
       "      <td>26.330335</td>\n",
       "    </tr>\n",
       "    <tr>\n",
       "      <th>31351</th>\n",
       "      <td>436116</td>\n",
       "      <td>153205</td>\n",
       "      <td>-0.066667</td>\n",
       "      <td>2016-05-21 18:36:00</td>\n",
       "      <td>assault</td>\n",
       "      <td>COMMON ASSAULT</td>\n",
       "      <td>39.349203</td>\n",
       "      <td>-76.676391</td>\n",
       "      <td>Medium</td>\n",
       "      <td>(427894.2608454607, 186822.39437438943)</td>\n",
       "      <td>...</td>\n",
       "      <td>2016-05-21 18:40:00</td>\n",
       "      <td>assault</td>\n",
       "      <td>39.34911</td>\n",
       "      <td>-76.67611</td>\n",
       "      <td>HANDS</td>\n",
       "      <td>Pimlico Good Neighbors</td>\n",
       "      <td>O</td>\n",
       "      <td>(427918.51885131863, 186812.155445374)</td>\n",
       "      <td>POINT (427918.5188513186 186812.155445374)</td>\n",
       "      <td>26.330335</td>\n",
       "    </tr>\n",
       "    <tr>\n",
       "      <th>31367</th>\n",
       "      <td>436116</td>\n",
       "      <td>153252</td>\n",
       "      <td>-0.733333</td>\n",
       "      <td>2016-05-21 18:36:00</td>\n",
       "      <td>assault</td>\n",
       "      <td>COMMON ASSAULT</td>\n",
       "      <td>39.349203</td>\n",
       "      <td>-76.676391</td>\n",
       "      <td>Medium</td>\n",
       "      <td>(427894.2608454607, 186822.39437438943)</td>\n",
       "      <td>...</td>\n",
       "      <td>2016-05-21 19:20:00</td>\n",
       "      <td>theft_larceny</td>\n",
       "      <td>39.34911</td>\n",
       "      <td>-76.67611</td>\n",
       "      <td>NaN</td>\n",
       "      <td>Pimlico Good Neighbors</td>\n",
       "      <td>O</td>\n",
       "      <td>(427918.51885131863, 186812.155445374)</td>\n",
       "      <td>POINT (427918.5188513186 186812.155445374)</td>\n",
       "      <td>26.330335</td>\n",
       "    </tr>\n",
       "  </tbody>\n",
       "</table>\n",
       "<p>11 rows × 21 columns</p>\n",
       "</div>"
      ],
      "text/plain": [
       "         i911  icrime    dt_diff          DateTime_9 Category_9  \\\n",
       "31283  436116  153293   6.600000 2016-05-21 18:36:00    assault   \n",
       "31311  436116  153296   7.183333 2016-05-21 18:36:00    assault   \n",
       "31331  436116  153309  10.600000 2016-05-21 18:36:00    assault   \n",
       "31292  436116  153214   3.100000 2016-05-21 18:36:00    assault   \n",
       "31301  436116  153194   2.600000 2016-05-21 18:36:00    assault   \n",
       "31320  436116  153292   5.600000 2016-05-21 18:36:00    assault   \n",
       "31337  436116  153290   5.100000 2016-05-21 18:36:00    assault   \n",
       "31360  436116  153206   0.100000 2016-05-21 18:36:00    assault   \n",
       "31344  436116  153220  -0.400000 2016-05-21 18:36:00    assault   \n",
       "31351  436116  153205  -0.066667 2016-05-21 18:36:00    assault   \n",
       "31367  436116  153252  -0.733333 2016-05-21 18:36:00    assault   \n",
       "\n",
       "        description_9  Latitude_9  Longitude_9 priority_9  \\\n",
       "31283  COMMON ASSAULT   39.349203   -76.676391     Medium   \n",
       "31311  COMMON ASSAULT   39.349203   -76.676391     Medium   \n",
       "31331  COMMON ASSAULT   39.349203   -76.676391     Medium   \n",
       "31292  COMMON ASSAULT   39.349203   -76.676391     Medium   \n",
       "31301  COMMON ASSAULT   39.349203   -76.676391     Medium   \n",
       "31320  COMMON ASSAULT   39.349203   -76.676391     Medium   \n",
       "31337  COMMON ASSAULT   39.349203   -76.676391     Medium   \n",
       "31360  COMMON ASSAULT   39.349203   -76.676391     Medium   \n",
       "31344  COMMON ASSAULT   39.349203   -76.676391     Medium   \n",
       "31351  COMMON ASSAULT   39.349203   -76.676391     Medium   \n",
       "31367  COMMON ASSAULT   39.349203   -76.676391     Medium   \n",
       "\n",
       "                                      Coords_9    ...              DateTime_c  \\\n",
       "31283  (427894.2608454607, 186822.39437438943)    ...     2016-05-21 12:00:00   \n",
       "31311  (427894.2608454607, 186822.39437438943)    ...     2016-05-21 11:25:00   \n",
       "31331  (427894.2608454607, 186822.39437438943)    ...     2016-05-21 08:00:00   \n",
       "31292  (427894.2608454607, 186822.39437438943)    ...     2016-05-21 15:30:00   \n",
       "31301  (427894.2608454607, 186822.39437438943)    ...     2016-05-21 16:00:00   \n",
       "31320  (427894.2608454607, 186822.39437438943)    ...     2016-05-21 13:00:00   \n",
       "31337  (427894.2608454607, 186822.39437438943)    ...     2016-05-21 13:30:00   \n",
       "31360  (427894.2608454607, 186822.39437438943)    ...     2016-05-21 18:30:00   \n",
       "31344  (427894.2608454607, 186822.39437438943)    ...     2016-05-21 19:00:00   \n",
       "31351  (427894.2608454607, 186822.39437438943)    ...     2016-05-21 18:40:00   \n",
       "31367  (427894.2608454607, 186822.39437438943)    ...     2016-05-21 19:20:00   \n",
       "\n",
       "          Category_c Latitude_c  Longitude_c  Weapon_c  \\\n",
       "31283  theft_larceny   39.34911    -76.67611       NaN   \n",
       "31311  theft_larceny   39.34911    -76.67611       NaN   \n",
       "31331  theft_larceny   39.34911    -76.67611       NaN   \n",
       "31292  theft_larceny   39.34911    -76.67611       NaN   \n",
       "31301  theft_larceny   39.34911    -76.67611       NaN   \n",
       "31320  theft_larceny   39.34911    -76.67611       NaN   \n",
       "31337  theft_larceny   39.34911    -76.67611       NaN   \n",
       "31360  theft_larceny   39.34911    -76.67611       NaN   \n",
       "31344  theft_larceny   39.34911    -76.67611       NaN   \n",
       "31351        assault   39.34911    -76.67611     HANDS   \n",
       "31367  theft_larceny   39.34911    -76.67611       NaN   \n",
       "\n",
       "               Neighborhood_c In/Outside_c  \\\n",
       "31283  Pimlico Good Neighbors            O   \n",
       "31311  Pimlico Good Neighbors            O   \n",
       "31331  Pimlico Good Neighbors            O   \n",
       "31292  Pimlico Good Neighbors            O   \n",
       "31301  Pimlico Good Neighbors            O   \n",
       "31320  Pimlico Good Neighbors            O   \n",
       "31337  Pimlico Good Neighbors            O   \n",
       "31360  Pimlico Good Neighbors            O   \n",
       "31344  Pimlico Good Neighbors            O   \n",
       "31351  Pimlico Good Neighbors            O   \n",
       "31367  Pimlico Good Neighbors            O   \n",
       "\n",
       "                                     Coords_c  \\\n",
       "31283  (427918.51885131863, 186812.155445374)   \n",
       "31311  (427918.51885131863, 186812.155445374)   \n",
       "31331  (427918.51885131863, 186812.155445374)   \n",
       "31292  (427918.51885131863, 186812.155445374)   \n",
       "31301  (427918.51885131863, 186812.155445374)   \n",
       "31320  (427918.51885131863, 186812.155445374)   \n",
       "31337  (427918.51885131863, 186812.155445374)   \n",
       "31360  (427918.51885131863, 186812.155445374)   \n",
       "31344  (427918.51885131863, 186812.155445374)   \n",
       "31351  (427918.51885131863, 186812.155445374)   \n",
       "31367  (427918.51885131863, 186812.155445374)   \n",
       "\n",
       "                                       geometry_c   distance  \n",
       "31283  POINT (427918.5188513186 186812.155445374)  26.330335  \n",
       "31311  POINT (427918.5188513186 186812.155445374)  26.330335  \n",
       "31331  POINT (427918.5188513186 186812.155445374)  26.330335  \n",
       "31292  POINT (427918.5188513186 186812.155445374)  26.330335  \n",
       "31301  POINT (427918.5188513186 186812.155445374)  26.330335  \n",
       "31320  POINT (427918.5188513186 186812.155445374)  26.330335  \n",
       "31337  POINT (427918.5188513186 186812.155445374)  26.330335  \n",
       "31360  POINT (427918.5188513186 186812.155445374)  26.330335  \n",
       "31344  POINT (427918.5188513186 186812.155445374)  26.330335  \n",
       "31351  POINT (427918.5188513186 186812.155445374)  26.330335  \n",
       "31367  POINT (427918.5188513186 186812.155445374)  26.330335  \n",
       "\n",
       "[11 rows x 21 columns]"
      ]
     },
     "execution_count": 16,
     "metadata": {},
     "output_type": "execute_result"
    }
   ],
   "source": [
    "# TODO: 911 call may be inaccurately mapped to multiple crimes\n",
    "(pairs.groupby('i911').size()>1).sum()\n",
    "\n",
    "pairs[pairs.i911.isin([436116])]"
   ]
  },
  {
   "cell_type": "markdown",
   "metadata": {},
   "source": [
    "# agg by neighborhood"
   ]
  },
  {
   "cell_type": "code",
   "execution_count": 16,
   "metadata": {
    "collapsed": true
   },
   "outputs": [],
   "source": [
    "nb = gp.read_file('data/open-baltimore/raw/Education and Youth (2010-2013)  - Shape.geojson')[['csa2010', 'geometry']]"
   ]
  },
  {
   "cell_type": "code",
   "execution_count": 17,
   "metadata": {
    "collapsed": true
   },
   "outputs": [],
   "source": [
    "paired_9.columns = col_9\n",
    "paired_c.columns = col_c"
   ]
  },
  {
   "cell_type": "markdown",
   "metadata": {},
   "source": [
    "spatial join"
   ]
  },
  {
   "cell_type": "code",
   "execution_count": 18,
   "metadata": {},
   "outputs": [
    {
     "name": "stdout",
     "output_type": "stream",
     "text": [
      "Warning: CRS does not match!\n",
      "Warning: CRS does not match!\n"
     ]
    }
   ],
   "source": [
    "join_p9_nb = gp.sjoin(paired_9.to_crs(epsg=4326), nb)\n",
    "join_pc_nb = gp.sjoin(paired_c.to_crs(epsg=4326), nb)"
   ]
  },
  {
   "cell_type": "code",
   "execution_count": 118,
   "metadata": {
    "collapsed": true
   },
   "outputs": [],
   "source": [
    "min_report_time_diff = pairs.groupby('icrime').agg({'dt_diff':'min'})\n",
    "join_pc_nb=join_pc_nb.join(min_report_time_diff)"
   ]
  },
  {
   "cell_type": "code",
   "execution_count": 19,
   "metadata": {},
   "outputs": [
    {
     "name": "stdout",
     "output_type": "stream",
     "text": [
      "Warning: CRS does not match!\n"
     ]
    }
   ],
   "source": [
    "# join_a9_nb = gp.sjoin(d911_in_range.to_crs(epsg=4326), nb)\n",
    "join_ac_nb = gp.sjoin(crime_in_range.to_crs(epsg=4326), nb)"
   ]
  },
  {
   "cell_type": "markdown",
   "metadata": {},
   "source": [
    "crime/911 statistics"
   ]
  },
  {
   "cell_type": "code",
   "execution_count": 20,
   "metadata": {
    "collapsed": true,
    "scrolled": true
   },
   "outputs": [],
   "source": [
    "num_911_per_crime = pairs.groupby('icrime').size().to_frame().rename(columns={0:'num_911'})"
   ]
  },
  {
   "cell_type": "code",
   "execution_count": 21,
   "metadata": {
    "collapsed": true,
    "scrolled": true
   },
   "outputs": [],
   "source": [
    "pair_by_nb = join_pc_nb[['csa2010']].join(num_911_per_crime).groupby('csa2010').agg(['count', 'mean', 'sum', 'std'])"
   ]
  },
  {
   "cell_type": "code",
   "execution_count": 22,
   "metadata": {
    "collapsed": true
   },
   "outputs": [],
   "source": [
    "pair_by_nb.columns = ['paired_crime', 'paired911/crime', 'paired_911', 'paired_std']"
   ]
  },
  {
   "cell_type": "code",
   "execution_count": 23,
   "metadata": {
    "collapsed": true
   },
   "outputs": [],
   "source": [
    "nb = nb.set_index('csa2010')"
   ]
  },
  {
   "cell_type": "code",
   "execution_count": 24,
   "metadata": {
    "collapsed": true
   },
   "outputs": [],
   "source": [
    "nb['all_crime'] = join_ac_nb.groupby('csa2010').size()"
   ]
  },
  {
   "cell_type": "code",
   "execution_count": 25,
   "metadata": {
    "collapsed": true
   },
   "outputs": [],
   "source": [
    "nb = nb.join(pair_by_nb)"
   ]
  },
  {
   "cell_type": "code",
   "execution_count": 26,
   "metadata": {
    "collapsed": true
   },
   "outputs": [],
   "source": [
    "nb['crime_pcnt'] = nb.paired_crime/nb.all_crime"
   ]
  },
  {
   "cell_type": "markdown",
   "metadata": {},
   "source": [
    "time statistics"
   ]
  },
  {
   "cell_type": "code",
   "execution_count": 128,
   "metadata": {},
   "outputs": [],
   "source": [
    "nb = nb.join(join_pc_nb.groupby('csa2010').agg({'dt_diff':'mean'}))"
   ]
  },
  {
   "cell_type": "code",
   "execution_count": 129,
   "metadata": {
    "scrolled": true
   },
   "outputs": [
    {
     "data": {
      "text/html": [
       "<div>\n",
       "<style>\n",
       "    .dataframe thead tr:only-child th {\n",
       "        text-align: right;\n",
       "    }\n",
       "\n",
       "    .dataframe thead th {\n",
       "        text-align: left;\n",
       "    }\n",
       "\n",
       "    .dataframe tbody tr th {\n",
       "        vertical-align: top;\n",
       "    }\n",
       "</style>\n",
       "<table border=\"1\" class=\"dataframe\">\n",
       "  <thead>\n",
       "    <tr style=\"text-align: right;\">\n",
       "      <th></th>\n",
       "      <th>geometry</th>\n",
       "      <th>all_crime</th>\n",
       "      <th>paired_crime</th>\n",
       "      <th>paired911/crime</th>\n",
       "      <th>paired_911</th>\n",
       "      <th>paired_std</th>\n",
       "      <th>crime_pcnt</th>\n",
       "      <th>dt_diff</th>\n",
       "    </tr>\n",
       "    <tr>\n",
       "      <th>csa2010</th>\n",
       "      <th></th>\n",
       "      <th></th>\n",
       "      <th></th>\n",
       "      <th></th>\n",
       "      <th></th>\n",
       "      <th></th>\n",
       "      <th></th>\n",
       "      <th></th>\n",
       "    </tr>\n",
       "  </thead>\n",
       "  <tbody>\n",
       "    <tr>\n",
       "      <th>Allendale/Irvington/S. Hilton</th>\n",
       "      <td>(POLYGON ((-76.65725523001441 39.2759942080963...</td>\n",
       "      <td>2098</td>\n",
       "      <td>898</td>\n",
       "      <td>1.507795</td>\n",
       "      <td>1354</td>\n",
       "      <td>0.919530</td>\n",
       "      <td>0.428027</td>\n",
       "      <td>2.440353</td>\n",
       "    </tr>\n",
       "    <tr>\n",
       "      <th>Beechfield/Ten Hills/West Hills</th>\n",
       "      <td>(POLYGON ((-76.69478913259752 39.3020045665433...</td>\n",
       "      <td>1072</td>\n",
       "      <td>470</td>\n",
       "      <td>1.565957</td>\n",
       "      <td>736</td>\n",
       "      <td>0.952446</td>\n",
       "      <td>0.438433</td>\n",
       "      <td>2.390194</td>\n",
       "    </tr>\n",
       "    <tr>\n",
       "      <th>Belair-Edison</th>\n",
       "      <td>(POLYGON ((-76.56761272099891 39.3263532793843...</td>\n",
       "      <td>2259</td>\n",
       "      <td>1221</td>\n",
       "      <td>1.682228</td>\n",
       "      <td>2054</td>\n",
       "      <td>1.160379</td>\n",
       "      <td>0.540505</td>\n",
       "      <td>1.869781</td>\n",
       "    </tr>\n",
       "    <tr>\n",
       "      <th>Brooklyn/Curtis Bay/Hawkins Point</th>\n",
       "      <td>(POLYGON ((-76.588665947808 39.21281797207358,...</td>\n",
       "      <td>2443</td>\n",
       "      <td>1461</td>\n",
       "      <td>1.642026</td>\n",
       "      <td>2399</td>\n",
       "      <td>1.040212</td>\n",
       "      <td>0.598035</td>\n",
       "      <td>2.018449</td>\n",
       "    </tr>\n",
       "    <tr>\n",
       "      <th>Canton</th>\n",
       "      <td>(POLYGON ((-76.57139592708199 39.2844069466007...</td>\n",
       "      <td>850</td>\n",
       "      <td>455</td>\n",
       "      <td>1.382418</td>\n",
       "      <td>629</td>\n",
       "      <td>0.776101</td>\n",
       "      <td>0.535294</td>\n",
       "      <td>2.642673</td>\n",
       "    </tr>\n",
       "    <tr>\n",
       "      <th>Cedonia/Frankford</th>\n",
       "      <td>(POLYGON ((-76.52972064894043 39.3311259410992...</td>\n",
       "      <td>2764</td>\n",
       "      <td>1380</td>\n",
       "      <td>1.471739</td>\n",
       "      <td>2031</td>\n",
       "      <td>0.836919</td>\n",
       "      <td>0.499276</td>\n",
       "      <td>2.210708</td>\n",
       "    </tr>\n",
       "    <tr>\n",
       "      <th>Cherry Hill</th>\n",
       "      <td>(POLYGON ((-76.61525238024824 39.2410118053938...</td>\n",
       "      <td>1232</td>\n",
       "      <td>630</td>\n",
       "      <td>1.534921</td>\n",
       "      <td>967</td>\n",
       "      <td>0.892231</td>\n",
       "      <td>0.511364</td>\n",
       "      <td>2.006823</td>\n",
       "    </tr>\n",
       "    <tr>\n",
       "      <th>Chinquapin Park/Belvedere</th>\n",
       "      <td>(POLYGON ((-76.59490895201188 39.3540485873394...</td>\n",
       "      <td>830</td>\n",
       "      <td>379</td>\n",
       "      <td>1.532982</td>\n",
       "      <td>581</td>\n",
       "      <td>1.098746</td>\n",
       "      <td>0.456627</td>\n",
       "      <td>2.857388</td>\n",
       "    </tr>\n",
       "    <tr>\n",
       "      <th>Claremont/Armistead</th>\n",
       "      <td>(POLYGON ((-76.52974441466191 39.3101932770927...</td>\n",
       "      <td>975</td>\n",
       "      <td>430</td>\n",
       "      <td>1.455814</td>\n",
       "      <td>626</td>\n",
       "      <td>0.888492</td>\n",
       "      <td>0.441026</td>\n",
       "      <td>2.327349</td>\n",
       "    </tr>\n",
       "    <tr>\n",
       "      <th>Clifton-Berea</th>\n",
       "      <td>(POLYGON ((-76.58448800010186 39.3149070000768...</td>\n",
       "      <td>1794</td>\n",
       "      <td>977</td>\n",
       "      <td>1.533265</td>\n",
       "      <td>1498</td>\n",
       "      <td>1.045663</td>\n",
       "      <td>0.544593</td>\n",
       "      <td>1.684607</td>\n",
       "    </tr>\n",
       "    <tr>\n",
       "      <th>Cross-Country/Cheswolde</th>\n",
       "      <td>(POLYGON ((-76.67309916086666 39.3642293394471...</td>\n",
       "      <td>622</td>\n",
       "      <td>225</td>\n",
       "      <td>1.373333</td>\n",
       "      <td>309</td>\n",
       "      <td>0.846843</td>\n",
       "      <td>0.361736</td>\n",
       "      <td>4.570296</td>\n",
       "    </tr>\n",
       "    <tr>\n",
       "      <th>Dickeyville/Franklintown</th>\n",
       "      <td>(POLYGON ((-76.70177 39.31959599999987, -76.70...</td>\n",
       "      <td>320</td>\n",
       "      <td>122</td>\n",
       "      <td>1.590164</td>\n",
       "      <td>194</td>\n",
       "      <td>1.277615</td>\n",
       "      <td>0.381250</td>\n",
       "      <td>3.334961</td>\n",
       "    </tr>\n",
       "    <tr>\n",
       "      <th>Dorchester/Ashburton</th>\n",
       "      <td>(POLYGON ((-76.67791432990782 39.3400089775739...</td>\n",
       "      <td>1357</td>\n",
       "      <td>633</td>\n",
       "      <td>1.480253</td>\n",
       "      <td>937</td>\n",
       "      <td>0.828682</td>\n",
       "      <td>0.466470</td>\n",
       "      <td>2.773072</td>\n",
       "    </tr>\n",
       "    <tr>\n",
       "      <th>Downtown/Seton Hill</th>\n",
       "      <td>(POLYGON ((-76.61988534109264 39.2962768427800...</td>\n",
       "      <td>4268</td>\n",
       "      <td>2353</td>\n",
       "      <td>1.660433</td>\n",
       "      <td>3907</td>\n",
       "      <td>1.200497</td>\n",
       "      <td>0.551312</td>\n",
       "      <td>1.975962</td>\n",
       "    </tr>\n",
       "    <tr>\n",
       "      <th>Edmondson Village</th>\n",
       "      <td>(POLYGON ((-76.6742434219898 39.30219662877202...</td>\n",
       "      <td>752</td>\n",
       "      <td>395</td>\n",
       "      <td>1.549367</td>\n",
       "      <td>612</td>\n",
       "      <td>0.815129</td>\n",
       "      <td>0.525266</td>\n",
       "      <td>2.132700</td>\n",
       "    </tr>\n",
       "    <tr>\n",
       "      <th>Fells Point</th>\n",
       "      <td>(POLYGON ((-76.58692828588889 39.2838070016183...</td>\n",
       "      <td>1461</td>\n",
       "      <td>823</td>\n",
       "      <td>1.577157</td>\n",
       "      <td>1298</td>\n",
       "      <td>1.112225</td>\n",
       "      <td>0.563313</td>\n",
       "      <td>2.267417</td>\n",
       "    </tr>\n",
       "    <tr>\n",
       "      <th>Forest Park/Walbrook</th>\n",
       "      <td>(POLYGON ((-76.6714645567412 39.32418035747288...</td>\n",
       "      <td>1125</td>\n",
       "      <td>551</td>\n",
       "      <td>1.435572</td>\n",
       "      <td>791</td>\n",
       "      <td>0.776312</td>\n",
       "      <td>0.489778</td>\n",
       "      <td>2.530297</td>\n",
       "    </tr>\n",
       "    <tr>\n",
       "      <th>Glen-Fallstaff</th>\n",
       "      <td>(POLYGON ((-76.67309916086666 39.3642293394471...</td>\n",
       "      <td>1810</td>\n",
       "      <td>1002</td>\n",
       "      <td>1.619760</td>\n",
       "      <td>1623</td>\n",
       "      <td>1.101325</td>\n",
       "      <td>0.553591</td>\n",
       "      <td>2.224063</td>\n",
       "    </tr>\n",
       "    <tr>\n",
       "      <th>Greater Charles Village/Barclay</th>\n",
       "      <td>(POLYGON ((-76.60944954075357 39.3309345221398...</td>\n",
       "      <td>2669</td>\n",
       "      <td>1488</td>\n",
       "      <td>1.622312</td>\n",
       "      <td>2414</td>\n",
       "      <td>1.587133</td>\n",
       "      <td>0.557512</td>\n",
       "      <td>2.196113</td>\n",
       "    </tr>\n",
       "    <tr>\n",
       "      <th>Greater Govans</th>\n",
       "      <td>(POLYGON ((-76.59824739683785 39.3541485689334...</td>\n",
       "      <td>1133</td>\n",
       "      <td>624</td>\n",
       "      <td>1.665064</td>\n",
       "      <td>1039</td>\n",
       "      <td>1.065283</td>\n",
       "      <td>0.550750</td>\n",
       "      <td>2.309453</td>\n",
       "    </tr>\n",
       "    <tr>\n",
       "      <th>Greater Mondawmin</th>\n",
       "      <td>(POLYGON ((-76.6575803083947 39.32539045280664...</td>\n",
       "      <td>2077</td>\n",
       "      <td>1006</td>\n",
       "      <td>1.607356</td>\n",
       "      <td>1617</td>\n",
       "      <td>1.102645</td>\n",
       "      <td>0.484352</td>\n",
       "      <td>1.891524</td>\n",
       "    </tr>\n",
       "    <tr>\n",
       "      <th>Greater Roland Park/Poplar Hill</th>\n",
       "      <td>(POLYGON ((-76.62382708281005 39.3364663210469...</td>\n",
       "      <td>423</td>\n",
       "      <td>163</td>\n",
       "      <td>1.398773</td>\n",
       "      <td>228</td>\n",
       "      <td>0.835478</td>\n",
       "      <td>0.385343</td>\n",
       "      <td>3.154090</td>\n",
       "    </tr>\n",
       "    <tr>\n",
       "      <th>Greater Rosemont</th>\n",
       "      <td>(POLYGON ((-76.6513084395436 39.30969722445488...</td>\n",
       "      <td>3007</td>\n",
       "      <td>1644</td>\n",
       "      <td>1.614355</td>\n",
       "      <td>2654</td>\n",
       "      <td>1.139001</td>\n",
       "      <td>0.546724</td>\n",
       "      <td>2.002662</td>\n",
       "    </tr>\n",
       "    <tr>\n",
       "      <th>Hamilton</th>\n",
       "      <td>(POLYGON ((-76.52969179566909 39.3565237947759...</td>\n",
       "      <td>1234</td>\n",
       "      <td>607</td>\n",
       "      <td>1.510708</td>\n",
       "      <td>917</td>\n",
       "      <td>0.849850</td>\n",
       "      <td>0.491896</td>\n",
       "      <td>2.414607</td>\n",
       "    </tr>\n",
       "    <tr>\n",
       "      <th>Harford/Echodale</th>\n",
       "      <td>(POLYGON ((-76.52969179566909 39.3565237947759...</td>\n",
       "      <td>1723</td>\n",
       "      <td>818</td>\n",
       "      <td>1.420538</td>\n",
       "      <td>1162</td>\n",
       "      <td>0.804923</td>\n",
       "      <td>0.474753</td>\n",
       "      <td>2.584611</td>\n",
       "    </tr>\n",
       "    <tr>\n",
       "      <th>Highlandtown</th>\n",
       "      <td>(POLYGON ((-76.56208536482849 39.2815102716251...</td>\n",
       "      <td>1509</td>\n",
       "      <td>1059</td>\n",
       "      <td>1.807365</td>\n",
       "      <td>1914</td>\n",
       "      <td>1.474645</td>\n",
       "      <td>0.701789</td>\n",
       "      <td>1.742967</td>\n",
       "    </tr>\n",
       "    <tr>\n",
       "      <th>Howard Park/West Arlington</th>\n",
       "      <td>(POLYGON ((-76.68296629989634 39.3413262641887...</td>\n",
       "      <td>1146</td>\n",
       "      <td>615</td>\n",
       "      <td>1.391870</td>\n",
       "      <td>856</td>\n",
       "      <td>0.733737</td>\n",
       "      <td>0.536649</td>\n",
       "      <td>2.649831</td>\n",
       "    </tr>\n",
       "    <tr>\n",
       "      <th>Inner Harbor/Federal Hill</th>\n",
       "      <td>(POLYGON ((-76.60541922185092 39.2868391715814...</td>\n",
       "      <td>1944</td>\n",
       "      <td>1004</td>\n",
       "      <td>1.518924</td>\n",
       "      <td>1525</td>\n",
       "      <td>0.926319</td>\n",
       "      <td>0.516461</td>\n",
       "      <td>2.363081</td>\n",
       "    </tr>\n",
       "    <tr>\n",
       "      <th>Lauraville</th>\n",
       "      <td>(POLYGON ((-76.56332054331939 39.3501084511656...</td>\n",
       "      <td>1123</td>\n",
       "      <td>574</td>\n",
       "      <td>1.531359</td>\n",
       "      <td>879</td>\n",
       "      <td>0.980558</td>\n",
       "      <td>0.511131</td>\n",
       "      <td>2.433914</td>\n",
       "    </tr>\n",
       "    <tr>\n",
       "      <th>Loch Raven</th>\n",
       "      <td>(POLYGON ((-76.57305044959891 39.3539012099243...</td>\n",
       "      <td>1252</td>\n",
       "      <td>462</td>\n",
       "      <td>1.461039</td>\n",
       "      <td>675</td>\n",
       "      <td>0.877285</td>\n",
       "      <td>0.369010</td>\n",
       "      <td>2.291486</td>\n",
       "    </tr>\n",
       "    <tr>\n",
       "      <th>Madison/East End</th>\n",
       "      <td>(POLYGON ((-76.5854383103938 39.302314072821, ...</td>\n",
       "      <td>1633</td>\n",
       "      <td>1150</td>\n",
       "      <td>1.852174</td>\n",
       "      <td>2130</td>\n",
       "      <td>1.356052</td>\n",
       "      <td>0.704225</td>\n",
       "      <td>1.881375</td>\n",
       "    </tr>\n",
       "    <tr>\n",
       "      <th>Medfield/Hampden/Woodberry/Remington</th>\n",
       "      <td>(POLYGON ((-76.62382708281005 39.3364663210469...</td>\n",
       "      <td>1973</td>\n",
       "      <td>1076</td>\n",
       "      <td>1.479554</td>\n",
       "      <td>1592</td>\n",
       "      <td>0.951156</td>\n",
       "      <td>0.545362</td>\n",
       "      <td>2.505554</td>\n",
       "    </tr>\n",
       "    <tr>\n",
       "      <th>Midway/Coldstream</th>\n",
       "      <td>(POLYGON ((-76.58922198713181 39.3282993768507...</td>\n",
       "      <td>1727</td>\n",
       "      <td>981</td>\n",
       "      <td>1.602446</td>\n",
       "      <td>1572</td>\n",
       "      <td>1.144175</td>\n",
       "      <td>0.568037</td>\n",
       "      <td>1.712664</td>\n",
       "    </tr>\n",
       "    <tr>\n",
       "      <th>Morrell Park/Violetville</th>\n",
       "      <td>(POLYGON ((-76.65725523001441 39.2759942080963...</td>\n",
       "      <td>1439</td>\n",
       "      <td>704</td>\n",
       "      <td>1.727273</td>\n",
       "      <td>1216</td>\n",
       "      <td>1.782496</td>\n",
       "      <td>0.489229</td>\n",
       "      <td>2.519579</td>\n",
       "    </tr>\n",
       "    <tr>\n",
       "      <th>Mount Washington/Coldspring</th>\n",
       "      <td>(POLYGON ((-76.64701726859258 39.3452405442853...</td>\n",
       "      <td>420</td>\n",
       "      <td>125</td>\n",
       "      <td>1.360000</td>\n",
       "      <td>170</td>\n",
       "      <td>0.711654</td>\n",
       "      <td>0.297619</td>\n",
       "      <td>3.167333</td>\n",
       "    </tr>\n",
       "    <tr>\n",
       "      <th>North Baltimore/Guilford/Homeland</th>\n",
       "      <td>(POLYGON ((-76.60988539136966 39.3554929644448...</td>\n",
       "      <td>1250</td>\n",
       "      <td>502</td>\n",
       "      <td>1.488048</td>\n",
       "      <td>747</td>\n",
       "      <td>0.961773</td>\n",
       "      <td>0.401600</td>\n",
       "      <td>2.551693</td>\n",
       "    </tr>\n",
       "    <tr>\n",
       "      <th>Northwood</th>\n",
       "      <td>(POLYGON ((-76.57305044959891 39.3539012099243...</td>\n",
       "      <td>1421</td>\n",
       "      <td>607</td>\n",
       "      <td>1.423394</td>\n",
       "      <td>864</td>\n",
       "      <td>0.930052</td>\n",
       "      <td>0.427164</td>\n",
       "      <td>2.488924</td>\n",
       "    </tr>\n",
       "    <tr>\n",
       "      <th>Orangeville/East Highlandtown</th>\n",
       "      <td>(POLYGON ((-76.5297731934718 39.28482841473558...</td>\n",
       "      <td>2234</td>\n",
       "      <td>1221</td>\n",
       "      <td>1.587224</td>\n",
       "      <td>1938</td>\n",
       "      <td>0.911655</td>\n",
       "      <td>0.546553</td>\n",
       "      <td>1.740893</td>\n",
       "    </tr>\n",
       "    <tr>\n",
       "      <th>Patterson Park North &amp; East</th>\n",
       "      <td>(POLYGON ((-76.56940927294514 39.2924828890426...</td>\n",
       "      <td>3075</td>\n",
       "      <td>1898</td>\n",
       "      <td>1.624868</td>\n",
       "      <td>3084</td>\n",
       "      <td>1.038253</td>\n",
       "      <td>0.617236</td>\n",
       "      <td>2.165450</td>\n",
       "    </tr>\n",
       "    <tr>\n",
       "      <th>Penn North/Reservoir Hill</th>\n",
       "      <td>(POLYGON ((-76.62311002014127 39.3109727952213...</td>\n",
       "      <td>1534</td>\n",
       "      <td>765</td>\n",
       "      <td>1.605229</td>\n",
       "      <td>1228</td>\n",
       "      <td>1.102579</td>\n",
       "      <td>0.498696</td>\n",
       "      <td>2.450930</td>\n",
       "    </tr>\n",
       "    <tr>\n",
       "      <th>Pimlico/Arlington/Hilltop</th>\n",
       "      <td>(POLYGON ((-76.65943672396942 39.3464963561196...</td>\n",
       "      <td>1820</td>\n",
       "      <td>1026</td>\n",
       "      <td>1.732943</td>\n",
       "      <td>1778</td>\n",
       "      <td>1.230834</td>\n",
       "      <td>0.563736</td>\n",
       "      <td>1.832181</td>\n",
       "    </tr>\n",
       "    <tr>\n",
       "      <th>Poppleton/The Terraces/Hollins Market</th>\n",
       "      <td>(POLYGON ((-76.62753713206924 39.2860374908872...</td>\n",
       "      <td>1029</td>\n",
       "      <td>549</td>\n",
       "      <td>1.673953</td>\n",
       "      <td>919</td>\n",
       "      <td>1.176595</td>\n",
       "      <td>0.533528</td>\n",
       "      <td>2.012956</td>\n",
       "    </tr>\n",
       "    <tr>\n",
       "      <th>Sandtown-Winchester/Harlem Park</th>\n",
       "      <td>(POLYGON ((-76.63880058620188 39.3069542900062...</td>\n",
       "      <td>2647</td>\n",
       "      <td>1572</td>\n",
       "      <td>1.634860</td>\n",
       "      <td>2570</td>\n",
       "      <td>1.099276</td>\n",
       "      <td>0.593880</td>\n",
       "      <td>1.879867</td>\n",
       "    </tr>\n",
       "    <tr>\n",
       "      <th>South Baltimore</th>\n",
       "      <td>(POLYGON ((-76.6258839602727 39.26718048726994...</td>\n",
       "      <td>504</td>\n",
       "      <td>259</td>\n",
       "      <td>1.362934</td>\n",
       "      <td>353</td>\n",
       "      <td>0.670197</td>\n",
       "      <td>0.513889</td>\n",
       "      <td>2.666023</td>\n",
       "    </tr>\n",
       "    <tr>\n",
       "      <th>Southeastern</th>\n",
       "      <td>(POLYGON ((-76.52977694473311 39.2815206430368...</td>\n",
       "      <td>1388</td>\n",
       "      <td>820</td>\n",
       "      <td>1.589024</td>\n",
       "      <td>1303</td>\n",
       "      <td>1.003353</td>\n",
       "      <td>0.590778</td>\n",
       "      <td>1.312459</td>\n",
       "    </tr>\n",
       "    <tr>\n",
       "      <th>Southern Park Heights</th>\n",
       "      <td>(POLYGON ((-76.65943672396942 39.3464963561196...</td>\n",
       "      <td>1837</td>\n",
       "      <td>937</td>\n",
       "      <td>1.601921</td>\n",
       "      <td>1501</td>\n",
       "      <td>1.034923</td>\n",
       "      <td>0.510071</td>\n",
       "      <td>2.106535</td>\n",
       "    </tr>\n",
       "    <tr>\n",
       "      <th>Southwest Baltimore</th>\n",
       "      <td>(POLYGON ((-76.65038210008906 39.2937391809671...</td>\n",
       "      <td>3939</td>\n",
       "      <td>2300</td>\n",
       "      <td>1.764348</td>\n",
       "      <td>4058</td>\n",
       "      <td>1.691557</td>\n",
       "      <td>0.583905</td>\n",
       "      <td>1.901414</td>\n",
       "    </tr>\n",
       "    <tr>\n",
       "      <th>The Waverlies</th>\n",
       "      <td>(POLYGON ((-76.59550067242763 39.3341495875484...</td>\n",
       "      <td>1324</td>\n",
       "      <td>791</td>\n",
       "      <td>1.642225</td>\n",
       "      <td>1299</td>\n",
       "      <td>1.578234</td>\n",
       "      <td>0.597432</td>\n",
       "      <td>2.167400</td>\n",
       "    </tr>\n",
       "    <tr>\n",
       "      <th>Washington Village/Pigtown</th>\n",
       "      <td>(POLYGON ((-76.62096172958724 39.2746522736024...</td>\n",
       "      <td>1891</td>\n",
       "      <td>1112</td>\n",
       "      <td>2.045863</td>\n",
       "      <td>2275</td>\n",
       "      <td>1.463219</td>\n",
       "      <td>0.588049</td>\n",
       "      <td>2.019985</td>\n",
       "    </tr>\n",
       "    <tr>\n",
       "      <th>Westport/Mount Winans/Lakeland</th>\n",
       "      <td>(POLYGON ((-76.62627047471014 39.2678913278140...</td>\n",
       "      <td>1148</td>\n",
       "      <td>560</td>\n",
       "      <td>1.633929</td>\n",
       "      <td>915</td>\n",
       "      <td>1.152081</td>\n",
       "      <td>0.487805</td>\n",
       "      <td>2.138847</td>\n",
       "    </tr>\n",
       "    <tr>\n",
       "      <th>Oldtown/Middle East</th>\n",
       "      <td>(POLYGON ((-76.58755099547639 39.2939433097230...</td>\n",
       "      <td>2502</td>\n",
       "      <td>1370</td>\n",
       "      <td>1.678832</td>\n",
       "      <td>2300</td>\n",
       "      <td>2.275523</td>\n",
       "      <td>0.547562</td>\n",
       "      <td>2.079916</td>\n",
       "    </tr>\n",
       "    <tr>\n",
       "      <th>Harbor East/Little Italy</th>\n",
       "      <td>(POLYGON ((-76.59374300544847 39.2915276953716...</td>\n",
       "      <td>1726</td>\n",
       "      <td>1004</td>\n",
       "      <td>1.537849</td>\n",
       "      <td>1544</td>\n",
       "      <td>0.886119</td>\n",
       "      <td>0.581692</td>\n",
       "      <td>2.020584</td>\n",
       "    </tr>\n",
       "    <tr>\n",
       "      <th>Upton/Druid Heights</th>\n",
       "      <td>(POLYGON ((-76.63400531184863 39.3104450163470...</td>\n",
       "      <td>2427</td>\n",
       "      <td>1524</td>\n",
       "      <td>1.835958</td>\n",
       "      <td>2798</td>\n",
       "      <td>1.589730</td>\n",
       "      <td>0.627936</td>\n",
       "      <td>1.683712</td>\n",
       "    </tr>\n",
       "    <tr>\n",
       "      <th>Midtown</th>\n",
       "      <td>(POLYGON ((-76.61126319903396 39.3046990603324...</td>\n",
       "      <td>2820</td>\n",
       "      <td>1380</td>\n",
       "      <td>1.518841</td>\n",
       "      <td>2096</td>\n",
       "      <td>1.036852</td>\n",
       "      <td>0.489362</td>\n",
       "      <td>2.257588</td>\n",
       "    </tr>\n",
       "    <tr>\n",
       "      <th>Greenmount East</th>\n",
       "      <td>(POLYGON ((-76.59781879662705 39.3017299471609...</td>\n",
       "      <td>1519</td>\n",
       "      <td>869</td>\n",
       "      <td>1.485616</td>\n",
       "      <td>1291</td>\n",
       "      <td>0.834916</td>\n",
       "      <td>0.572087</td>\n",
       "      <td>1.980589</td>\n",
       "    </tr>\n",
       "  </tbody>\n",
       "</table>\n",
       "</div>"
      ],
      "text/plain": [
       "                                                                                geometry  \\\n",
       "csa2010                                                                                    \n",
       "Allendale/Irvington/S. Hilton          (POLYGON ((-76.65725523001441 39.2759942080963...   \n",
       "Beechfield/Ten Hills/West Hills        (POLYGON ((-76.69478913259752 39.3020045665433...   \n",
       "Belair-Edison                          (POLYGON ((-76.56761272099891 39.3263532793843...   \n",
       "Brooklyn/Curtis Bay/Hawkins Point      (POLYGON ((-76.588665947808 39.21281797207358,...   \n",
       "Canton                                 (POLYGON ((-76.57139592708199 39.2844069466007...   \n",
       "Cedonia/Frankford                      (POLYGON ((-76.52972064894043 39.3311259410992...   \n",
       "Cherry Hill                            (POLYGON ((-76.61525238024824 39.2410118053938...   \n",
       "Chinquapin Park/Belvedere              (POLYGON ((-76.59490895201188 39.3540485873394...   \n",
       "Claremont/Armistead                    (POLYGON ((-76.52974441466191 39.3101932770927...   \n",
       "Clifton-Berea                          (POLYGON ((-76.58448800010186 39.3149070000768...   \n",
       "Cross-Country/Cheswolde                (POLYGON ((-76.67309916086666 39.3642293394471...   \n",
       "Dickeyville/Franklintown               (POLYGON ((-76.70177 39.31959599999987, -76.70...   \n",
       "Dorchester/Ashburton                   (POLYGON ((-76.67791432990782 39.3400089775739...   \n",
       "Downtown/Seton Hill                    (POLYGON ((-76.61988534109264 39.2962768427800...   \n",
       "Edmondson Village                      (POLYGON ((-76.6742434219898 39.30219662877202...   \n",
       "Fells Point                            (POLYGON ((-76.58692828588889 39.2838070016183...   \n",
       "Forest Park/Walbrook                   (POLYGON ((-76.6714645567412 39.32418035747288...   \n",
       "Glen-Fallstaff                         (POLYGON ((-76.67309916086666 39.3642293394471...   \n",
       "Greater Charles Village/Barclay        (POLYGON ((-76.60944954075357 39.3309345221398...   \n",
       "Greater Govans                         (POLYGON ((-76.59824739683785 39.3541485689334...   \n",
       "Greater Mondawmin                      (POLYGON ((-76.6575803083947 39.32539045280664...   \n",
       "Greater Roland Park/Poplar Hill        (POLYGON ((-76.62382708281005 39.3364663210469...   \n",
       "Greater Rosemont                       (POLYGON ((-76.6513084395436 39.30969722445488...   \n",
       "Hamilton                               (POLYGON ((-76.52969179566909 39.3565237947759...   \n",
       "Harford/Echodale                       (POLYGON ((-76.52969179566909 39.3565237947759...   \n",
       "Highlandtown                           (POLYGON ((-76.56208536482849 39.2815102716251...   \n",
       "Howard Park/West Arlington             (POLYGON ((-76.68296629989634 39.3413262641887...   \n",
       "Inner Harbor/Federal Hill              (POLYGON ((-76.60541922185092 39.2868391715814...   \n",
       "Lauraville                             (POLYGON ((-76.56332054331939 39.3501084511656...   \n",
       "Loch Raven                             (POLYGON ((-76.57305044959891 39.3539012099243...   \n",
       "Madison/East End                       (POLYGON ((-76.5854383103938 39.302314072821, ...   \n",
       "Medfield/Hampden/Woodberry/Remington   (POLYGON ((-76.62382708281005 39.3364663210469...   \n",
       "Midway/Coldstream                      (POLYGON ((-76.58922198713181 39.3282993768507...   \n",
       "Morrell Park/Violetville               (POLYGON ((-76.65725523001441 39.2759942080963...   \n",
       "Mount Washington/Coldspring            (POLYGON ((-76.64701726859258 39.3452405442853...   \n",
       "North Baltimore/Guilford/Homeland      (POLYGON ((-76.60988539136966 39.3554929644448...   \n",
       "Northwood                              (POLYGON ((-76.57305044959891 39.3539012099243...   \n",
       "Orangeville/East Highlandtown          (POLYGON ((-76.5297731934718 39.28482841473558...   \n",
       "Patterson Park North & East            (POLYGON ((-76.56940927294514 39.2924828890426...   \n",
       "Penn North/Reservoir Hill              (POLYGON ((-76.62311002014127 39.3109727952213...   \n",
       "Pimlico/Arlington/Hilltop              (POLYGON ((-76.65943672396942 39.3464963561196...   \n",
       "Poppleton/The Terraces/Hollins Market  (POLYGON ((-76.62753713206924 39.2860374908872...   \n",
       "Sandtown-Winchester/Harlem Park        (POLYGON ((-76.63880058620188 39.3069542900062...   \n",
       "South Baltimore                        (POLYGON ((-76.6258839602727 39.26718048726994...   \n",
       "Southeastern                           (POLYGON ((-76.52977694473311 39.2815206430368...   \n",
       "Southern Park Heights                  (POLYGON ((-76.65943672396942 39.3464963561196...   \n",
       "Southwest Baltimore                    (POLYGON ((-76.65038210008906 39.2937391809671...   \n",
       "The Waverlies                          (POLYGON ((-76.59550067242763 39.3341495875484...   \n",
       "Washington Village/Pigtown             (POLYGON ((-76.62096172958724 39.2746522736024...   \n",
       "Westport/Mount Winans/Lakeland         (POLYGON ((-76.62627047471014 39.2678913278140...   \n",
       "Oldtown/Middle East                    (POLYGON ((-76.58755099547639 39.2939433097230...   \n",
       "Harbor East/Little Italy               (POLYGON ((-76.59374300544847 39.2915276953716...   \n",
       "Upton/Druid Heights                    (POLYGON ((-76.63400531184863 39.3104450163470...   \n",
       "Midtown                                (POLYGON ((-76.61126319903396 39.3046990603324...   \n",
       "Greenmount East                        (POLYGON ((-76.59781879662705 39.3017299471609...   \n",
       "\n",
       "                                       all_crime  paired_crime  \\\n",
       "csa2010                                                          \n",
       "Allendale/Irvington/S. Hilton               2098           898   \n",
       "Beechfield/Ten Hills/West Hills             1072           470   \n",
       "Belair-Edison                               2259          1221   \n",
       "Brooklyn/Curtis Bay/Hawkins Point           2443          1461   \n",
       "Canton                                       850           455   \n",
       "Cedonia/Frankford                           2764          1380   \n",
       "Cherry Hill                                 1232           630   \n",
       "Chinquapin Park/Belvedere                    830           379   \n",
       "Claremont/Armistead                          975           430   \n",
       "Clifton-Berea                               1794           977   \n",
       "Cross-Country/Cheswolde                      622           225   \n",
       "Dickeyville/Franklintown                     320           122   \n",
       "Dorchester/Ashburton                        1357           633   \n",
       "Downtown/Seton Hill                         4268          2353   \n",
       "Edmondson Village                            752           395   \n",
       "Fells Point                                 1461           823   \n",
       "Forest Park/Walbrook                        1125           551   \n",
       "Glen-Fallstaff                              1810          1002   \n",
       "Greater Charles Village/Barclay             2669          1488   \n",
       "Greater Govans                              1133           624   \n",
       "Greater Mondawmin                           2077          1006   \n",
       "Greater Roland Park/Poplar Hill              423           163   \n",
       "Greater Rosemont                            3007          1644   \n",
       "Hamilton                                    1234           607   \n",
       "Harford/Echodale                            1723           818   \n",
       "Highlandtown                                1509          1059   \n",
       "Howard Park/West Arlington                  1146           615   \n",
       "Inner Harbor/Federal Hill                   1944          1004   \n",
       "Lauraville                                  1123           574   \n",
       "Loch Raven                                  1252           462   \n",
       "Madison/East End                            1633          1150   \n",
       "Medfield/Hampden/Woodberry/Remington        1973          1076   \n",
       "Midway/Coldstream                           1727           981   \n",
       "Morrell Park/Violetville                    1439           704   \n",
       "Mount Washington/Coldspring                  420           125   \n",
       "North Baltimore/Guilford/Homeland           1250           502   \n",
       "Northwood                                   1421           607   \n",
       "Orangeville/East Highlandtown               2234          1221   \n",
       "Patterson Park North & East                 3075          1898   \n",
       "Penn North/Reservoir Hill                   1534           765   \n",
       "Pimlico/Arlington/Hilltop                   1820          1026   \n",
       "Poppleton/The Terraces/Hollins Market       1029           549   \n",
       "Sandtown-Winchester/Harlem Park             2647          1572   \n",
       "South Baltimore                              504           259   \n",
       "Southeastern                                1388           820   \n",
       "Southern Park Heights                       1837           937   \n",
       "Southwest Baltimore                         3939          2300   \n",
       "The Waverlies                               1324           791   \n",
       "Washington Village/Pigtown                  1891          1112   \n",
       "Westport/Mount Winans/Lakeland              1148           560   \n",
       "Oldtown/Middle East                         2502          1370   \n",
       "Harbor East/Little Italy                    1726          1004   \n",
       "Upton/Druid Heights                         2427          1524   \n",
       "Midtown                                     2820          1380   \n",
       "Greenmount East                             1519           869   \n",
       "\n",
       "                                       paired911/crime  paired_911  \\\n",
       "csa2010                                                              \n",
       "Allendale/Irvington/S. Hilton                 1.507795        1354   \n",
       "Beechfield/Ten Hills/West Hills               1.565957         736   \n",
       "Belair-Edison                                 1.682228        2054   \n",
       "Brooklyn/Curtis Bay/Hawkins Point             1.642026        2399   \n",
       "Canton                                        1.382418         629   \n",
       "Cedonia/Frankford                             1.471739        2031   \n",
       "Cherry Hill                                   1.534921         967   \n",
       "Chinquapin Park/Belvedere                     1.532982         581   \n",
       "Claremont/Armistead                           1.455814         626   \n",
       "Clifton-Berea                                 1.533265        1498   \n",
       "Cross-Country/Cheswolde                       1.373333         309   \n",
       "Dickeyville/Franklintown                      1.590164         194   \n",
       "Dorchester/Ashburton                          1.480253         937   \n",
       "Downtown/Seton Hill                           1.660433        3907   \n",
       "Edmondson Village                             1.549367         612   \n",
       "Fells Point                                   1.577157        1298   \n",
       "Forest Park/Walbrook                          1.435572         791   \n",
       "Glen-Fallstaff                                1.619760        1623   \n",
       "Greater Charles Village/Barclay               1.622312        2414   \n",
       "Greater Govans                                1.665064        1039   \n",
       "Greater Mondawmin                             1.607356        1617   \n",
       "Greater Roland Park/Poplar Hill               1.398773         228   \n",
       "Greater Rosemont                              1.614355        2654   \n",
       "Hamilton                                      1.510708         917   \n",
       "Harford/Echodale                              1.420538        1162   \n",
       "Highlandtown                                  1.807365        1914   \n",
       "Howard Park/West Arlington                    1.391870         856   \n",
       "Inner Harbor/Federal Hill                     1.518924        1525   \n",
       "Lauraville                                    1.531359         879   \n",
       "Loch Raven                                    1.461039         675   \n",
       "Madison/East End                              1.852174        2130   \n",
       "Medfield/Hampden/Woodberry/Remington          1.479554        1592   \n",
       "Midway/Coldstream                             1.602446        1572   \n",
       "Morrell Park/Violetville                      1.727273        1216   \n",
       "Mount Washington/Coldspring                   1.360000         170   \n",
       "North Baltimore/Guilford/Homeland             1.488048         747   \n",
       "Northwood                                     1.423394         864   \n",
       "Orangeville/East Highlandtown                 1.587224        1938   \n",
       "Patterson Park North & East                   1.624868        3084   \n",
       "Penn North/Reservoir Hill                     1.605229        1228   \n",
       "Pimlico/Arlington/Hilltop                     1.732943        1778   \n",
       "Poppleton/The Terraces/Hollins Market         1.673953         919   \n",
       "Sandtown-Winchester/Harlem Park               1.634860        2570   \n",
       "South Baltimore                               1.362934         353   \n",
       "Southeastern                                  1.589024        1303   \n",
       "Southern Park Heights                         1.601921        1501   \n",
       "Southwest Baltimore                           1.764348        4058   \n",
       "The Waverlies                                 1.642225        1299   \n",
       "Washington Village/Pigtown                    2.045863        2275   \n",
       "Westport/Mount Winans/Lakeland                1.633929         915   \n",
       "Oldtown/Middle East                           1.678832        2300   \n",
       "Harbor East/Little Italy                      1.537849        1544   \n",
       "Upton/Druid Heights                           1.835958        2798   \n",
       "Midtown                                       1.518841        2096   \n",
       "Greenmount East                               1.485616        1291   \n",
       "\n",
       "                                       paired_std  crime_pcnt   dt_diff  \n",
       "csa2010                                                                  \n",
       "Allendale/Irvington/S. Hilton            0.919530    0.428027  2.440353  \n",
       "Beechfield/Ten Hills/West Hills          0.952446    0.438433  2.390194  \n",
       "Belair-Edison                            1.160379    0.540505  1.869781  \n",
       "Brooklyn/Curtis Bay/Hawkins Point        1.040212    0.598035  2.018449  \n",
       "Canton                                   0.776101    0.535294  2.642673  \n",
       "Cedonia/Frankford                        0.836919    0.499276  2.210708  \n",
       "Cherry Hill                              0.892231    0.511364  2.006823  \n",
       "Chinquapin Park/Belvedere                1.098746    0.456627  2.857388  \n",
       "Claremont/Armistead                      0.888492    0.441026  2.327349  \n",
       "Clifton-Berea                            1.045663    0.544593  1.684607  \n",
       "Cross-Country/Cheswolde                  0.846843    0.361736  4.570296  \n",
       "Dickeyville/Franklintown                 1.277615    0.381250  3.334961  \n",
       "Dorchester/Ashburton                     0.828682    0.466470  2.773072  \n",
       "Downtown/Seton Hill                      1.200497    0.551312  1.975962  \n",
       "Edmondson Village                        0.815129    0.525266  2.132700  \n",
       "Fells Point                              1.112225    0.563313  2.267417  \n",
       "Forest Park/Walbrook                     0.776312    0.489778  2.530297  \n",
       "Glen-Fallstaff                           1.101325    0.553591  2.224063  \n",
       "Greater Charles Village/Barclay          1.587133    0.557512  2.196113  \n",
       "Greater Govans                           1.065283    0.550750  2.309453  \n",
       "Greater Mondawmin                        1.102645    0.484352  1.891524  \n",
       "Greater Roland Park/Poplar Hill          0.835478    0.385343  3.154090  \n",
       "Greater Rosemont                         1.139001    0.546724  2.002662  \n",
       "Hamilton                                 0.849850    0.491896  2.414607  \n",
       "Harford/Echodale                         0.804923    0.474753  2.584611  \n",
       "Highlandtown                             1.474645    0.701789  1.742967  \n",
       "Howard Park/West Arlington               0.733737    0.536649  2.649831  \n",
       "Inner Harbor/Federal Hill                0.926319    0.516461  2.363081  \n",
       "Lauraville                               0.980558    0.511131  2.433914  \n",
       "Loch Raven                               0.877285    0.369010  2.291486  \n",
       "Madison/East End                         1.356052    0.704225  1.881375  \n",
       "Medfield/Hampden/Woodberry/Remington     0.951156    0.545362  2.505554  \n",
       "Midway/Coldstream                        1.144175    0.568037  1.712664  \n",
       "Morrell Park/Violetville                 1.782496    0.489229  2.519579  \n",
       "Mount Washington/Coldspring              0.711654    0.297619  3.167333  \n",
       "North Baltimore/Guilford/Homeland        0.961773    0.401600  2.551693  \n",
       "Northwood                                0.930052    0.427164  2.488924  \n",
       "Orangeville/East Highlandtown            0.911655    0.546553  1.740893  \n",
       "Patterson Park North & East              1.038253    0.617236  2.165450  \n",
       "Penn North/Reservoir Hill                1.102579    0.498696  2.450930  \n",
       "Pimlico/Arlington/Hilltop                1.230834    0.563736  1.832181  \n",
       "Poppleton/The Terraces/Hollins Market    1.176595    0.533528  2.012956  \n",
       "Sandtown-Winchester/Harlem Park          1.099276    0.593880  1.879867  \n",
       "South Baltimore                          0.670197    0.513889  2.666023  \n",
       "Southeastern                             1.003353    0.590778  1.312459  \n",
       "Southern Park Heights                    1.034923    0.510071  2.106535  \n",
       "Southwest Baltimore                      1.691557    0.583905  1.901414  \n",
       "The Waverlies                            1.578234    0.597432  2.167400  \n",
       "Washington Village/Pigtown               1.463219    0.588049  2.019985  \n",
       "Westport/Mount Winans/Lakeland           1.152081    0.487805  2.138847  \n",
       "Oldtown/Middle East                      2.275523    0.547562  2.079916  \n",
       "Harbor East/Little Italy                 0.886119    0.581692  2.020584  \n",
       "Upton/Druid Heights                      1.589730    0.627936  1.683712  \n",
       "Midtown                                  1.036852    0.489362  2.257588  \n",
       "Greenmount East                          0.834916    0.572087  1.980589  "
      ]
     },
     "execution_count": 129,
     "metadata": {},
     "output_type": "execute_result"
    }
   ],
   "source": [
    "nb"
   ]
  },
  {
   "cell_type": "markdown",
   "metadata": {},
   "source": [
    "# Research Questions"
   ]
  },
  {
   "cell_type": "markdown",
   "metadata": {},
   "source": [
    "Vigilant neighborhood; over/under-reported neighborhood\n",
    "1. how many crimes are reported\n",
    "2. how quickly are crimes reported\n",
    "3. duplicates reporting the same crime\n",
    "\n",
    "correlate with socio-economic census\n",
    "\n",
    "\n",
    "later\n",
    "3. what types of crimes are reported (later)\n",
    "\n"
   ]
  },
  {
   "cell_type": "code",
   "execution_count": 43,
   "metadata": {
    "collapsed": true
   },
   "outputs": [],
   "source": [
    "indicators = pd.read_excel('data/open-baltimore/raw/VS16_Indicators_2010-2016.xlsx',sheetname='2015')\n",
    "indicators = indicators.rename(columns={'CSA2010': 'csa2010'}).set_index('csa2010').drop('Baltimore City')"
   ]
  },
  {
   "cell_type": "code",
   "execution_count": 260,
   "metadata": {
    "collapsed": true
   },
   "outputs": [],
   "source": [
    "ind_2010 = pd.read_excel('data/open-baltimore/raw/VS16_Indicators_2010-2016.xlsx',sheetname='2010')\n",
    "ind_2010 = ind_2010.rename(columns={'CSA2010': 'csa2010'}).set_index('csa2010').drop('Baltimore City')\n",
    "population = ind_2010[['Total Population']]"
   ]
  },
  {
   "cell_type": "code",
   "execution_count": 72,
   "metadata": {},
   "outputs": [],
   "source": [
    "from scipy.stats.mstats import normaltest\n",
    "from scipy.stats import shapiro, pearsonr"
   ]
  },
  {
   "cell_type": "code",
   "execution_count": 130,
   "metadata": {
    "collapsed": true
   },
   "outputs": [
    {
     "data": {
      "text/plain": [
       "all_crime           (9.90272360775, 0.00707376928047)\n",
       "paired_crime         (8.64364119123, 0.0132756918611)\n",
       "paired911/crime     (10.9455897964, 0.00419947862535)\n",
       "paired_911          (10.0238319634, 0.00665813421423)\n",
       "paired_std          (26.5664827704, 1.7027918569e-06)\n",
       "crime_pcnt            (2.78265093408, 0.248745382224)\n",
       "dt_diff            (37.2986386518, 7.95616031537e-09)\n",
       "dtype: object"
      ]
     },
     "execution_count": 130,
     "metadata": {},
     "output_type": "execute_result"
    }
   ],
   "source": [
    "nb.drop('geometry', axis=1).apply(lambda x: normaltest(x))"
   ]
  },
  {
   "cell_type": "code",
   "execution_count": 255,
   "metadata": {
    "collapsed": true
   },
   "outputs": [],
   "source": [
    "y_cols = ['all_crime', 'paired_crime', 'paired_911', 'norm_crime', 'paired911/crime', 'crime_pcnt','dt_diff']"
   ]
  },
  {
   "cell_type": "code",
   "execution_count": 133,
   "metadata": {
    "collapsed": true
   },
   "outputs": [],
   "source": [
    "x_cols = indicators.columns.tolist()"
   ]
  },
  {
   "cell_type": "code",
   "execution_count": 241,
   "metadata": {
    "collapsed": true
   },
   "outputs": [],
   "source": [
    "nb_with_indicators = nb.join(population).join(indicators)"
   ]
  },
  {
   "cell_type": "code",
   "execution_count": 257,
   "metadata": {
    "scrolled": true
   },
   "outputs": [],
   "source": [
    "nb_with_indicators['norm_crime'] = nb_with_indicators['all_crime']/nb_with_indicators['Total Population']\n",
    "# nb_with_indicators['norm_paired_crime'] = nb_with_indicators['paired_crime']/nb_with_indicators['Total Population']\n",
    "# nb_with_indicators['norm_paired_911'] = nb_with_indicators['paired_911']/nb_with_indicators['Total Population']"
   ]
  },
  {
   "cell_type": "code",
   "execution_count": 265,
   "metadata": {},
   "outputs": [
    {
     "data": {
      "text/html": [
       "<div>\n",
       "<style>\n",
       "    .dataframe thead tr:only-child th {\n",
       "        text-align: right;\n",
       "    }\n",
       "\n",
       "    .dataframe thead th {\n",
       "        text-align: left;\n",
       "    }\n",
       "\n",
       "    .dataframe tbody tr th {\n",
       "        vertical-align: top;\n",
       "    }\n",
       "</style>\n",
       "<table border=\"1\" class=\"dataframe\">\n",
       "  <thead>\n",
       "    <tr style=\"text-align: right;\">\n",
       "      <th></th>\n",
       "      <th>all_crime</th>\n",
       "      <th>paired_crime</th>\n",
       "      <th>paired_911</th>\n",
       "      <th>norm_crime</th>\n",
       "      <th>paired911/crime</th>\n",
       "      <th>crime_pcnt</th>\n",
       "      <th>dt_diff</th>\n",
       "    </tr>\n",
       "  </thead>\n",
       "  <tbody>\n",
       "    <tr>\n",
       "      <th>all_crime</th>\n",
       "      <td>1.000000</td>\n",
       "      <td>0.978921</td>\n",
       "      <td>0.955514</td>\n",
       "      <td>0.648074</td>\n",
       "      <td>0.425754</td>\n",
       "      <td>0.471160</td>\n",
       "      <td>-0.519610</td>\n",
       "    </tr>\n",
       "    <tr>\n",
       "      <th>paired_crime</th>\n",
       "      <td>0.978921</td>\n",
       "      <td>1.000000</td>\n",
       "      <td>0.991075</td>\n",
       "      <td>0.678809</td>\n",
       "      <td>0.521669</td>\n",
       "      <td>0.613921</td>\n",
       "      <td>-0.574406</td>\n",
       "    </tr>\n",
       "    <tr>\n",
       "      <th>paired_911</th>\n",
       "      <td>0.955514</td>\n",
       "      <td>0.991075</td>\n",
       "      <td>1.000000</td>\n",
       "      <td>0.698741</td>\n",
       "      <td>0.615439</td>\n",
       "      <td>0.643395</td>\n",
       "      <td>-0.584588</td>\n",
       "    </tr>\n",
       "    <tr>\n",
       "      <th>norm_crime</th>\n",
       "      <td>0.648074</td>\n",
       "      <td>0.678809</td>\n",
       "      <td>0.698741</td>\n",
       "      <td>1.000000</td>\n",
       "      <td>0.529408</td>\n",
       "      <td>0.490782</td>\n",
       "      <td>-0.503503</td>\n",
       "    </tr>\n",
       "    <tr>\n",
       "      <th>paired911/crime</th>\n",
       "      <td>0.425754</td>\n",
       "      <td>0.521669</td>\n",
       "      <td>0.615439</td>\n",
       "      <td>0.529408</td>\n",
       "      <td>1.000000</td>\n",
       "      <td>0.650293</td>\n",
       "      <td>-0.562511</td>\n",
       "    </tr>\n",
       "    <tr>\n",
       "      <th>crime_pcnt</th>\n",
       "      <td>0.471160</td>\n",
       "      <td>0.613921</td>\n",
       "      <td>0.643395</td>\n",
       "      <td>0.490782</td>\n",
       "      <td>0.650293</td>\n",
       "      <td>1.000000</td>\n",
       "      <td>-0.713111</td>\n",
       "    </tr>\n",
       "    <tr>\n",
       "      <th>dt_diff</th>\n",
       "      <td>-0.519610</td>\n",
       "      <td>-0.574406</td>\n",
       "      <td>-0.584588</td>\n",
       "      <td>-0.503503</td>\n",
       "      <td>-0.562511</td>\n",
       "      <td>-0.713111</td>\n",
       "      <td>1.000000</td>\n",
       "    </tr>\n",
       "  </tbody>\n",
       "</table>\n",
       "</div>"
      ],
      "text/plain": [
       "                 all_crime  paired_crime  paired_911  norm_crime  \\\n",
       "all_crime         1.000000      0.978921    0.955514    0.648074   \n",
       "paired_crime      0.978921      1.000000    0.991075    0.678809   \n",
       "paired_911        0.955514      0.991075    1.000000    0.698741   \n",
       "norm_crime        0.648074      0.678809    0.698741    1.000000   \n",
       "paired911/crime   0.425754      0.521669    0.615439    0.529408   \n",
       "crime_pcnt        0.471160      0.613921    0.643395    0.490782   \n",
       "dt_diff          -0.519610     -0.574406   -0.584588   -0.503503   \n",
       "\n",
       "                 paired911/crime  crime_pcnt   dt_diff  \n",
       "all_crime               0.425754    0.471160 -0.519610  \n",
       "paired_crime            0.521669    0.613921 -0.574406  \n",
       "paired_911              0.615439    0.643395 -0.584588  \n",
       "norm_crime              0.529408    0.490782 -0.503503  \n",
       "paired911/crime         1.000000    0.650293 -0.562511  \n",
       "crime_pcnt              0.650293    1.000000 -0.713111  \n",
       "dt_diff                -0.562511   -0.713111  1.000000  "
      ]
     },
     "execution_count": 265,
     "metadata": {},
     "output_type": "execute_result"
    }
   ],
   "source": [
    "# 'pearson', 'kendall', 'spearman'\n",
    "nb_with_indicators[y_cols].corr('pearson')\n",
    "# nb_with_indicators.drop(indicators.columns.tolist()+population.columns.tolist(), axis=1).corr()"
   ]
  },
  {
   "cell_type": "code",
   "execution_count": 246,
   "metadata": {},
   "outputs": [],
   "source": [
    "res = []\n",
    "for yc in y_cols:\n",
    "#     if yc!='crime_pcnt':continue\n",
    "    y = nb_with_indicators[yc]\n",
    "    for xc in x_cols:\n",
    "        if 'Household' not in xc: continue\n",
    "        x = nb_with_indicators[xc]\n",
    "        r,p = pearsonr(y,x)\n",
    "        res.append({'yc': yc, 'xc':xc, 'r':r, 'abs_r': abs(r), 'p':p})\n",
    "#         break\n",
    "#     break"
   ]
  },
  {
   "cell_type": "code",
   "execution_count": 247,
   "metadata": {},
   "outputs": [],
   "source": [
    "res_df = pd.DataFrame(res)[['yc','xc','r','abs_r','p']]"
   ]
  },
  {
   "cell_type": "code",
   "execution_count": 252,
   "metadata": {},
   "outputs": [
    {
     "name": "stderr",
     "output_type": "stream",
     "text": [
      "D:\\ProgramFiles\\Anaconda3\\lib\\site-packages\\ipykernel_launcher.py:1: UserWarning: Boolean Series key will be reindexed to match DataFrame index.\n",
      "  \"\"\"Entry point for launching an IPython kernel.\n"
     ]
    },
    {
     "data": {
      "text/html": [
       "<div>\n",
       "<style>\n",
       "    .dataframe thead tr:only-child th {\n",
       "        text-align: right;\n",
       "    }\n",
       "\n",
       "    .dataframe thead th {\n",
       "        text-align: left;\n",
       "    }\n",
       "\n",
       "    .dataframe tbody tr th {\n",
       "        vertical-align: top;\n",
       "    }\n",
       "</style>\n",
       "<table border=\"1\" class=\"dataframe\">\n",
       "  <thead>\n",
       "    <tr style=\"text-align: right;\">\n",
       "      <th></th>\n",
       "      <th></th>\n",
       "      <th>r</th>\n",
       "      <th>abs_r</th>\n",
       "      <th>p</th>\n",
       "    </tr>\n",
       "    <tr>\n",
       "      <th>xc</th>\n",
       "      <th>yc</th>\n",
       "      <th></th>\n",
       "      <th></th>\n",
       "      <th></th>\n",
       "    </tr>\n",
       "  </thead>\n",
       "  <tbody>\n",
       "    <tr>\n",
       "      <th rowspan=\"2\" valign=\"top\">Median Household Income</th>\n",
       "      <th>all_crime</th>\n",
       "      <td>-0.371052</td>\n",
       "      <td>0.371052</td>\n",
       "      <td>0.005289</td>\n",
       "    </tr>\n",
       "    <tr>\n",
       "      <th>norm_crime</th>\n",
       "      <td>-0.293046</td>\n",
       "      <td>0.293046</td>\n",
       "      <td>0.029909</td>\n",
       "    </tr>\n",
       "    <tr>\n",
       "      <th>Percent of Family Households Living Below the Poverty Line</th>\n",
       "      <th>norm_crime</th>\n",
       "      <td>0.266209</td>\n",
       "      <td>0.266209</td>\n",
       "      <td>0.049470</td>\n",
       "    </tr>\n",
       "    <tr>\n",
       "      <th rowspan=\"2\" valign=\"top\">Percent of Female-Headed Households with Children under 18</th>\n",
       "      <th>all_crime</th>\n",
       "      <td>0.301288</td>\n",
       "      <td>0.301288</td>\n",
       "      <td>0.025397</td>\n",
       "    </tr>\n",
       "    <tr>\n",
       "      <th>norm_crime</th>\n",
       "      <td>0.378627</td>\n",
       "      <td>0.378627</td>\n",
       "      <td>0.004366</td>\n",
       "    </tr>\n",
       "    <tr>\n",
       "      <th rowspan=\"2\" valign=\"top\">Percent of Households Earning Less than $25,000</th>\n",
       "      <th>all_crime</th>\n",
       "      <td>0.386687</td>\n",
       "      <td>0.386687</td>\n",
       "      <td>0.003543</td>\n",
       "    </tr>\n",
       "    <tr>\n",
       "      <th>norm_crime</th>\n",
       "      <td>0.378766</td>\n",
       "      <td>0.378766</td>\n",
       "      <td>0.004350</td>\n",
       "    </tr>\n",
       "    <tr>\n",
       "      <th>Percent of Households Earning More than $75,000</th>\n",
       "      <th>all_crime</th>\n",
       "      <td>-0.333415</td>\n",
       "      <td>0.333415</td>\n",
       "      <td>0.012864</td>\n",
       "    </tr>\n",
       "    <tr>\n",
       "      <th rowspan=\"2\" valign=\"top\">Percent of Households with No Vehicles Available</th>\n",
       "      <th>all_crime</th>\n",
       "      <td>0.471516</td>\n",
       "      <td>0.471516</td>\n",
       "      <td>0.000279</td>\n",
       "    </tr>\n",
       "    <tr>\n",
       "      <th>norm_crime</th>\n",
       "      <td>0.467500</td>\n",
       "      <td>0.467500</td>\n",
       "      <td>0.000320</td>\n",
       "    </tr>\n",
       "    <tr>\n",
       "      <th>Total Number of Households</th>\n",
       "      <th>all_crime</th>\n",
       "      <td>0.431009</td>\n",
       "      <td>0.431009</td>\n",
       "      <td>0.001020</td>\n",
       "    </tr>\n",
       "  </tbody>\n",
       "</table>\n",
       "</div>"
      ],
      "text/plain": [
       "                                                                      r  \\\n",
       "xc                                                 yc                     \n",
       "Median Household Income                            all_crime  -0.371052   \n",
       "                                                   norm_crime -0.293046   \n",
       "Percent of Family Households Living Below the P... norm_crime  0.266209   \n",
       "Percent of Female-Headed Households with Childr... all_crime   0.301288   \n",
       "                                                   norm_crime  0.378627   \n",
       "Percent of Households Earning Less than $25,000    all_crime   0.386687   \n",
       "                                                   norm_crime  0.378766   \n",
       "Percent of Households Earning More than $75,000    all_crime  -0.333415   \n",
       "Percent of Households with No Vehicles Available   all_crime   0.471516   \n",
       "                                                   norm_crime  0.467500   \n",
       "Total Number of Households                         all_crime   0.431009   \n",
       "\n",
       "                                                                  abs_r  \\\n",
       "xc                                                 yc                     \n",
       "Median Household Income                            all_crime   0.371052   \n",
       "                                                   norm_crime  0.293046   \n",
       "Percent of Family Households Living Below the P... norm_crime  0.266209   \n",
       "Percent of Female-Headed Households with Childr... all_crime   0.301288   \n",
       "                                                   norm_crime  0.378627   \n",
       "Percent of Households Earning Less than $25,000    all_crime   0.386687   \n",
       "                                                   norm_crime  0.378766   \n",
       "Percent of Households Earning More than $75,000    all_crime   0.333415   \n",
       "Percent of Households with No Vehicles Available   all_crime   0.471516   \n",
       "                                                   norm_crime  0.467500   \n",
       "Total Number of Households                         all_crime   0.431009   \n",
       "\n",
       "                                                                      p  \n",
       "xc                                                 yc                    \n",
       "Median Household Income                            all_crime   0.005289  \n",
       "                                                   norm_crime  0.029909  \n",
       "Percent of Family Households Living Below the P... norm_crime  0.049470  \n",
       "Percent of Female-Headed Households with Childr... all_crime   0.025397  \n",
       "                                                   norm_crime  0.004366  \n",
       "Percent of Households Earning Less than $25,000    all_crime   0.003543  \n",
       "                                                   norm_crime  0.004350  \n",
       "Percent of Households Earning More than $75,000    all_crime   0.012864  \n",
       "Percent of Households with No Vehicles Available   all_crime   0.000279  \n",
       "                                                   norm_crime  0.000320  \n",
       "Total Number of Households                         all_crime   0.001020  "
      ]
     },
     "execution_count": 252,
     "metadata": {},
     "output_type": "execute_result"
    }
   ],
   "source": [
    "res_df[res_df.p<0.05]\\\n",
    "[res_df.yc.isin(['norm_crime', 'all_crime'])]\\\n",
    ".sort_values('r')\\\n",
    ".set_index(['xc','yc']).sort_index()"
   ]
  },
  {
   "cell_type": "markdown",
   "metadata": {},
   "source": [
    "kmeans"
   ]
  },
  {
   "cell_type": "code",
   "execution_count": 231,
   "metadata": {
    "collapsed": true
   },
   "outputs": [],
   "source": [
    "from sklearn.cluster import KMeans\n",
    "from sklearn.preprocessing import MinMaxScaler, Normalizer"
   ]
  },
  {
   "cell_type": "code",
   "execution_count": 232,
   "metadata": {
    "collapsed": true
   },
   "outputs": [],
   "source": [
    "scaler = MinMaxScaler()\n",
    "\n",
    "data = nb.drop(['geometry', 'paired_std'], axis=1)\n",
    "\n",
    "scaler.fit(data)\n",
    "\n",
    "min_max_data = scaler.transform(data)"
   ]
  },
  {
   "cell_type": "code",
   "execution_count": 236,
   "metadata": {},
   "outputs": [
    {
     "data": {
      "text/plain": [
       "array([2, 0, 2, 1, 0, 1, 2, 0, 0, 2, 0, 0, 0, 1, 0, 2, 0, 2, 1, 2, 2, 0, 1,\n",
       "       0, 0, 2, 0, 2, 0, 0, 2, 2, 2, 2, 0, 0, 0, 2, 1, 2, 2, 2, 1, 0, 2, 2,\n",
       "       1, 2, 2, 2, 1, 2, 1, 1, 2])"
      ]
     },
     "execution_count": 236,
     "metadata": {},
     "output_type": "execute_result"
    },
    {
     "data": {
      "image/png": "[encoded data removed]",
      "text/plain": [
       "<matplotlib.figure.Figure at 0x25c234ae7f0>"
      ]
     },
     "metadata": {},
     "output_type": "display_data"
    }
   ],
   "source": [
    "k=3\n",
    "kmeans = KMeans(n_clusters=k).fit(min_max_data)\n",
    "pd.DataFrame(kmeans.cluster_centers_, columns=data.columns,index=['group%d'%i for i in range(k)]).T.plot()\n",
    "\n",
    "kmeans.labels_"
   ]
  },
  {
   "cell_type": "markdown",
   "metadata": {},
   "source": [
    "# plot on map"
   ]
  },
  {
   "cell_type": "markdown",
   "metadata": {},
   "source": [
    "## neighborhood"
   ]
  },
  {
   "cell_type": "code",
   "execution_count": 40,
   "metadata": {
    "collapsed": true
   },
   "outputs": [],
   "source": [
    "import folium\n",
    "from folium import StepColormap, LinearColormap"
   ]
  },
  {
   "cell_type": "code",
   "execution_count": 42,
   "metadata": {
    "collapsed": true
   },
   "outputs": [],
   "source": [
    "def gpdf_bounds(gpdf):\n",
    "    w = gpdf.bounds.minx.min()\n",
    "    e = gpdf.bounds.maxx.max()\n",
    "    s = gpdf.bounds.miny.min()\n",
    "    n = gpdf.bounds.maxy.max()\n",
    "    bound = [(s,w),(n,e)]\n",
    "    return bound"
   ]
  },
  {
   "cell_type": "code",
   "execution_count": 85,
   "metadata": {},
   "outputs": [
    {
     "data": {
      "text/plain": [
       "'#ff5b5b'"
      ]
     },
     "execution_count": 85,
     "metadata": {},
     "output_type": "execute_result"
    }
   ],
   "source": [
    "linear(1.8)"
   ]
  },
  {
   "cell_type": "code",
   "execution_count": 103,
   "metadata": {
    "collapsed": true
   },
   "outputs": [],
   "source": [
    "gj??"
   ]
  },
  {
   "cell_type": "code",
   "execution_count": 114,
   "metadata": {
    "collapsed": true
   },
   "outputs": [],
   "source": [
    "linears = {}\n",
    "for c in ['all_crime', 'paired_crime', 'paired911/crime', 'crime_pcnt']:\n",
    "    mi, ma = nb[c].min(), nb[c].max()\n",
    "    linear = LinearColormap(['white', 'red'],vmin=mi, vmax=ma)\n",
    "    linears[c] = linear\n"
   ]
  },
  {
   "cell_type": "code",
   "execution_count": 117,
   "metadata": {
    "collapsed": true
   },
   "outputs": [],
   "source": [
    "m = folium.Map(tiles='CartoDB positron')\n",
    "m.fit_bounds(gpdf_bounds(nb))\n",
    "\n",
    "for c in ['all_crime', 'paired_crime', 'paired911/crime', 'crime_pcnt']:\n",
    "    mi, ma = nb[c].min(), nb[c].max()\n",
    "    linear = LinearColormap(['white', 'red'],vmin=mi, vmax=ma)\n",
    "    gj = folium.GeoJson(nb[[c, 'geometry']],  name=c, \n",
    "                        style_function=lambda feature: {\n",
    "                            'fillColor': linear(feature['properties']),\n",
    "                            'color': 'black',\n",
    "                            'weight': 2,\n",
    "                            'dashArray': '5, 5',\n",
    "                            'fillOpacity': 1\n",
    "                        })\n",
    "    gj.add_to(m)\n",
    "    break\n",
    "    \n",
    "folium.LayerControl().add_to(m)\n",
    "\n",
    "m.save('tmp/nb.html')"
   ]
  },
  {
   "cell_type": "code",
   "execution_count": 124,
   "metadata": {
    "collapsed": true
   },
   "outputs": [],
   "source": [
    "m = folium.Map(tiles='CartoDB positron')\n",
    "m.fit_bounds(gpdf_bounds(nb))\n",
    "\n",
    "mi, ma = nb['all_crime'].min(), nb['all_crime'].max()\n",
    "gj = folium.GeoJson(nb[['all_crime', 'geometry']],  name='all_crime', \n",
    "                    style_function=lambda feature: {\n",
    "                        'fillColor': linears['all_crime'](\n",
    "                            feature['properties']['all_crime']),\n",
    "                        'fillOpacity': 1\n",
    "                    })\n",
    "gj.add_to(m)\n",
    "\n",
    "mi, ma = nb['paired_crime'].min(), nb['paired_crime'].max()\n",
    "gj = folium.GeoJson(nb[['paired_crime', 'geometry']],  name='paired_crime', \n",
    "                    style_function=lambda feature: {\n",
    "                        'fillColor': linears['paired_crime'](feature['properties']['paired_crime']),\n",
    "                        'fillOpacity': 1\n",
    "                    })\n",
    "gj.add_to(m)\n",
    "\n",
    "mi, ma = nb['paired911/crime'].min(), nb['paired911/crime'].max()\n",
    "gj = folium.GeoJson(nb[['paired911/crime', 'geometry']],  name='paired911/crime', \n",
    "                    style_function=lambda feature: {\n",
    "                        'fillColor': linears['paired911/crime'](feature['properties']['paired911/crime']),\n",
    "                        'fillOpacity': 1\n",
    "                    })\n",
    "gj.add_to(m)\n",
    "\n",
    "mi, ma = nb['crime_pcnt'].min(), nb['crime_pcnt'].max()\n",
    "gj = folium.GeoJson(nb[['crime_pcnt', 'geometry']],  name='crime_pcnt', \n",
    "                    style_function=lambda feature: {\n",
    "                        'fillColor': linears['crime_pcnt'](feature['properties']['crime_pcnt']),\n",
    "                        'fillOpacity': 1\n",
    "                    })\n",
    "gj.add_to(m)\n",
    "    \n",
    "folium.LayerControl().add_to(m)\n",
    "\n",
    "m.save('tmp/nb.html')"
   ]
  },
  {
   "cell_type": "code",
   "execution_count": 111,
   "metadata": {
    "collapsed": true
   },
   "outputs": [],
   "source": [
    "m.save??"
   ]
  },
  {
   "cell_type": "code",
   "execution_count": 89,
   "metadata": {},
   "outputs": [
    {
     "data": {
      "text/plain": [
       "<matplotlib.axes._subplots.AxesSubplot at 0x24bc1ca4898>"
      ]
     },
     "execution_count": 89,
     "metadata": {},
     "output_type": "execute_result"
    },
    {
     "data": {
      "image/png": "[encoded data removed]",
      "text/plain": [
       "<matplotlib.figure.Figure at 0x24bc27350f0>"
      ]
     },
     "metadata": {},
     "output_type": "display_data"
    }
   ],
   "source": [
    "nb.plot(column='all_crime')"
   ]
  },
  {
   "cell_type": "code",
   "execution_count": 96,
   "metadata": {},
   "outputs": [
    {
     "data": {
      "text/plain": [
       "<matplotlib.axes._subplots.AxesSubplot at 0x24bc4e472b0>"
      ]
     },
     "execution_count": 96,
     "metadata": {},
     "output_type": "execute_result"
    },
    {
     "data": {
      "image/png": "[encoded data removed]",
      "text/plain": [
       "<matplotlib.figure.Figure at 0x24bc4e02550>"
      ]
     },
     "metadata": {},
     "output_type": "display_data"
    }
   ],
   "source": [
    "nb.plot(column='crime_pcnt')"
   ]
  },
  {
   "cell_type": "code",
   "execution_count": 94,
   "metadata": {},
   "outputs": [
    {
     "data": {
      "text/plain": [
       "<matplotlib.axes._subplots.AxesSubplot at 0x24bc4ade2b0>"
      ]
     },
     "execution_count": 94,
     "metadata": {},
     "output_type": "execute_result"
    },
    {
     "data": {
      "image/png": "[encoded data removed]",
      "text/plain": [
       "<matplotlib.figure.Figure at 0x24bc4aaa128>"
      ]
     },
     "metadata": {},
     "output_type": "display_data"
    }
   ],
   "source": [
    "nb.plot(column='paired911/crime')"
   ]
  },
  {
   "cell_type": "markdown",
   "metadata": {},
   "source": [
    "## marker cluster"
   ]
  },
  {
   "cell_type": "code",
   "execution_count": 11,
   "metadata": {
    "collapsed": true
   },
   "outputs": [],
   "source": [
    "\n",
    "from importlib import reload\n",
    "import src.vis; reload(src.vis)\n",
    "import src.vis.map; reload(src.vis.map)\n",
    "from src.vis.map import marker_cluster, marker_cluster_fast\n"
   ]
  },
  {
   "cell_type": "code",
   "execution_count": 17,
   "metadata": {
    "collapsed": true
   },
   "outputs": [],
   "source": [
    "from wKit.vis.map import marker_cluster_fast"
   ]
  },
  {
   "cell_type": "code",
   "execution_count": 13,
   "metadata": {
    "collapsed": true
   },
   "outputs": [],
   "source": [
    "name_location = {\n",
    "    'crimes': list(zip(target_c.Latitude.tolist(), target_c.Longitude.tolist())),\n",
    "    '911': list(zip(target_9.Latitude.tolist(), target_9.Longitude.tolist()))\n",
    "}"
   ]
  },
  {
   "cell_type": "code",
   "execution_count": 20,
   "metadata": {
    "collapsed": true
   },
   "outputs": [],
   "source": [
    "marker_cluster_fast(name_location, lonlat=False, filename='tmp/crime_911.html')"
   ]
  }
 ],
 "metadata": {
  "kernelspec": {
   "display_name": "Python 3",
   "language": "python",
   "name": "python3"
  },
  "language_info": {
   "codemirror_mode": {
    "name": "ipython",
    "version": 3
   },
   "file_extension": ".py",
   "mimetype": "text/x-python",
   "name": "python",
   "nbconvert_exporter": "python",
   "pygments_lexer": "ipython3",
   "version": "3.6.1"
  }
 },
 "nbformat": 4,
 "nbformat_minor": 2
}
