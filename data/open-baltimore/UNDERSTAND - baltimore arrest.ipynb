{
 "cells": [
  {
   "cell_type": "code",
   "execution_count": 1,
   "metadata": {
    "collapsed": true
   },
   "outputs": [],
   "source": [
    "import pandas as pd"
   ]
  },
  {
   "cell_type": "code",
   "execution_count": 11,
   "metadata": {
    "collapsed": true
   },
   "outputs": [],
   "source": [
    "import numpy as np"
   ]
  },
  {
   "cell_type": "code",
   "execution_count": 6,
   "metadata": {
    "collapsed": true
   },
   "outputs": [],
   "source": [
    "%matplotlib inline"
   ]
  },
  {
   "cell_type": "code",
   "execution_count": 2,
   "metadata": {
    "collapsed": true
   },
   "outputs": [],
   "source": [
    "df = pd.read_csv(\"BPD_Arrests.csv\")\n",
    "\n",
    "df2012 = pd.read_csv(\"BPD_Arrests_2012.csv\")"
   ]
  },
  {
   "cell_type": "code",
   "execution_count": 55,
   "metadata": {},
   "outputs": [
    {
     "data": {
      "text/html": [
       "<div>\n",
       "<style>\n",
       "    .dataframe thead tr:only-child th {\n",
       "        text-align: right;\n",
       "    }\n",
       "\n",
       "    .dataframe thead th {\n",
       "        text-align: left;\n",
       "    }\n",
       "\n",
       "    .dataframe tbody tr th {\n",
       "        vertical-align: top;\n",
       "    }\n",
       "</style>\n",
       "<table border=\"1\" class=\"dataframe\">\n",
       "  <thead>\n",
       "    <tr style=\"text-align: right;\">\n",
       "      <th></th>\n",
       "      <th>Arrest</th>\n",
       "      <th>Age</th>\n",
       "      <th>Sex</th>\n",
       "      <th>Race</th>\n",
       "      <th>ArrestDate</th>\n",
       "      <th>ArrestTime</th>\n",
       "      <th>ArrestLocation</th>\n",
       "      <th>IncidentOffense</th>\n",
       "      <th>IncidentLocation</th>\n",
       "      <th>Charge</th>\n",
       "      <th>ChargeDescription</th>\n",
       "      <th>District</th>\n",
       "      <th>Post</th>\n",
       "      <th>Neighborhood</th>\n",
       "      <th>Longitude</th>\n",
       "      <th>Latitude</th>\n",
       "      <th>Location 1</th>\n",
       "    </tr>\n",
       "  </thead>\n",
       "  <tbody>\n",
       "    <tr>\n",
       "      <th>0</th>\n",
       "      <td>17201066.0</td>\n",
       "      <td>30.0</td>\n",
       "      <td>M</td>\n",
       "      <td>B</td>\n",
       "      <td>12/23/2017</td>\n",
       "      <td>23:24</td>\n",
       "      <td>900 STOLL ST</td>\n",
       "      <td>4ECOMMON ASSAULT</td>\n",
       "      <td>900 STOLL ST</td>\n",
       "      <td>1 1415</td>\n",
       "      <td>2ND DEG ASSAULT</td>\n",
       "      <td>Southern</td>\n",
       "      <td>913.0</td>\n",
       "      <td>Brooklyn</td>\n",
       "      <td>-76.598589</td>\n",
       "      <td>39.230243</td>\n",
       "      <td>(39.230243000000, -76.598589000000)</td>\n",
       "    </tr>\n",
       "    <tr>\n",
       "      <th>1</th>\n",
       "      <td>17201085.0</td>\n",
       "      <td>19.0</td>\n",
       "      <td>M</td>\n",
       "      <td>B</td>\n",
       "      <td>12/23/2017</td>\n",
       "      <td>23:05</td>\n",
       "      <td>NaN</td>\n",
       "      <td>Unknown Offense</td>\n",
       "      <td>NaN</td>\n",
       "      <td>1 0521</td>\n",
       "      <td>THEFT LESS THAN $100.00</td>\n",
       "      <td>NaN</td>\n",
       "      <td>NaN</td>\n",
       "      <td>NaN</td>\n",
       "      <td>NaN</td>\n",
       "      <td>NaN</td>\n",
       "      <td>NaN</td>\n",
       "    </tr>\n",
       "    <tr>\n",
       "      <th>2</th>\n",
       "      <td>17201081.0</td>\n",
       "      <td>19.0</td>\n",
       "      <td>M</td>\n",
       "      <td>B</td>\n",
       "      <td>12/23/2017</td>\n",
       "      <td>23:05</td>\n",
       "      <td>NaN</td>\n",
       "      <td>Unknown Offense</td>\n",
       "      <td>NaN</td>\n",
       "      <td>3 4025</td>\n",
       "      <td>MAL DEST PROP/VALU - $1,000</td>\n",
       "      <td>NaN</td>\n",
       "      <td>NaN</td>\n",
       "      <td>NaN</td>\n",
       "      <td>NaN</td>\n",
       "      <td>NaN</td>\n",
       "      <td>NaN</td>\n",
       "    </tr>\n",
       "    <tr>\n",
       "      <th>3</th>\n",
       "      <td>17201084.0</td>\n",
       "      <td>36.0</td>\n",
       "      <td>M</td>\n",
       "      <td>U</td>\n",
       "      <td>12/23/2017</td>\n",
       "      <td>23:00</td>\n",
       "      <td>300 MACON ST</td>\n",
       "      <td>Unknown Offense</td>\n",
       "      <td>300 MACON ST</td>\n",
       "      <td>3 4025</td>\n",
       "      <td>DESTRUCTION OF PROPERTY</td>\n",
       "      <td>Southeast</td>\n",
       "      <td>242.0</td>\n",
       "      <td>Greektown</td>\n",
       "      <td>-76.557454</td>\n",
       "      <td>39.288730</td>\n",
       "      <td>(39.288730000000, -76.557454000000)</td>\n",
       "    </tr>\n",
       "    <tr>\n",
       "      <th>4</th>\n",
       "      <td>17201068.0</td>\n",
       "      <td>47.0</td>\n",
       "      <td>M</td>\n",
       "      <td>B</td>\n",
       "      <td>12/23/2017</td>\n",
       "      <td>23:00</td>\n",
       "      <td>500 ARCHER ST</td>\n",
       "      <td>4ECOMMON ASSAULT</td>\n",
       "      <td>500 ARCHER ST</td>\n",
       "      <td>1 1415</td>\n",
       "      <td>2ND DEGREE ASSAULT</td>\n",
       "      <td>Southern</td>\n",
       "      <td>932.0</td>\n",
       "      <td>Washington Village</td>\n",
       "      <td>-76.630115</td>\n",
       "      <td>39.282715</td>\n",
       "      <td>(39.282715000000, -76.630115000000)</td>\n",
       "    </tr>\n",
       "  </tbody>\n",
       "</table>\n",
       "</div>"
      ],
      "text/plain": [
       "       Arrest   Age Sex Race  ArrestDate ArrestTime ArrestLocation  \\\n",
       "0  17201066.0  30.0   M    B  12/23/2017      23:24   900 STOLL ST   \n",
       "1  17201085.0  19.0   M    B  12/23/2017      23:05            NaN   \n",
       "2  17201081.0  19.0   M    B  12/23/2017      23:05            NaN   \n",
       "3  17201084.0  36.0   M    U  12/23/2017      23:00   300 MACON ST   \n",
       "4  17201068.0  47.0   M    B  12/23/2017      23:00  500 ARCHER ST   \n",
       "\n",
       "          IncidentOffense IncidentLocation  Charge  \\\n",
       "0  4ECOMMON ASSAULT           900 STOLL ST  1 1415   \n",
       "1         Unknown Offense              NaN  1 0521   \n",
       "2         Unknown Offense              NaN  3 4025   \n",
       "3         Unknown Offense     300 MACON ST  3 4025   \n",
       "4  4ECOMMON ASSAULT          500 ARCHER ST  1 1415   \n",
       "\n",
       "             ChargeDescription   District   Post        Neighborhood  \\\n",
       "0              2ND DEG ASSAULT   Southern  913.0            Brooklyn   \n",
       "1      THEFT LESS THAN $100.00        NaN    NaN                 NaN   \n",
       "2  MAL DEST PROP/VALU - $1,000        NaN    NaN                 NaN   \n",
       "3      DESTRUCTION OF PROPERTY  Southeast  242.0           Greektown   \n",
       "4           2ND DEGREE ASSAULT   Southern  932.0  Washington Village   \n",
       "\n",
       "   Longitude   Latitude                           Location 1  \n",
       "0 -76.598589  39.230243  (39.230243000000, -76.598589000000)  \n",
       "1        NaN        NaN                                  NaN  \n",
       "2        NaN        NaN                                  NaN  \n",
       "3 -76.557454  39.288730  (39.288730000000, -76.557454000000)  \n",
       "4 -76.630115  39.282715  (39.282715000000, -76.630115000000)  "
      ]
     },
     "execution_count": 55,
     "metadata": {},
     "output_type": "execute_result"
    }
   ],
   "source": [
    "df.head()"
   ]
  },
  {
   "cell_type": "code",
   "execution_count": 60,
   "metadata": {},
   "outputs": [
    {
     "name": "stdout",
     "output_type": "stream",
     "text": [
      "0\n"
     ]
    }
   ],
   "source": [
    "print(df2012['incidentOffense'].isnull().sum())\n",
    "incident2012 = df2012['incidentOffense'].value_counts().to_frame()\n",
    "incident2012['Percentage'] = incident2012.incidentOffense/incident2012.incidentOffense.sum()"
   ]
  },
  {
   "cell_type": "code",
   "execution_count": 58,
   "metadata": {},
   "outputs": [
    {
     "name": "stdout",
     "output_type": "stream",
     "text": [
      "null 0\n"
     ]
    }
   ],
   "source": [
    "print('null', df['IncidentOffense'].isnull().sum())\n",
    "incident = df['IncidentOffense'].value_counts().to_frame()\n",
    "incident['Percentage'] = incident.IncidentOffense/incident.IncidentOffense.sum()"
   ]
  },
  {
   "cell_type": "code",
   "execution_count": 61,
   "metadata": {},
   "outputs": [],
   "source": [
    "incident.to_csv('tmp-arrest.csv')\n",
    "incident2012.to_csv('tmp-arrest-2012.csv')"
   ]
  },
  {
   "cell_type": "code",
   "execution_count": 30,
   "metadata": {
    "collapsed": true
   },
   "outputs": [],
   "source": [
    "def hist_values(array, bins=None):\n",
    "    if bins is None:\n",
    "        count, division = np.histogram(array)\n",
    "    else: \n",
    "        count, division = np.histogram(array, bins=bins)\n",
    "    for i in range(len(count)):\n",
    "        print('%d~%d\\t%d' %(division[i], division[i+1], count[i]))"
   ]
  },
  {
   "cell_type": "code",
   "execution_count": null,
   "metadata": {
    "collapsed": true
   },
   "outputs": [],
   "source": [
    "hist_values(df[~df.Age.isnull()].Age, bins=[0, 14, 21, 28, 35,42,49,56,63,70,77,84,100])"
   ]
  },
  {
   "cell_type": "code",
   "execution_count": null,
   "metadata": {
    "collapsed": true
   },
   "outputs": [],
   "source": [
    "hist_values(df2012[~df2012.age.isnull()].age, bins=[0, 14, 21, 28, 35,42,49,56,63,70,77,84,100])"
   ]
  }
 ],
 "metadata": {
  "kernelspec": {
   "display_name": "Python 3",
   "language": "python",
   "name": "python3"
  },
  "language_info": {
   "codemirror_mode": {
    "name": "ipython",
    "version": 3
   },
   "file_extension": ".py",
   "mimetype": "text/x-python",
   "name": "python",
   "nbconvert_exporter": "python",
   "pygments_lexer": "ipython3",
   "version": "3.6.1"
  }
 },
 "nbformat": 4,
 "nbformat_minor": 2
}
