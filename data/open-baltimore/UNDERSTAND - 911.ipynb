{
 "cells": [
  {
   "cell_type": "code",
   "execution_count": 4,
   "metadata": {
    "collapsed": true
   },
   "outputs": [],
   "source": [
    "import pandas as pd"
   ]
  },
  {
   "cell_type": "code",
   "execution_count": 5,
   "metadata": {},
   "outputs": [],
   "source": [
    "df = pd.read_csv('911_Police_Calls_for_Service.csv', sep=';')"
   ]
  },
  {
   "cell_type": "code",
   "execution_count": 6,
   "metadata": {},
   "outputs": [
    {
     "data": {
      "text/html": [
       "<div>\n",
       "<style>\n",
       "    .dataframe thead tr:only-child th {\n",
       "        text-align: right;\n",
       "    }\n",
       "\n",
       "    .dataframe thead th {\n",
       "        text-align: left;\n",
       "    }\n",
       "\n",
       "    .dataframe tbody tr th {\n",
       "        vertical-align: top;\n",
       "    }\n",
       "</style>\n",
       "<table border=\"1\" class=\"dataframe\">\n",
       "  <thead>\n",
       "    <tr style=\"text-align: right;\">\n",
       "      <th></th>\n",
       "      <th>recordId</th>\n",
       "      <th>callDateTime</th>\n",
       "      <th>priority</th>\n",
       "      <th>district</th>\n",
       "      <th>description</th>\n",
       "      <th>callNumber</th>\n",
       "      <th>incidentLocation</th>\n",
       "      <th>location</th>\n",
       "    </tr>\n",
       "  </thead>\n",
       "  <tbody>\n",
       "    <tr>\n",
       "      <th>0</th>\n",
       "      <td>1423624</td>\n",
       "      <td>05/04/2016 09:58:00 PM</td>\n",
       "      <td>High</td>\n",
       "      <td>ND</td>\n",
       "      <td>SILENT ALARM</td>\n",
       "      <td>P161253035</td>\n",
       "      <td>400 WINSTON AV</td>\n",
       "      <td>400 WINSTON AV\\nBALTIMORE, MD\\n(39.349792, -76...</td>\n",
       "    </tr>\n",
       "    <tr>\n",
       "      <th>1</th>\n",
       "      <td>1402097</td>\n",
       "      <td>04/27/2016 03:57:00 PM</td>\n",
       "      <td>Medium</td>\n",
       "      <td>SW</td>\n",
       "      <td>911/HANGUP</td>\n",
       "      <td>P161182081</td>\n",
       "      <td>1400 BRADDISH AV</td>\n",
       "      <td>1400 BRADDISH AV\\nBALTIMORE, MD\\n(39.303941, -...</td>\n",
       "    </tr>\n",
       "    <tr>\n",
       "      <th>2</th>\n",
       "      <td>1420176</td>\n",
       "      <td>05/03/2016 06:40:00 PM</td>\n",
       "      <td>Medium</td>\n",
       "      <td>ED</td>\n",
       "      <td>DISORDERLY</td>\n",
       "      <td>P161242705</td>\n",
       "      <td>200 E NORTH AV</td>\n",
       "      <td>200 E NORTH AV\\nBALTIMORE, MD\\n(39.311294, -76...</td>\n",
       "    </tr>\n",
       "    <tr>\n",
       "      <th>3</th>\n",
       "      <td>1423653</td>\n",
       "      <td>05/04/2016 10:10:00 PM</td>\n",
       "      <td>Medium</td>\n",
       "      <td>NE</td>\n",
       "      <td>911/NO  VOICE</td>\n",
       "      <td>P161253068</td>\n",
       "      <td>2500-1 HARFORD RD</td>\n",
       "      <td>2500 1 HARFORD RD\\nBALTIMORE, MD\\n(39.316763, ...</td>\n",
       "    </tr>\n",
       "    <tr>\n",
       "      <th>4</th>\n",
       "      <td>1417949</td>\n",
       "      <td>05/03/2016 12:29:00 AM</td>\n",
       "      <td>Non-Emergency</td>\n",
       "      <td>SD</td>\n",
       "      <td>Private Tow</td>\n",
       "      <td>P161240063</td>\n",
       "      <td>100 W PATAPSCO AV</td>\n",
       "      <td>100 W PATAPSCO AV\\nBALTIMORE, MD\\n(39.239215, ...</td>\n",
       "    </tr>\n",
       "  </tbody>\n",
       "</table>\n",
       "</div>"
      ],
      "text/plain": [
       "   recordId            callDateTime       priority district    description  \\\n",
       "0   1423624  05/04/2016 09:58:00 PM           High       ND   SILENT ALARM   \n",
       "1   1402097  04/27/2016 03:57:00 PM         Medium       SW     911/HANGUP   \n",
       "2   1420176  05/03/2016 06:40:00 PM         Medium       ED     DISORDERLY   \n",
       "3   1423653  05/04/2016 10:10:00 PM         Medium       NE  911/NO  VOICE   \n",
       "4   1417949  05/03/2016 12:29:00 AM  Non-Emergency       SD    Private Tow   \n",
       "\n",
       "   callNumber   incidentLocation  \\\n",
       "0  P161253035     400 WINSTON AV   \n",
       "1  P161182081   1400 BRADDISH AV   \n",
       "2  P161242705     200 E NORTH AV   \n",
       "3  P161253068  2500-1 HARFORD RD   \n",
       "4  P161240063  100 W PATAPSCO AV   \n",
       "\n",
       "                                            location  \n",
       "0  400 WINSTON AV\\nBALTIMORE, MD\\n(39.349792, -76...  \n",
       "1  1400 BRADDISH AV\\nBALTIMORE, MD\\n(39.303941, -...  \n",
       "2  200 E NORTH AV\\nBALTIMORE, MD\\n(39.311294, -76...  \n",
       "3  2500 1 HARFORD RD\\nBALTIMORE, MD\\n(39.316763, ...  \n",
       "4  100 W PATAPSCO AV\\nBALTIMORE, MD\\n(39.239215, ...  "
      ]
     },
     "execution_count": 6,
     "metadata": {},
     "output_type": "execute_result"
    }
   ],
   "source": [
    "df.head()"
   ]
  },
  {
   "cell_type": "code",
   "execution_count": 11,
   "metadata": {},
   "outputs": [],
   "source": [
    "df.priority.fillna('NaN', inplace=True)\n",
    "df.description.fillna('NaN', inplace=True)"
   ]
  },
  {
   "cell_type": "code",
   "execution_count": 13,
   "metadata": {},
   "outputs": [
    {
     "data": {
      "text/plain": [
       "(3242420, 8)"
      ]
     },
     "execution_count": 13,
     "metadata": {},
     "output_type": "execute_result"
    }
   ],
   "source": [
    "df.shape"
   ]
  },
  {
   "cell_type": "code",
   "execution_count": 14,
   "metadata": {},
   "outputs": [
    {
     "data": {
      "text/plain": [
       "3242420"
      ]
     },
     "execution_count": 14,
     "metadata": {},
     "output_type": "execute_result"
    }
   ],
   "source": [
    "priority = df.priority.value_counts().to_frame()\n",
    "priority.priority.sum()"
   ]
  },
  {
   "cell_type": "code",
   "execution_count": 16,
   "metadata": {},
   "outputs": [],
   "source": [
    "description = df.description.value_counts().to_frame()"
   ]
  },
  {
   "cell_type": "code",
   "execution_count": 18,
   "metadata": {},
   "outputs": [],
   "source": [
    "description['percentage'] = description.description/description.description.sum()"
   ]
  },
  {
   "cell_type": "code",
   "execution_count": 21,
   "metadata": {},
   "outputs": [
    {
     "data": {
      "text/plain": [
       "(8810, 2)"
      ]
     },
     "execution_count": 21,
     "metadata": {},
     "output_type": "execute_result"
    }
   ],
   "source": [
    "# description.to_csv('tmp-911-description.csv')\n",
    "description.shape"
   ]
  }
 ],
 "metadata": {
  "kernelspec": {
   "display_name": "Python 3",
   "language": "python",
   "name": "python3"
  },
  "language_info": {
   "codemirror_mode": {
    "name": "ipython",
    "version": 3
   },
   "file_extension": ".py",
   "mimetype": "text/x-python",
   "name": "python",
   "nbconvert_exporter": "python",
   "pygments_lexer": "ipython3",
   "version": "3.6.1"
  }
 },
 "nbformat": 4,
 "nbformat_minor": 2
}
