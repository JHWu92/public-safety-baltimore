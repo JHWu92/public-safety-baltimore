{
 "cells": [
  {
   "cell_type": "code",
   "execution_count": 1,
   "metadata": {
    "collapsed": true
   },
   "outputs": [],
   "source": [
    "import geopandas as gp"
   ]
  },
  {
   "cell_type": "code",
   "execution_count": 4,
   "metadata": {
    "collapsed": true
   },
   "outputs": [],
   "source": [
    "%matplotlib inline"
   ]
  },
  {
   "cell_type": "code",
   "execution_count": 61,
   "metadata": {
    "collapsed": true
   },
   "outputs": [],
   "source": [
    "generic_nb = gp.read_file('raw/Neighborhoods.geojson')\n",
    "# vital signs\n",
    "census_nb = gp.read_file('raw/Census Demographics 2010 - Shape.geojson')\n",
    "educa3_nb = gp.read_file('raw/Education and Youth (2010-2013)  - Shape.geojson')\n",
    "educa5_nb = gp.read_file('raw/Education and Youth (2015).geojson')\n",
    "sanit_nb = gp.read_file('raw/Sanitation 2010 - Shape.geojson')\n",
    "crime_nb = gp.read_file('raw/Crime & Safety (2010-2014) - Shape.geojson')"
   ]
  },
  {
   "cell_type": "code",
   "execution_count": 81,
   "metadata": {},
   "outputs": [
    {
     "data": {
      "text/plain": [
       "(True, True, True, False)"
      ]
     },
     "execution_count": 81,
     "metadata": {},
     "output_type": "execute_result"
    }
   ],
   "source": [
    "# all vital signs indicators share the same definition of neighborhoods, 55 in total\n",
    "set(educa3_nb.csa2010)==set(educa5_nb.csa2010),\\\n",
    "set(educa3_nb.csa2010)==set(census_nb.csa2010),\\\n",
    "set(educa3_nb.csa2010)==set(crime_nb.csa2010),\\\n",
    "set(educa3_nb.csa2010)==set(sanit_nb.csa)  # sanit seems to be vital signs, but not listed in their webpage"
   ]
  },
  {
   "cell_type": "code",
   "execution_count": 89,
   "metadata": {},
   "outputs": [
    {
     "name": "stdout",
     "output_type": "stream",
     "text": [
      "Glen-Falstaff \\ Glen-Fallstaff\n",
      "Medfield/Hampden/Woodberry \\ Medfield/Hampden/Woodberry/Remington\n",
      "Mt. Washington/Coldspring \\ Mount Washington/Coldspring\n",
      "Unassigned -- Jail \\ Upton/Druid Heights\n",
      "Upton/Druid Heights \\ Washington Village/Pigtown\n",
      "Washington Village/Pigtown \\ Westport/Mount Winans/Lakeland\n"
     ]
    }
   ],
   "source": [
    "for x,y in zip(sanit_nb.csa.sort_values(), educa3_nb.csa2010.sort_values()):\n",
    "    if x!=y:\n",
    "        print(x,'\\\\',y)"
   ]
  },
  {
   "cell_type": "markdown",
   "metadata": {},
   "source": [
    "# folium plot"
   ]
  },
  {
   "cell_type": "code",
   "execution_count": 48,
   "metadata": {
    "collapsed": true
   },
   "outputs": [],
   "source": [
    "def gpdf_bounds(gpdf):\n",
    "    w = gpdf.bounds.minx.min()\n",
    "    e = gpdf.bounds.maxx.max()\n",
    "    s = gpdf.bounds.miny.min()\n",
    "    n = gpdf.bounds.maxy.max()\n",
    "    bound = [(s,w),(n,e)]\n",
    "    return bound"
   ]
  },
  {
   "cell_type": "code",
   "execution_count": 35,
   "metadata": {
    "collapsed": true
   },
   "outputs": [],
   "source": [
    "import folium"
   ]
  },
  {
   "cell_type": "code",
   "execution_count": null,
   "metadata": {
    "collapsed": true
   },
   "outputs": [],
   "source": [
    "m = folium.Map()\n",
    "m.fit_bounds([(s,w),(n,e)])\n",
    "gj = folium.features.GeoJson(gpdf)\n",
    "gj.add_to(m)\n",
    "m.save('neighborhood.html')"
   ]
  },
  {
   "cell_type": "code",
   "execution_count": null,
   "metadata": {
    "collapsed": true
   },
   "outputs": [],
   "source": []
  }
 ],
 "metadata": {
  "kernelspec": {
   "display_name": "Python 3",
   "language": "python",
   "name": "python3"
  },
  "language_info": {
   "codemirror_mode": {
    "name": "ipython",
    "version": 3
   },
   "file_extension": ".py",
   "mimetype": "text/x-python",
   "name": "python",
   "nbconvert_exporter": "python",
   "pygments_lexer": "ipython3",
   "version": "3.6.1"
  }
 },
 "nbformat": 4,
 "nbformat_minor": 2
}
