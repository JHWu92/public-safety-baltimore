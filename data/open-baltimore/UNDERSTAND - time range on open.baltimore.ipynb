{
 "cells": [
  {
   "cell_type": "code",
   "execution_count": 1,
   "metadata": {
    "collapsed": true
   },
   "outputs": [],
   "source": [
    "import pandas as pd"
   ]
  },
  {
   "cell_type": "code",
   "execution_count": 2,
   "metadata": {
    "collapsed": true
   },
   "outputs": [],
   "source": [
    "%matplotlib inline"
   ]
  },
  {
   "cell_type": "code",
   "execution_count": 3,
   "metadata": {
    "collapsed": true
   },
   "outputs": [],
   "source": [
    "from dateutil.parser import parse as parse_date"
   ]
  },
  {
   "cell_type": "code",
   "execution_count": 4,
   "metadata": {
    "collapsed": true
   },
   "outputs": [],
   "source": [
    "from IPython.display import display"
   ]
  },
  {
   "cell_type": "code",
   "execution_count": 5,
   "metadata": {
    "collapsed": true
   },
   "outputs": [],
   "source": [
    "def str2date_hist(df, col, form='%m/%d/%Y', to_str=False):\n",
    "    time = pd.to_datetime(df[col], format=form)\n",
    "    return time.hist()"
   ]
  },
  {
   "cell_type": "code",
   "execution_count": 6,
   "metadata": {
    "collapsed": true
   },
   "outputs": [],
   "source": [
    "def str2date_range(df, col, to_str=False):\n",
    "    try:\n",
    "        time = pd.to_datetime(df[col], format='%m/%d/%Y')\n",
    "    except ValueError:\n",
    "        time = pd.to_datetime(df[col])\n",
    "    if to_str:\n",
    "        return '%s - %s' % (time.min().strftime('%m/%d/%Y'), time.max().strftime('%m/%d/%Y'))\n",
    "    return time.min(), time.max()"
   ]
  },
  {
   "cell_type": "code",
   "execution_count": 14,
   "metadata": {},
   "outputs": [
    {
     "name": "stdout",
     "output_type": "stream",
     "text": [
      "BPD_Officer_Involved_Use_Of_Force.csv DATE\n",
      "- time range:  01/02/2013 - 11/20/2015\n",
      "\n",
      "One_Day_Liquor_Licenses.csv StartDate\n",
      "- time range:  01/26/2013 - 03/24/2018\n",
      "\n",
      "Charm_City_Circulator_Ridership.csv date\n",
      "- time range:  01/11/2010 - 03/01/2013\n",
      "\n",
      "Charm_City_Circulator_Headways.csv date\n",
      "- time range:  01/11/2010 - 03/01/2013\n",
      "\n"
     ]
    }
   ],
   "source": [
    "meta = [\n",
    "#     {'fname': 'BPD_Arrests.csv', 'date_col': 'ArrestDate'},\n",
    "#     {'fname': 'BPD_Arrests_2012.csv', 'date_col': 'arrestDate'},\n",
    "#     {'fname': 'BPD_Part_1_Victim_Based_Crime_Data.csv', 'date_col': 'CrimeDate'},\n",
    "#     {'fname': 'Gun_Offenders.csv', 'date_col': 'created_date'},\n",
    "#     {'fname': '311_Customer_Service_Requests.csv', 'date_col': 'CreatedDate'},\n",
    "#     {'fname': '911_Police_Calls_for_Service.csv', 'date_col': 'callDateTime', 'sep': ';'},\n",
    "#     {'fname': 'DOT_Towing.csv', 'date_col': 'towedDateTime'},\n",
    "#     {'fname': 'ECB_Citations.csv', 'date_col': 'ViolationDate'},\n",
    "#     {'fname': 'Housing_Permits.csv', 'date_col': 'DateIssue'},\n",
    "#     {'fname': 'Liquor_Licenses.csv', 'date_col': 'LicenseDate'},\n",
    "#     {'fname': 'Real_Property_Taxes.csv', 'date_col': 'AsOfDate'},\n",
    "#     {'fname': 'Vacant_Buildings.csv', 'date_col': 'NoticeDate'},\n",
    "#     {'fname': 'Vacants_to_Value_-__Distressed_Market.csv', 'date_col': 'dateStart'},\n",
    "#     {'fname': 'Vacants_to_Value_-_Middle_Market.csv', 'date_col': 'dateStart'},\n",
    "    {'fname': 'BPD_Officer_Involved_Use_Of_Force.csv', 'date_col': 'DATE'},\n",
    "    {'fname': 'One_Day_Liquor_Licenses.csv', 'date_col': 'StartDate'},\n",
    "    {'fname': 'Charm_City_Circulator_Ridership.csv', 'date_col': 'date'},\n",
    "    {'fname': 'Charm_City_Circulator_Headways.csv', 'date_col': 'date'},\n",
    "#     {'fname': '', 'date_col': ''},\n",
    "#     {'fname': '', 'date_col': ''},\n",
    "#     {'fname': '', 'date_col': ''},\n",
    "#     {'fname': '', 'date_col': ''},\n",
    "#     {'fname': '', 'date_col': ''},\n",
    "#     {'fname': '', 'date_col': ''},\n",
    "#     {'fname': '', 'date_col': ''},\n",
    "#     {'fname': '', 'date_col': ''},\n",
    "#     {'fname': '', 'date_col': ''},\n",
    "]\n",
    "\n",
    "for m in meta:\n",
    "    sep = ',' if 'sep' not in m else m['sep']\n",
    "    df = pd.read_csv(m['fname'], sep=sep)\n",
    "    print(m['fname'], m['date_col'])\n",
    "    print('- time range: ', str2date_range(df, m['date_col'],to_str=True))\n",
    "#     display(df.head())\n",
    "    print()"
   ]
  }
 ],
 "metadata": {
  "kernelspec": {
   "display_name": "Python 3",
   "language": "python",
   "name": "python3"
  },
  "language_info": {
   "codemirror_mode": {
    "name": "ipython",
    "version": 3
   },
   "file_extension": ".py",
   "mimetype": "text/x-python",
   "name": "python",
   "nbconvert_exporter": "python",
   "pygments_lexer": "ipython3",
   "version": "3.6.1"
  }
 },
 "nbformat": 4,
 "nbformat_minor": 2
}
