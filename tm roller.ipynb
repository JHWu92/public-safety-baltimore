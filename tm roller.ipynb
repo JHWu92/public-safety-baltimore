{
 "cells": [
  {
   "cell_type": "code",
   "execution_count": 1,
   "metadata": {},
   "outputs": [],
   "source": [
    "from src.tm_roller import TM_ROLLER\n",
    "from src.bsln_kde import KDE, prep_data\n",
    "from src.spatial_unit import baltimore_grids\n",
    "from src.eval_metric import hit_rate"
   ]
  },
  {
   "cell_type": "code",
   "execution_count": 2,
   "metadata": {},
   "outputs": [],
   "source": [
    "data = prep_data('data/open-baltimore/raw/BPD_Part_1_Victim_Based_Crime_Data.csv', \n",
    "                 col_lon='Longitude', col_lat='Latitude', col_date='CrimeDate')"
   ]
  },
  {
   "cell_type": "code",
   "execution_count": 3,
   "metadata": {
    "collapsed": true
   },
   "outputs": [],
   "source": [
    "tune_sd = '2013-01-01'\n",
    "tune_ed = '2013-12-31'\n",
    "train_tw = 60\n",
    "vstep = 1\n",
    "vtw = 1\n",
    "vsd = '2014-03-02'\n",
    "ved = '2014-03-10'\n",
    "grid_size=200"
   ]
  },
  {
   "cell_type": "code",
   "execution_count": 4,
   "metadata": {
    "collapsed": true
   },
   "outputs": [],
   "source": [
    "grids = baltimore_grids(grid_size=grid_size)"
   ]
  },
  {
   "cell_type": "markdown",
   "metadata": {},
   "source": [
    "# for each tune period"
   ]
  },
  {
   "cell_type": "code",
   "execution_count": 5,
   "metadata": {
    "collapsed": true
   },
   "outputs": [],
   "source": [
    "method = KDE()"
   ]
  },
  {
   "cell_type": "code",
   "execution_count": null,
   "metadata": {},
   "outputs": [],
   "source": [
    "method.tune(data.loc[tune_sd:tune_ed].coords)"
   ]
  },
  {
   "cell_type": "code",
   "execution_count": null,
   "metadata": {},
   "outputs": [],
   "source": [
    "tmroller = TM_ROLLER(method, data, vsd, ved, step=vstep, tw=vtw)"
   ]
  },
  {
   "cell_type": "code",
   "execution_count": null,
   "metadata": {
    "collapsed": true
   },
   "outputs": [],
   "source": [
    "res = tmroller.eval(hit_rate, grids)"
   ]
  },
  {
   "cell_type": "code",
   "execution_count": null,
   "metadata": {
    "collapsed": true
   },
   "outputs": [],
   "source": []
  }
 ],
 "metadata": {
  "kernelspec": {
   "display_name": "Python [default]",
   "language": "python",
   "name": "python3"
  }
 },
 "nbformat": 4,
 "nbformat_minor": 2
}
