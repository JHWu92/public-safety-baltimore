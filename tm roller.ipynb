{
 "cells": [
  {
   "cell_type": "code",
   "execution_count": 1,
   "metadata": {
    "collapsed": true
   },
   "outputs": [],
   "source": [
    "from importlib import reload"
   ]
  },
  {
   "cell_type": "code",
   "execution_count": 12,
   "metadata": {
    "collapsed": true
   },
   "outputs": [],
   "source": [
    "import pandas as pd"
   ]
  },
  {
   "cell_type": "code",
   "execution_count": 15,
   "metadata": {
    "collapsed": true
   },
   "outputs": [],
   "source": [
    "%matplotlib inline"
   ]
  },
  {
   "cell_type": "code",
   "execution_count": 2,
   "metadata": {
    "collapsed": true
   },
   "outputs": [],
   "source": [
    "import src.tm_roller; reload(src.tm_roller)\n",
    "import src.bsln_kde;reload(src.bsln_kde)\n",
    "import src.bsln_bower;reload(src.bsln_bower)\n",
    "\n",
    "from src.data_prep import prep_911_by_category\n",
    "from src.spatial_unit import baltimore_grids\n",
    "from src.eval_metric import hit_rate\n",
    "from src.tm_roller import TM_ROLLER\n",
    "from src.bsln_kde import KDE, prep_data\n",
    "from src.bsln_bower import Bower\n",
    "from src.bsln_rtm import RTM"
   ]
  },
  {
   "cell_type": "code",
   "execution_count": 3,
   "metadata": {
    "collapsed": true
   },
   "outputs": [],
   "source": [
    "crimes = prep_data('data/open-baltimore/raw/BPD_Part_1_Victim_Based_Crime_Data.csv', \n",
    "                 col_lon='Longitude', col_lat='Latitude', col_date='CrimeDate', to_epsg=3559)"
   ]
  },
  {
   "cell_type": "code",
   "execution_count": 5,
   "metadata": {},
   "outputs": [],
   "source": [
    "d911 = prep_911_by_category()\n"
   ]
  },
  {
   "cell_type": "code",
   "execution_count": 6,
   "metadata": {
    "collapsed": true
   },
   "outputs": [],
   "source": [
    "tune_sd = '2013-01-01'\n",
    "tune_ed = '2013-12-31'\n",
    "train_tw = 60\n",
    "vstep = 1\n",
    "vtw = 1\n",
    "vsd = '2015-03-02'\n",
    "ved = '2015-03-10'\n",
    "grid_size=200"
   ]
  },
  {
   "cell_type": "code",
   "execution_count": 7,
   "metadata": {},
   "outputs": [
    {
     "data": {
      "text/plain": [
       "'2013-01-01'"
      ]
     },
     "execution_count": 7,
     "metadata": {},
     "output_type": "execute_result"
    }
   ],
   "source": [
    "crimes.index[0].strftime('%Y-%m-%d')"
   ]
  },
  {
   "cell_type": "code",
   "execution_count": 8,
   "metadata": {
    "collapsed": true
   },
   "outputs": [],
   "source": [
    "grids = baltimore_grids(grid_size=grid_size)"
   ]
  },
  {
   "cell_type": "markdown",
   "metadata": {},
   "source": [
    "# for each tune period"
   ]
  },
  {
   "cell_type": "code",
   "execution_count": 9,
   "metadata": {
    "collapsed": true
   },
   "outputs": [],
   "source": [
    "# method.tune(data.loc[tune_sd:tune_ed].coords, cv=10, bw_choice=[10, 100, 200, 300, 400, 500], n_jobs=4)"
   ]
  },
  {
   "cell_type": "code",
   "execution_count": 10,
   "metadata": {
    "collapsed": true
   },
   "outputs": [
    {
     "name": "stdout",
     "output_type": "stream",
     "text": [
      "Bower method: weighted by distance and time, bandwidth=400, time window=60, verbose=1\n",
      "wrap pd.Series with dict key\n",
      "Date: [2013-01-01, 2018-02-17]\n",
      "total number of experiment: 8\n",
      "No.1 exp, testing period: 2015-03-02 ~ 2015-03-02\n",
      "coords is a dictionary, extracting the only one value\n",
      "No.2 exp, testing period: 2015-03-03 ~ 2015-03-03\n",
      "coords is a dictionary, extracting the only one value\n",
      "No.3 exp, testing period: 2015-03-04 ~ 2015-03-04\n",
      "coords is a dictionary, extracting the only one value\n",
      "No.4 exp, testing period: 2015-03-05 ~ 2015-03-05\n",
      "coords is a dictionary, extracting the only one value\n",
      "No.5 exp, testing period: 2015-03-06 ~ 2015-03-06\n",
      "coords is a dictionary, extracting the only one value\n",
      "No.6 exp, testing period: 2015-03-07 ~ 2015-03-07\n",
      "coords is a dictionary, extracting the only one value\n",
      "No.7 exp, testing period: 2015-03-08 ~ 2015-03-08\n",
      "coords is a dictionary, extracting the only one value\n",
      "No.8 exp, testing period: 2015-03-09 ~ 2015-03-09\n",
      "coords is a dictionary, extracting the only one value\n",
      "No.9 exp, testing period: 2015-03-10 ~ 2015-03-10\n",
      "coords is a dictionary, extracting the only one value\n"
     ]
    }
   ],
   "source": [
    "# method = KDE(verbose=1, bw=400)\n",
    "bower = Bower(grid_size, bw=400, tw=train_tw, verbose=1)\n",
    "print(bower)\n",
    "tmroller_bower = TM_ROLLER(bower, crimes.Coords, crimes.Coords, vsd, ved, roll_step=vstep, eval_tw=vtw, verbose=2)\n",
    "res_bower = tmroller_bower.eval(hit_rate, grids)"
   ]
  },
  {
   "cell_type": "code",
   "execution_count": 13,
   "metadata": {},
   "outputs": [
    {
     "name": "stdout",
     "output_type": "stream",
     "text": [
      "Bower method: weighted by distance and time, bandwidth=400, time window=60, verbose=1\n"
     ]
    },
    {
     "data": {
      "text/html": [
       "<div>\n",
       "<style>\n",
       "    .dataframe thead tr:only-child th {\n",
       "        text-align: right;\n",
       "    }\n",
       "\n",
       "    .dataframe thead th {\n",
       "        text-align: left;\n",
       "    }\n",
       "\n",
       "    .dataframe tbody tr th {\n",
       "        vertical-align: top;\n",
       "    }\n",
       "</style>\n",
       "<table border=\"1\" class=\"dataframe\">\n",
       "  <thead>\n",
       "    <tr style=\"text-align: right;\">\n",
       "      <th></th>\n",
       "      <th>2015-03-02~2015-03-02</th>\n",
       "      <th>2015-03-03~2015-03-03</th>\n",
       "      <th>2015-03-04~2015-03-04</th>\n",
       "      <th>2015-03-05~2015-03-05</th>\n",
       "      <th>2015-03-06~2015-03-06</th>\n",
       "      <th>2015-03-07~2015-03-07</th>\n",
       "      <th>2015-03-08~2015-03-08</th>\n",
       "      <th>2015-03-09~2015-03-09</th>\n",
       "      <th>2015-03-10~2015-03-10</th>\n",
       "    </tr>\n",
       "  </thead>\n",
       "  <tbody>\n",
       "    <tr>\n",
       "      <th>10%</th>\n",
       "      <td>0.320000</td>\n",
       "      <td>0.392157</td>\n",
       "      <td>0.378947</td>\n",
       "      <td>0.407407</td>\n",
       "      <td>0.426966</td>\n",
       "      <td>0.407407</td>\n",
       "      <td>0.454545</td>\n",
       "      <td>0.443182</td>\n",
       "      <td>0.447368</td>\n",
       "    </tr>\n",
       "    <tr>\n",
       "      <th>20%</th>\n",
       "      <td>0.640000</td>\n",
       "      <td>0.617647</td>\n",
       "      <td>0.578947</td>\n",
       "      <td>0.666667</td>\n",
       "      <td>0.640449</td>\n",
       "      <td>0.555556</td>\n",
       "      <td>0.666667</td>\n",
       "      <td>0.670455</td>\n",
       "      <td>0.614035</td>\n",
       "    </tr>\n",
       "    <tr>\n",
       "      <th>30%</th>\n",
       "      <td>0.813333</td>\n",
       "      <td>0.735294</td>\n",
       "      <td>0.715789</td>\n",
       "      <td>0.851852</td>\n",
       "      <td>0.752809</td>\n",
       "      <td>0.691358</td>\n",
       "      <td>0.767677</td>\n",
       "      <td>0.772727</td>\n",
       "      <td>0.710526</td>\n",
       "    </tr>\n",
       "    <tr>\n",
       "      <th>40%</th>\n",
       "      <td>0.840000</td>\n",
       "      <td>0.833333</td>\n",
       "      <td>0.800000</td>\n",
       "      <td>0.925926</td>\n",
       "      <td>0.820225</td>\n",
       "      <td>0.901235</td>\n",
       "      <td>0.838384</td>\n",
       "      <td>0.875000</td>\n",
       "      <td>0.850877</td>\n",
       "    </tr>\n",
       "    <tr>\n",
       "      <th>50%</th>\n",
       "      <td>0.933333</td>\n",
       "      <td>0.931373</td>\n",
       "      <td>0.863158</td>\n",
       "      <td>0.962963</td>\n",
       "      <td>0.932584</td>\n",
       "      <td>0.938272</td>\n",
       "      <td>0.909091</td>\n",
       "      <td>0.954545</td>\n",
       "      <td>0.894737</td>\n",
       "    </tr>\n",
       "    <tr>\n",
       "      <th>60%</th>\n",
       "      <td>0.973333</td>\n",
       "      <td>0.980392</td>\n",
       "      <td>0.894737</td>\n",
       "      <td>1.000000</td>\n",
       "      <td>0.955056</td>\n",
       "      <td>0.987654</td>\n",
       "      <td>0.979798</td>\n",
       "      <td>0.977273</td>\n",
       "      <td>0.929825</td>\n",
       "    </tr>\n",
       "    <tr>\n",
       "      <th>70%</th>\n",
       "      <td>1.000000</td>\n",
       "      <td>0.990196</td>\n",
       "      <td>0.978947</td>\n",
       "      <td>1.000000</td>\n",
       "      <td>0.977528</td>\n",
       "      <td>1.000000</td>\n",
       "      <td>0.989899</td>\n",
       "      <td>1.000000</td>\n",
       "      <td>1.000000</td>\n",
       "    </tr>\n",
       "    <tr>\n",
       "      <th>80%</th>\n",
       "      <td>1.000000</td>\n",
       "      <td>1.000000</td>\n",
       "      <td>0.989474</td>\n",
       "      <td>1.000000</td>\n",
       "      <td>1.000000</td>\n",
       "      <td>1.000000</td>\n",
       "      <td>0.989899</td>\n",
       "      <td>1.000000</td>\n",
       "      <td>1.000000</td>\n",
       "    </tr>\n",
       "    <tr>\n",
       "      <th>90%</th>\n",
       "      <td>1.000000</td>\n",
       "      <td>1.000000</td>\n",
       "      <td>0.989474</td>\n",
       "      <td>1.000000</td>\n",
       "      <td>1.000000</td>\n",
       "      <td>1.000000</td>\n",
       "      <td>0.989899</td>\n",
       "      <td>1.000000</td>\n",
       "      <td>1.000000</td>\n",
       "    </tr>\n",
       "    <tr>\n",
       "      <th>100%</th>\n",
       "      <td>1.000000</td>\n",
       "      <td>1.000000</td>\n",
       "      <td>1.000000</td>\n",
       "      <td>1.000000</td>\n",
       "      <td>1.000000</td>\n",
       "      <td>1.000000</td>\n",
       "      <td>1.000000</td>\n",
       "      <td>1.000000</td>\n",
       "      <td>1.000000</td>\n",
       "    </tr>\n",
       "  </tbody>\n",
       "</table>\n",
       "</div>"
      ],
      "text/plain": [
       "      2015-03-02~2015-03-02  2015-03-03~2015-03-03  2015-03-04~2015-03-04  \\\n",
       "10%                0.320000               0.392157               0.378947   \n",
       "20%                0.640000               0.617647               0.578947   \n",
       "30%                0.813333               0.735294               0.715789   \n",
       "40%                0.840000               0.833333               0.800000   \n",
       "50%                0.933333               0.931373               0.863158   \n",
       "60%                0.973333               0.980392               0.894737   \n",
       "70%                1.000000               0.990196               0.978947   \n",
       "80%                1.000000               1.000000               0.989474   \n",
       "90%                1.000000               1.000000               0.989474   \n",
       "100%               1.000000               1.000000               1.000000   \n",
       "\n",
       "      2015-03-05~2015-03-05  2015-03-06~2015-03-06  2015-03-07~2015-03-07  \\\n",
       "10%                0.407407               0.426966               0.407407   \n",
       "20%                0.666667               0.640449               0.555556   \n",
       "30%                0.851852               0.752809               0.691358   \n",
       "40%                0.925926               0.820225               0.901235   \n",
       "50%                0.962963               0.932584               0.938272   \n",
       "60%                1.000000               0.955056               0.987654   \n",
       "70%                1.000000               0.977528               1.000000   \n",
       "80%                1.000000               1.000000               1.000000   \n",
       "90%                1.000000               1.000000               1.000000   \n",
       "100%               1.000000               1.000000               1.000000   \n",
       "\n",
       "      2015-03-08~2015-03-08  2015-03-09~2015-03-09  2015-03-10~2015-03-10  \n",
       "10%                0.454545               0.443182               0.447368  \n",
       "20%                0.666667               0.670455               0.614035  \n",
       "30%                0.767677               0.772727               0.710526  \n",
       "40%                0.838384               0.875000               0.850877  \n",
       "50%                0.909091               0.954545               0.894737  \n",
       "60%                0.979798               0.977273               0.929825  \n",
       "70%                0.989899               1.000000               1.000000  \n",
       "80%                0.989899               1.000000               1.000000  \n",
       "90%                0.989899               1.000000               1.000000  \n",
       "100%               1.000000               1.000000               1.000000  "
      ]
     },
     "execution_count": 13,
     "metadata": {},
     "output_type": "execute_result"
    }
   ],
   "source": [
    "df_bower = pd.DataFrame.from_dict(res_bower)\n",
    "print(bower)\n",
    "df_bower"
   ]
  },
  {
   "cell_type": "code",
   "execution_count": 11,
   "metadata": {
    "collapsed": true
   },
   "outputs": [
    {
     "name": "stdout",
     "output_type": "stream",
     "text": [
      "RTM with bandwidth=400 meters, grid size=200 meters, time window=60 days\n",
      "Date: [2013-01-01, 2018-02-17]\n",
      "total number of experiment: 8\n",
      "No.1 exp, testing period: 2015-03-02 ~ 2015-03-02\n",
      "using KDE of [abuse,arson,assault,burglary,disorderly conduct,insecurity,mental case,missing person,other offense,robbery,shooting,theft_larceny] to compute risk scores\n",
      "No.2 exp, testing period: 2015-03-03 ~ 2015-03-03\n",
      "using KDE of [abuse,arson,assault,burglary,disorderly conduct,insecurity,mental case,missing person,other offense,robbery,shooting,theft_larceny] to compute risk scores\n",
      "No.3 exp, testing period: 2015-03-04 ~ 2015-03-04\n",
      "using KDE of [abuse,arson,assault,burglary,disorderly conduct,insecurity,mental case,missing person,other offense,robbery,shooting,theft_larceny] to compute risk scores\n",
      "No.4 exp, testing period: 2015-03-05 ~ 2015-03-05\n",
      "using KDE of [abuse,arson,assault,burglary,disorderly conduct,insecurity,mental case,missing person,other offense,robbery,shooting,theft_larceny] to compute risk scores\n",
      "No.5 exp, testing period: 2015-03-06 ~ 2015-03-06\n",
      "using KDE of [abuse,arson,assault,burglary,disorderly conduct,insecurity,mental case,missing person,other offense,robbery,shooting,theft_larceny] to compute risk scores\n",
      "No.6 exp, testing period: 2015-03-07 ~ 2015-03-07\n",
      "using KDE of [abuse,arson,assault,burglary,disorderly conduct,insecurity,mental case,missing person,other offense,robbery,shooting,theft_larceny] to compute risk scores\n",
      "No.7 exp, testing period: 2015-03-08 ~ 2015-03-08\n",
      "using KDE of [abuse,arson,assault,burglary,disorderly conduct,insecurity,mental case,missing person,other offense,robbery,shooting,theft_larceny] to compute risk scores\n",
      "No.8 exp, testing period: 2015-03-09 ~ 2015-03-09\n",
      "using KDE of [abuse,arson,assault,burglary,disorderly conduct,insecurity,mental case,missing person,other offense,robbery,shooting,theft_larceny] to compute risk scores\n",
      "No.9 exp, testing period: 2015-03-10 ~ 2015-03-10\n",
      "using KDE of [abuse,arson,assault,burglary,disorderly conduct,insecurity,mental case,missing person,other offense,robbery,shooting,theft_larceny] to compute risk scores\n"
     ]
    }
   ],
   "source": [
    "rtm = RTM(grid_size=grid_size, bw=400, tw=train_tw, verbose=1)\n",
    "print(rtm)\n",
    "tmroller_rtm = TM_ROLLER(rtm, d911, crimes.Coords, vsd, ved, roll_step=vstep, eval_tw=vtw, verbose=2)\n",
    "res_rtm = tmroller_rtm.eval(hit_rate, grids)"
   ]
  },
  {
   "cell_type": "code",
   "execution_count": 14,
   "metadata": {},
   "outputs": [
    {
     "name": "stdout",
     "output_type": "stream",
     "text": [
      "RTM with bandwidth=400 meters, grid size=200 meters, time window=60 days\n"
     ]
    },
    {
     "data": {
      "text/html": [
       "<div>\n",
       "<style>\n",
       "    .dataframe thead tr:only-child th {\n",
       "        text-align: right;\n",
       "    }\n",
       "\n",
       "    .dataframe thead th {\n",
       "        text-align: left;\n",
       "    }\n",
       "\n",
       "    .dataframe tbody tr th {\n",
       "        vertical-align: top;\n",
       "    }\n",
       "</style>\n",
       "<table border=\"1\" class=\"dataframe\">\n",
       "  <thead>\n",
       "    <tr style=\"text-align: right;\">\n",
       "      <th></th>\n",
       "      <th>2015-03-02~2015-03-02</th>\n",
       "      <th>2015-03-03~2015-03-03</th>\n",
       "      <th>2015-03-04~2015-03-04</th>\n",
       "      <th>2015-03-05~2015-03-05</th>\n",
       "      <th>2015-03-06~2015-03-06</th>\n",
       "      <th>2015-03-07~2015-03-07</th>\n",
       "      <th>2015-03-08~2015-03-08</th>\n",
       "      <th>2015-03-09~2015-03-09</th>\n",
       "      <th>2015-03-10~2015-03-10</th>\n",
       "    </tr>\n",
       "  </thead>\n",
       "  <tbody>\n",
       "    <tr>\n",
       "      <th>10%</th>\n",
       "      <td>0.360000</td>\n",
       "      <td>0.343137</td>\n",
       "      <td>0.400000</td>\n",
       "      <td>0.370370</td>\n",
       "      <td>0.438202</td>\n",
       "      <td>0.345679</td>\n",
       "      <td>0.373737</td>\n",
       "      <td>0.352273</td>\n",
       "      <td>0.359649</td>\n",
       "    </tr>\n",
       "    <tr>\n",
       "      <th>20%</th>\n",
       "      <td>0.560000</td>\n",
       "      <td>0.509804</td>\n",
       "      <td>0.578947</td>\n",
       "      <td>0.611111</td>\n",
       "      <td>0.617978</td>\n",
       "      <td>0.530864</td>\n",
       "      <td>0.626263</td>\n",
       "      <td>0.545455</td>\n",
       "      <td>0.587719</td>\n",
       "    </tr>\n",
       "    <tr>\n",
       "      <th>30%</th>\n",
       "      <td>0.706667</td>\n",
       "      <td>0.676471</td>\n",
       "      <td>0.684211</td>\n",
       "      <td>0.777778</td>\n",
       "      <td>0.752809</td>\n",
       "      <td>0.728395</td>\n",
       "      <td>0.696970</td>\n",
       "      <td>0.761364</td>\n",
       "      <td>0.710526</td>\n",
       "    </tr>\n",
       "    <tr>\n",
       "      <th>40%</th>\n",
       "      <td>0.773333</td>\n",
       "      <td>0.764706</td>\n",
       "      <td>0.789474</td>\n",
       "      <td>0.907407</td>\n",
       "      <td>0.808989</td>\n",
       "      <td>0.851852</td>\n",
       "      <td>0.808081</td>\n",
       "      <td>0.852273</td>\n",
       "      <td>0.780702</td>\n",
       "    </tr>\n",
       "    <tr>\n",
       "      <th>50%</th>\n",
       "      <td>0.880000</td>\n",
       "      <td>0.862745</td>\n",
       "      <td>0.894737</td>\n",
       "      <td>0.925926</td>\n",
       "      <td>0.853933</td>\n",
       "      <td>0.950617</td>\n",
       "      <td>0.898990</td>\n",
       "      <td>0.897727</td>\n",
       "      <td>0.815789</td>\n",
       "    </tr>\n",
       "    <tr>\n",
       "      <th>60%</th>\n",
       "      <td>0.920000</td>\n",
       "      <td>0.950980</td>\n",
       "      <td>0.957895</td>\n",
       "      <td>0.925926</td>\n",
       "      <td>0.977528</td>\n",
       "      <td>0.962963</td>\n",
       "      <td>0.959596</td>\n",
       "      <td>0.931818</td>\n",
       "      <td>0.912281</td>\n",
       "    </tr>\n",
       "    <tr>\n",
       "      <th>70%</th>\n",
       "      <td>0.946667</td>\n",
       "      <td>0.970588</td>\n",
       "      <td>0.968421</td>\n",
       "      <td>0.925926</td>\n",
       "      <td>0.977528</td>\n",
       "      <td>0.975309</td>\n",
       "      <td>0.959596</td>\n",
       "      <td>0.943182</td>\n",
       "      <td>0.921053</td>\n",
       "    </tr>\n",
       "    <tr>\n",
       "      <th>80%</th>\n",
       "      <td>0.946667</td>\n",
       "      <td>0.970588</td>\n",
       "      <td>0.968421</td>\n",
       "      <td>0.925926</td>\n",
       "      <td>0.988764</td>\n",
       "      <td>0.975309</td>\n",
       "      <td>0.959596</td>\n",
       "      <td>0.954545</td>\n",
       "      <td>0.921053</td>\n",
       "    </tr>\n",
       "    <tr>\n",
       "      <th>90%</th>\n",
       "      <td>0.973333</td>\n",
       "      <td>0.980392</td>\n",
       "      <td>0.989474</td>\n",
       "      <td>0.944444</td>\n",
       "      <td>1.000000</td>\n",
       "      <td>0.987654</td>\n",
       "      <td>0.979798</td>\n",
       "      <td>1.000000</td>\n",
       "      <td>0.964912</td>\n",
       "    </tr>\n",
       "    <tr>\n",
       "      <th>100%</th>\n",
       "      <td>1.000000</td>\n",
       "      <td>1.000000</td>\n",
       "      <td>1.000000</td>\n",
       "      <td>1.000000</td>\n",
       "      <td>1.000000</td>\n",
       "      <td>1.000000</td>\n",
       "      <td>1.000000</td>\n",
       "      <td>1.000000</td>\n",
       "      <td>1.000000</td>\n",
       "    </tr>\n",
       "  </tbody>\n",
       "</table>\n",
       "</div>"
      ],
      "text/plain": [
       "      2015-03-02~2015-03-02  2015-03-03~2015-03-03  2015-03-04~2015-03-04  \\\n",
       "10%                0.360000               0.343137               0.400000   \n",
       "20%                0.560000               0.509804               0.578947   \n",
       "30%                0.706667               0.676471               0.684211   \n",
       "40%                0.773333               0.764706               0.789474   \n",
       "50%                0.880000               0.862745               0.894737   \n",
       "60%                0.920000               0.950980               0.957895   \n",
       "70%                0.946667               0.970588               0.968421   \n",
       "80%                0.946667               0.970588               0.968421   \n",
       "90%                0.973333               0.980392               0.989474   \n",
       "100%               1.000000               1.000000               1.000000   \n",
       "\n",
       "      2015-03-05~2015-03-05  2015-03-06~2015-03-06  2015-03-07~2015-03-07  \\\n",
       "10%                0.370370               0.438202               0.345679   \n",
       "20%                0.611111               0.617978               0.530864   \n",
       "30%                0.777778               0.752809               0.728395   \n",
       "40%                0.907407               0.808989               0.851852   \n",
       "50%                0.925926               0.853933               0.950617   \n",
       "60%                0.925926               0.977528               0.962963   \n",
       "70%                0.925926               0.977528               0.975309   \n",
       "80%                0.925926               0.988764               0.975309   \n",
       "90%                0.944444               1.000000               0.987654   \n",
       "100%               1.000000               1.000000               1.000000   \n",
       "\n",
       "      2015-03-08~2015-03-08  2015-03-09~2015-03-09  2015-03-10~2015-03-10  \n",
       "10%                0.373737               0.352273               0.359649  \n",
       "20%                0.626263               0.545455               0.587719  \n",
       "30%                0.696970               0.761364               0.710526  \n",
       "40%                0.808081               0.852273               0.780702  \n",
       "50%                0.898990               0.897727               0.815789  \n",
       "60%                0.959596               0.931818               0.912281  \n",
       "70%                0.959596               0.943182               0.921053  \n",
       "80%                0.959596               0.954545               0.921053  \n",
       "90%                0.979798               1.000000               0.964912  \n",
       "100%               1.000000               1.000000               1.000000  "
      ]
     },
     "execution_count": 14,
     "metadata": {},
     "output_type": "execute_result"
    }
   ],
   "source": [
    "df_rtm = pd.DataFrame.from_dict(res_rtm)\n",
    "print(rtm)\n",
    "df_rtm"
   ]
  },
  {
   "cell_type": "code",
   "execution_count": 16,
   "metadata": {},
   "outputs": [
    {
     "data": {
      "text/plain": [
       "<matplotlib.axes._subplots.AxesSubplot at 0x1a6d498acc0>"
      ]
     },
     "execution_count": 16,
     "metadata": {},
     "output_type": "execute_result"
    },
    {
     "data": {
      "image/png": "[encoded data removed]",
      "text/plain": [
       "<matplotlib.figure.Figure at 0x1a6d498a358>"
      ]
     },
     "metadata": {},
     "output_type": "display_data"
    }
   ],
   "source": [
    "df_rtm.plot()"
   ]
  },
  {
   "cell_type": "code",
   "execution_count": 17,
   "metadata": {},
   "outputs": [
    {
     "data": {
      "text/plain": [
       "<matplotlib.axes._subplots.AxesSubplot at 0x1a6d4993908>"
      ]
     },
     "execution_count": 17,
     "metadata": {},
     "output_type": "execute_result"
    },
    {
     "data": {
      "image/png": "[encoded data removed]",
      "text/plain": [
       "<matplotlib.figure.Figure at 0x1a6d4e63a58>"
      ]
     },
     "metadata": {},
     "output_type": "display_data"
    }
   ],
   "source": [
    "df_bower.plot()"
   ]
  },
  {
   "cell_type": "code",
   "execution_count": null,
   "metadata": {
    "collapsed": true
   },
   "outputs": [],
   "source": []
  },
  {
   "cell_type": "code",
   "execution_count": null,
   "metadata": {
    "collapsed": true
   },
   "outputs": [],
   "source": []
  },
  {
   "cell_type": "code",
   "execution_count": 44,
   "metadata": {},
   "outputs": [
    {
     "data": {
      "text/html": [
       "<div>\n",
       "<style>\n",
       "    .dataframe thead tr:only-child th {\n",
       "        text-align: right;\n",
       "    }\n",
       "\n",
       "    .dataframe thead th {\n",
       "        text-align: left;\n",
       "    }\n",
       "\n",
       "    .dataframe tbody tr th {\n",
       "        vertical-align: top;\n",
       "    }\n",
       "</style>\n",
       "<table border=\"1\" class=\"dataframe\">\n",
       "  <thead>\n",
       "    <tr style=\"text-align: right;\">\n",
       "      <th></th>\n",
       "      <th>2014-03-02~2014-03-02</th>\n",
       "      <th>2014-03-03~2014-03-03</th>\n",
       "      <th>2014-03-04~2014-03-04</th>\n",
       "      <th>2014-03-05~2014-03-05</th>\n",
       "      <th>2014-03-06~2014-03-06</th>\n",
       "      <th>2014-03-07~2014-03-07</th>\n",
       "      <th>2014-03-08~2014-03-08</th>\n",
       "      <th>2014-03-09~2014-03-09</th>\n",
       "      <th>2014-03-10~2014-03-10</th>\n",
       "    </tr>\n",
       "  </thead>\n",
       "  <tbody>\n",
       "    <tr>\n",
       "      <th>10%</th>\n",
       "      <td>0.470588</td>\n",
       "      <td>0.438596</td>\n",
       "      <td>0.432990</td>\n",
       "      <td>0.398058</td>\n",
       "      <td>0.411215</td>\n",
       "      <td>0.422018</td>\n",
       "      <td>0.519231</td>\n",
       "      <td>0.397849</td>\n",
       "      <td>0.435115</td>\n",
       "    </tr>\n",
       "    <tr>\n",
       "      <th>20%</th>\n",
       "      <td>0.717647</td>\n",
       "      <td>0.631579</td>\n",
       "      <td>0.711340</td>\n",
       "      <td>0.533981</td>\n",
       "      <td>0.523364</td>\n",
       "      <td>0.669725</td>\n",
       "      <td>0.625000</td>\n",
       "      <td>0.602151</td>\n",
       "      <td>0.625954</td>\n",
       "    </tr>\n",
       "    <tr>\n",
       "      <th>30%</th>\n",
       "      <td>0.811765</td>\n",
       "      <td>0.736842</td>\n",
       "      <td>0.793814</td>\n",
       "      <td>0.640777</td>\n",
       "      <td>0.663551</td>\n",
       "      <td>0.798165</td>\n",
       "      <td>0.711538</td>\n",
       "      <td>0.795699</td>\n",
       "      <td>0.709924</td>\n",
       "    </tr>\n",
       "    <tr>\n",
       "      <th>40%</th>\n",
       "      <td>0.858824</td>\n",
       "      <td>0.877193</td>\n",
       "      <td>0.855670</td>\n",
       "      <td>0.825243</td>\n",
       "      <td>0.785047</td>\n",
       "      <td>0.899083</td>\n",
       "      <td>0.836538</td>\n",
       "      <td>0.913978</td>\n",
       "      <td>0.847328</td>\n",
       "    </tr>\n",
       "    <tr>\n",
       "      <th>50%</th>\n",
       "      <td>0.976471</td>\n",
       "      <td>0.929825</td>\n",
       "      <td>0.907216</td>\n",
       "      <td>0.883495</td>\n",
       "      <td>0.906542</td>\n",
       "      <td>0.944954</td>\n",
       "      <td>0.923077</td>\n",
       "      <td>0.956989</td>\n",
       "      <td>0.923664</td>\n",
       "    </tr>\n",
       "    <tr>\n",
       "      <th>60%</th>\n",
       "      <td>0.988235</td>\n",
       "      <td>0.964912</td>\n",
       "      <td>0.948454</td>\n",
       "      <td>0.951456</td>\n",
       "      <td>0.953271</td>\n",
       "      <td>0.972477</td>\n",
       "      <td>0.942308</td>\n",
       "      <td>1.000000</td>\n",
       "      <td>0.992366</td>\n",
       "    </tr>\n",
       "    <tr>\n",
       "      <th>70%</th>\n",
       "      <td>1.000000</td>\n",
       "      <td>0.964912</td>\n",
       "      <td>0.969072</td>\n",
       "      <td>0.990291</td>\n",
       "      <td>0.990654</td>\n",
       "      <td>1.000000</td>\n",
       "      <td>0.961538</td>\n",
       "      <td>1.000000</td>\n",
       "      <td>1.000000</td>\n",
       "    </tr>\n",
       "    <tr>\n",
       "      <th>80%</th>\n",
       "      <td>1.000000</td>\n",
       "      <td>0.982456</td>\n",
       "      <td>1.000000</td>\n",
       "      <td>1.000000</td>\n",
       "      <td>1.000000</td>\n",
       "      <td>1.000000</td>\n",
       "      <td>1.000000</td>\n",
       "      <td>1.000000</td>\n",
       "      <td>1.000000</td>\n",
       "    </tr>\n",
       "    <tr>\n",
       "      <th>90%</th>\n",
       "      <td>1.000000</td>\n",
       "      <td>0.982456</td>\n",
       "      <td>1.000000</td>\n",
       "      <td>1.000000</td>\n",
       "      <td>1.000000</td>\n",
       "      <td>1.000000</td>\n",
       "      <td>1.000000</td>\n",
       "      <td>1.000000</td>\n",
       "      <td>1.000000</td>\n",
       "    </tr>\n",
       "    <tr>\n",
       "      <th>100%</th>\n",
       "      <td>1.000000</td>\n",
       "      <td>1.000000</td>\n",
       "      <td>1.000000</td>\n",
       "      <td>1.000000</td>\n",
       "      <td>1.000000</td>\n",
       "      <td>1.000000</td>\n",
       "      <td>1.000000</td>\n",
       "      <td>1.000000</td>\n",
       "      <td>1.000000</td>\n",
       "    </tr>\n",
       "  </tbody>\n",
       "</table>\n",
       "</div>"
      ],
      "text/plain": [
       "      2014-03-02~2014-03-02  2014-03-03~2014-03-03  2014-03-04~2014-03-04  \\\n",
       "10%                0.470588               0.438596               0.432990   \n",
       "20%                0.717647               0.631579               0.711340   \n",
       "30%                0.811765               0.736842               0.793814   \n",
       "40%                0.858824               0.877193               0.855670   \n",
       "50%                0.976471               0.929825               0.907216   \n",
       "60%                0.988235               0.964912               0.948454   \n",
       "70%                1.000000               0.964912               0.969072   \n",
       "80%                1.000000               0.982456               1.000000   \n",
       "90%                1.000000               0.982456               1.000000   \n",
       "100%               1.000000               1.000000               1.000000   \n",
       "\n",
       "      2014-03-05~2014-03-05  2014-03-06~2014-03-06  2014-03-07~2014-03-07  \\\n",
       "10%                0.398058               0.411215               0.422018   \n",
       "20%                0.533981               0.523364               0.669725   \n",
       "30%                0.640777               0.663551               0.798165   \n",
       "40%                0.825243               0.785047               0.899083   \n",
       "50%                0.883495               0.906542               0.944954   \n",
       "60%                0.951456               0.953271               0.972477   \n",
       "70%                0.990291               0.990654               1.000000   \n",
       "80%                1.000000               1.000000               1.000000   \n",
       "90%                1.000000               1.000000               1.000000   \n",
       "100%               1.000000               1.000000               1.000000   \n",
       "\n",
       "      2014-03-08~2014-03-08  2014-03-09~2014-03-09  2014-03-10~2014-03-10  \n",
       "10%                0.519231               0.397849               0.435115  \n",
       "20%                0.625000               0.602151               0.625954  \n",
       "30%                0.711538               0.795699               0.709924  \n",
       "40%                0.836538               0.913978               0.847328  \n",
       "50%                0.923077               0.956989               0.923664  \n",
       "60%                0.942308               1.000000               0.992366  \n",
       "70%                0.961538               1.000000               1.000000  \n",
       "80%                1.000000               1.000000               1.000000  \n",
       "90%                1.000000               1.000000               1.000000  \n",
       "100%               1.000000               1.000000               1.000000  "
      ]
     },
     "execution_count": 44,
     "metadata": {},
     "output_type": "execute_result"
    }
   ],
   "source": [
    "# Bower method: weighted by distance and time, bandwidth=400, time window=60, verbose=1\n",
    "df"
   ]
  }
 ],
 "metadata": {
  "kernelspec": {
   "display_name": "Python 3",
   "language": "python",
   "name": "python3"
  },
  "language_info": {
   "codemirror_mode": {
    "name": "ipython",
    "version": 3
   },
   "file_extension": ".py",
   "mimetype": "text/x-python",
   "name": "python",
   "nbconvert_exporter": "python",
   "pygments_lexer": "ipython3",
   "version": "3.6.1"
  }
 },
 "nbformat": 4,
 "nbformat_minor": 2
}
