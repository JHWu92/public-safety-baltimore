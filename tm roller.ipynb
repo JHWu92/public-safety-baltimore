{
 "cells": [
  {
   "cell_type": "code",
   "execution_count": 1,
   "metadata": {
    "collapsed": true
   },
   "outputs": [],
   "source": [
    "from importlib import reload"
   ]
  },
  {
   "cell_type": "code",
   "execution_count": 2,
   "metadata": {},
   "outputs": [],
   "source": [
    "import src.tm_roller; reload(src.tm_roller)\n",
    "\n",
    "import src.bsln_kde;reload(src.bsln_kde)\n",
    "\n",
    "from src.tm_roller import TM_ROLLER\n",
    "from src.bsln_kde import KDE, prep_data\n",
    "from src.spatial_unit import baltimore_grids\n",
    "from src.eval_metric import hit_rate\n"
   ]
  },
  {
   "cell_type": "code",
   "execution_count": 3,
   "metadata": {
    "collapsed": true
   },
   "outputs": [],
   "source": [
    "data = prep_data('data/open-baltimore/raw/BPD_Part_1_Victim_Based_Crime_Data.csv', \n",
    "                 col_lon='Longitude', col_lat='Latitude', col_date='CrimeDate', to_epsg=3559)"
   ]
  },
  {
   "cell_type": "code",
   "execution_count": 4,
   "metadata": {
    "collapsed": true
   },
   "outputs": [],
   "source": [
    "tune_sd = '2013-01-01'\n",
    "tune_ed = '2013-12-31'\n",
    "train_tw = 60\n",
    "vstep = 1\n",
    "vtw = 1\n",
    "vsd = '2014-03-02'\n",
    "ved = '2014-03-10'\n",
    "grid_size=200"
   ]
  },
  {
   "cell_type": "code",
   "execution_count": 5,
   "metadata": {
    "collapsed": true
   },
   "outputs": [],
   "source": [
    "grids = baltimore_grids(grid_size=grid_size)"
   ]
  },
  {
   "cell_type": "markdown",
   "metadata": {},
   "source": [
    "# for each tune period"
   ]
  },
  {
   "cell_type": "code",
   "execution_count": 6,
   "metadata": {
    "collapsed": true
   },
   "outputs": [],
   "source": [
    "method = KDE(verbose=1)"
   ]
  },
  {
   "cell_type": "code",
   "execution_count": 7,
   "metadata": {},
   "outputs": [
    {
     "data": {
      "text/plain": [
       "'KDE(bandwidth=1, timewindow=60, verbose=1)'"
      ]
     },
     "execution_count": 7,
     "metadata": {},
     "output_type": "execute_result"
    }
   ],
   "source": [
    "str(method)"
   ]
  },
  {
   "cell_type": "code",
   "execution_count": 8,
   "metadata": {},
   "outputs": [
    {
     "name": "stdout",
     "output_type": "stream",
     "text": [
      "converting pd.Series to list\n",
      "[10, 100, 200, 300, 400, 500]\n",
      "gridsearching bw\n",
      "Fitting 10 folds for each of 6 candidates, totalling 60 fits\n"
     ]
    },
    {
     "name": "stderr",
     "output_type": "stream",
     "text": [
      "[Parallel(n_jobs=4)]: Done  42 tasks      | elapsed: 23.7min\n"
     ]
    },
    {
     "name": "stdout",
     "output_type": "stream",
     "text": [
      "best parameters: {'bandwidth': 100}\n"
     ]
    },
    {
     "name": "stderr",
     "output_type": "stream",
     "text": [
      "[Parallel(n_jobs=4)]: Done  60 out of  60 | elapsed: 33.3min finished\n"
     ]
    }
   ],
   "source": [
    "method.tune(data.loc[tune_sd:tune_ed].coords, cv=10, bw_choice=[10, 100, 200, 300, 400, 500], n_jobs=4)"
   ]
  },
  {
   "cell_type": "code",
   "execution_count": 9,
   "metadata": {
    "collapsed": true
   },
   "outputs": [],
   "source": [
    "tmroller = TM_ROLLER(method, data.coords, vsd, ved, step=vstep, tw=vtw)"
   ]
  },
  {
   "cell_type": "code",
   "execution_count": 10,
   "metadata": {
    "scrolled": false
   },
   "outputs": [],
   "source": [
    "res = tmroller.eval(hit_rate, grids)"
   ]
  },
  {
   "cell_type": "code",
   "execution_count": 11,
   "metadata": {},
   "outputs": [],
   "source": [
    "import pandas as pd"
   ]
  },
  {
   "cell_type": "code",
   "execution_count": 12,
   "metadata": {},
   "outputs": [],
   "source": [
    "df = pd.DataFrame.from_dict(res)"
   ]
  },
  {
   "cell_type": "code",
   "execution_count": 13,
   "metadata": {},
   "outputs": [
    {
     "data": {
      "text/html": [
       "<div>\n",
       "<style>\n",
       "    .dataframe thead tr:only-child th {\n",
       "        text-align: right;\n",
       "    }\n",
       "\n",
       "    .dataframe thead th {\n",
       "        text-align: left;\n",
       "    }\n",
       "\n",
       "    .dataframe tbody tr th {\n",
       "        vertical-align: top;\n",
       "    }\n",
       "</style>\n",
       "<table border=\"1\" class=\"dataframe\">\n",
       "  <thead>\n",
       "    <tr style=\"text-align: right;\">\n",
       "      <th></th>\n",
       "      <th>2014-03-02~2014-03-02</th>\n",
       "      <th>2014-03-03~2014-03-03</th>\n",
       "      <th>2014-03-04~2014-03-04</th>\n",
       "      <th>2014-03-05~2014-03-05</th>\n",
       "      <th>2014-03-06~2014-03-06</th>\n",
       "      <th>2014-03-07~2014-03-07</th>\n",
       "      <th>2014-03-08~2014-03-08</th>\n",
       "      <th>2014-03-09~2014-03-09</th>\n",
       "      <th>2014-03-10~2014-03-10</th>\n",
       "    </tr>\n",
       "  </thead>\n",
       "  <tbody>\n",
       "    <tr>\n",
       "      <th>10%</th>\n",
       "      <td>0.494118</td>\n",
       "      <td>0.421053</td>\n",
       "      <td>0.412371</td>\n",
       "      <td>0.456311</td>\n",
       "      <td>0.429907</td>\n",
       "      <td>0.477064</td>\n",
       "      <td>0.519231</td>\n",
       "      <td>0.408602</td>\n",
       "      <td>0.480916</td>\n",
       "    </tr>\n",
       "    <tr>\n",
       "      <th>20%</th>\n",
       "      <td>0.729412</td>\n",
       "      <td>0.666667</td>\n",
       "      <td>0.639175</td>\n",
       "      <td>0.601942</td>\n",
       "      <td>0.635514</td>\n",
       "      <td>0.660550</td>\n",
       "      <td>0.663462</td>\n",
       "      <td>0.623656</td>\n",
       "      <td>0.664122</td>\n",
       "    </tr>\n",
       "    <tr>\n",
       "      <th>30%</th>\n",
       "      <td>0.847059</td>\n",
       "      <td>0.789474</td>\n",
       "      <td>0.814433</td>\n",
       "      <td>0.689320</td>\n",
       "      <td>0.757009</td>\n",
       "      <td>0.853211</td>\n",
       "      <td>0.721154</td>\n",
       "      <td>0.774194</td>\n",
       "      <td>0.763359</td>\n",
       "    </tr>\n",
       "    <tr>\n",
       "      <th>40%</th>\n",
       "      <td>0.917647</td>\n",
       "      <td>0.894737</td>\n",
       "      <td>0.907216</td>\n",
       "      <td>0.844660</td>\n",
       "      <td>0.831776</td>\n",
       "      <td>0.935780</td>\n",
       "      <td>0.846154</td>\n",
       "      <td>0.903226</td>\n",
       "      <td>0.877863</td>\n",
       "    </tr>\n",
       "    <tr>\n",
       "      <th>50%</th>\n",
       "      <td>0.964706</td>\n",
       "      <td>0.947368</td>\n",
       "      <td>0.958763</td>\n",
       "      <td>0.912621</td>\n",
       "      <td>0.897196</td>\n",
       "      <td>0.954128</td>\n",
       "      <td>0.903846</td>\n",
       "      <td>0.967742</td>\n",
       "      <td>0.961832</td>\n",
       "    </tr>\n",
       "    <tr>\n",
       "      <th>60%</th>\n",
       "      <td>1.000000</td>\n",
       "      <td>0.964912</td>\n",
       "      <td>0.969072</td>\n",
       "      <td>1.000000</td>\n",
       "      <td>0.953271</td>\n",
       "      <td>0.972477</td>\n",
       "      <td>0.932692</td>\n",
       "      <td>1.000000</td>\n",
       "      <td>0.992366</td>\n",
       "    </tr>\n",
       "    <tr>\n",
       "      <th>70%</th>\n",
       "      <td>1.000000</td>\n",
       "      <td>0.982456</td>\n",
       "      <td>0.989691</td>\n",
       "      <td>1.000000</td>\n",
       "      <td>1.000000</td>\n",
       "      <td>1.000000</td>\n",
       "      <td>0.951923</td>\n",
       "      <td>1.000000</td>\n",
       "      <td>1.000000</td>\n",
       "    </tr>\n",
       "    <tr>\n",
       "      <th>80%</th>\n",
       "      <td>1.000000</td>\n",
       "      <td>0.982456</td>\n",
       "      <td>1.000000</td>\n",
       "      <td>1.000000</td>\n",
       "      <td>1.000000</td>\n",
       "      <td>1.000000</td>\n",
       "      <td>1.000000</td>\n",
       "      <td>1.000000</td>\n",
       "      <td>1.000000</td>\n",
       "    </tr>\n",
       "    <tr>\n",
       "      <th>90%</th>\n",
       "      <td>1.000000</td>\n",
       "      <td>1.000000</td>\n",
       "      <td>1.000000</td>\n",
       "      <td>1.000000</td>\n",
       "      <td>1.000000</td>\n",
       "      <td>1.000000</td>\n",
       "      <td>1.000000</td>\n",
       "      <td>1.000000</td>\n",
       "      <td>1.000000</td>\n",
       "    </tr>\n",
       "    <tr>\n",
       "      <th>100%</th>\n",
       "      <td>1.000000</td>\n",
       "      <td>1.000000</td>\n",
       "      <td>1.000000</td>\n",
       "      <td>1.000000</td>\n",
       "      <td>1.000000</td>\n",
       "      <td>1.000000</td>\n",
       "      <td>1.000000</td>\n",
       "      <td>1.000000</td>\n",
       "      <td>1.000000</td>\n",
       "    </tr>\n",
       "  </tbody>\n",
       "</table>\n",
       "</div>"
      ],
      "text/plain": [
       "      2014-03-02~2014-03-02  2014-03-03~2014-03-03  2014-03-04~2014-03-04  \\\n",
       "10%                0.494118               0.421053               0.412371   \n",
       "20%                0.729412               0.666667               0.639175   \n",
       "30%                0.847059               0.789474               0.814433   \n",
       "40%                0.917647               0.894737               0.907216   \n",
       "50%                0.964706               0.947368               0.958763   \n",
       "60%                1.000000               0.964912               0.969072   \n",
       "70%                1.000000               0.982456               0.989691   \n",
       "80%                1.000000               0.982456               1.000000   \n",
       "90%                1.000000               1.000000               1.000000   \n",
       "100%               1.000000               1.000000               1.000000   \n",
       "\n",
       "      2014-03-05~2014-03-05  2014-03-06~2014-03-06  2014-03-07~2014-03-07  \\\n",
       "10%                0.456311               0.429907               0.477064   \n",
       "20%                0.601942               0.635514               0.660550   \n",
       "30%                0.689320               0.757009               0.853211   \n",
       "40%                0.844660               0.831776               0.935780   \n",
       "50%                0.912621               0.897196               0.954128   \n",
       "60%                1.000000               0.953271               0.972477   \n",
       "70%                1.000000               1.000000               1.000000   \n",
       "80%                1.000000               1.000000               1.000000   \n",
       "90%                1.000000               1.000000               1.000000   \n",
       "100%               1.000000               1.000000               1.000000   \n",
       "\n",
       "      2014-03-08~2014-03-08  2014-03-09~2014-03-09  2014-03-10~2014-03-10  \n",
       "10%                0.519231               0.408602               0.480916  \n",
       "20%                0.663462               0.623656               0.664122  \n",
       "30%                0.721154               0.774194               0.763359  \n",
       "40%                0.846154               0.903226               0.877863  \n",
       "50%                0.903846               0.967742               0.961832  \n",
       "60%                0.932692               1.000000               0.992366  \n",
       "70%                0.951923               1.000000               1.000000  \n",
       "80%                1.000000               1.000000               1.000000  \n",
       "90%                1.000000               1.000000               1.000000  \n",
       "100%               1.000000               1.000000               1.000000  "
      ]
     },
     "execution_count": 13,
     "metadata": {},
     "output_type": "execute_result"
    }
   ],
   "source": [
    "df"
   ]
  },
  {
   "cell_type": "code",
   "execution_count": 14,
   "metadata": {
    "collapsed": true
   },
   "outputs": [],
   "source": [
    "%matplotlib inline"
   ]
  },
  {
   "cell_type": "code",
   "execution_count": 15,
   "metadata": {},
   "outputs": [
    {
     "data": {
      "text/plain": [
       "<matplotlib.axes._subplots.AxesSubplot at 0x1b629be57f0>"
      ]
     },
     "execution_count": 15,
     "metadata": {},
     "output_type": "execute_result"
    },
    {
     "data": {
      "image/png": "[encoded data removed]",
      "text/plain": [
       "<matplotlib.figure.Figure at 0x1b629bc2dd8>"
      ]
     },
     "metadata": {},
     "output_type": "display_data"
    }
   ],
   "source": [
    "df.plot()"
   ]
  },
  {
   "cell_type": "code",
   "execution_count": null,
   "metadata": {
    "collapsed": true
   },
   "outputs": [],
   "source": []
  }
 ],
 "metadata": {
  "kernelspec": {
   "display_name": "Python 3",
   "language": "python",
   "name": "python3"
  },
  "language_info": {
   "codemirror_mode": {
    "name": "ipython",
    "version": 3
   },
   "file_extension": ".py",
   "mimetype": "text/x-python",
   "name": "python",
   "nbconvert_exporter": "python",
   "pygments_lexer": "ipython3",
   "version": "3.6.1"
  }
 },
 "nbformat": 4,
 "nbformat_minor": 2
}
