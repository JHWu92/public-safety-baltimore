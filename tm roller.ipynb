{
 "cells": [
  {
   "cell_type": "code",
   "execution_count": 29,
   "metadata": {
    "collapsed": true
   },
   "outputs": [],
   "source": [
    "from importlib import reload"
   ]
  },
  {
   "cell_type": "code",
   "execution_count": 30,
   "metadata": {},
   "outputs": [],
   "source": [
    "import src.tm_roller; reload(src.tm_roller)\n",
    "import src.bsln_kde;reload(src.bsln_kde)\n",
    "import src.bsln_bower;reload(src.bsln_bower)\n",
    "\n",
    "from src.tm_roller import TM_ROLLER\n",
    "from src.bsln_kde import KDE, prep_data\n",
    "from src.spatial_unit import baltimore_grids\n",
    "from src.eval_metric import hit_rate\n",
    "from src.bsln_bower import Bower"
   ]
  },
  {
   "cell_type": "code",
   "execution_count": 31,
   "metadata": {
    "collapsed": true
   },
   "outputs": [],
   "source": [
    "data = prep_data('data/open-baltimore/raw/BPD_Part_1_Victim_Based_Crime_Data.csv', \n",
    "                 col_lon='Longitude', col_lat='Latitude', col_date='CrimeDate', to_epsg=3559)"
   ]
  },
  {
   "cell_type": "code",
   "execution_count": 32,
   "metadata": {
    "collapsed": true
   },
   "outputs": [],
   "source": [
    "tune_sd = '2013-01-01'\n",
    "tune_ed = '2013-12-31'\n",
    "train_tw = 60\n",
    "vstep = 1\n",
    "vtw = 1\n",
    "vsd = '2014-03-02'\n",
    "ved = '2014-03-10'\n",
    "grid_size=200"
   ]
  },
  {
   "cell_type": "code",
   "execution_count": 51,
   "metadata": {},
   "outputs": [
    {
     "data": {
      "text/plain": [
       "'2013-01-01'"
      ]
     },
     "execution_count": 51,
     "metadata": {},
     "output_type": "execute_result"
    }
   ],
   "source": [
    "data.index[0].strftime('%Y-%m-%d')"
   ]
  },
  {
   "cell_type": "code",
   "execution_count": 33,
   "metadata": {
    "collapsed": true
   },
   "outputs": [],
   "source": [
    "grids = baltimore_grids(grid_size=grid_size)"
   ]
  },
  {
   "cell_type": "markdown",
   "metadata": {},
   "source": [
    "# for each tune period"
   ]
  },
  {
   "cell_type": "code",
   "execution_count": 34,
   "metadata": {},
   "outputs": [],
   "source": [
    "# method = KDE(verbose=1, bw=400)\n",
    "method = Bower(grid_size, bw=400, tw=train_tw, verbose=1)"
   ]
  },
  {
   "cell_type": "code",
   "execution_count": 35,
   "metadata": {},
   "outputs": [
    {
     "data": {
      "text/plain": [
       "'Bower method: weighted by distance and time, bandwidth=400, time window=60, verbose=1'"
      ]
     },
     "execution_count": 35,
     "metadata": {},
     "output_type": "execute_result"
    }
   ],
   "source": [
    "str(method)"
   ]
  },
  {
   "cell_type": "code",
   "execution_count": 36,
   "metadata": {},
   "outputs": [],
   "source": [
    "# method.tune(data.loc[tune_sd:tune_ed].coords, cv=10, bw_choice=[10, 100, 200, 300, 400, 500], n_jobs=4)"
   ]
  },
  {
   "cell_type": "code",
   "execution_count": 39,
   "metadata": {
    "collapsed": true
   },
   "outputs": [],
   "source": [
    "tmroller = TM_ROLLER(method, data.coords, vsd, ved, step=vstep, tw=vtw, verbose=2)"
   ]
  },
  {
   "cell_type": "code",
   "execution_count": 40,
   "metadata": {
    "scrolled": false
   },
   "outputs": [
    {
     "name": "stdout",
     "output_type": "stream",
     "text": [
      "total number of experiment: 29\n",
      "No.1 exp, testing period: 2014-03-02 ~ 2014-03-02\n",
      "No.2 exp, testing period: 2014-03-03 ~ 2014-03-03\n",
      "No.3 exp, testing period: 2014-03-04 ~ 2014-03-04\n",
      "No.4 exp, testing period: 2014-03-05 ~ 2014-03-05\n",
      "No.5 exp, testing period: 2014-03-06 ~ 2014-03-06\n",
      "No.6 exp, testing period: 2014-03-07 ~ 2014-03-07\n",
      "No.7 exp, testing period: 2014-03-08 ~ 2014-03-08\n",
      "No.8 exp, testing period: 2014-03-09 ~ 2014-03-09\n",
      "No.9 exp, testing period: 2014-03-10 ~ 2014-03-10\n"
     ]
    }
   ],
   "source": [
    "res = tmroller.eval(hit_rate, grids)"
   ]
  },
  {
   "cell_type": "code",
   "execution_count": 41,
   "metadata": {},
   "outputs": [],
   "source": [
    "import pandas as pd"
   ]
  },
  {
   "cell_type": "code",
   "execution_count": 42,
   "metadata": {},
   "outputs": [],
   "source": [
    "df = pd.DataFrame.from_dict(res)"
   ]
  },
  {
   "cell_type": "code",
   "execution_count": 44,
   "metadata": {},
   "outputs": [
    {
     "data": {
      "text/html": [
       "<div>\n",
       "<style>\n",
       "    .dataframe thead tr:only-child th {\n",
       "        text-align: right;\n",
       "    }\n",
       "\n",
       "    .dataframe thead th {\n",
       "        text-align: left;\n",
       "    }\n",
       "\n",
       "    .dataframe tbody tr th {\n",
       "        vertical-align: top;\n",
       "    }\n",
       "</style>\n",
       "<table border=\"1\" class=\"dataframe\">\n",
       "  <thead>\n",
       "    <tr style=\"text-align: right;\">\n",
       "      <th></th>\n",
       "      <th>2014-03-02~2014-03-02</th>\n",
       "      <th>2014-03-03~2014-03-03</th>\n",
       "      <th>2014-03-04~2014-03-04</th>\n",
       "      <th>2014-03-05~2014-03-05</th>\n",
       "      <th>2014-03-06~2014-03-06</th>\n",
       "      <th>2014-03-07~2014-03-07</th>\n",
       "      <th>2014-03-08~2014-03-08</th>\n",
       "      <th>2014-03-09~2014-03-09</th>\n",
       "      <th>2014-03-10~2014-03-10</th>\n",
       "    </tr>\n",
       "  </thead>\n",
       "  <tbody>\n",
       "    <tr>\n",
       "      <th>10%</th>\n",
       "      <td>0.470588</td>\n",
       "      <td>0.438596</td>\n",
       "      <td>0.432990</td>\n",
       "      <td>0.398058</td>\n",
       "      <td>0.411215</td>\n",
       "      <td>0.422018</td>\n",
       "      <td>0.519231</td>\n",
       "      <td>0.397849</td>\n",
       "      <td>0.435115</td>\n",
       "    </tr>\n",
       "    <tr>\n",
       "      <th>20%</th>\n",
       "      <td>0.717647</td>\n",
       "      <td>0.631579</td>\n",
       "      <td>0.711340</td>\n",
       "      <td>0.533981</td>\n",
       "      <td>0.523364</td>\n",
       "      <td>0.669725</td>\n",
       "      <td>0.625000</td>\n",
       "      <td>0.602151</td>\n",
       "      <td>0.625954</td>\n",
       "    </tr>\n",
       "    <tr>\n",
       "      <th>30%</th>\n",
       "      <td>0.811765</td>\n",
       "      <td>0.736842</td>\n",
       "      <td>0.793814</td>\n",
       "      <td>0.640777</td>\n",
       "      <td>0.663551</td>\n",
       "      <td>0.798165</td>\n",
       "      <td>0.711538</td>\n",
       "      <td>0.795699</td>\n",
       "      <td>0.709924</td>\n",
       "    </tr>\n",
       "    <tr>\n",
       "      <th>40%</th>\n",
       "      <td>0.858824</td>\n",
       "      <td>0.877193</td>\n",
       "      <td>0.855670</td>\n",
       "      <td>0.825243</td>\n",
       "      <td>0.785047</td>\n",
       "      <td>0.899083</td>\n",
       "      <td>0.836538</td>\n",
       "      <td>0.913978</td>\n",
       "      <td>0.847328</td>\n",
       "    </tr>\n",
       "    <tr>\n",
       "      <th>50%</th>\n",
       "      <td>0.976471</td>\n",
       "      <td>0.929825</td>\n",
       "      <td>0.907216</td>\n",
       "      <td>0.883495</td>\n",
       "      <td>0.906542</td>\n",
       "      <td>0.944954</td>\n",
       "      <td>0.923077</td>\n",
       "      <td>0.956989</td>\n",
       "      <td>0.923664</td>\n",
       "    </tr>\n",
       "    <tr>\n",
       "      <th>60%</th>\n",
       "      <td>0.988235</td>\n",
       "      <td>0.964912</td>\n",
       "      <td>0.948454</td>\n",
       "      <td>0.951456</td>\n",
       "      <td>0.953271</td>\n",
       "      <td>0.972477</td>\n",
       "      <td>0.942308</td>\n",
       "      <td>1.000000</td>\n",
       "      <td>0.992366</td>\n",
       "    </tr>\n",
       "    <tr>\n",
       "      <th>70%</th>\n",
       "      <td>1.000000</td>\n",
       "      <td>0.964912</td>\n",
       "      <td>0.969072</td>\n",
       "      <td>0.990291</td>\n",
       "      <td>0.990654</td>\n",
       "      <td>1.000000</td>\n",
       "      <td>0.961538</td>\n",
       "      <td>1.000000</td>\n",
       "      <td>1.000000</td>\n",
       "    </tr>\n",
       "    <tr>\n",
       "      <th>80%</th>\n",
       "      <td>1.000000</td>\n",
       "      <td>0.982456</td>\n",
       "      <td>1.000000</td>\n",
       "      <td>1.000000</td>\n",
       "      <td>1.000000</td>\n",
       "      <td>1.000000</td>\n",
       "      <td>1.000000</td>\n",
       "      <td>1.000000</td>\n",
       "      <td>1.000000</td>\n",
       "    </tr>\n",
       "    <tr>\n",
       "      <th>90%</th>\n",
       "      <td>1.000000</td>\n",
       "      <td>0.982456</td>\n",
       "      <td>1.000000</td>\n",
       "      <td>1.000000</td>\n",
       "      <td>1.000000</td>\n",
       "      <td>1.000000</td>\n",
       "      <td>1.000000</td>\n",
       "      <td>1.000000</td>\n",
       "      <td>1.000000</td>\n",
       "    </tr>\n",
       "    <tr>\n",
       "      <th>100%</th>\n",
       "      <td>1.000000</td>\n",
       "      <td>1.000000</td>\n",
       "      <td>1.000000</td>\n",
       "      <td>1.000000</td>\n",
       "      <td>1.000000</td>\n",
       "      <td>1.000000</td>\n",
       "      <td>1.000000</td>\n",
       "      <td>1.000000</td>\n",
       "      <td>1.000000</td>\n",
       "    </tr>\n",
       "  </tbody>\n",
       "</table>\n",
       "</div>"
      ],
      "text/plain": [
       "      2014-03-02~2014-03-02  2014-03-03~2014-03-03  2014-03-04~2014-03-04  \\\n",
       "10%                0.470588               0.438596               0.432990   \n",
       "20%                0.717647               0.631579               0.711340   \n",
       "30%                0.811765               0.736842               0.793814   \n",
       "40%                0.858824               0.877193               0.855670   \n",
       "50%                0.976471               0.929825               0.907216   \n",
       "60%                0.988235               0.964912               0.948454   \n",
       "70%                1.000000               0.964912               0.969072   \n",
       "80%                1.000000               0.982456               1.000000   \n",
       "90%                1.000000               0.982456               1.000000   \n",
       "100%               1.000000               1.000000               1.000000   \n",
       "\n",
       "      2014-03-05~2014-03-05  2014-03-06~2014-03-06  2014-03-07~2014-03-07  \\\n",
       "10%                0.398058               0.411215               0.422018   \n",
       "20%                0.533981               0.523364               0.669725   \n",
       "30%                0.640777               0.663551               0.798165   \n",
       "40%                0.825243               0.785047               0.899083   \n",
       "50%                0.883495               0.906542               0.944954   \n",
       "60%                0.951456               0.953271               0.972477   \n",
       "70%                0.990291               0.990654               1.000000   \n",
       "80%                1.000000               1.000000               1.000000   \n",
       "90%                1.000000               1.000000               1.000000   \n",
       "100%               1.000000               1.000000               1.000000   \n",
       "\n",
       "      2014-03-08~2014-03-08  2014-03-09~2014-03-09  2014-03-10~2014-03-10  \n",
       "10%                0.519231               0.397849               0.435115  \n",
       "20%                0.625000               0.602151               0.625954  \n",
       "30%                0.711538               0.795699               0.709924  \n",
       "40%                0.836538               0.913978               0.847328  \n",
       "50%                0.923077               0.956989               0.923664  \n",
       "60%                0.942308               1.000000               0.992366  \n",
       "70%                0.961538               1.000000               1.000000  \n",
       "80%                1.000000               1.000000               1.000000  \n",
       "90%                1.000000               1.000000               1.000000  \n",
       "100%               1.000000               1.000000               1.000000  "
      ]
     },
     "execution_count": 44,
     "metadata": {},
     "output_type": "execute_result"
    }
   ],
   "source": [
    "df"
   ]
  },
  {
   "cell_type": "code",
   "execution_count": 45,
   "metadata": {
    "collapsed": true
   },
   "outputs": [],
   "source": [
    "%matplotlib inline"
   ]
  },
  {
   "cell_type": "code",
   "execution_count": 46,
   "metadata": {},
   "outputs": [
    {
     "data": {
      "text/plain": [
       "<matplotlib.axes._subplots.AxesSubplot at 0x19d5d514898>"
      ]
     },
     "execution_count": 46,
     "metadata": {},
     "output_type": "execute_result"
    },
    {
     "data": {
      "image/png": "[encoded data removed]",
      "text/plain": [
       "<matplotlib.figure.Figure at 0x19d5d519e80>"
      ]
     },
     "metadata": {},
     "output_type": "display_data"
    }
   ],
   "source": [
    "df.plot()"
   ]
  },
  {
   "cell_type": "code",
   "execution_count": null,
   "metadata": {
    "collapsed": true
   },
   "outputs": [],
   "source": []
  }
 ],
 "metadata": {
  "kernelspec": {
   "display_name": "Python 3",
   "language": "python",
   "name": "python3"
  },
  "language_info": {
   "codemirror_mode": {
    "name": "ipython",
    "version": 3
   },
   "file_extension": ".py",
   "mimetype": "text/x-python",
   "name": "python",
   "nbconvert_exporter": "python",
   "pygments_lexer": "ipython3",
   "version": "3.6.1"
  }
 },
 "nbformat": 4,
 "nbformat_minor": 2
}
