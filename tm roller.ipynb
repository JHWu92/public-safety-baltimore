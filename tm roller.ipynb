{
 "cells": [
  {
   "cell_type": "code",
   "execution_count": 1,
   "metadata": {
    "collapsed": true
   },
   "outputs": [],
   "source": [
    "from importlib import reload"
   ]
  },
  {
   "cell_type": "code",
   "execution_count": 2,
   "metadata": {
    "collapsed": true
   },
   "outputs": [],
   "source": [
    "import pandas as pd"
   ]
  },
  {
   "cell_type": "code",
   "execution_count": 3,
   "metadata": {
    "collapsed": true
   },
   "outputs": [],
   "source": [
    "%matplotlib inline"
   ]
  },
  {
   "cell_type": "code",
   "execution_count": 4,
   "metadata": {
    "collapsed": true
   },
   "outputs": [],
   "source": [
    "import src.tm_roller; reload(src.tm_roller)\n",
    "import src.bsln_kde;reload(src.bsln_kde)\n",
    "import src.bsln_bower;reload(src.bsln_bower)\n",
    "\n",
    "from src.data_prep import prep_911, prep_data_from_raw\n",
    "from src.spatial_unit import baltimore_grids\n",
    "from src import eval_metric\n",
    "from src.tm_roller import TM_ROLLER\n",
    "from src.bsln_kde import KDE\n",
    "from src.bsln_bower import Bower\n",
    "from src.bsln_rtm import RTM"
   ]
  },
  {
   "cell_type": "code",
   "execution_count": 5,
   "metadata": {
    "collapsed": true
   },
   "outputs": [],
   "source": [
    "crimes = prep_data_from_raw('data/open-baltimore/raw/BPD_Part_1_Victim_Based_Crime_Data.csv', \n",
    "                 col_lon='Longitude', col_lat='Latitude', col_date='CrimeDate', to_epsg=3559)"
   ]
  },
  {
   "cell_type": "code",
   "execution_count": 6,
   "metadata": {
    "collapsed": true
   },
   "outputs": [],
   "source": [
    "d911 = prep_911()"
   ]
  },
  {
   "cell_type": "code",
   "execution_count": 7,
   "metadata": {
    "collapsed": true
   },
   "outputs": [],
   "source": [
    "tune_sd = '2013-01-01'\n",
    "tune_ed = '2013-12-31'\n",
    "train_tw = 60\n",
    "vstep = 1\n",
    "vtw = 1\n",
    "vsd = '2015-03-02'\n",
    "ved = '2015-03-10'\n",
    "grid_size=200"
   ]
  },
  {
   "cell_type": "code",
   "execution_count": 8,
   "metadata": {},
   "outputs": [
    {
     "data": {
      "text/plain": [
       "'2013-01-01'"
      ]
     },
     "execution_count": 8,
     "metadata": {},
     "output_type": "execute_result"
    }
   ],
   "source": [
    "crimes.index[0].strftime('%Y-%m-%d')"
   ]
  },
  {
   "cell_type": "code",
   "execution_count": 9,
   "metadata": {
    "collapsed": true
   },
   "outputs": [],
   "source": [
    "grids = baltimore_grids(grid_size=grid_size)"
   ]
  },
  {
   "cell_type": "markdown",
   "metadata": {},
   "source": [
    "# for each tune period"
   ]
  },
  {
   "cell_type": "code",
   "execution_count": 10,
   "metadata": {
    "collapsed": true
   },
   "outputs": [],
   "source": [
    "metrics = [\n",
    "    eval_metric.hit_rate_auc, eval_metric.search_efficient_rate_auc,\n",
    "    eval_metric.prediction_accuracy_index_auc, eval_metric.area_to_perimeter_ratio_auc,\n",
    "    eval_metric.hit_rate_bin, eval_metric.search_efficient_rate_bin,\n",
    "    eval_metric.prediction_accuracy_index_bin, eval_metric.area_to_perimeter_ratio_bin,\n",
    "]"
   ]
  },
  {
   "cell_type": "code",
   "execution_count": 11,
   "metadata": {
    "collapsed": true
   },
   "outputs": [],
   "source": [
    "# method.tune(data.loc[tune_sd:tune_ed].coords, cv=10, bw_choice=[10, 100, 200, 300, 400, 500], n_jobs=4)"
   ]
  },
  {
   "cell_type": "code",
   "execution_count": 12,
   "metadata": {
    "collapsed": true
   },
   "outputs": [
    {
     "name": "stdout",
     "output_type": "stream",
     "text": [
      "Bower method: weighted by distance and time, bandwidth=400, time window=60, verbose=0\n",
      "5991 10\n",
      "5991 10\n",
      "5991 10\n",
      "5991 10\n",
      "5991 10\n",
      "5991 10\n",
      "5991 10\n",
      "5991 10\n",
      "5991 10\n",
      "5991 10\n",
      "5991 10\n",
      "5991 10\n",
      "5991 10\n",
      "5991 10\n",
      "5991 10\n",
      "5991 10\n",
      "5991 10\n",
      "5991 10\n",
      "5991 10\n",
      "5991 10\n",
      "5991 10\n",
      "5991 10\n",
      "5991 10\n",
      "5991 10\n",
      "5991 10\n",
      "5991 10\n",
      "5991 10\n",
      "5991 10\n",
      "5991 10\n",
      "5991 10\n",
      "5991 10\n",
      "5991 10\n",
      "5991 10\n",
      "5991 10\n",
      "5991 10\n",
      "5991 10\n"
     ]
    }
   ],
   "source": [
    "verbose = 0\n",
    "bower = Bower(grid_size, bw=400, tw=train_tw, verbose=verbose)\n",
    "print(bower)\n",
    "tmroller_bower = TM_ROLLER(bower, crimes.Coords, crimes.Coords, vsd, ved, roll_step=vstep, eval_tw=vtw, verbose=verbose)\n",
    "res_bower = tmroller_bower.eval(metrics, grids)"
   ]
  },
  {
   "cell_type": "code",
   "execution_count": 13,
   "metadata": {
    "collapsed": true
   },
   "outputs": [
    {
     "name": "stdout",
     "output_type": "stream",
     "text": [
      "KDE(bandwidth=400, timewindow=60, verbose=0)\n",
      "5991 10\n",
      "5991 10\n",
      "5991 10\n",
      "5991 10\n",
      "5991 10\n",
      "5991 10\n",
      "5991 10\n",
      "5991 10\n",
      "5991 10\n",
      "5991 10\n",
      "5991 10\n",
      "5991 10\n",
      "5991 10\n",
      "5991 10\n",
      "5991 10\n",
      "5991 10\n",
      "5991 10\n",
      "5991 10\n",
      "5991 10\n",
      "5991 10\n",
      "5991 10\n",
      "5991 10\n",
      "5991 10\n",
      "5991 10\n",
      "5991 10\n",
      "5991 10\n",
      "5991 10\n",
      "5991 10\n",
      "5991 10\n",
      "5991 10\n",
      "5991 10\n",
      "5991 10\n",
      "5991 10\n",
      "5991 10\n",
      "5991 10\n",
      "5991 10\n"
     ]
    }
   ],
   "source": [
    "verbose = 0\n",
    "# method = KDE(verbose=1, bw=400)\n",
    "kde = KDE(bw=400, tw=train_tw, verbose=verbose)\n",
    "print(kde)\n",
    "tmroller_kde = TM_ROLLER(kde, crimes.Coords, crimes.Coords, vsd, ved, roll_step=vstep, eval_tw=vtw, verbose=verbose)\n",
    "res_kde = tmroller_kde.eval(metrics, grids)"
   ]
  },
  {
   "cell_type": "code",
   "execution_count": 14,
   "metadata": {
    "scrolled": true
   },
   "outputs": [
    {
     "name": "stdout",
     "output_type": "stream",
     "text": [
      "RTM with bandwidth=400 meters, grid size=200 meters, time window=60 days\n",
      "5991 10\n",
      "5991 10\n",
      "5991 10\n",
      "5991 10\n",
      "5991 10\n",
      "5991 10\n",
      "5991 10\n",
      "5991 10\n",
      "5991 10\n",
      "5991 10\n",
      "5991 10\n",
      "5991 10\n",
      "5991 10\n",
      "5991 10\n",
      "5991 10\n",
      "5991 10\n",
      "5991 10\n",
      "5991 10\n",
      "5991 10\n",
      "5991 10\n",
      "5991 10\n",
      "5991 10\n",
      "5991 10\n",
      "5991 10\n",
      "5991 10\n",
      "5991 10\n",
      "5991 10\n",
      "5991 10\n",
      "5991 10\n",
      "5991 10\n",
      "5991 10\n",
      "5991 10\n",
      "5991 10\n",
      "5991 10\n",
      "5991 10\n",
      "5991 10\n"
     ]
    }
   ],
   "source": [
    "verbose=0\n",
    "rtm = RTM(grid_size=grid_size, bw=400, tw=train_tw, verbose=verbose)\n",
    "print(rtm)\n",
    "tmroller_rtm = TM_ROLLER(rtm, d911, crimes.Coords, vsd, ved, roll_step=vstep, eval_tw=vtw, verbose=verbose)\n",
    "res_rtm = tmroller_rtm.eval(metrics, grids)"
   ]
  },
  {
   "cell_type": "code",
   "execution_count": null,
   "metadata": {
    "collapsed": true
   },
   "outputs": [],
   "source": [
    ""
   ]
  },
  {
   "cell_type": "code",
   "execution_count": 16,
   "metadata": {
    "scrolled": true
   },
   "outputs": [
    {
     "name": "stdout",
     "output_type": "stream",
     "text": [
      "hit_rate_bin ['hit_rate_auc', 'search_efficient_rate_auc', 'prediction_accuracy_index_auc', 'area_to_perimeter_ratio_auc', 'hit_rate_bin', 'search_efficient_rate_bin', 'prediction_accuracy_index_bin', 'area_to_perimeter_ratio_bin']\n"
     ]
    },
    {
     "data": {
      "text/html": [
       "<div>\n",
       "<style>\n",
       "    .dataframe thead tr:only-child th {\n",
       "        text-align: right;\n",
       "    }\n",
       "\n",
       "    .dataframe thead th {\n",
       "        text-align: left;\n",
       "    }\n",
       "\n",
       "    .dataframe tbody tr th {\n",
       "        vertical-align: top;\n",
       "    }\n",
       "</style>\n",
       "<table border=\"1\" class=\"dataframe\">\n",
       "  <thead>\n",
       "    <tr style=\"text-align: right;\">\n",
       "      <th></th>\n",
       "      <th>2015-03-02~2015-03-02</th>\n",
       "      <th>2015-03-03~2015-03-03</th>\n",
       "      <th>2015-03-04~2015-03-04</th>\n",
       "      <th>2015-03-05~2015-03-05</th>\n",
       "      <th>2015-03-06~2015-03-06</th>\n",
       "      <th>2015-03-07~2015-03-07</th>\n",
       "      <th>2015-03-08~2015-03-08</th>\n",
       "      <th>2015-03-09~2015-03-09</th>\n",
       "      <th>2015-03-10~2015-03-10</th>\n",
       "    </tr>\n",
       "  </thead>\n",
       "  <tbody>\n",
       "    <tr>\n",
       "      <th>bin&gt;=1</th>\n",
       "      <td>0.093333</td>\n",
       "      <td>0.058824</td>\n",
       "      <td>0.157895</td>\n",
       "      <td>0.111111</td>\n",
       "      <td>0.134831</td>\n",
       "      <td>0.160494</td>\n",
       "      <td>0.080808</td>\n",
       "      <td>0.102273</td>\n",
       "      <td>0.140351</td>\n",
       "    </tr>\n",
       "    <tr>\n",
       "      <th>bin&gt;=2</th>\n",
       "      <td>0.306667</td>\n",
       "      <td>0.264706</td>\n",
       "      <td>0.326316</td>\n",
       "      <td>0.296296</td>\n",
       "      <td>0.370787</td>\n",
       "      <td>0.308642</td>\n",
       "      <td>0.353535</td>\n",
       "      <td>0.272727</td>\n",
       "      <td>0.307018</td>\n",
       "    </tr>\n",
       "    <tr>\n",
       "      <th>bin&gt;=3</th>\n",
       "      <td>0.560000</td>\n",
       "      <td>0.509804</td>\n",
       "      <td>0.547368</td>\n",
       "      <td>0.592593</td>\n",
       "      <td>0.595506</td>\n",
       "      <td>0.518519</td>\n",
       "      <td>0.525253</td>\n",
       "      <td>0.500000</td>\n",
       "      <td>0.578947</td>\n",
       "    </tr>\n",
       "    <tr>\n",
       "      <th>bin&gt;=4</th>\n",
       "      <td>0.733333</td>\n",
       "      <td>0.715686</td>\n",
       "      <td>0.715789</td>\n",
       "      <td>0.833333</td>\n",
       "      <td>0.764045</td>\n",
       "      <td>0.802469</td>\n",
       "      <td>0.707071</td>\n",
       "      <td>0.784091</td>\n",
       "      <td>0.754386</td>\n",
       "    </tr>\n",
       "    <tr>\n",
       "      <th>bin&gt;=5</th>\n",
       "      <td>1.000000</td>\n",
       "      <td>1.000000</td>\n",
       "      <td>1.000000</td>\n",
       "      <td>1.000000</td>\n",
       "      <td>1.000000</td>\n",
       "      <td>1.000000</td>\n",
       "      <td>1.000000</td>\n",
       "      <td>1.000000</td>\n",
       "      <td>1.000000</td>\n",
       "    </tr>\n",
       "  </tbody>\n",
       "</table>\n",
       "</div>"
      ],
      "text/plain": [
       "        2015-03-02~2015-03-02  2015-03-03~2015-03-03  2015-03-04~2015-03-04  \\\n",
       "bin>=1               0.093333               0.058824               0.157895   \n",
       "bin>=2               0.306667               0.264706               0.326316   \n",
       "bin>=3               0.560000               0.509804               0.547368   \n",
       "bin>=4               0.733333               0.715686               0.715789   \n",
       "bin>=5               1.000000               1.000000               1.000000   \n",
       "\n",
       "        2015-03-05~2015-03-05  2015-03-06~2015-03-06  2015-03-07~2015-03-07  \\\n",
       "bin>=1               0.111111               0.134831               0.160494   \n",
       "bin>=2               0.296296               0.370787               0.308642   \n",
       "bin>=3               0.592593               0.595506               0.518519   \n",
       "bin>=4               0.833333               0.764045               0.802469   \n",
       "bin>=5               1.000000               1.000000               1.000000   \n",
       "\n",
       "        2015-03-08~2015-03-08  2015-03-09~2015-03-09  2015-03-10~2015-03-10  \n",
       "bin>=1               0.080808               0.102273               0.140351  \n",
       "bin>=2               0.353535               0.272727               0.307018  \n",
       "bin>=3               0.525253               0.500000               0.578947  \n",
       "bin>=4               0.707071               0.784091               0.754386  \n",
       "bin>=5               1.000000               1.000000               1.000000  "
      ]
     },
     "execution_count": 16,
     "metadata": {},
     "output_type": "execute_result"
    },
    {
     "data": {
      "image/png": "[encoded data removed]",
      "text/plain": [
       "<matplotlib.figure.Figure at 0x29b25ea5be0>"
      ]
     },
     "metadata": {},
     "output_type": "display_data"
    }
   ],
   "source": [
    "keys = list(res_rtm.keys())\n",
    "i= 4\n",
    "print(keys[i], keys)\n",
    "res_rtm[keys[i]].plot()\n",
    "res_rtm[keys[i]]"
   ]
  },
  {
   "cell_type": "code",
   "execution_count": 23,
   "metadata": {
    "scrolled": true
   },
   "outputs": [
    {
     "name": "stdout",
     "output_type": "stream",
     "text": [
      "['hit_rate_auc', 'search_efficient_rate_auc', 'prediction_accuracy_index_auc', 'area_to_perimeter_ratio_auc', 'hit_rate_bin', 'search_efficient_rate_bin', 'prediction_accuracy_index_bin', 'area_to_perimeter_ratio_bin'] prediction_accuracy_index_bin\n"
     ]
    },
    {
     "data": {
      "text/html": [
       "<div>\n",
       "<style>\n",
       "    .dataframe thead tr:only-child th {\n",
       "        text-align: right;\n",
       "    }\n",
       "\n",
       "    .dataframe thead th {\n",
       "        text-align: left;\n",
       "    }\n",
       "\n",
       "    .dataframe tbody tr th {\n",
       "        vertical-align: top;\n",
       "    }\n",
       "</style>\n",
       "<table border=\"1\" class=\"dataframe\">\n",
       "  <thead>\n",
       "    <tr style=\"text-align: right;\">\n",
       "      <th></th>\n",
       "      <th>2015-03-02~2015-03-02</th>\n",
       "      <th>2015-03-03~2015-03-03</th>\n",
       "      <th>2015-03-04~2015-03-04</th>\n",
       "      <th>2015-03-05~2015-03-05</th>\n",
       "      <th>2015-03-06~2015-03-06</th>\n",
       "      <th>2015-03-07~2015-03-07</th>\n",
       "      <th>2015-03-08~2015-03-08</th>\n",
       "      <th>2015-03-09~2015-03-09</th>\n",
       "      <th>2015-03-10~2015-03-10</th>\n",
       "    </tr>\n",
       "  </thead>\n",
       "  <tbody>\n",
       "    <tr>\n",
       "      <th>bin&gt;=1</th>\n",
       "      <td>0.000000</td>\n",
       "      <td>4.195378</td>\n",
       "      <td>14.014035</td>\n",
       "      <td>5.042929</td>\n",
       "      <td>14.023876</td>\n",
       "      <td>6.163580</td>\n",
       "      <td>7.564394</td>\n",
       "      <td>14.588474</td>\n",
       "      <td>8.758772</td>\n",
       "    </tr>\n",
       "    <tr>\n",
       "      <th>bin&gt;=2</th>\n",
       "      <td>6.656667</td>\n",
       "      <td>6.407487</td>\n",
       "      <td>11.188625</td>\n",
       "      <td>3.522046</td>\n",
       "      <td>9.221179</td>\n",
       "      <td>8.805115</td>\n",
       "      <td>3.782197</td>\n",
       "      <td>7.091619</td>\n",
       "      <td>9.652524</td>\n",
       "    </tr>\n",
       "    <tr>\n",
       "      <th>bin&gt;=3</th>\n",
       "      <td>2.912292</td>\n",
       "      <td>6.221959</td>\n",
       "      <td>5.505514</td>\n",
       "      <td>5.763348</td>\n",
       "      <td>6.397669</td>\n",
       "      <td>8.117886</td>\n",
       "      <td>5.134619</td>\n",
       "      <td>6.465655</td>\n",
       "      <td>6.644586</td>\n",
       "    </tr>\n",
       "    <tr>\n",
       "      <th>bin&gt;=4</th>\n",
       "      <td>3.307134</td>\n",
       "      <td>3.256938</td>\n",
       "      <td>3.019599</td>\n",
       "      <td>3.444183</td>\n",
       "      <td>3.371861</td>\n",
       "      <td>3.281633</td>\n",
       "      <td>3.761208</td>\n",
       "      <td>3.831316</td>\n",
       "      <td>3.468239</td>\n",
       "    </tr>\n",
       "    <tr>\n",
       "      <th>bin&gt;=5</th>\n",
       "      <td>1.000000</td>\n",
       "      <td>1.000000</td>\n",
       "      <td>1.000000</td>\n",
       "      <td>1.000000</td>\n",
       "      <td>1.000000</td>\n",
       "      <td>1.000000</td>\n",
       "      <td>1.000000</td>\n",
       "      <td>1.000000</td>\n",
       "      <td>1.000000</td>\n",
       "    </tr>\n",
       "  </tbody>\n",
       "</table>\n",
       "</div>"
      ],
      "text/plain": [
       "        2015-03-02~2015-03-02  2015-03-03~2015-03-03  2015-03-04~2015-03-04  \\\n",
       "bin>=1               0.000000               4.195378              14.014035   \n",
       "bin>=2               6.656667               6.407487              11.188625   \n",
       "bin>=3               2.912292               6.221959               5.505514   \n",
       "bin>=4               3.307134               3.256938               3.019599   \n",
       "bin>=5               1.000000               1.000000               1.000000   \n",
       "\n",
       "        2015-03-05~2015-03-05  2015-03-06~2015-03-06  2015-03-07~2015-03-07  \\\n",
       "bin>=1               5.042929              14.023876               6.163580   \n",
       "bin>=2               3.522046               9.221179               8.805115   \n",
       "bin>=3               5.763348               6.397669               8.117886   \n",
       "bin>=4               3.444183               3.371861               3.281633   \n",
       "bin>=5               1.000000               1.000000               1.000000   \n",
       "\n",
       "        2015-03-08~2015-03-08  2015-03-09~2015-03-09  2015-03-10~2015-03-10  \n",
       "bin>=1               7.564394              14.588474               8.758772  \n",
       "bin>=2               3.782197               7.091619               9.652524  \n",
       "bin>=3               5.134619               6.465655               6.644586  \n",
       "bin>=4               3.761208               3.831316               3.468239  \n",
       "bin>=5               1.000000               1.000000               1.000000  "
      ]
     },
     "execution_count": 23,
     "metadata": {},
     "output_type": "execute_result"
    },
    {
     "data": {
      "image/png": "[encoded data removed]",
      "text/plain": [
       "<matplotlib.figure.Figure at 0x29b2ae3b9e8>"
      ]
     },
     "metadata": {},
     "output_type": "display_data"
    }
   ],
   "source": [
    "keys = list(res_bower.keys())\n",
    "i= 6\n",
    "print(keys, keys[i])\n",
    "res_bower[keys[i]].plot()\n",
    "res_bower[keys[i]]"
   ]
  },
  {
   "cell_type": "code",
   "execution_count": 28,
   "metadata": {
    "scrolled": true
   },
   "outputs": [
    {
     "name": "stdout",
     "output_type": "stream",
     "text": [
      "['hit_rate_auc', 'search_efficient_rate_auc', 'prediction_accuracy_index_auc', 'area_to_perimeter_ratio_auc', 'hit_rate_bin', 'search_efficient_rate_bin', 'prediction_accuracy_index_bin', 'area_to_perimeter_ratio_bin'] area_to_perimeter_ratio_bin\n"
     ]
    },
    {
     "data": {
      "text/html": [
       "<div>\n",
       "<style>\n",
       "    .dataframe thead tr:only-child th {\n",
       "        text-align: right;\n",
       "    }\n",
       "\n",
       "    .dataframe thead th {\n",
       "        text-align: left;\n",
       "    }\n",
       "\n",
       "    .dataframe tbody tr th {\n",
       "        vertical-align: top;\n",
       "    }\n",
       "</style>\n",
       "<table border=\"1\" class=\"dataframe\">\n",
       "  <thead>\n",
       "    <tr style=\"text-align: right;\">\n",
       "      <th></th>\n",
       "      <th>2015-03-02~2015-03-02</th>\n",
       "      <th>2015-03-03~2015-03-03</th>\n",
       "      <th>2015-03-04~2015-03-04</th>\n",
       "      <th>2015-03-05~2015-03-05</th>\n",
       "      <th>2015-03-06~2015-03-06</th>\n",
       "      <th>2015-03-07~2015-03-07</th>\n",
       "      <th>2015-03-08~2015-03-08</th>\n",
       "      <th>2015-03-09~2015-03-09</th>\n",
       "      <th>2015-03-10~2015-03-10</th>\n",
       "    </tr>\n",
       "  </thead>\n",
       "  <tbody>\n",
       "    <tr>\n",
       "      <th>bin&gt;=1</th>\n",
       "      <td>179.166667</td>\n",
       "      <td>175.000000</td>\n",
       "      <td>178.260870</td>\n",
       "      <td>185.714286</td>\n",
       "      <td>184.210526</td>\n",
       "      <td>163.157895</td>\n",
       "      <td>168.421053</td>\n",
       "      <td>173.684211</td>\n",
       "      <td>173.684211</td>\n",
       "    </tr>\n",
       "    <tr>\n",
       "      <th>bin&gt;=2</th>\n",
       "      <td>278.723404</td>\n",
       "      <td>267.346939</td>\n",
       "      <td>260.784314</td>\n",
       "      <td>262.000000</td>\n",
       "      <td>248.000000</td>\n",
       "      <td>255.000000</td>\n",
       "      <td>257.500000</td>\n",
       "      <td>256.818182</td>\n",
       "      <td>256.818182</td>\n",
       "    </tr>\n",
       "    <tr>\n",
       "      <th>bin&gt;=3</th>\n",
       "      <td>549.056604</td>\n",
       "      <td>551.428571</td>\n",
       "      <td>552.380952</td>\n",
       "      <td>544.859813</td>\n",
       "      <td>553.398058</td>\n",
       "      <td>512.500000</td>\n",
       "      <td>520.388350</td>\n",
       "      <td>539.215686</td>\n",
       "      <td>542.156863</td>\n",
       "    </tr>\n",
       "    <tr>\n",
       "      <th>bin&gt;=4</th>\n",
       "      <td>655.133080</td>\n",
       "      <td>662.977099</td>\n",
       "      <td>669.260700</td>\n",
       "      <td>660.231660</td>\n",
       "      <td>646.360153</td>\n",
       "      <td>655.510204</td>\n",
       "      <td>647.600000</td>\n",
       "      <td>639.525692</td>\n",
       "      <td>655.284553</td>\n",
       "    </tr>\n",
       "    <tr>\n",
       "      <th>bin&gt;=5</th>\n",
       "      <td>3423.428571</td>\n",
       "      <td>3423.428571</td>\n",
       "      <td>3423.428571</td>\n",
       "      <td>3423.428571</td>\n",
       "      <td>3423.428571</td>\n",
       "      <td>3423.428571</td>\n",
       "      <td>3423.428571</td>\n",
       "      <td>3423.428571</td>\n",
       "      <td>3423.428571</td>\n",
       "    </tr>\n",
       "  </tbody>\n",
       "</table>\n",
       "</div>"
      ],
      "text/plain": [
       "        2015-03-02~2015-03-02  2015-03-03~2015-03-03  2015-03-04~2015-03-04  \\\n",
       "bin>=1             179.166667             175.000000             178.260870   \n",
       "bin>=2             278.723404             267.346939             260.784314   \n",
       "bin>=3             549.056604             551.428571             552.380952   \n",
       "bin>=4             655.133080             662.977099             669.260700   \n",
       "bin>=5            3423.428571            3423.428571            3423.428571   \n",
       "\n",
       "        2015-03-05~2015-03-05  2015-03-06~2015-03-06  2015-03-07~2015-03-07  \\\n",
       "bin>=1             185.714286             184.210526             163.157895   \n",
       "bin>=2             262.000000             248.000000             255.000000   \n",
       "bin>=3             544.859813             553.398058             512.500000   \n",
       "bin>=4             660.231660             646.360153             655.510204   \n",
       "bin>=5            3423.428571            3423.428571            3423.428571   \n",
       "\n",
       "        2015-03-08~2015-03-08  2015-03-09~2015-03-09  2015-03-10~2015-03-10  \n",
       "bin>=1             168.421053             173.684211             173.684211  \n",
       "bin>=2             257.500000             256.818182             256.818182  \n",
       "bin>=3             520.388350             539.215686             542.156863  \n",
       "bin>=4             647.600000             639.525692             655.284553  \n",
       "bin>=5            3423.428571            3423.428571            3423.428571  "
      ]
     },
     "execution_count": 28,
     "metadata": {},
     "output_type": "execute_result"
    },
    {
     "data": {
      "image/png": "[encoded data removed]",
      "text/plain": [
       "<matplotlib.figure.Figure at 0x29b2618e6a0>"
      ]
     },
     "metadata": {},
     "output_type": "display_data"
    }
   ],
   "source": [
    "keys = list(res_kde.keys())\n",
    "i= 7\n",
    "print(keys, keys[i])\n",
    "res_kde[keys[i]].plot()\n",
    "res_kde[keys[i]]"
   ]
  },
  {
   "cell_type": "code",
   "execution_count": null,
   "metadata": {
    "collapsed": true
   },
   "outputs": [],
   "source": [
    ""
   ]
  },
  {
   "cell_type": "code",
   "execution_count": null,
   "metadata": {
    "collapsed": true
   },
   "outputs": [],
   "source": [
    ""
   ]
  },
  {
   "cell_type": "code",
   "execution_count": 44,
   "metadata": {},
   "outputs": [
    {
     "data": {
      "text/html": [
       "<div>\n",
       "<style>\n",
       "    .dataframe thead tr:only-child th {\n",
       "        text-align: right;\n",
       "    }\n",
       "\n",
       "    .dataframe thead th {\n",
       "        text-align: left;\n",
       "    }\n",
       "\n",
       "    .dataframe tbody tr th {\n",
       "        vertical-align: top;\n",
       "    }\n",
       "</style>\n",
       "<table border=\"1\" class=\"dataframe\">\n",
       "  <thead>\n",
       "    <tr style=\"text-align: right;\">\n",
       "      <th></th>\n",
       "      <th>2014-03-02~2014-03-02</th>\n",
       "      <th>2014-03-03~2014-03-03</th>\n",
       "      <th>2014-03-04~2014-03-04</th>\n",
       "      <th>2014-03-05~2014-03-05</th>\n",
       "      <th>2014-03-06~2014-03-06</th>\n",
       "      <th>2014-03-07~2014-03-07</th>\n",
       "      <th>2014-03-08~2014-03-08</th>\n",
       "      <th>2014-03-09~2014-03-09</th>\n",
       "      <th>2014-03-10~2014-03-10</th>\n",
       "    </tr>\n",
       "  </thead>\n",
       "  <tbody>\n",
       "    <tr>\n",
       "      <th>10%</th>\n",
       "      <td>0.470588</td>\n",
       "      <td>0.438596</td>\n",
       "      <td>0.432990</td>\n",
       "      <td>0.398058</td>\n",
       "      <td>0.411215</td>\n",
       "      <td>0.422018</td>\n",
       "      <td>0.519231</td>\n",
       "      <td>0.397849</td>\n",
       "      <td>0.435115</td>\n",
       "    </tr>\n",
       "    <tr>\n",
       "      <th>20%</th>\n",
       "      <td>0.717647</td>\n",
       "      <td>0.631579</td>\n",
       "      <td>0.711340</td>\n",
       "      <td>0.533981</td>\n",
       "      <td>0.523364</td>\n",
       "      <td>0.669725</td>\n",
       "      <td>0.625000</td>\n",
       "      <td>0.602151</td>\n",
       "      <td>0.625954</td>\n",
       "    </tr>\n",
       "    <tr>\n",
       "      <th>30%</th>\n",
       "      <td>0.811765</td>\n",
       "      <td>0.736842</td>\n",
       "      <td>0.793814</td>\n",
       "      <td>0.640777</td>\n",
       "      <td>0.663551</td>\n",
       "      <td>0.798165</td>\n",
       "      <td>0.711538</td>\n",
       "      <td>0.795699</td>\n",
       "      <td>0.709924</td>\n",
       "    </tr>\n",
       "    <tr>\n",
       "      <th>40%</th>\n",
       "      <td>0.858824</td>\n",
       "      <td>0.877193</td>\n",
       "      <td>0.855670</td>\n",
       "      <td>0.825243</td>\n",
       "      <td>0.785047</td>\n",
       "      <td>0.899083</td>\n",
       "      <td>0.836538</td>\n",
       "      <td>0.913978</td>\n",
       "      <td>0.847328</td>\n",
       "    </tr>\n",
       "    <tr>\n",
       "      <th>50%</th>\n",
       "      <td>0.976471</td>\n",
       "      <td>0.929825</td>\n",
       "      <td>0.907216</td>\n",
       "      <td>0.883495</td>\n",
       "      <td>0.906542</td>\n",
       "      <td>0.944954</td>\n",
       "      <td>0.923077</td>\n",
       "      <td>0.956989</td>\n",
       "      <td>0.923664</td>\n",
       "    </tr>\n",
       "    <tr>\n",
       "      <th>60%</th>\n",
       "      <td>0.988235</td>\n",
       "      <td>0.964912</td>\n",
       "      <td>0.948454</td>\n",
       "      <td>0.951456</td>\n",
       "      <td>0.953271</td>\n",
       "      <td>0.972477</td>\n",
       "      <td>0.942308</td>\n",
       "      <td>1.000000</td>\n",
       "      <td>0.992366</td>\n",
       "    </tr>\n",
       "    <tr>\n",
       "      <th>70%</th>\n",
       "      <td>1.000000</td>\n",
       "      <td>0.964912</td>\n",
       "      <td>0.969072</td>\n",
       "      <td>0.990291</td>\n",
       "      <td>0.990654</td>\n",
       "      <td>1.000000</td>\n",
       "      <td>0.961538</td>\n",
       "      <td>1.000000</td>\n",
       "      <td>1.000000</td>\n",
       "    </tr>\n",
       "    <tr>\n",
       "      <th>80%</th>\n",
       "      <td>1.000000</td>\n",
       "      <td>0.982456</td>\n",
       "      <td>1.000000</td>\n",
       "      <td>1.000000</td>\n",
       "      <td>1.000000</td>\n",
       "      <td>1.000000</td>\n",
       "      <td>1.000000</td>\n",
       "      <td>1.000000</td>\n",
       "      <td>1.000000</td>\n",
       "    </tr>\n",
       "    <tr>\n",
       "      <th>90%</th>\n",
       "      <td>1.000000</td>\n",
       "      <td>0.982456</td>\n",
       "      <td>1.000000</td>\n",
       "      <td>1.000000</td>\n",
       "      <td>1.000000</td>\n",
       "      <td>1.000000</td>\n",
       "      <td>1.000000</td>\n",
       "      <td>1.000000</td>\n",
       "      <td>1.000000</td>\n",
       "    </tr>\n",
       "    <tr>\n",
       "      <th>100%</th>\n",
       "      <td>1.000000</td>\n",
       "      <td>1.000000</td>\n",
       "      <td>1.000000</td>\n",
       "      <td>1.000000</td>\n",
       "      <td>1.000000</td>\n",
       "      <td>1.000000</td>\n",
       "      <td>1.000000</td>\n",
       "      <td>1.000000</td>\n",
       "      <td>1.000000</td>\n",
       "    </tr>\n",
       "  </tbody>\n",
       "</table>\n",
       "</div>"
      ],
      "text/plain": [
       "      2014-03-02~2014-03-02  2014-03-03~2014-03-03  2014-03-04~2014-03-04  \\\n",
       "10%                0.470588               0.438596               0.432990   \n",
       "20%                0.717647               0.631579               0.711340   \n",
       "30%                0.811765               0.736842               0.793814   \n",
       "40%                0.858824               0.877193               0.855670   \n",
       "50%                0.976471               0.929825               0.907216   \n",
       "60%                0.988235               0.964912               0.948454   \n",
       "70%                1.000000               0.964912               0.969072   \n",
       "80%                1.000000               0.982456               1.000000   \n",
       "90%                1.000000               0.982456               1.000000   \n",
       "100%               1.000000               1.000000               1.000000   \n",
       "\n",
       "      2014-03-05~2014-03-05  2014-03-06~2014-03-06  2014-03-07~2014-03-07  \\\n",
       "10%                0.398058               0.411215               0.422018   \n",
       "20%                0.533981               0.523364               0.669725   \n",
       "30%                0.640777               0.663551               0.798165   \n",
       "40%                0.825243               0.785047               0.899083   \n",
       "50%                0.883495               0.906542               0.944954   \n",
       "60%                0.951456               0.953271               0.972477   \n",
       "70%                0.990291               0.990654               1.000000   \n",
       "80%                1.000000               1.000000               1.000000   \n",
       "90%                1.000000               1.000000               1.000000   \n",
       "100%               1.000000               1.000000               1.000000   \n",
       "\n",
       "      2014-03-08~2014-03-08  2014-03-09~2014-03-09  2014-03-10~2014-03-10  \n",
       "10%                0.519231               0.397849               0.435115  \n",
       "20%                0.625000               0.602151               0.625954  \n",
       "30%                0.711538               0.795699               0.709924  \n",
       "40%                0.836538               0.913978               0.847328  \n",
       "50%                0.923077               0.956989               0.923664  \n",
       "60%                0.942308               1.000000               0.992366  \n",
       "70%                0.961538               1.000000               1.000000  \n",
       "80%                1.000000               1.000000               1.000000  \n",
       "90%                1.000000               1.000000               1.000000  \n",
       "100%               1.000000               1.000000               1.000000  "
      ]
     },
     "execution_count": 44,
     "metadata": {},
     "output_type": "execute_result"
    }
   ],
   "source": [
    "# Bower method: weighted by distance and time, bandwidth=400, time window=60, verbose=1\n",
    "df"
   ]
  }
 ],
 "metadata": {
  "kernelspec": {
   "display_name": "Python 3",
   "language": "python",
   "name": "python3"
  },
  "language_info": {
   "codemirror_mode": {
    "name": "ipython",
    "version": 3.0
   },
   "file_extension": ".py",
   "mimetype": "text/x-python",
   "name": "python",
   "nbconvert_exporter": "python",
   "pygments_lexer": "ipython3",
   "version": "3.6.1"
  }
 },
 "nbformat": 4,
 "nbformat_minor": 0
}