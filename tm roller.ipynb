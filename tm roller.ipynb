{
 "cells": [
  {
   "cell_type": "code",
   "execution_count": 1,
   "metadata": {
    "collapsed": true
   },
   "outputs": [],
   "source": [
    "from importlib import reload"
   ]
  },
  {
   "cell_type": "code",
   "execution_count": 2,
   "metadata": {},
   "outputs": [],
   "source": [
    "import src.tm_roller; reload(src.tm_roller)\n",
    "\n",
    "import src.bsln_kde;reload(src.bsln_kde)\n",
    "\n",
    "from src.tm_roller import TM_ROLLER\n",
    "from src.bsln_kde import KDE, prep_data\n",
    "from src.spatial_unit import baltimore_grids\n",
    "from src.eval_metric import hit_rate\n"
   ]
  },
  {
   "cell_type": "code",
   "execution_count": 3,
   "metadata": {
    "collapsed": true
   },
   "outputs": [],
   "source": [
    "import geopandas as gp\n",
    "from shapely.geometry import Point"
   ]
  },
  {
   "cell_type": "code",
   "execution_count": 4,
   "metadata": {
    "collapsed": true
   },
   "outputs": [],
   "source": [
    "data = prep_data('data/open-baltimore/raw/BPD_Part_1_Victim_Based_Crime_Data.csv', \n",
    "                 col_lon='Longitude', col_lat='Latitude', col_date='CrimeDate', to_epsg=3559)"
   ]
  },
  {
   "cell_type": "code",
   "execution_count": 5,
   "metadata": {
    "collapsed": true
   },
   "outputs": [],
   "source": [
    "tune_sd = '2013-01-01'\n",
    "tune_ed = '2013-03-31'\n",
    "train_tw = 60\n",
    "vstep = 1\n",
    "vtw = 1\n",
    "vsd = '2014-03-02'\n",
    "ved = '2014-03-10'\n",
    "grid_size=200"
   ]
  },
  {
   "cell_type": "code",
   "execution_count": 6,
   "metadata": {
    "collapsed": true
   },
   "outputs": [],
   "source": [
    "grids = baltimore_grids(grid_size=grid_size)"
   ]
  },
  {
   "cell_type": "markdown",
   "metadata": {},
   "source": [
    "# for each tune period"
   ]
  },
  {
   "cell_type": "code",
   "execution_count": 7,
   "metadata": {
    "collapsed": true
   },
   "outputs": [],
   "source": [
    "method = KDE(verbose=1, bw=283.10344827586209)"
   ]
  },
  {
   "cell_type": "code",
   "execution_count": 8,
   "metadata": {},
   "outputs": [
    {
     "data": {
      "text/plain": [
       "'KDE(bandwidth=283.1034482758621, timewindow=60, verbose=1)'"
      ]
     },
     "execution_count": 8,
     "metadata": {},
     "output_type": "execute_result"
    }
   ],
   "source": [
    "str(method)"
   ]
  },
  {
   "cell_type": "code",
   "execution_count": 9,
   "metadata": {},
   "outputs": [],
   "source": [
    "# method.tune(data.loc[tune_sd:tune_ed].coords, cv=5, bw_choice=[10, 100])"
   ]
  },
  {
   "cell_type": "code",
   "execution_count": 10,
   "metadata": {
    "collapsed": true
   },
   "outputs": [],
   "source": [
    "tmroller = TM_ROLLER(method, data.coords, vsd, ved, step=vstep, tw=vtw)"
   ]
  },
  {
   "cell_type": "code",
   "execution_count": 11,
   "metadata": {
    "scrolled": false
   },
   "outputs": [],
   "source": [
    "res = tmroller.eval(hit_rate, grids)"
   ]
  },
  {
   "cell_type": "code",
   "execution_count": 12,
   "metadata": {},
   "outputs": [],
   "source": [
    "import pandas as pd"
   ]
  },
  {
   "cell_type": "code",
   "execution_count": 14,
   "metadata": {},
   "outputs": [],
   "source": [
    "df = pd.DataFrame.from_dict(res)"
   ]
  },
  {
   "cell_type": "code",
   "execution_count": 17,
   "metadata": {},
   "outputs": [
    {
     "data": {
      "text/html": [
       "<div>\n",
       "<style>\n",
       "    .dataframe thead tr:only-child th {\n",
       "        text-align: right;\n",
       "    }\n",
       "\n",
       "    .dataframe thead th {\n",
       "        text-align: left;\n",
       "    }\n",
       "\n",
       "    .dataframe tbody tr th {\n",
       "        vertical-align: top;\n",
       "    }\n",
       "</style>\n",
       "<table border=\"1\" class=\"dataframe\">\n",
       "  <thead>\n",
       "    <tr style=\"text-align: right;\">\n",
       "      <th></th>\n",
       "      <th>2014-03-02~2014-03-02</th>\n",
       "      <th>2014-03-03~2014-03-03</th>\n",
       "      <th>2014-03-04~2014-03-04</th>\n",
       "      <th>2014-03-05~2014-03-05</th>\n",
       "      <th>2014-03-06~2014-03-06</th>\n",
       "      <th>2014-03-07~2014-03-07</th>\n",
       "      <th>2014-03-08~2014-03-08</th>\n",
       "      <th>2014-03-09~2014-03-09</th>\n",
       "      <th>2014-03-10~2014-03-10</th>\n",
       "    </tr>\n",
       "  </thead>\n",
       "  <tbody>\n",
       "    <tr>\n",
       "      <th>10%</th>\n",
       "      <td>0.411765</td>\n",
       "      <td>0.350877</td>\n",
       "      <td>0.412371</td>\n",
       "      <td>0.417476</td>\n",
       "      <td>0.364486</td>\n",
       "      <td>0.394495</td>\n",
       "      <td>0.461538</td>\n",
       "      <td>0.365591</td>\n",
       "      <td>0.396947</td>\n",
       "    </tr>\n",
       "    <tr>\n",
       "      <th>20%</th>\n",
       "      <td>0.694118</td>\n",
       "      <td>0.614035</td>\n",
       "      <td>0.670103</td>\n",
       "      <td>0.524272</td>\n",
       "      <td>0.514019</td>\n",
       "      <td>0.605505</td>\n",
       "      <td>0.644231</td>\n",
       "      <td>0.580645</td>\n",
       "      <td>0.595420</td>\n",
       "    </tr>\n",
       "    <tr>\n",
       "      <th>30%</th>\n",
       "      <td>0.823529</td>\n",
       "      <td>0.701754</td>\n",
       "      <td>0.773196</td>\n",
       "      <td>0.631068</td>\n",
       "      <td>0.672897</td>\n",
       "      <td>0.724771</td>\n",
       "      <td>0.701923</td>\n",
       "      <td>0.709677</td>\n",
       "      <td>0.755725</td>\n",
       "    </tr>\n",
       "    <tr>\n",
       "      <th>40%</th>\n",
       "      <td>0.929412</td>\n",
       "      <td>0.859649</td>\n",
       "      <td>0.876289</td>\n",
       "      <td>0.776699</td>\n",
       "      <td>0.785047</td>\n",
       "      <td>0.853211</td>\n",
       "      <td>0.826923</td>\n",
       "      <td>0.870968</td>\n",
       "      <td>0.847328</td>\n",
       "    </tr>\n",
       "    <tr>\n",
       "      <th>50%</th>\n",
       "      <td>0.952941</td>\n",
       "      <td>0.964912</td>\n",
       "      <td>0.917526</td>\n",
       "      <td>0.893204</td>\n",
       "      <td>0.850467</td>\n",
       "      <td>0.944954</td>\n",
       "      <td>0.894231</td>\n",
       "      <td>0.935484</td>\n",
       "      <td>0.931298</td>\n",
       "    </tr>\n",
       "    <tr>\n",
       "      <th>60%</th>\n",
       "      <td>0.964706</td>\n",
       "      <td>0.964912</td>\n",
       "      <td>0.938144</td>\n",
       "      <td>0.961165</td>\n",
       "      <td>0.971963</td>\n",
       "      <td>0.981651</td>\n",
       "      <td>0.942308</td>\n",
       "      <td>0.978495</td>\n",
       "      <td>0.984733</td>\n",
       "    </tr>\n",
       "    <tr>\n",
       "      <th>70%</th>\n",
       "      <td>0.988235</td>\n",
       "      <td>0.964912</td>\n",
       "      <td>0.969072</td>\n",
       "      <td>1.000000</td>\n",
       "      <td>1.000000</td>\n",
       "      <td>1.000000</td>\n",
       "      <td>0.951923</td>\n",
       "      <td>1.000000</td>\n",
       "      <td>1.000000</td>\n",
       "    </tr>\n",
       "    <tr>\n",
       "      <th>80%</th>\n",
       "      <td>1.000000</td>\n",
       "      <td>1.000000</td>\n",
       "      <td>1.000000</td>\n",
       "      <td>1.000000</td>\n",
       "      <td>1.000000</td>\n",
       "      <td>1.000000</td>\n",
       "      <td>0.961538</td>\n",
       "      <td>1.000000</td>\n",
       "      <td>1.000000</td>\n",
       "    </tr>\n",
       "    <tr>\n",
       "      <th>90%</th>\n",
       "      <td>1.000000</td>\n",
       "      <td>1.000000</td>\n",
       "      <td>1.000000</td>\n",
       "      <td>1.000000</td>\n",
       "      <td>1.000000</td>\n",
       "      <td>1.000000</td>\n",
       "      <td>1.000000</td>\n",
       "      <td>1.000000</td>\n",
       "      <td>1.000000</td>\n",
       "    </tr>\n",
       "    <tr>\n",
       "      <th>100%</th>\n",
       "      <td>1.000000</td>\n",
       "      <td>1.000000</td>\n",
       "      <td>1.000000</td>\n",
       "      <td>1.000000</td>\n",
       "      <td>1.000000</td>\n",
       "      <td>1.000000</td>\n",
       "      <td>1.000000</td>\n",
       "      <td>1.000000</td>\n",
       "      <td>1.000000</td>\n",
       "    </tr>\n",
       "  </tbody>\n",
       "</table>\n",
       "</div>"
      ],
      "text/plain": [
       "      2014-03-02~2014-03-02  2014-03-03~2014-03-03  2014-03-04~2014-03-04  \\\n",
       "10%                0.411765               0.350877               0.412371   \n",
       "20%                0.694118               0.614035               0.670103   \n",
       "30%                0.823529               0.701754               0.773196   \n",
       "40%                0.929412               0.859649               0.876289   \n",
       "50%                0.952941               0.964912               0.917526   \n",
       "60%                0.964706               0.964912               0.938144   \n",
       "70%                0.988235               0.964912               0.969072   \n",
       "80%                1.000000               1.000000               1.000000   \n",
       "90%                1.000000               1.000000               1.000000   \n",
       "100%               1.000000               1.000000               1.000000   \n",
       "\n",
       "      2014-03-05~2014-03-05  2014-03-06~2014-03-06  2014-03-07~2014-03-07  \\\n",
       "10%                0.417476               0.364486               0.394495   \n",
       "20%                0.524272               0.514019               0.605505   \n",
       "30%                0.631068               0.672897               0.724771   \n",
       "40%                0.776699               0.785047               0.853211   \n",
       "50%                0.893204               0.850467               0.944954   \n",
       "60%                0.961165               0.971963               0.981651   \n",
       "70%                1.000000               1.000000               1.000000   \n",
       "80%                1.000000               1.000000               1.000000   \n",
       "90%                1.000000               1.000000               1.000000   \n",
       "100%               1.000000               1.000000               1.000000   \n",
       "\n",
       "      2014-03-08~2014-03-08  2014-03-09~2014-03-09  2014-03-10~2014-03-10  \n",
       "10%                0.461538               0.365591               0.396947  \n",
       "20%                0.644231               0.580645               0.595420  \n",
       "30%                0.701923               0.709677               0.755725  \n",
       "40%                0.826923               0.870968               0.847328  \n",
       "50%                0.894231               0.935484               0.931298  \n",
       "60%                0.942308               0.978495               0.984733  \n",
       "70%                0.951923               1.000000               1.000000  \n",
       "80%                0.961538               1.000000               1.000000  \n",
       "90%                1.000000               1.000000               1.000000  \n",
       "100%               1.000000               1.000000               1.000000  "
      ]
     },
     "execution_count": 17,
     "metadata": {},
     "output_type": "execute_result"
    }
   ],
   "source": [
    "df"
   ]
  },
  {
   "cell_type": "code",
   "execution_count": 15,
   "metadata": {
    "collapsed": true
   },
   "outputs": [],
   "source": [
    "%matplotlib inline"
   ]
  },
  {
   "cell_type": "code",
   "execution_count": 16,
   "metadata": {},
   "outputs": [
    {
     "data": {
      "text/plain": [
       "<matplotlib.axes._subplots.AxesSubplot at 0x22c44546b70>"
      ]
     },
     "execution_count": 16,
     "metadata": {},
     "output_type": "execute_result"
    },
    {
     "data": {
      "image/png": "[encoded data removed]",
      "text/plain": [
       "<matplotlib.figure.Figure at 0x22c43712400>"
      ]
     },
     "metadata": {},
     "output_type": "display_data"
    }
   ],
   "source": [
    "df.plot()"
   ]
  }
 ],
 "metadata": {
  "kernelspec": {
   "display_name": "Python 3",
   "language": "python",
   "name": "python3"
  },
  "language_info": {
   "codemirror_mode": {
    "name": "ipython",
    "version": 3
   },
   "file_extension": ".py",
   "mimetype": "text/x-python",
   "name": "python",
   "nbconvert_exporter": "python",
   "pygments_lexer": "ipython3",
   "version": "3.6.1"
  }
 },
 "nbformat": 4,
 "nbformat_minor": 2
}
