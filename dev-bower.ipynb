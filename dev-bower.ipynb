{
 "cells": [
  {
   "cell_type": "code",
   "execution_count": 1,
   "metadata": {
    "collapsed": true
   },
   "outputs": [],
   "source": [
    "import datetime\n",
    "import geopandas as gp\n",
    "from shapely.geometry import Point\n",
    "import pandas as pd"
   ]
  },
  {
   "cell_type": "code",
   "execution_count": 2,
   "metadata": {
    "collapsed": true
   },
   "outputs": [],
   "source": [
    "\n",
    "class Bower:\n",
    "    \"\"\"developed in:\n",
    "    Bowers, K.J. et al. 2004. Prospective Hot-SpottingThe Future of Crime Mapping?\n",
    "    The British journal of criminology. 44, 5 (Sep. 2004), 641–658.\n",
    "    \"\"\"\n",
    "    def __str__(self):\n",
    "        return (\n",
    "            'Bower method: weighted by distance and time,'\n",
    "            'bandwidth={}, time window={}, verbose={}'.format(\n",
    "                self.bw, self.tw, self.verbose))\n",
    "\n",
    "    def __init__(self, bw=400, tw=60, verbose=0):\n",
    "        \"\"\"\n",
    "\n",
    "        :param bw: bandwidth, int, default = 400\n",
    "        :param tw: time window, int, default = 60, number of days in the past to be considered\n",
    "        :param verbose: level of verbosity\n",
    "        \"\"\"\n",
    "        self.bw=bw\n",
    "        self.tw=tw\n",
    "        self.verbose=verbose\n",
    "        self.events=None\n",
    "\n",
    "    def fit(self, coords, last_date=None):\n",
    "        \"\"\"\n",
    "        :param coords: pd.Series\n",
    "            Indexed and sorted by Date, with values = coords\n",
    "        :param last_date: string (format='%Y-%m-%d') or DateTime, default None\n",
    "            the last date of the time window. If None, the last date of coords is used\n",
    "        \"\"\"\n",
    "        if self.tw is not None:\n",
    "            if last_date is None:\n",
    "                last_date = coords.index.max()\n",
    "            elif isinstance(last_date, str):\n",
    "                last_date = datetime.datetime.strptime(last_date, '%Y-%m-%d')\n",
    "            # pandas time index slice include both begin and last date,\n",
    "            # to have a time window=tw, the difference should be tw-1\n",
    "            begin_date = last_date - datetime.timedelta(days=self.tw - 1)\n",
    "            coords = coords.loc[begin_date:last_date]\n",
    "\n",
    "        events = gp.GeoDataFrame(coords.apply(lambda x: Point(*x))).rename(columns={'coords': 'geometry'})\n",
    "        self.events = events"
   ]
  },
  {
   "cell_type": "code",
   "execution_count": 3,
   "metadata": {
    "collapsed": true
   },
   "outputs": [],
   "source": [
    "tw = 60\n",
    "bw = 400\n",
    "verbose = 1\n",
    "\n",
    "bower = Bower(bw=bw, tw=tw, verbose=verbose)"
   ]
  },
  {
   "cell_type": "code",
   "execution_count": 4,
   "metadata": {
    "collapsed": true
   },
   "outputs": [],
   "source": [
    "from src.bsln_kde import prep_data\n",
    "from src.spatial_unit import baltimore_grids"
   ]
  },
  {
   "cell_type": "code",
   "execution_count": 5,
   "metadata": {
    "collapsed": true
   },
   "outputs": [],
   "source": [
    "grid_size = 200\n",
    "grids = baltimore_grids(grid_size=grid_size)"
   ]
  },
  {
   "cell_type": "code",
   "execution_count": 6,
   "metadata": {},
   "outputs": [],
   "source": [
    "data = prep_data('data/open-baltimore/raw/BPD_Part_1_Victim_Based_Crime_Data.csv', \n",
    "                 col_lon='Longitude', col_lat='Latitude', col_date='CrimeDate', to_epsg=3559)"
   ]
  },
  {
   "cell_type": "code",
   "execution_count": 7,
   "metadata": {
    "collapsed": true
   },
   "outputs": [],
   "source": [
    "coords = data.head(1000).coords"
   ]
  },
  {
   "cell_type": "code",
   "execution_count": 8,
   "metadata": {
    "collapsed": true
   },
   "outputs": [],
   "source": [
    "bower.fit(coords)"
   ]
  },
  {
   "cell_type": "code",
   "execution_count": null,
   "metadata": {
    "collapsed": true
   },
   "outputs": [],
   "source": [
    "bower.pred()"
   ]
  },
  {
   "cell_type": "code",
   "execution_count": 14,
   "metadata": {},
   "outputs": [
    {
     "data": {
      "text/html": [
       "<div>\n",
       "<style>\n",
       "    .dataframe thead tr:only-child th {\n",
       "        text-align: right;\n",
       "    }\n",
       "\n",
       "    .dataframe thead th {\n",
       "        text-align: left;\n",
       "    }\n",
       "\n",
       "    .dataframe tbody tr th {\n",
       "        vertical-align: top;\n",
       "    }\n",
       "</style>\n",
       "<table border=\"1\" class=\"dataframe\">\n",
       "  <thead>\n",
       "    <tr style=\"text-align: right;\">\n",
       "      <th></th>\n",
       "      <th>geometry</th>\n",
       "      <th>cen_coords</th>\n",
       "    </tr>\n",
       "  </thead>\n",
       "  <tbody>\n",
       "    <tr>\n",
       "      <th>1</th>\n",
       "      <td>POLYGON ((438677.7622064584 169997.5488773746,...</td>\n",
       "      <td>(438577.76220645837, 170097.54887737456)</td>\n",
       "    </tr>\n",
       "    <tr>\n",
       "      <th>3</th>\n",
       "      <td>POLYGON ((439077.7622064584 169997.5488773746,...</td>\n",
       "      <td>(438977.76220645837, 170097.54887737456)</td>\n",
       "    </tr>\n",
       "    <tr>\n",
       "      <th>5</th>\n",
       "      <td>POLYGON ((438077.7622064584 170197.5488773746,...</td>\n",
       "      <td>(437977.76220645837, 170297.54887737456)</td>\n",
       "    </tr>\n",
       "  </tbody>\n",
       "</table>\n",
       "</div>"
      ],
      "text/plain": [
       "                                            geometry  \\\n",
       "1  POLYGON ((438677.7622064584 169997.5488773746,...   \n",
       "3  POLYGON ((439077.7622064584 169997.5488773746,...   \n",
       "5  POLYGON ((438077.7622064584 170197.5488773746,...   \n",
       "\n",
       "                                 cen_coords  \n",
       "1  (438577.76220645837, 170097.54887737456)  \n",
       "3  (438977.76220645837, 170097.54887737456)  \n",
       "5  (437977.76220645837, 170297.54887737456)  "
      ]
     },
     "execution_count": 14,
     "metadata": {},
     "output_type": "execute_result"
    }
   ],
   "source": [
    "grids.iloc[[1,3,5]]"
   ]
  },
  {
   "cell_type": "code",
   "execution_count": 46,
   "metadata": {
    "collapsed": true
   },
   "outputs": [],
   "source": [
    "from shapely.geometry import Point"
   ]
  },
  {
   "cell_type": "code",
   "execution_count": 49,
   "metadata": {},
   "outputs": [],
   "source": [
    "data = grids.copy()\n",
    "data['geometry'] = data.cen_coords.apply(lambda x: Point(*x))\n",
    "data['geometry'] = data.buffer(bw)"
   ]
  },
  {
   "cell_type": "code",
   "execution_count": 52,
   "metadata": {
    "collapsed": true
   },
   "outputs": [],
   "source": [
    "events = gp.GeoDataFrame(coords.apply(lambda x: Point(*x))).rename(columns={'coords': 'geometry'}).reset_index()"
   ]
  },
  {
   "cell_type": "code",
   "execution_count": 53,
   "metadata": {},
   "outputs": [
    {
     "name": "stdout",
     "output_type": "stream",
     "text": [
      "Warning: CRS does not match!\n"
     ]
    }
   ],
   "source": [
    "joined = gp.sjoin(events, data)"
   ]
  },
  {
   "cell_type": "code",
   "execution_count": 90,
   "metadata": {},
   "outputs": [
    {
     "data": {
      "text/plain": [
       "array([5416, 5418, 5417, ..., 2895, 2894, 2972], dtype=int64)"
      ]
     },
     "execution_count": 90,
     "metadata": {},
     "output_type": "execute_result"
    }
   ],
   "source": [
    "joined.index_right.unique()"
   ]
  },
  {
   "cell_type": "code",
   "execution_count": 54,
   "metadata": {},
   "outputs": [],
   "source": [
    "tmp = joined[joined.index_right==5415]"
   ]
  },
  {
   "cell_type": "code",
   "execution_count": 55,
   "metadata": {},
   "outputs": [
    {
     "data": {
      "text/html": [
       "<div>\n",
       "<style>\n",
       "    .dataframe thead tr:only-child th {\n",
       "        text-align: right;\n",
       "    }\n",
       "\n",
       "    .dataframe thead th {\n",
       "        text-align: left;\n",
       "    }\n",
       "\n",
       "    .dataframe tbody tr th {\n",
       "        vertical-align: top;\n",
       "    }\n",
       "</style>\n",
       "<table border=\"1\" class=\"dataframe\">\n",
       "  <thead>\n",
       "    <tr style=\"text-align: right;\">\n",
       "      <th></th>\n",
       "      <th>Date</th>\n",
       "      <th>geometry</th>\n",
       "      <th>index_right</th>\n",
       "      <th>cen_coords</th>\n",
       "    </tr>\n",
       "  </thead>\n",
       "  <tbody>\n",
       "    <tr>\n",
       "      <th>531</th>\n",
       "      <td>2013-01-05</td>\n",
       "      <td>POINT (434738.7188744294 187554.2880562786)</td>\n",
       "      <td>5415</td>\n",
       "      <td>(434577.76220645837, 187897.5488773746)</td>\n",
       "    </tr>\n",
       "    <tr>\n",
       "      <th>683</th>\n",
       "      <td>2013-01-06</td>\n",
       "      <td>POINT (434868.8553430436 187751.372137545)</td>\n",
       "      <td>5415</td>\n",
       "      <td>(434577.76220645837, 187897.5488773746)</td>\n",
       "    </tr>\n",
       "    <tr>\n",
       "      <th>962</th>\n",
       "      <td>2013-01-08</td>\n",
       "      <td>POINT (434868.8553430436 187751.372137545)</td>\n",
       "      <td>5415</td>\n",
       "      <td>(434577.76220645837, 187897.5488773746)</td>\n",
       "    </tr>\n",
       "  </tbody>\n",
       "</table>\n",
       "</div>"
      ],
      "text/plain": [
       "          Date                                     geometry  index_right  \\\n",
       "531 2013-01-05  POINT (434738.7188744294 187554.2880562786)         5415   \n",
       "683 2013-01-06   POINT (434868.8553430436 187751.372137545)         5415   \n",
       "962 2013-01-08   POINT (434868.8553430436 187751.372137545)         5415   \n",
       "\n",
       "                                  cen_coords  \n",
       "531  (434577.76220645837, 187897.5488773746)  \n",
       "683  (434577.76220645837, 187897.5488773746)  \n",
       "962  (434577.76220645837, 187897.5488773746)  "
      ]
     },
     "execution_count": 55,
     "metadata": {},
     "output_type": "execute_result"
    }
   ],
   "source": [
    "tmp"
   ]
  },
  {
   "cell_type": "code",
   "execution_count": 24,
   "metadata": {
    "collapsed": true
   },
   "outputs": [],
   "source": [
    "import numpy as np"
   ]
  },
  {
   "cell_type": "code",
   "execution_count": 59,
   "metadata": {
    "collapsed": true
   },
   "outputs": [],
   "source": [
    "def get_distance(row):  \n",
    "\n",
    "    a=np.array(row.geometry.coords[0])\n",
    "    b=np.array(row.cen_coords)\n",
    "    return np.linalg.norm(a-b)\n"
   ]
  },
  {
   "cell_type": "code",
   "execution_count": 86,
   "metadata": {
    "collapsed": true
   },
   "outputs": [],
   "source": [
    "def calc_risk(df):\n",
    "    distance = df.apply(get_distance, axis=1)//(grid_size/2)+1\n",
    "    n_weeks = df.Date.apply(lambda x: (now_date-x).days//7+1)\n",
    "    return (1/distance*1/n_weeks).sum()"
   ]
  },
  {
   "cell_type": "code",
   "execution_count": 98,
   "metadata": {},
   "outputs": [],
   "source": [
    "pred =joined[joined.index_right.isin([5416, 5418, 5417])].groupby('index_right').apply(calc_risk).reindex(grids.index).fillna(0)"
   ]
  },
  {
   "cell_type": "code",
   "execution_count": 99,
   "metadata": {},
   "outputs": [
    {
     "data": {
      "text/plain": [
       "0       0.0\n",
       "1       0.0\n",
       "2       0.0\n",
       "3       0.0\n",
       "4       0.0\n",
       "5       0.0\n",
       "6       0.0\n",
       "7       0.0\n",
       "8       0.0\n",
       "9       0.0\n",
       "10      0.0\n",
       "11      0.0\n",
       "12      0.0\n",
       "13      0.0\n",
       "14      0.0\n",
       "15      0.0\n",
       "16      0.0\n",
       "17      0.0\n",
       "18      0.0\n",
       "19      0.0\n",
       "20      0.0\n",
       "21      0.0\n",
       "22      0.0\n",
       "23      0.0\n",
       "24      0.0\n",
       "25      0.0\n",
       "26      0.0\n",
       "27      0.0\n",
       "28      0.0\n",
       "29      0.0\n",
       "       ... \n",
       "5961    0.0\n",
       "5962    0.0\n",
       "5963    0.0\n",
       "5964    0.0\n",
       "5965    0.0\n",
       "5966    0.0\n",
       "5967    0.0\n",
       "5968    0.0\n",
       "5969    0.0\n",
       "5970    0.0\n",
       "5971    0.0\n",
       "5972    0.0\n",
       "5973    0.0\n",
       "5974    0.0\n",
       "5975    0.0\n",
       "5976    0.0\n",
       "5977    0.0\n",
       "5978    0.0\n",
       "5979    0.0\n",
       "5980    0.0\n",
       "5981    0.0\n",
       "5982    0.0\n",
       "5983    0.0\n",
       "5984    0.0\n",
       "5985    0.0\n",
       "5986    0.0\n",
       "5987    0.0\n",
       "5988    0.0\n",
       "5989    0.0\n",
       "5990    0.0\n",
       "Length: 5991, dtype: float64"
      ]
     },
     "execution_count": 99,
     "metadata": {},
     "output_type": "execute_result"
    }
   ],
   "source": [
    "pred"
   ]
  },
  {
   "cell_type": "code",
   "execution_count": 88,
   "metadata": {},
   "outputs": [
    {
     "name": "stdout",
     "output_type": "stream",
     "text": [
      "         Date                                     geometry  index_right  \\\n",
      "49 2013-01-01  POINT (435169.9628933559 172807.2698065252)          241   \n",
      "\n",
      "                                  cen_coords  \n",
      "49  (434977.76220645837, 172497.54887737456)  \n"
     ]
    }
   ],
   "source": [
    "for i, group in joined.groupby('index_right'):\n",
    "    print(group)\n",
    "    break"
   ]
  },
  {
   "cell_type": "code",
   "execution_count": 76,
   "metadata": {
    "collapsed": true
   },
   "outputs": [],
   "source": [
    "import datetime"
   ]
  },
  {
   "cell_type": "code",
   "execution_count": 77,
   "metadata": {
    "collapsed": true
   },
   "outputs": [],
   "source": [
    "now_date = datetime.datetime.strptime('2013-02-01', '%Y-%m-%d')"
   ]
  },
  {
   "cell_type": "code",
   "execution_count": 78,
   "metadata": {},
   "outputs": [
    {
     "data": {
      "text/plain": [
       "Timedelta('27 days 00:00:00')"
      ]
     },
     "execution_count": 78,
     "metadata": {},
     "output_type": "execute_result"
    }
   ],
   "source": [
    "now_date - tmp.Date.iloc[0]"
   ]
  }
 ],
 "metadata": {
  "kernelspec": {
   "display_name": "Python 3",
   "language": "python",
   "name": "python3"
  },
  "language_info": {
   "codemirror_mode": {
    "name": "ipython",
    "version": 3
   },
   "file_extension": ".py",
   "mimetype": "text/x-python",
   "name": "python",
   "nbconvert_exporter": "python",
   "pygments_lexer": "ipython3",
   "version": "3.6.1"
  }
 },
 "nbformat": 4,
 "nbformat_minor": 2
}
