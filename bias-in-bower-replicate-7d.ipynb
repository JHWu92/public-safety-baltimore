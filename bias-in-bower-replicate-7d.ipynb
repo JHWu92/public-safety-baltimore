{
 "cells": [
  {
   "cell_type": "code",
   "execution_count": 1,
   "metadata": {},
   "outputs": [],
   "source": [
    "from collections import defaultdict\n",
    "import geopandas as gp\n",
    "from scipy.stats import wilcoxon, pearsonr\n",
    "from collections import defaultdict\n",
    "import pandas as pd\n",
    "from src.constants import BniaIndicators\n",
    "from src.exp_helper import *\n",
    "from sklearn.metrics import r2_score"
   ]
  },
  {
   "cell_type": "code",
   "execution_count": 2,
   "metadata": {},
   "outputs": [],
   "source": [
    "population = pd.read_excel('data/open-baltimore/raw/VS16_Indicators_2010-2016.xlsx',sheet_name='2010')\n",
    "population = population.set_index('CSA2010').drop('Baltimore City')\n",
    "population = population['Total Population']"
   ]
  },
  {
   "cell_type": "code",
   "execution_count": 3,
   "metadata": {},
   "outputs": [],
   "source": [
    "indicators = pd.read_excel('data/open-baltimore/raw/VS16_Indicators_2010-2016.xlsx',sheet_name='2015')\n",
    "indicators = indicators.set_index('CSA2010').drop('Baltimore City')"
   ]
  },
  {
   "cell_type": "code",
   "execution_count": 4,
   "metadata": {},
   "outputs": [
    {
     "name": "stdout",
     "output_type": "stream",
     "text": [
      "****WARNING**** Some data get multiple assignments\n",
      "****WARNING**** Some data get 0 assignment\n",
      "****WARNING**** Some data get multiple assignments\n",
      "****WARNING**** Some data get 0 assignment\n"
     ]
    }
   ],
   "source": [
    "train_tw = 60\n",
    "verbose = 0\n",
    "d_nbh = CompileData(spu_name='bnia_nbh')\n",
    "d_nbh.set_x(['crime'], category_groups={'crime': [['burglary']]}, by_category=False)\n",
    "d_nbh.set_y('crime/burglary')"
   ]
  },
  {
   "cell_type": "code",
   "execution_count": 5,
   "metadata": {},
   "outputs": [],
   "source": [
    "er_bower_7 = Rolling(rsd='2016-07-01', red='2017-06-30', rstep=1, tw_past=train_tw, tw_pred=7)\n",
    "def get_true_y(compile_data, eval_roller, x_setting='time_indexed_points', y_setting='event_cnt'):\n",
    "    pred_res = defaultdict(dict)\n",
    "    for i, dates in enumerate(eval_roller.roll()):\n",
    "        past_sd, past_ed, pred_sd, pred_ed = dates\n",
    "        period = 'X: %s~%s -> Y: %s~%s' % (past_sd, past_ed, pred_sd, pred_ed)\n",
    "        eval_x, eval_y = data_for_fit(compile_data, x_setting=x_setting, y_setting=y_setting, dates=dates,\n",
    "                                      verbose=verbose)\n",
    "        pred_res[period]['true_y'] = eval_y\n",
    "    return pd.DataFrame.from_dict(pred_res, 'index')\n",
    "nbh_true_y = get_true_y(d_nbh, er_bower_7)"
   ]
  },
  {
   "cell_type": "code",
   "execution_count": 6,
   "metadata": {},
   "outputs": [],
   "source": [
    "cols = list(set(indicators.columns.tolist()) & set(BniaIndicators.household_income))"
   ]
  },
  {
   "cell_type": "code",
   "execution_count": 7,
   "metadata": {
    "scrolled": true
   },
   "outputs": [
    {
     "name": "stdout",
     "output_type": "stream",
     "text": [
      "Percent of Households Earning $25,000 to $40,000 (55, 8)\n",
      "Percent of Family Households Living Below the Poverty Line (55, 8)\n",
      "Percent of Children Living Below the Poverty Line (55, 8)\n",
      "Percent of Households Earning More than $75,000 (55, 8)\n",
      "Percent of Households Earning $60,000 to $75,000 (55, 8)\n",
      "Percent of Households Earning Less than $25,000 (55, 8)\n",
      "Median Household Income (55, 8)\n",
      "Percent of Households Earning $40,000 to $60,000 (55, 8)\n"
     ]
    }
   ],
   "source": [
    "for col in cols:\n",
    "    print(col,indicators[cols].shape)"
   ]
  },
  {
   "cell_type": "code",
   "execution_count": 8,
   "metadata": {},
   "outputs": [
    {
     "data": {
      "text/html": [
       "<div>\n",
       "<style scoped>\n",
       "    .dataframe tbody tr th:only-of-type {\n",
       "        vertical-align: middle;\n",
       "    }\n",
       "\n",
       "    .dataframe tbody tr th {\n",
       "        vertical-align: top;\n",
       "    }\n",
       "\n",
       "    .dataframe thead th {\n",
       "        text-align: right;\n",
       "    }\n",
       "</style>\n",
       "<table border=\"1\" class=\"dataframe\">\n",
       "  <thead>\n",
       "    <tr style=\"text-align: right;\">\n",
       "      <th></th>\n",
       "      <th>kde200</th>\n",
       "      <th>bower</th>\n",
       "    </tr>\n",
       "  </thead>\n",
       "  <tbody>\n",
       "    <tr>\n",
       "      <th>count</th>\n",
       "      <td>297.000000</td>\n",
       "      <td>297.000000</td>\n",
       "    </tr>\n",
       "    <tr>\n",
       "      <th>mean</th>\n",
       "      <td>0.564283</td>\n",
       "      <td>0.559525</td>\n",
       "    </tr>\n",
       "    <tr>\n",
       "      <th>std</th>\n",
       "      <td>0.048638</td>\n",
       "      <td>0.044542</td>\n",
       "    </tr>\n",
       "    <tr>\n",
       "      <th>min</th>\n",
       "      <td>0.430894</td>\n",
       "      <td>0.438776</td>\n",
       "    </tr>\n",
       "    <tr>\n",
       "      <th>25%</th>\n",
       "      <td>0.537500</td>\n",
       "      <td>0.531250</td>\n",
       "    </tr>\n",
       "    <tr>\n",
       "      <th>50%</th>\n",
       "      <td>0.563910</td>\n",
       "      <td>0.556886</td>\n",
       "    </tr>\n",
       "    <tr>\n",
       "      <th>75%</th>\n",
       "      <td>0.594937</td>\n",
       "      <td>0.586667</td>\n",
       "    </tr>\n",
       "    <tr>\n",
       "      <th>max</th>\n",
       "      <td>0.713333</td>\n",
       "      <td>0.702857</td>\n",
       "    </tr>\n",
       "  </tbody>\n",
       "</table>\n",
       "</div>"
      ],
      "text/plain": [
       "           kde200       bower\n",
       "count  297.000000  297.000000\n",
       "mean     0.564283    0.559525\n",
       "std      0.048638    0.044542\n",
       "min      0.430894    0.438776\n",
       "25%      0.537500    0.531250\n",
       "50%      0.563910    0.556886\n",
       "75%      0.594937    0.586667\n",
       "max      0.713333    0.702857"
      ]
     },
     "execution_count": 8,
     "metadata": {},
     "output_type": "execute_result"
    }
   ],
   "source": [
    "eval_res_7d = pd.read_csv('exp_res/bower_7day.csv')\n",
    "pd.concat([eval_res_7d.kde200.apply(lambda x: eval(x)[0]).describe(), eval_res_7d.bower.apply(lambda x: eval(x)[0]).describe()], axis=1)"
   ]
  },
  {
   "cell_type": "code",
   "execution_count": 9,
   "metadata": {},
   "outputs": [],
   "source": [
    "res_cnt = pd.read_csv('exp_res/bower_7day_bnia_top20_hotspots.csv', index_col=0).join(nbh_true_y)"
   ]
  },
  {
   "cell_type": "code",
   "execution_count": 10,
   "metadata": {},
   "outputs": [],
   "source": [
    "pearsonr_res = []\n",
    "for period, (bower, kde200, true_y) in res_cnt.iterrows():\n",
    "    bower = eval(bower)\n",
    "    kde200 = eval(kde200)\n",
    "    for idctr_col in cols:\n",
    "        idctr = indicators[idctr_col].values   \n",
    "        rtrue,ptrue = pearsonr(true_y,idctr)\n",
    "        rbower,pbower = pearsonr(bower,idctr)\n",
    "        rp_bower = 'pear=%0.4f, p=%0.4f' % (rbower,pbower)\n",
    "        rkde200,pkde200 = pearsonr(kde200,idctr)\n",
    "        rp_kde200 = 'pear=%0.4f, p=%0.4f' % (rkde200,pkde200)\n",
    "        r2true_bower = r2_score(true_y, bower)\n",
    "        r2true_kde200 = r2_score(true_y, kde200)\n",
    "        pearsonr_res.append({'period': period, 'indicator': idctr_col, \n",
    "                             'rtrue': rtrue, 'ptrue':ptrue, \n",
    "                             'rbower': rbower,'pbower':pbower, 'rp_bower': rp_bower,\n",
    "                             'rkde200': rkde200, 'pkde200': pkde200, 'rp_kde200': rp_kde200,\n",
    "                             'r2true_bower': r2true_bower, 'r2true_kde200': r2true_kde200\n",
    "                            })\n",
    "#     break\n",
    "\n",
    "pearsonr_res= pd.DataFrame(pearsonr_res)[['period', 'indicator', 'rtrue', 'ptrue', 'rbower', 'pbower', 'rp_bower', 'rkde200', 'pkde200', 'rp_kde200', 'r2true_bower', 'r2true_kde200']]\n"
   ]
  },
  {
   "cell_type": "code",
   "execution_count": 11,
   "metadata": {},
   "outputs": [],
   "source": [
    "p_thres_true = 0.05\n",
    "p_thres_pred = 0.05"
   ]
  },
  {
   "cell_type": "code",
   "execution_count": 12,
   "metadata": {},
   "outputs": [],
   "source": [
    "def get_res_table(pearsonr_res, cond, kind, periods):\n",
    "    res = pearsonr_res[cond].pivot(index='period', columns='indicator', values='rp_'+kind) \n",
    "    return res.reindex(periods)"
   ]
  },
  {
   "cell_type": "code",
   "execution_count": 13,
   "metadata": {},
   "outputs": [
    {
     "data": {
      "text/plain": [
       "indicator\n",
       "Median Household Income                                       0.131313\n",
       "Percent of Children Living Below the Poverty Line             0.565657\n",
       "Percent of Family Households Living Below the Poverty Line    0.491582\n",
       "Percent of Households Earning $25,000 to $40,000              0.070707\n",
       "Percent of Households Earning $40,000 to $60,000              0.040404\n",
       "Percent of Households Earning Less than $25,000               0.121212\n",
       "Percent of Households Earning More than $75,000               0.178451\n",
       "dtype: float64"
      ]
     },
     "execution_count": 13,
     "metadata": {},
     "output_type": "execute_result"
    }
   ],
   "source": [
    "bower_bias_sig = (pearsonr_res.ptrue>=p_thres_true) &(pearsonr_res.pbower<p_thres_pred)\n",
    "ires = get_res_table(pearsonr_res, bower_bias_sig, 'bower', res_cnt.index)\n",
    "(~ires.isnull()).mean()"
   ]
  },
  {
   "cell_type": "code",
   "execution_count": 15,
   "metadata": {},
   "outputs": [
    {
     "data": {
      "text/plain": [
       "indicator\n",
       "Percent of Children Living Below the Poverty Line    0.020202\n",
       "Percent of Households Earning $25,000 to $40,000     0.037037\n",
       "Percent of Households Earning $40,000 to $60,000     0.047138\n",
       "Percent of Households Earning $60,000 to $75,000     0.003367\n",
       "Percent of Households Earning More than $75,000      0.006734\n",
       "dtype: float64"
      ]
     },
     "execution_count": 15,
     "metadata": {},
     "output_type": "execute_result"
    }
   ],
   "source": [
    "bower_bias_not_sig = (pearsonr_res.ptrue<p_thres_true) &(pearsonr_res.pbower>=p_thres_pred)\n",
    "ires = get_res_table(pearsonr_res, bower_bias_not_sig, 'bower', res_cnt.index)\n",
    "(~ires.isnull()).mean()"
   ]
  },
  {
   "cell_type": "code",
   "execution_count": 16,
   "metadata": {},
   "outputs": [
    {
     "data": {
      "text/plain": [
       "indicator\n",
       "Median Household Income                                       0.151515\n",
       "Percent of Children Living Below the Poverty Line             0.693603\n",
       "Percent of Family Households Living Below the Poverty Line    0.558923\n",
       "Percent of Households Earning $25,000 to $40,000              0.067340\n",
       "Percent of Households Earning $40,000 to $60,000              0.010101\n",
       "Percent of Households Earning Less than $25,000               0.222222\n",
       "Percent of Households Earning More than $75,000               0.164983\n",
       "dtype: float64"
      ]
     },
     "execution_count": 16,
     "metadata": {},
     "output_type": "execute_result"
    }
   ],
   "source": [
    "kde200_bias_sig = (pearsonr_res.ptrue>=p_thres_true) &(pearsonr_res.pkde200<p_thres_pred)\n",
    "ires = get_res_table(pearsonr_res, kde200_bias_sig, 'kde200', res_cnt.index)\n",
    "(~ires.isnull()).mean()\n"
   ]
  },
  {
   "cell_type": "code",
   "execution_count": 17,
   "metadata": {},
   "outputs": [
    {
     "data": {
      "text/plain": [
       "indicator\n",
       "Median Household Income                              0.003367\n",
       "Percent of Children Living Below the Poverty Line    0.013468\n",
       "Percent of Households Earning $25,000 to $40,000     0.037037\n",
       "Percent of Households Earning $40,000 to $60,000     0.047138\n",
       "Percent of Households Earning $60,000 to $75,000     0.003367\n",
       "Percent of Households Earning Less than $25,000      0.003367\n",
       "Percent of Households Earning More than $75,000      0.013468\n",
       "dtype: float64"
      ]
     },
     "execution_count": 17,
     "metadata": {},
     "output_type": "execute_result"
    }
   ],
   "source": [
    "\n",
    "kde200_bias_not_sig = (pearsonr_res.ptrue<p_thres_true) &(pearsonr_res.pkde200>=p_thres_pred)\n",
    "ires = get_res_table(pearsonr_res, kde200_bias_not_sig, 'kde200', res_cnt.index)\n",
    "(~ires.isnull()).mean()"
   ]
  }
 ],
 "metadata": {
  "kernelspec": {
   "display_name": "Python [default]",
   "language": "python",
   "name": "python3"
  },
  "language_info": {
   "codemirror_mode": {
    "name": "ipython",
    "version": 3
   },
   "file_extension": ".py",
   "mimetype": "text/x-python",
   "name": "python",
   "nbconvert_exporter": "python",
   "pygments_lexer": "ipython3",
   "version": "3.6.6"
  }
 },
 "nbformat": 4,
 "nbformat_minor": 2
}
