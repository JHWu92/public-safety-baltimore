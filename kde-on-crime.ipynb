{
 "cells": [
  {
   "cell_type": "code",
   "execution_count": 1,
   "metadata": {
    "collapsed": true
   },
   "outputs": [],
   "source": [
    "import pandas as pd\n",
    "import geopandas as gp\n",
    "from shapely.geometry import Point, Polygon, box"
   ]
  },
  {
   "cell_type": "code",
   "execution_count": 2,
   "metadata": {
    "collapsed": true
   },
   "outputs": [],
   "source": [
    "import numpy as np"
   ]
  },
  {
   "cell_type": "code",
   "execution_count": 3,
   "metadata": {
    "collapsed": true
   },
   "outputs": [],
   "source": [
    "%matplotlib inline"
   ]
  },
  {
   "cell_type": "markdown",
   "metadata": {},
   "source": [
    "# get grids"
   ]
  },
  {
   "cell_type": "code",
   "execution_count": 4,
   "metadata": {
    "collapsed": true
   },
   "outputs": [],
   "source": [
    "def get_grids(shape, grid_size=200, crs=None):\n",
    "    from shapely.geometry import Polygon, LineString\n",
    "    do_intersect = False\n",
    "    \n",
    "    if isinstance(shape, tuple):\n",
    "        if len(shape)==4:\n",
    "            lon_min, lat_min, lon_max, lat_max = shape\n",
    "        else:\n",
    "            print('shape is a tuple, but its len != 4')\n",
    "    elif isinstance(shape, LineString):\n",
    "        if shape.is_closed:\n",
    "            lon_min, lat_min, lon_max, lat_max = shape.bounds\n",
    "            shape = Polygon(shape)\n",
    "            do_intersect = True\n",
    "        else:\n",
    "            print('shape is LineString but not closed, which is not supported here')\n",
    "    elif isinstance(shape, Polygon):\n",
    "        lon_min, lat_min, lon_max, lat_max = shape.bounds\n",
    "        do_intersect = True\n",
    "    else:\n",
    "        print('shape is not bbox tuple, closed LineString or Polygon')\n",
    "        \n",
    "    grid_lon, grid_lat = np.mgrid[lon_min:lon_max:grid_size, lat_min:lat_max:grid_size]\n",
    "    grids_poly = []\n",
    "    for j in range(grid_lat.shape[1]-1):\n",
    "        for i in range(grid_lon.shape[0]-1):\n",
    "            g = box(grid_lon[i,j], grid_lat[i,j], grid_lon[i+1,j+1], grid_lat[i+1,j+1])\n",
    "            if do_intersect and not g.intersects(shape):\n",
    "                continue\n",
    "            grids_poly.append(g)\n",
    "    \n",
    "    grids = gp.GeoDataFrame(grids_poly).rename(columns={0: 'geometry'})\n",
    "    grids['cxcy'] = grids.geometry.apply(lambda x: x.centroid.coords[0])\n",
    "    if crs is not None:\n",
    "        grids.crs = crs\n",
    "    return grids"
   ]
  },
  {
   "cell_type": "code",
   "execution_count": 5,
   "metadata": {
    "collapsed": true
   },
   "outputs": [],
   "source": [
    "cityline = gp.read_file('data/open-baltimore/raw/Baltcity_Line/baltcity_line.shp')\n",
    "cityline = cityline.to_crs(epsg=3559)"
   ]
  },
  {
   "cell_type": "code",
   "execution_count": 6,
   "metadata": {
    "scrolled": true
   },
   "outputs": [
    {
     "name": "stdout",
     "output_type": "stream",
     "text": [
      "(5991, 2)\n"
     ]
    }
   ],
   "source": [
    "grid_size=200\n",
    "grids = get_grids(cityline.geometry[0], grid_size)\n",
    "print(grids.shape)\n",
    "# grids.plot(color='blue')"
   ]
  },
  {
   "cell_type": "code",
   "execution_count": 7,
   "metadata": {},
   "outputs": [
    {
     "data": {
      "text/plain": [
       "{'init': 'epsg:3559', 'no_defs': True}"
      ]
     },
     "execution_count": 7,
     "metadata": {},
     "output_type": "execute_result"
    }
   ],
   "source": [
    "while grids.crs is None:\n",
    "    grids.crs= cityline.crs\n",
    "\n",
    "grids.crs"
   ]
  },
  {
   "cell_type": "markdown",
   "metadata": {},
   "source": [
    "# crime data"
   ]
  },
  {
   "cell_type": "code",
   "execution_count": 8,
   "metadata": {
    "collapsed": true
   },
   "outputs": [],
   "source": [
    "crimes_df = pd.read_csv('data/open-baltimore/raw/BPD_Part_1_Victim_Based_Crime_Data.csv')"
   ]
  },
  {
   "cell_type": "code",
   "execution_count": 9,
   "metadata": {},
   "outputs": [],
   "source": [
    "crimes_4326 = gp.GeoDataFrame(crimes_df[~crimes_df.Longitude.isnull()][['CrimeDate', 'CrimeTime', 'CrimeCode', 'Weapon', 'Longitude', 'Latitude']])\n",
    "\n",
    "crimes_4326['geometry'] = crimes_4326.apply(lambda x: Point(x.Longitude, x.Latitude), axis=1)\n",
    "crimes_4326.crs = {'init': 'epsg:4326'}"
   ]
  },
  {
   "cell_type": "code",
   "execution_count": 10,
   "metadata": {
    "collapsed": true
   },
   "outputs": [],
   "source": [
    "crimes = crimes_4326.to_crs(epsg=3559)"
   ]
  },
  {
   "cell_type": "code",
   "execution_count": 11,
   "metadata": {
    "collapsed": true
   },
   "outputs": [],
   "source": [
    "# crimes['lon'] = crimes.geometry.apply(lambda x: x.coords[0][0])\n",
    "# crimes['lat'] = crimes.geometry.apply(lambda x: x.coords[0][1])\n",
    "crimes['lonlat'] = crimes.geometry.apply(lambda x: x.coords[0])"
   ]
  },
  {
   "cell_type": "code",
   "execution_count": 12,
   "metadata": {},
   "outputs": [],
   "source": [
    "crimes['CrimeDate'] = pd.to_datetime(crimes['CrimeDate'], format='%m/%d/%Y')"
   ]
  },
  {
   "cell_type": "code",
   "execution_count": 13,
   "metadata": {
    "collapsed": true
   },
   "outputs": [],
   "source": [
    "crimes = crimes.reset_index().set_index('CrimeDate').sort_index()"
   ]
  },
  {
   "cell_type": "code",
   "execution_count": 14,
   "metadata": {
    "collapsed": true
   },
   "outputs": [],
   "source": [
    "dates = crimes.index.unique()"
   ]
  },
  {
   "cell_type": "code",
   "execution_count": 15,
   "metadata": {
    "collapsed": true
   },
   "outputs": [],
   "source": [
    "dates_bw = dates[dates<'2014-01-01']\n",
    "dates_eval = dates[dates>='2014-01-01']"
   ]
  },
  {
   "cell_type": "markdown",
   "metadata": {},
   "source": [
    "# KDE"
   ]
  },
  {
   "cell_type": "code",
   "execution_count": 16,
   "metadata": {
    "collapsed": true
   },
   "outputs": [],
   "source": [
    "from sklearn.model_selection import GridSearchCV\n",
    "from sklearn.neighbors import KernelDensity"
   ]
  },
  {
   "cell_type": "code",
   "execution_count": 17,
   "metadata": {
    "collapsed": true
   },
   "outputs": [],
   "source": [
    "def bandwidth_selection(data, pt_col='lonlat', bw_choice=None, cv=20):\n",
    "    pts = data[pt_col].tolist()\n",
    "    if bw_choice is None:\n",
    "        bw_choice = np.linspace(10, 1000, 30)\n",
    "    search = GridSearchCV(KernelDensity(), {'bandwidth': bw_choice}, cv=cv, verbose=1, n_jobs=2)\n",
    "    search.fit(pts)\n",
    "    print(search.best_params_)\n",
    "    return search.best_params_['bandwidth']"
   ]
  },
  {
   "cell_type": "code",
   "execution_count": 18,
   "metadata": {},
   "outputs": [
    {
     "name": "stdout",
     "output_type": "stream",
     "text": [
      "Fitting 20 folds for each of 30 candidates, totalling 600 fits\n"
     ]
    },
    {
     "name": "stderr",
     "output_type": "stream",
     "text": [
      "[Parallel(n_jobs=2)]: Done 372 tasks      | elapsed:   13.5s\n"
     ]
    },
    {
     "name": "stdout",
     "output_type": "stream",
     "text": [
      "{'bandwidth': 283.10344827586209}\n",
      "283.103448276\n"
     ]
    },
    {
     "name": "stderr",
     "output_type": "stream",
     "text": [
      "[Parallel(n_jobs=2)]: Done 600 out of 600 | elapsed:   24.0s finished\n"
     ]
    }
   ],
   "source": [
    "bw = bandwidth_selection(crimes.loc[dates_bw[:10]])\n",
    "print(bw)"
   ]
  },
  {
   "cell_type": "code",
   "execution_count": 19,
   "metadata": {
    "collapsed": true
   },
   "outputs": [],
   "source": [
    "def rolling_window(data, pt_col='lonlat', time_window=60, verbose=True):\n",
    "    \"\"\"\n",
    "    data: pd.DataFrame, index is DatetimeIndex, sorted by index.\n",
    "    \"\"\"\n",
    "    dates = data.index.unique()\n",
    "    if len(dates)<=time_window:\n",
    "        raise ValueError('len of dates (%d) is less than time_window (%d)' % (len(dates), time_window))\n",
    "    num_experiment = len(dates)-time_window\n",
    "    if verbose:\n",
    "        print('total number of experiment:', num_experiment)\n",
    "    for i in range(num_experiment):\n",
    "        test_date = dates[i+time_window]\n",
    "        train_start_date = test_date - pd.Timedelta(days=time_window)\n",
    "        train_end_date = test_date - pd.Timedelta(days=1)\n",
    "        \n",
    "        train = data.loc[train_start_date:train_end_date]\n",
    "        test = data.loc[test_date]\n",
    "#         print(train_start_date, train_end_date, test_date, train.index.nunique())\n",
    "        yield train, test"
   ]
  },
  {
   "cell_type": "code",
   "execution_count": 20,
   "metadata": {
    "collapsed": true
   },
   "outputs": [],
   "source": [
    "def kde_rolling(data, grids, bw, pt_col='lonlat', return_test_dates=True, verbose=True):\n",
    "    test_dates = []\n",
    "    for i, (train, test) in enumerate(rolling_window(data, verbose=verbose)):\n",
    "        test_date_str = test.index.unique()[0].strftime('%Y-%m-%d')\n",
    "        test_dates.append(test_date_str)\n",
    "        if verbose:\n",
    "            print(train.shape, test.shape, test.index.unique()[0].strftime('%Y-%m-%d'))\n",
    "        # kde\n",
    "        kde = KernelDensity(bandwidth=bw)\n",
    "        kde.fit(train[pt_col].tolist())\n",
    "        pdf = np.exp(kde.score_samples(grids['cxcy'].tolist()))\n",
    "        grids['density_'+test_date_str] = pdf\n",
    "        # test in grids\n",
    "        test_in_grids = gp.sjoin(test, grids)\n",
    "        grids =grids.join(test_in_grids.groupby('index_right').agg({'index':'count'}), how='left')\\\n",
    "                        .rename(columns={'index':'num_crimes_'+test_date_str}).fillna(0)\n",
    "            \n",
    "        if (i+1) % 20==0:\n",
    "            print(i, 'round')\n",
    "    if return_test_dates:\n",
    "        return grids, test_dates\n",
    "    return grids"
   ]
  },
  {
   "cell_type": "code",
   "execution_count": null,
   "metadata": {
    "collapsed": true
   },
   "outputs": [],
   "source": [
    "grids_with_result, test_dates = kde_rolling(crimes.loc[dates_eval], grids.copy(), bw, return_test_dates=True, verbose=False)"
   ]
  },
  {
   "cell_type": "code",
   "execution_count": 21,
   "metadata": {
    "scrolled": true
   },
   "outputs": [
    {
     "name": "stdout",
     "output_type": "stream",
     "text": [
      "9 round\n"
     ]
    }
   ],
   "source": [
    "data = crimes.loc[dates_eval]\n",
    "grids= grids.copy()\n",
    "bw=bw\n",
    "return_test_dates=True\n",
    "verbose=False\n",
    "pt_col='lonlat'\n",
    "test_dates = []\n",
    "for i, (train, test) in enumerate(rolling_window(data, verbose=verbose)):\n",
    "    test_date_str = test.index.unique()[0].strftime('%Y-%m-%d')\n",
    "    test_dates.append(test_date_str)\n",
    "    if verbose:\n",
    "        print(train.shape, test.shape, test.index.unique()[0].strftime('%Y-%m-%d'))\n",
    "    # kde\n",
    "    kde = KernelDensity(bandwidth=bw)\n",
    "    kde.fit(train[pt_col].tolist())\n",
    "    pdf = np.exp(kde.score_samples(grids['cxcy'].tolist()))\n",
    "    grids['density_'+test_date_str] = pdf\n",
    "    # test in grids\n",
    "    test_in_grids = gp.sjoin(test.reset_index(), grids)\n",
    "    grids =grids.join(test_in_grids.groupby('index_right').agg({'index':'count'}), how='left')\\\n",
    "                    .rename(columns={'index':'num_crimes_'+test_date_str}).fillna(0)\n",
    "\n",
    "    if (i+1) % 10==0:\n",
    "        print(i, 'round')\n",
    "        break"
   ]
  },
  {
   "cell_type": "markdown",
   "metadata": {},
   "source": [
    "# evaluation"
   ]
  },
  {
   "cell_type": "code",
   "execution_count": 22,
   "metadata": {
    "collapsed": true
   },
   "outputs": [],
   "source": [
    "grids_with_result = grids"
   ]
  },
  {
   "cell_type": "code",
   "execution_count": 23,
   "metadata": {
    "collapsed": true
   },
   "outputs": [],
   "source": [
    "test_dates = test_dates[:-1]"
   ]
  },
  {
   "cell_type": "code",
   "execution_count": 24,
   "metadata": {
    "collapsed": true
   },
   "outputs": [],
   "source": [
    "num_grids = len(grids)\n",
    "idx_for_auc = [int(num_grids * (i+1) / 10) for i in range(9)] + [num_grids-1]"
   ]
  },
  {
   "cell_type": "code",
   "execution_count": 25,
   "metadata": {},
   "outputs": [
    {
     "data": {
      "text/plain": [
       "[599, 1198, 1797, 2396, 2995, 3594, 4193, 4792, 5391, 5990]"
      ]
     },
     "execution_count": 25,
     "metadata": {},
     "output_type": "execute_result"
    }
   ],
   "source": [
    "idx_for_auc"
   ]
  },
  {
   "cell_type": "code",
   "execution_count": 26,
   "metadata": {
    "collapsed": true
   },
   "outputs": [],
   "source": [
    "aucs = []\n",
    "for test_date_str in test_dates:\n",
    "    grids_with_result.sort_values('density_'+test_date_str, ascending=False, inplace=True)\n",
    "    hit_rate = grids_with_result['num_crimes_'+test_date_str].cumsum()/grids_with_result['num_crimes_'+test_date_str].sum()\n",
    "    auc = hit_rate.iloc[idx_for_auc]\n",
    "    auc.index = ['%d0%%' % (i+1) for i in range(10)]\n",
    "    aucs.append(auc)\n",
    "#     break"
   ]
  },
  {
   "cell_type": "code",
   "execution_count": 27,
   "metadata": {
    "collapsed": true
   },
   "outputs": [],
   "source": [
    "merge_aucs = pd.concat(aucs,axis=1)"
   ]
  },
  {
   "cell_type": "code",
   "execution_count": 28,
   "metadata": {},
   "outputs": [
    {
     "data": {
      "text/html": [
       "<div>\n",
       "<style>\n",
       "    .dataframe thead tr:only-child th {\n",
       "        text-align: right;\n",
       "    }\n",
       "\n",
       "    .dataframe thead th {\n",
       "        text-align: left;\n",
       "    }\n",
       "\n",
       "    .dataframe tbody tr th {\n",
       "        vertical-align: top;\n",
       "    }\n",
       "</style>\n",
       "<table border=\"1\" class=\"dataframe\">\n",
       "  <thead>\n",
       "    <tr style=\"text-align: right;\">\n",
       "      <th></th>\n",
       "      <th>num_crimes_2014-03-02</th>\n",
       "      <th>num_crimes_2014-03-03</th>\n",
       "      <th>num_crimes_2014-03-04</th>\n",
       "      <th>num_crimes_2014-03-05</th>\n",
       "      <th>num_crimes_2014-03-06</th>\n",
       "      <th>num_crimes_2014-03-07</th>\n",
       "      <th>num_crimes_2014-03-08</th>\n",
       "      <th>num_crimes_2014-03-09</th>\n",
       "      <th>num_crimes_2014-03-10</th>\n",
       "    </tr>\n",
       "  </thead>\n",
       "  <tbody>\n",
       "    <tr>\n",
       "      <th>10%</th>\n",
       "      <td>0.411765</td>\n",
       "      <td>0.350877</td>\n",
       "      <td>0.412371</td>\n",
       "      <td>0.417476</td>\n",
       "      <td>0.364486</td>\n",
       "      <td>0.394495</td>\n",
       "      <td>0.461538</td>\n",
       "      <td>0.365591</td>\n",
       "      <td>0.396947</td>\n",
       "    </tr>\n",
       "    <tr>\n",
       "      <th>20%</th>\n",
       "      <td>0.694118</td>\n",
       "      <td>0.614035</td>\n",
       "      <td>0.670103</td>\n",
       "      <td>0.524272</td>\n",
       "      <td>0.514019</td>\n",
       "      <td>0.605505</td>\n",
       "      <td>0.644231</td>\n",
       "      <td>0.580645</td>\n",
       "      <td>0.595420</td>\n",
       "    </tr>\n",
       "    <tr>\n",
       "      <th>30%</th>\n",
       "      <td>0.823529</td>\n",
       "      <td>0.701754</td>\n",
       "      <td>0.773196</td>\n",
       "      <td>0.631068</td>\n",
       "      <td>0.672897</td>\n",
       "      <td>0.724771</td>\n",
       "      <td>0.701923</td>\n",
       "      <td>0.709677</td>\n",
       "      <td>0.755725</td>\n",
       "    </tr>\n",
       "    <tr>\n",
       "      <th>40%</th>\n",
       "      <td>0.929412</td>\n",
       "      <td>0.859649</td>\n",
       "      <td>0.876289</td>\n",
       "      <td>0.776699</td>\n",
       "      <td>0.785047</td>\n",
       "      <td>0.853211</td>\n",
       "      <td>0.826923</td>\n",
       "      <td>0.870968</td>\n",
       "      <td>0.847328</td>\n",
       "    </tr>\n",
       "    <tr>\n",
       "      <th>50%</th>\n",
       "      <td>0.952941</td>\n",
       "      <td>0.964912</td>\n",
       "      <td>0.917526</td>\n",
       "      <td>0.893204</td>\n",
       "      <td>0.850467</td>\n",
       "      <td>0.944954</td>\n",
       "      <td>0.894231</td>\n",
       "      <td>0.935484</td>\n",
       "      <td>0.931298</td>\n",
       "    </tr>\n",
       "    <tr>\n",
       "      <th>60%</th>\n",
       "      <td>0.964706</td>\n",
       "      <td>0.964912</td>\n",
       "      <td>0.938144</td>\n",
       "      <td>0.961165</td>\n",
       "      <td>0.971963</td>\n",
       "      <td>0.981651</td>\n",
       "      <td>0.942308</td>\n",
       "      <td>0.978495</td>\n",
       "      <td>0.984733</td>\n",
       "    </tr>\n",
       "    <tr>\n",
       "      <th>70%</th>\n",
       "      <td>0.988235</td>\n",
       "      <td>0.964912</td>\n",
       "      <td>0.969072</td>\n",
       "      <td>1.000000</td>\n",
       "      <td>1.000000</td>\n",
       "      <td>1.000000</td>\n",
       "      <td>0.951923</td>\n",
       "      <td>1.000000</td>\n",
       "      <td>1.000000</td>\n",
       "    </tr>\n",
       "    <tr>\n",
       "      <th>80%</th>\n",
       "      <td>1.000000</td>\n",
       "      <td>1.000000</td>\n",
       "      <td>1.000000</td>\n",
       "      <td>1.000000</td>\n",
       "      <td>1.000000</td>\n",
       "      <td>1.000000</td>\n",
       "      <td>0.961538</td>\n",
       "      <td>1.000000</td>\n",
       "      <td>1.000000</td>\n",
       "    </tr>\n",
       "    <tr>\n",
       "      <th>90%</th>\n",
       "      <td>1.000000</td>\n",
       "      <td>1.000000</td>\n",
       "      <td>1.000000</td>\n",
       "      <td>1.000000</td>\n",
       "      <td>1.000000</td>\n",
       "      <td>1.000000</td>\n",
       "      <td>1.000000</td>\n",
       "      <td>1.000000</td>\n",
       "      <td>1.000000</td>\n",
       "    </tr>\n",
       "    <tr>\n",
       "      <th>100%</th>\n",
       "      <td>1.000000</td>\n",
       "      <td>1.000000</td>\n",
       "      <td>1.000000</td>\n",
       "      <td>1.000000</td>\n",
       "      <td>1.000000</td>\n",
       "      <td>1.000000</td>\n",
       "      <td>1.000000</td>\n",
       "      <td>1.000000</td>\n",
       "      <td>1.000000</td>\n",
       "    </tr>\n",
       "  </tbody>\n",
       "</table>\n",
       "</div>"
      ],
      "text/plain": [
       "      num_crimes_2014-03-02  num_crimes_2014-03-03  num_crimes_2014-03-04  \\\n",
       "10%                0.411765               0.350877               0.412371   \n",
       "20%                0.694118               0.614035               0.670103   \n",
       "30%                0.823529               0.701754               0.773196   \n",
       "40%                0.929412               0.859649               0.876289   \n",
       "50%                0.952941               0.964912               0.917526   \n",
       "60%                0.964706               0.964912               0.938144   \n",
       "70%                0.988235               0.964912               0.969072   \n",
       "80%                1.000000               1.000000               1.000000   \n",
       "90%                1.000000               1.000000               1.000000   \n",
       "100%               1.000000               1.000000               1.000000   \n",
       "\n",
       "      num_crimes_2014-03-05  num_crimes_2014-03-06  num_crimes_2014-03-07  \\\n",
       "10%                0.417476               0.364486               0.394495   \n",
       "20%                0.524272               0.514019               0.605505   \n",
       "30%                0.631068               0.672897               0.724771   \n",
       "40%                0.776699               0.785047               0.853211   \n",
       "50%                0.893204               0.850467               0.944954   \n",
       "60%                0.961165               0.971963               0.981651   \n",
       "70%                1.000000               1.000000               1.000000   \n",
       "80%                1.000000               1.000000               1.000000   \n",
       "90%                1.000000               1.000000               1.000000   \n",
       "100%               1.000000               1.000000               1.000000   \n",
       "\n",
       "      num_crimes_2014-03-08  num_crimes_2014-03-09  num_crimes_2014-03-10  \n",
       "10%                0.461538               0.365591               0.396947  \n",
       "20%                0.644231               0.580645               0.595420  \n",
       "30%                0.701923               0.709677               0.755725  \n",
       "40%                0.826923               0.870968               0.847328  \n",
       "50%                0.894231               0.935484               0.931298  \n",
       "60%                0.942308               0.978495               0.984733  \n",
       "70%                0.951923               1.000000               1.000000  \n",
       "80%                0.961538               1.000000               1.000000  \n",
       "90%                1.000000               1.000000               1.000000  \n",
       "100%               1.000000               1.000000               1.000000  "
      ]
     },
     "execution_count": 28,
     "metadata": {},
     "output_type": "execute_result"
    }
   ],
   "source": [
    "merge_aucs"
   ]
  },
  {
   "cell_type": "code",
   "execution_count": 33,
   "metadata": {},
   "outputs": [
    {
     "data": {
      "text/plain": [
       "<matplotlib.axes._subplots.AxesSubplot at 0x1de34a369e8>"
      ]
     },
     "execution_count": 33,
     "metadata": {},
     "output_type": "execute_result"
    },
    {
     "data": {
      "image/png": "[encoded data removed]",
      "text/plain": [
       "<matplotlib.figure.Figure at 0x1de34a18ef0>"
      ]
     },
     "metadata": {},
     "output_type": "display_data"
    }
   ],
   "source": [
    "merge_aucs.mean(axis=1).plot()"
   ]
  },
  {
   "cell_type": "code",
   "execution_count": 34,
   "metadata": {},
   "outputs": [
    {
     "data": {
      "text/plain": [
       "<matplotlib.axes._subplots.AxesSubplot at 0x1de35029f28>"
      ]
     },
     "execution_count": 34,
     "metadata": {},
     "output_type": "execute_result"
    },
    {
     "data": {
      "image/png": "[encoded data removed]",
      "text/plain": [
       "<matplotlib.figure.Figure at 0x1de35035e10>"
      ]
     },
     "metadata": {},
     "output_type": "display_data"
    }
   ],
   "source": [
    "merge_aucs.plot()"
   ]
  },
  {
   "cell_type": "code",
   "execution_count": null,
   "metadata": {
    "collapsed": true
   },
   "outputs": [],
   "source": []
  }
 ],
 "metadata": {
  "kernelspec": {
   "display_name": "Python 3",
   "language": "python",
   "name": "python3"
  },
  "language_info": {
   "codemirror_mode": {
    "name": "ipython",
    "version": 3
   },
   "file_extension": ".py",
   "mimetype": "text/x-python",
   "name": "python",
   "nbconvert_exporter": "python",
   "pygments_lexer": "ipython3",
   "version": "3.6.1"
  }
 },
 "nbformat": 4,
 "nbformat_minor": 2
}
