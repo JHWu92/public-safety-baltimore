{
 "cells": [
  {
   "cell_type": "code",
   "execution_count": null,
   "metadata": {},
   "outputs": [],
   "source": [
    "from src.exp_helper import *"
   ]
  },
  {
   "cell_type": "code",
   "execution_count": null,
   "metadata": {},
   "outputs": [],
   "source": [
    "from src.model.bsln_kde import KDE\n",
    "from src.model.bsln_bower import Bower\n",
    "from collections import defaultdict\n",
    "import numpy as np\n",
    "from src.utils.metric_single_num import metrics, hit_rate, search_efficient_rate, prediction_accuracy_index"
   ]
  },
  {
   "cell_type": "code",
   "execution_count": null,
   "metadata": {},
   "outputs": [],
   "source": [
    "grid_size=50\n",
    "train_tw = 60\n",
    "verbose=0"
   ]
  },
  {
   "cell_type": "code",
   "execution_count": null,
   "metadata": {},
   "outputs": [],
   "source": [
    "d_bower = CompileData(spu_name='grid_%d' % grid_size)\n",
    "d_bower.set_x(['crime'], category_groups={'crime':[['burglary']]}, by_category=False)\n",
    "d_bower.set_y('crime/burglary')"
   ]
  },
  {
   "cell_type": "code",
   "execution_count": null,
   "metadata": {},
   "outputs": [],
   "source": [
    "tr_bower_2 = Rolling(rsd='2015-07-01', red='2017-06-30', rstep=2, tw_past=train_tw, tw_pred=2)\n",
    "er_bower_2 = Rolling(rsd='2016-07-01', red='2017-06-30', rstep=2, tw_past=train_tw, tw_pred=2)\n",
    "\n",
    "tr_bower_7 = Rolling(rsd='2015-07-01', red='2017-06-30', rstep=7, tw_past=train_tw, tw_pred=7)\n",
    "er_bower_7 = Rolling(rsd='2016-07-01', red='2017-06-30', rstep=7, tw_past=train_tw, tw_pred=7)"
   ]
  },
  {
   "cell_type": "code",
   "execution_count": null,
   "metadata": {},
   "outputs": [],
   "source": [
    "bower = Bower(grid_size, bw=400, tw=train_tw, verbose=verbose)\n",
    "kde200 = KDE(bw=200, tw=train_tw, verbose=verbose)"
   ]
  },
  {
   "cell_type": "code",
   "execution_count": null,
   "metadata": {},
   "outputs": [],
   "source": [
    "evaluators = [hit_rate, search_efficient_rate, prediction_accuracy_index]"
   ]
  },
  {
   "cell_type": "code",
   "execution_count": null,
   "metadata": {},
   "outputs": [],
   "source": [
    "def get_pred(compile_data, train_roller, eval_roller, kde, bower, refit=False, \n",
    "             x_setting='time_indexed_points', y_setting='event_cnt', verbose=0, debug=False):\n",
    "    grid_centers = compile_data.spu.Cen_coords.apply(lambda x: eval(x))\n",
    "    \n",
    "    tmp_train_roller = copy.copy(train_roller)\n",
    "    \n",
    "    pred_res = defaultdict(dict)\n",
    "    \n",
    "    for i, dates in enumerate(eval_roller.roll()):\n",
    "        past_sd, past_ed, pred_sd, pred_ed = dates\n",
    "        period = 'X: %s~%s -> Y: %s~%s' % (past_sd, past_ed, pred_sd, pred_ed)\n",
    "        \n",
    "        if refit:\n",
    "            if verbose>1:\n",
    "                print('refitting for evaluate period:', period)\n",
    "            tmp_train_roller.red = past_sd\n",
    "            train_x, train_y = data_for_fit(compile_data, roller=tmp_train_roller, x_setting=x_setting, y_setting=y_setting,\n",
    "                                stack_roll=False, verbose=verbose)\n",
    "            kde.fit(train_x)\n",
    "            bower.fit(train_x)\n",
    "            if verbose>1:\n",
    "                print('model fit')\n",
    "                \n",
    "        eval_x, eval_y = data_for_fit(compile_data, x_setting=x_setting, y_setting=y_setting, dates=dates,\n",
    "                                      verbose=verbose)\n",
    "        \n",
    "        pred_res[period]['true_y'] = eval_y\n",
    "        \n",
    "        if verbose>1:\n",
    "            print('predicting for each grid_center')\n",
    "            \n",
    "        pred_res[period]['kde200']  = kde.predict(grid_centers).values\n",
    "        pred_res[period]['bower']  = bower.predict(grid_centers).values\n",
    "\n",
    " \n",
    "        if (i+1) % 5 == 0:\n",
    "            print('%d periods are done' % i)\n",
    "        if i == 0 and debug:\n",
    "            break\n",
    "    return pd.DataFrame.from_dict(pred_res, 'index')"
   ]
  },
  {
   "cell_type": "code",
   "execution_count": null,
   "metadata": {},
   "outputs": [],
   "source": [
    "def get_eval(pred_res):\n",
    "    eval_res = defaultdict(lambda: defaultdict(list))\n",
    "    for idx, row in pred_res.iterrows():\n",
    "        true_y = row.true_y\n",
    "        for mname, pred_y in row.drop('true_y').items():\n",
    "            hotspot_mask = pred_y>np.percentile(pred_y, 80)\n",
    "            for e in evaluators:\n",
    "                score = e(true_y, hotspot_mask, d_bower.spu)\n",
    "                print(mname, e.__name__, score)\n",
    "                eval_res[mname][idx].append(score)\n",
    "    return eval_res"
   ]
  },
  {
   "cell_type": "code",
   "execution_count": null,
   "metadata": {},
   "outputs": [],
   "source": [
    "pred_res_2d = get_pred(d_bower, tr_bower_2, er_bower_2, kde200, bower, refit=True, \n",
    "         x_setting='time_indexed_points', y_setting='event_cnt', debug=True, verbose=0)\n",
    "eval_res_2d = get_eval(pred_res_2d)"
   ]
  },
  {
   "cell_type": "code",
   "execution_count": null,
   "metadata": {},
   "outputs": [],
   "source": [
    "pred_res_7d = get_pred(d_bower, tr_bower_7, er_bower_7, kde200, bower, refit=True, \n",
    "         x_setting='time_indexed_points', y_setting='event_cnt', debug=True, verbose=0)\n",
    "eval_res_7d = get_eval(pred_res_7d)"
   ]
  },
  {
   "cell_type": "code",
   "execution_count": null,
   "metadata": {},
   "outputs": [],
   "source": [
    "pd.DataFrame(eval_res_2d).to_csv('exp_res/bower_2day.csv')\n",
    "pd.DataFrame(eval_res_7d).to_csv('exp_res/bower_7day.csv')"
   ]
  },
  {
   "cell_type": "code",
   "execution_count": null,
   "metadata": {},
   "outputs": [],
   "source": []
  }
 ],
 "metadata": {
  "kernelspec": {
   "display_name": "Python [default]",
   "language": "python",
   "name": "python3"
  },
  "language_info": {
   "codemirror_mode": {
    "name": "ipython",
    "version": 3
   },
   "file_extension": ".py",
   "mimetype": "text/x-python",
   "name": "python",
   "nbconvert_exporter": "python",
   "pygments_lexer": "ipython3",
   "version": "3.6.6"
  }
 },
 "nbformat": 4,
 "nbformat_minor": 2
}
