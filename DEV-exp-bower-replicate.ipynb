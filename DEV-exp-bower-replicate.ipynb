{
 "cells": [
  {
   "cell_type": "code",
   "execution_count": 1,
   "metadata": {},
   "outputs": [],
   "source": [
    "%load_ext autoreload\n",
    "%autoreload 2"
   ]
  },
  {
   "cell_type": "code",
   "execution_count": 2,
   "metadata": {},
   "outputs": [],
   "source": [
    "from src.exp_helper import *"
   ]
  },
  {
   "cell_type": "code",
   "execution_count": 3,
   "metadata": {},
   "outputs": [],
   "source": [
    "from src.model.bsln_kde import KDE\n",
    "from src.model.bsln_bower import Bower\n",
    "from collections import defaultdict\n",
    "import numpy as np\n",
    "from src.utils.metric_single_num import metrics, hit_rate, search_efficient_rate, prediction_accuracy_index"
   ]
  },
  {
   "cell_type": "code",
   "execution_count": 4,
   "metadata": {},
   "outputs": [],
   "source": [
    "import src.utils.spatial_unit\n",
    "\n",
    "from src.utils.spatial_unit import *"
   ]
  },
  {
   "cell_type": "code",
   "execution_count": 5,
   "metadata": {},
   "outputs": [],
   "source": [
    "grid_size=50\n",
    "train_tw = 60\n",
    "verbose=0"
   ]
  },
  {
   "cell_type": "code",
   "execution_count": 6,
   "metadata": {},
   "outputs": [
    {
     "name": "stdout",
     "output_type": "stream",
     "text": [
      "****WARNING**** Some data get 0 assignment\n",
      "****WARNING**** Some data get 0 assignment\n"
     ]
    }
   ],
   "source": [
    "d_bower = CompileData(spu_name='grid_%d' % grid_size)\n",
    "d_bower.set_x(['crime'], category_groups={'crime':[['burglary']]}, by_category=False)\n",
    "d_bower.set_y('crime/burglary')"
   ]
  },
  {
   "cell_type": "code",
   "execution_count": 7,
   "metadata": {},
   "outputs": [],
   "source": [
    "tr_bower_2 = Rolling(rsd='2015-07-01', red='2017-06-30', rstep=1, tw_past=train_tw, tw_pred=2)\n",
    "er_bower_2 = Rolling(rsd='2016-07-01', red='2017-06-30', rstep=1, tw_past=train_tw, tw_pred=2)\n",
    "\n",
    "tr_bower_7 = Rolling(rsd='2015-07-01', red='2017-06-30', rstep=1, tw_past=train_tw, tw_pred=7)\n",
    "er_bower_7 = Rolling(rsd='2016-07-01', red='2017-06-30', rstep=1, tw_past=train_tw, tw_pred=7)"
   ]
  },
  {
   "cell_type": "code",
   "execution_count": 8,
   "metadata": {},
   "outputs": [],
   "source": [
    "bower = Bower(grid_size, bw=400, tw=train_tw, verbose=verbose)\n",
    "kde200 = KDE(bw=200, tw=train_tw, verbose=verbose)"
   ]
  },
  {
   "cell_type": "code",
   "execution_count": 9,
   "metadata": {},
   "outputs": [],
   "source": [
    "evaluators = [hit_rate, search_efficient_rate, prediction_accuracy_index]"
   ]
  },
  {
   "cell_type": "code",
   "execution_count": 41,
   "metadata": {},
   "outputs": [],
   "source": [
    "def get_pred(compile_data, train_roller, eval_roller, kde, bower, refit=False, \n",
    "             x_setting='time_indexed_points', y_setting='event_cnt', verbose=0, debug=False):\n",
    "    grid_centers = compile_data.spu.Cen_coords.apply(lambda x: eval(x))\n",
    "    \n",
    "    tmp_train_roller = copy.copy(train_roller)\n",
    "    \n",
    "    pred_res = defaultdict(dict)\n",
    "    \n",
    "    for i, dates in enumerate(eval_roller.roll()):\n",
    "        past_sd, past_ed, pred_sd, pred_ed = dates\n",
    "        period = 'X: %s~%s -> Y: %s~%s' % (past_sd, past_ed, pred_sd, pred_ed)\n",
    "        \n",
    "#         if refit:\n",
    "#             if verbose>1:\n",
    "#                 print('refitting for evaluate period:', period)\n",
    "#             tmp_train_roller.red = past_sd\n",
    "#             train_x, train_y = data_for_fit(compile_data, roller=tmp_train_roller, x_setting=x_setting, y_setting=y_setting,\n",
    "#                                 stack_roll=False, verbose=verbose)\n",
    "#             kde.fit(train_x)\n",
    "#             bower.fit(train_x)\n",
    "#             if verbose>1:\n",
    "#                 print('model fit')\n",
    "                \n",
    "        eval_x, eval_y = data_for_fit(compile_data, x_setting=x_setting, y_setting=y_setting, dates=dates,\n",
    "                                      verbose=verbose)\n",
    "        \n",
    "        pred_res[period]['true_y'] = eval_y\n",
    "        \n",
    "        if verbose>0:\n",
    "            print('fitting kde, bower on X: %s~%s' % (past_sd, past_ed))\n",
    "        kde200.fit(eval_x)\n",
    "        bower.fit(eval_x)\n",
    "        \n",
    "        if verbose>1:\n",
    "            print('predicting for each grid_center')\n",
    "            \n",
    "        pred_res[period]['kde200']  = kde.predict(grid_centers).values\n",
    "        pred_res[period]['bower']  = bower.predict(grid_centers).values\n",
    "\n",
    " \n",
    "        if (i+1) % 5 == 0:\n",
    "            print('%d periods are done' % i)\n",
    "        if i == 2 and debug:\n",
    "            break\n",
    "    return pd.DataFrame.from_dict(pred_res, 'index')"
   ]
  },
  {
   "cell_type": "code",
   "execution_count": 11,
   "metadata": {},
   "outputs": [],
   "source": [
    "def get_eval(pred_res):\n",
    "    eval_res = defaultdict(lambda: defaultdict(list))\n",
    "    for idx, row in pred_res.iterrows():\n",
    "        true_y = row.true_y\n",
    "        for mname, pred_y in row.drop('true_y').items():\n",
    "            hotspot_mask = pred_y>np.percentile(pred_y, 80)\n",
    "            for e in evaluators:\n",
    "                score = e(true_y, hotspot_mask, d_bower.spu)\n",
    "                print(mname, e.__name__, score)\n",
    "                eval_res[mname][idx].append(score)\n",
    "    return eval_res"
   ]
  },
  {
   "cell_type": "code",
   "execution_count": 12,
   "metadata": {},
   "outputs": [],
   "source": [
    "def bnia_stats(pred_res, data, xday):\n",
    "    top20 = lambda x: x>np.percentile(x,80)\n",
    "    above_mean = lambda x: x>x.mean()\n",
    "    above_mean_std = lambda x: x> (x.mean()+x.std())\n",
    "    for name, stats_func in [('above_mean', above_mean), ('top20', top20), ('above_mean_std', above_mean_std), ]:\n",
    "        res = []\n",
    "        for idx, row in pred_res.iterrows():\n",
    "            kde_stats = stats_func(row.kde200)\n",
    "            kde_stats = pd.Series(kde_stats, index=data.spu.index, name='stat')\n",
    "            kde_stats = grid2nbh(kde_stats).values.tolist()\n",
    "            bower_stats = stats_func(row.bower)\n",
    "            bower_stats = pd.Series(bower_stats, index=data.spu.index, name='stat')\n",
    "            bower_stats = grid2nbh(bower_stats).tolist()\n",
    "            res.append({'period': idx, 'kde200': kde_stats, 'bower': bower_stats})\n",
    "        res = pd.DataFrame(res).set_index('period')\n",
    "        res.to_csv('exp_res/bower_%dday_bnia_%s_hotspots.csv' % (xday,name))"
   ]
  },
  {
   "cell_type": "code",
   "execution_count": 42,
   "metadata": {},
   "outputs": [
    {
     "name": "stdout",
     "output_type": "stream",
     "text": [
      "kde200 hit_rate 0.7\n",
      "kde200 search_efficient_rate 0.5836068990672711\n",
      "kde200 prediction_accuracy_index 3.5000364754311915\n",
      "bower hit_rate 0.7\n",
      "bower search_efficient_rate 0.5836068990672711\n",
      "bower prediction_accuracy_index 3.5000364754311915\n",
      "kde200 hit_rate 0.5581395348837209\n",
      "kde200 search_efficient_rate 0.5002344849148038\n",
      "kde200 prediction_accuracy_index 2.79072675781889\n",
      "bower hit_rate 0.5116279069767442\n",
      "bower search_efficient_rate 0.45854827783857016\n",
      "bower prediction_accuracy_index 2.5581661946673164\n",
      "kde200 hit_rate 0.6170212765957447\n",
      "kde200 search_efficient_rate 0.604450002605388\n",
      "kde200 prediction_accuracy_index 3.0851385345746065\n",
      "bower hit_rate 0.5957446808510638\n",
      "bower search_efficient_rate 0.5845511482254697\n",
      "bower prediction_accuracy_index 2.983573935059743\n"
     ]
    }
   ],
   "source": [
    "pred_res_2d = get_pred(d_bower, tr_bower_2, er_bower_2, kde200, bower, refit=True, \n",
    "         x_setting='time_indexed_points', y_setting='event_cnt', debug=True, verbose=0)\n",
    "eval_res_2d = get_eval(pred_res_2d)"
   ]
  },
  {
   "cell_type": "code",
   "execution_count": 55,
   "metadata": {},
   "outputs": [],
   "source": [
    "\n",
    "pd.DataFrame.from_dict(pred_res_2d['bower'].to_dict()).to_sparse(fill_value=0).to_pickle('exp_res/bower_2day_raw_bower.pickle')\n",
    "pd.DataFrame.from_dict(pred_res_2d['true_y'].to_dict()).to_sparse(fill_value=0).to_pickle('exp_res/bower_2day_raw_y.pickle')\n",
    "pd.DataFrame.from_dict(pred_res_2d['kde200'].to_dict()).to_pickle('exp_res/bower_2day_raw_kde200.pickle')"
   ]
  },
  {
   "cell_type": "code",
   "execution_count": 53,
   "metadata": {
    "scrolled": true
   },
   "outputs": [
    {
     "name": "stdout",
     "output_type": "stream",
     "text": [
      "kde200 hit_rate 0.6691176470588235\n",
      "kde200 search_efficient_rate 1.8967224219686312\n",
      "kde200 prediction_accuracy_index 3.3456231015151094\n",
      "bower hit_rate 0.6617647058823529\n",
      "bower search_efficient_rate 1.8758793184305143\n",
      "bower prediction_accuracy_index 3.308858012487471\n",
      "kde200 hit_rate 0.6774193548387096\n",
      "kde200 search_efficient_rate 1.7508206972018134\n",
      "kde200 prediction_accuracy_index 3.387132072997927\n",
      "bower hit_rate 0.6370967741935484\n",
      "bower search_efficient_rate 1.6466051795112293\n",
      "bower prediction_accuracy_index 3.1855170686528127\n",
      "kde200 hit_rate 0.65625\n",
      "kde200 search_efficient_rate 1.7508206972018134\n",
      "kde200 prediction_accuracy_index 3.2812841957167422\n",
      "bower hit_rate 0.65625\n",
      "bower search_efficient_rate 1.7536534446764092\n",
      "bower prediction_accuracy_index 3.286593162839248\n"
     ]
    }
   ],
   "source": [
    "pred_res_7d = get_pred(d_bower, tr_bower_7, er_bower_7, kde200, bower, refit=True, \n",
    "         x_setting='time_indexed_points', y_setting='event_cnt', debug=True, verbose=0)\n",
    "eval_res_7d = get_eval(pred_res_7d)"
   ]
  },
  {
   "cell_type": "code",
   "execution_count": 54,
   "metadata": {},
   "outputs": [],
   "source": [
    "\n",
    "pd.DataFrame.from_dict(pred_res_7d['bower'].to_dict()).to_sparse(fill_value=0).to_pickle('exp_res/bower_7day_raw_bower.pickle')\n",
    "pd.DataFrame.from_dict(pred_res_7d['true_y'].to_dict()).to_sparse(fill_value=0).to_pickle('exp_res/bower_7day_raw_y.pickle')\n",
    "pd.DataFrame.from_dict(pred_res_7d['kde200'].to_dict()).to_pickle('exp_res/bower_7day_raw_kde200.pickle')"
   ]
  },
  {
   "cell_type": "code",
   "execution_count": 26,
   "metadata": {},
   "outputs": [
    {
     "data": {
      "text/plain": [
       "1.0"
      ]
     },
     "execution_count": 26,
     "metadata": {},
     "output_type": "execute_result"
    }
   ],
   "source": [
    "(pred_res_2d.bower.values[0]==pred_res_7d.bower.values[0]).mean()"
   ]
  },
  {
   "cell_type": "code",
   "execution_count": 24,
   "metadata": {},
   "outputs": [
    {
     "data": {
      "text/html": [
       "<div>\n",
       "<style scoped>\n",
       "    .dataframe tbody tr th:only-of-type {\n",
       "        vertical-align: middle;\n",
       "    }\n",
       "\n",
       "    .dataframe tbody tr th {\n",
       "        vertical-align: top;\n",
       "    }\n",
       "\n",
       "    .dataframe thead th {\n",
       "        text-align: right;\n",
       "    }\n",
       "</style>\n",
       "<table border=\"1\" class=\"dataframe\">\n",
       "  <thead>\n",
       "    <tr style=\"text-align: right;\">\n",
       "      <th></th>\n",
       "      <th>true_y</th>\n",
       "      <th>kde200</th>\n",
       "      <th>bower</th>\n",
       "    </tr>\n",
       "  </thead>\n",
       "  <tbody>\n",
       "    <tr>\n",
       "      <th>X: 2016-07-01 00:00:00~2016-08-29 23:59:59 -&gt; Y: 2016-08-30 00:00:00~2016-09-05 23:59:59</th>\n",
       "      <td>[0.0, 0.0, 0.0, 0.0, 0.0, 0.0, 0.0, 0.0, 0.0, ...</td>\n",
       "      <td>[8.582278140477092e-99, 1.7240350494101372e-10...</td>\n",
       "      <td>[0.0, 0.0, 0.0, 0.0, 0.0, 0.0, 0.0, 0.0, 0.0, ...</td>\n",
       "    </tr>\n",
       "  </tbody>\n",
       "</table>\n",
       "</div>"
      ],
      "text/plain": [
       "                                                                                               true_y  \\\n",
       "X: 2016-07-01 00:00:00~2016-08-29 23:59:59 -> Y...  [0.0, 0.0, 0.0, 0.0, 0.0, 0.0, 0.0, 0.0, 0.0, ...   \n",
       "\n",
       "                                                                                               kde200  \\\n",
       "X: 2016-07-01 00:00:00~2016-08-29 23:59:59 -> Y...  [8.582278140477092e-99, 1.7240350494101372e-10...   \n",
       "\n",
       "                                                                                                bower  \n",
       "X: 2016-07-01 00:00:00~2016-08-29 23:59:59 -> Y...  [0.0, 0.0, 0.0, 0.0, 0.0, 0.0, 0.0, 0.0, 0.0, ...  "
      ]
     },
     "execution_count": 24,
     "metadata": {},
     "output_type": "execute_result"
    }
   ],
   "source": [
    "pred_res_7d"
   ]
  },
  {
   "cell_type": "code",
   "execution_count": 17,
   "metadata": {},
   "outputs": [],
   "source": [
    "# pd.DataFrame(eval_res_2d).to_csv('tmp/exp_res/bower_2day_eval.csv')\n",
    "# pd.DataFrame(eval_res_7d).to_csv('tmp/exp_res/bower_7day_eval.csv')"
   ]
  },
  {
   "cell_type": "markdown",
   "metadata": {},
   "source": []
  }
 ],
 "metadata": {
  "kernelspec": {
   "display_name": "Python [default]",
   "language": "python",
   "name": "python3"
  },
  "language_info": {
   "codemirror_mode": {
    "name": "ipython",
    "version": 3
   },
   "file_extension": ".py",
   "mimetype": "text/x-python",
   "name": "python",
   "nbconvert_exporter": "python",
   "pygments_lexer": "ipython3",
   "version": "3.6.6"
  }
 },
 "nbformat": 4,
 "nbformat_minor": 2
}
