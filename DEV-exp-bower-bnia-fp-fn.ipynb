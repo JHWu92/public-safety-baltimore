{
 "cells": [
  {
   "cell_type": "code",
   "execution_count": 68,
   "metadata": {},
   "outputs": [],
   "source": [
    "import pandas as pd\n",
    "import numpy as np\n",
    "from src.exp_helper import *\n",
    "from src.utils.spatial_unit import grid2nbh\n"
   ]
  },
  {
   "cell_type": "code",
   "execution_count": 75,
   "metadata": {},
   "outputs": [
    {
     "name": "stdout",
     "output_type": "stream",
     "text": [
      "****WARNING**** Some data get 0 assignment\n",
      "****WARNING**** Some data get 0 assignment\n"
     ]
    }
   ],
   "source": [
    "grid_size = 50\n",
    "train_tw = 60\n",
    "verbose = 0\n",
    "data = CompileData(spu_name='grid_%d' % grid_size)\n",
    "data.set_x(['crime'], category_groups={'crime': [['burglary']]}, by_category=False)\n",
    "data.set_y('crime/burglary')"
   ]
  },
  {
   "cell_type": "code",
   "execution_count": 79,
   "metadata": {},
   "outputs": [],
   "source": [
    "bower = pd.read_pickle('tmp/bower.pickle').to_dense()\n",
    "ys = pd.read_pickle('tmp/true_y.pickle').to_dense()\n",
    "kde200 = pd.read_pickle('tmp/kde.pickle')\n",
    "xday=2"
   ]
  },
  {
   "cell_type": "code",
   "execution_count": 80,
   "metadata": {},
   "outputs": [],
   "source": [
    "# def bnia_fpn(data, ys, bower,kde200, xday=2):\n",
    "top20 = lambda x: x > np.percentile(x, 80)\n",
    "above_mean = lambda x: x > x.mean()\n",
    "above_mean_std = lambda x: x > (x.mean() + x.std())\n",
    "hotspot_def = [('above_mean', above_mean), ('top20', top20), ('above_mean_std', above_mean_std)]\n",
    "\n",
    "for hname, hfunc in hotspot_def:\n",
    "    for fname in ['fp','fn']:\n",
    "        fpn_res = {}\n",
    "        for p in ys.columns:\n",
    "            p_fpn_res = {}\n",
    "            for mname, model in [('bower', bower),('kde200',kde200)]:\n",
    "                h = hfunc(model[p])  # is hotspot or not\n",
    "                y = ys[p].astype(bool)  # has crime or not\n",
    "                fpn = (h&~y) if fname=='fp' else (~h&y)\n",
    "                fpn = pd.Series(fpn, index=data.spu.index, name='stat')\n",
    "                fpn = grid2nbh(fpn).values.tolist()\n",
    "                p_fpn_res['%s' % (mname)] = fpn\n",
    "            fpn_res[p]=p_fpn_res\n",
    "        pd.DataFrame.from_dict(fpn_res, 'index').to_csv('tmp/bower_%dday_bnia_%s_hotspots_%s.csv' % (xday, hname, fname))\n"
   ]
  },
  {
   "cell_type": "code",
   "execution_count": null,
   "metadata": {},
   "outputs": [],
   "source": []
  }
 ],
 "metadata": {
  "kernelspec": {
   "display_name": "Python [default]",
   "language": "python",
   "name": "python3"
  },
  "language_info": {
   "codemirror_mode": {
    "name": "ipython",
    "version": 3
   },
   "file_extension": ".py",
   "mimetype": "text/x-python",
   "name": "python",
   "nbconvert_exporter": "python",
   "pygments_lexer": "ipython3",
   "version": "3.6.6"
  }
 },
 "nbformat": 4,
 "nbformat_minor": 2
}
