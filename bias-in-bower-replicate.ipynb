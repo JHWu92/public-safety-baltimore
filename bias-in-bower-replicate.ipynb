{
 "cells": [
  {
   "cell_type": "code",
   "execution_count": 1,
   "metadata": {},
   "outputs": [],
   "source": [
    "from collections import defaultdict\n",
    "import geopandas as gp\n",
    "from scipy.stats import wilcoxon, pearsonr\n",
    "from collections import defaultdict\n",
    "import pandas as pd\n",
    "from src.constants import BniaIndicators\n",
    "from src.exp_helper import *\n",
    "from sklearn.metrics import r2_score, explained_variance_score\n",
    "from IPython.display import display"
   ]
  },
  {
   "cell_type": "code",
   "execution_count": 2,
   "metadata": {},
   "outputs": [],
   "source": [
    "population = pd.read_excel('data/open-baltimore/raw/VS16_Indicators_2010-2016.xlsx',sheet_name='2010')\n",
    "population = population.set_index('CSA2010').drop('Baltimore City')\n",
    "population = population['Total Population']"
   ]
  },
  {
   "cell_type": "code",
   "execution_count": 3,
   "metadata": {},
   "outputs": [],
   "source": [
    "indicators = pd.read_excel('data/open-baltimore/raw/VS16_Indicators_2010-2016.xlsx',sheet_name='2015')\n",
    "indicators = indicators.set_index('CSA2010').drop('Baltimore City')"
   ]
  },
  {
   "cell_type": "code",
   "execution_count": 4,
   "metadata": {},
   "outputs": [],
   "source": [
    "income_cols = list(set(indicators.columns.tolist()) & set(BniaIndicators.household_income))"
   ]
  },
  {
   "cell_type": "markdown",
   "metadata": {},
   "source": [
    "# true y event count for bnia nbh"
   ]
  },
  {
   "cell_type": "code",
   "execution_count": 5,
   "metadata": {},
   "outputs": [
    {
     "name": "stdout",
     "output_type": "stream",
     "text": [
      "****WARNING**** Some data get multiple assignments\n",
      "****WARNING**** Some data get 0 assignment\n",
      "****WARNING**** Some data get multiple assignments\n",
      "****WARNING**** Some data get 0 assignment\n"
     ]
    }
   ],
   "source": [
    "train_tw = 60\n",
    "verbose = 0\n",
    "d_nbh = CompileData(spu_name='bnia_nbh')\n",
    "d_nbh.set_x(['crime'], category_groups={'crime': [['burglary']]}, by_category=False)\n",
    "d_nbh.set_y('crime/burglary')"
   ]
  },
  {
   "cell_type": "code",
   "execution_count": 6,
   "metadata": {},
   "outputs": [],
   "source": [
    "def get_true_y(compile_data, eval_roller, x_setting='time_indexed_points', y_setting='event_cnt'):\n",
    "    pred_res = defaultdict(dict)\n",
    "    for i, dates in enumerate(eval_roller.roll()):\n",
    "        past_sd, past_ed, pred_sd, pred_ed = dates\n",
    "        period = 'X: %s~%s -> Y: %s~%s' % (past_sd, past_ed, pred_sd, pred_ed)\n",
    "        eval_x, eval_y = data_for_fit(compile_data, x_setting=x_setting, y_setting=y_setting, dates=dates,\n",
    "                                      verbose=verbose)\n",
    "        pred_res[period]['true_y'] = eval_y\n",
    "    return pd.DataFrame.from_dict(pred_res, 'index')\n"
   ]
  },
  {
   "cell_type": "code",
   "execution_count": 7,
   "metadata": {},
   "outputs": [],
   "source": [
    "er_bower_2d = Rolling(rsd='2016-07-01', red='2017-06-30', rstep=1, tw_past=train_tw, tw_pred=2)\n",
    "nbh_true_y_2d = get_true_y(d_nbh, er_bower_2d)"
   ]
  },
  {
   "cell_type": "code",
   "execution_count": 8,
   "metadata": {},
   "outputs": [],
   "source": [
    "er_bower_7d = Rolling(rsd='2016-07-01', red='2017-06-30', rstep=1, tw_past=train_tw, tw_pred=7)\n",
    "nbh_true_y_7d = get_true_y(d_nbh, er_bower_7d)"
   ]
  },
  {
   "cell_type": "markdown",
   "metadata": {},
   "source": [
    "# evaluate the model"
   ]
  },
  {
   "cell_type": "code",
   "execution_count": 9,
   "metadata": {},
   "outputs": [
    {
     "data": {
      "text/html": [
       "<div>\n",
       "<style scoped>\n",
       "    .dataframe tbody tr th:only-of-type {\n",
       "        vertical-align: middle;\n",
       "    }\n",
       "\n",
       "    .dataframe tbody tr th {\n",
       "        vertical-align: top;\n",
       "    }\n",
       "\n",
       "    .dataframe thead th {\n",
       "        text-align: right;\n",
       "    }\n",
       "</style>\n",
       "<table border=\"1\" class=\"dataframe\">\n",
       "  <thead>\n",
       "    <tr style=\"text-align: right;\">\n",
       "      <th></th>\n",
       "      <th>kde200</th>\n",
       "      <th>bower</th>\n",
       "    </tr>\n",
       "  </thead>\n",
       "  <tbody>\n",
       "    <tr>\n",
       "      <th>count</th>\n",
       "      <td>302.000000</td>\n",
       "      <td>302.000000</td>\n",
       "    </tr>\n",
       "    <tr>\n",
       "      <th>mean</th>\n",
       "      <td>0.566057</td>\n",
       "      <td>0.567833</td>\n",
       "    </tr>\n",
       "    <tr>\n",
       "      <th>std</th>\n",
       "      <td>0.082718</td>\n",
       "      <td>0.085983</td>\n",
       "    </tr>\n",
       "    <tr>\n",
       "      <th>min</th>\n",
       "      <td>0.266667</td>\n",
       "      <td>0.327586</td>\n",
       "    </tr>\n",
       "    <tr>\n",
       "      <th>25%</th>\n",
       "      <td>0.500000</td>\n",
       "      <td>0.514502</td>\n",
       "    </tr>\n",
       "    <tr>\n",
       "      <th>50%</th>\n",
       "      <td>0.565385</td>\n",
       "      <td>0.568182</td>\n",
       "    </tr>\n",
       "    <tr>\n",
       "      <th>75%</th>\n",
       "      <td>0.625000</td>\n",
       "      <td>0.626838</td>\n",
       "    </tr>\n",
       "    <tr>\n",
       "      <th>max</th>\n",
       "      <td>0.750000</td>\n",
       "      <td>0.809524</td>\n",
       "    </tr>\n",
       "  </tbody>\n",
       "</table>\n",
       "</div>"
      ],
      "text/plain": [
       "           kde200       bower\n",
       "count  302.000000  302.000000\n",
       "mean     0.566057    0.567833\n",
       "std      0.082718    0.085983\n",
       "min      0.266667    0.327586\n",
       "25%      0.500000    0.514502\n",
       "50%      0.565385    0.568182\n",
       "75%      0.625000    0.626838\n",
       "max      0.750000    0.809524"
      ]
     },
     "execution_count": 9,
     "metadata": {},
     "output_type": "execute_result"
    }
   ],
   "source": [
    "eval_res_2d = pd.read_csv('exp_res/bower_2day.csv')\n",
    "pd.concat([eval_res_2d.kde200.apply(lambda x: eval(x)[0]).describe(), eval_res_2d.bower.apply(lambda x: eval(x)[0]).describe()], axis=1)"
   ]
  },
  {
   "cell_type": "code",
   "execution_count": 10,
   "metadata": {},
   "outputs": [
    {
     "data": {
      "text/html": [
       "<div>\n",
       "<style scoped>\n",
       "    .dataframe tbody tr th:only-of-type {\n",
       "        vertical-align: middle;\n",
       "    }\n",
       "\n",
       "    .dataframe tbody tr th {\n",
       "        vertical-align: top;\n",
       "    }\n",
       "\n",
       "    .dataframe thead th {\n",
       "        text-align: right;\n",
       "    }\n",
       "</style>\n",
       "<table border=\"1\" class=\"dataframe\">\n",
       "  <thead>\n",
       "    <tr style=\"text-align: right;\">\n",
       "      <th></th>\n",
       "      <th>kde200</th>\n",
       "      <th>bower</th>\n",
       "    </tr>\n",
       "  </thead>\n",
       "  <tbody>\n",
       "    <tr>\n",
       "      <th>count</th>\n",
       "      <td>297.000000</td>\n",
       "      <td>297.000000</td>\n",
       "    </tr>\n",
       "    <tr>\n",
       "      <th>mean</th>\n",
       "      <td>0.564283</td>\n",
       "      <td>0.559525</td>\n",
       "    </tr>\n",
       "    <tr>\n",
       "      <th>std</th>\n",
       "      <td>0.048638</td>\n",
       "      <td>0.044542</td>\n",
       "    </tr>\n",
       "    <tr>\n",
       "      <th>min</th>\n",
       "      <td>0.430894</td>\n",
       "      <td>0.438776</td>\n",
       "    </tr>\n",
       "    <tr>\n",
       "      <th>25%</th>\n",
       "      <td>0.537500</td>\n",
       "      <td>0.531250</td>\n",
       "    </tr>\n",
       "    <tr>\n",
       "      <th>50%</th>\n",
       "      <td>0.563910</td>\n",
       "      <td>0.556886</td>\n",
       "    </tr>\n",
       "    <tr>\n",
       "      <th>75%</th>\n",
       "      <td>0.594937</td>\n",
       "      <td>0.586667</td>\n",
       "    </tr>\n",
       "    <tr>\n",
       "      <th>max</th>\n",
       "      <td>0.713333</td>\n",
       "      <td>0.702857</td>\n",
       "    </tr>\n",
       "  </tbody>\n",
       "</table>\n",
       "</div>"
      ],
      "text/plain": [
       "           kde200       bower\n",
       "count  297.000000  297.000000\n",
       "mean     0.564283    0.559525\n",
       "std      0.048638    0.044542\n",
       "min      0.430894    0.438776\n",
       "25%      0.537500    0.531250\n",
       "50%      0.563910    0.556886\n",
       "75%      0.594937    0.586667\n",
       "max      0.713333    0.702857"
      ]
     },
     "execution_count": 10,
     "metadata": {},
     "output_type": "execute_result"
    }
   ],
   "source": [
    "eval_res_7d = pd.read_csv('exp_res/bower_7day.csv')\n",
    "pd.concat([eval_res_7d.kde200.apply(lambda x: eval(x)[0]).describe(), eval_res_7d.bower.apply(lambda x: eval(x)[0]).describe()], axis=1)"
   ]
  },
  {
   "cell_type": "markdown",
   "metadata": {},
   "source": [
    "# load predict result"
   ]
  },
  {
   "cell_type": "code",
   "execution_count": 11,
   "metadata": {},
   "outputs": [],
   "source": [
    "pred_res_top20_hotspots_count_2d = pd.read_csv('exp_res/bower_2day_bnia_top20_hotspots.csv', index_col=0).join(nbh_true_y_2d)\n",
    "pred_res_sum_risk_hotspots_2d = pd.read_csv('exp_res/bower_2day_bnia_sum_risk_hotspots.csv', index_col=0).join(nbh_true_y_2d)\n",
    "pred_res_above_mean_hotspots_count_2d = pd.read_csv('exp_res/bower_2day_bnia_above_mean_hotspots.csv', index_col=0).join(nbh_true_y_2d)\n",
    "pred_res_above_mean_std_hotspots_count_2d = pd.read_csv('exp_res/bower_2day_bnia_above_mean_std_hotspots.csv', index_col=0).join(nbh_true_y_2d)"
   ]
  },
  {
   "cell_type": "code",
   "execution_count": 12,
   "metadata": {},
   "outputs": [],
   "source": [
    "pred_res_top20_hotspots_count_7d = pd.read_csv('exp_res/bower_7day_bnia_top20_hotspots.csv', index_col=0).join(nbh_true_y_7d)\n",
    "pred_res_sum_risk_hotspots_7d = pd.read_csv('exp_res/bower_7day_bnia_sum_risk_hotspots.csv', index_col=0).join(nbh_true_y_7d)\n",
    "pred_res_above_mean_hotspots_count_7d = pd.read_csv('exp_res/bower_7day_bnia_above_mean_hotspots.csv', index_col=0).join(nbh_true_y_7d)\n",
    "pred_res_above_mean_std_hotspots_count_7d = pd.read_csv('exp_res/bower_7day_bnia_above_mean_std_hotspots.csv', index_col=0).join(nbh_true_y_7d)"
   ]
  },
  {
   "cell_type": "markdown",
   "metadata": {},
   "source": [
    "# get pearson correlation"
   ]
  },
  {
   "cell_type": "code",
   "execution_count": 13,
   "metadata": {},
   "outputs": [],
   "source": [
    "def pear_ana(res_cnt, cols):\n",
    "    pearsonr_res = []\n",
    "    for period, (bower, kde200, true_y) in res_cnt.iterrows():\n",
    "        bower = eval(bower)\n",
    "        kde200 = eval(kde200)\n",
    "        for idctr_col in cols:\n",
    "            idctr = indicators[idctr_col].values   \n",
    "            rtrue,ptrue = pearsonr(true_y,idctr)\n",
    "            rp_true = 'pear=%0.4f, p=%0.4f' % (rtrue,ptrue)\n",
    "            rbower,pbower = pearsonr(bower,idctr)\n",
    "            rp_bower = 'pear=%0.4f, p=%0.4f' % (rbower,pbower)\n",
    "            rkde200,pkde200 = pearsonr(kde200,idctr)\n",
    "            rp_kde200 = 'pear=%0.4f, p=%0.4f' % (rkde200,pkde200)\n",
    "            r2true_bower = r2_score(true_y, bower)\n",
    "            r2true_kde200 = r2_score(true_y, kde200)\n",
    "            pear_true_bower,_ = pearsonr(true_y, bower)\n",
    "            pear_true_kde200,_ = pearsonr(true_y, kde200)\n",
    "            pearsonr_res.append({'period': period, 'indicator': idctr_col, \n",
    "                                 'rtrue': rtrue, 'ptrue':ptrue, 'rp_true':rp_true,\n",
    "                                 'rbower': rbower,'pbower':pbower, 'rp_bower': rp_bower,\n",
    "                                 'rkde200': rkde200, 'pkde200': pkde200, 'rp_kde200': rp_kde200,\n",
    "                                 'r2true_bower': r2true_bower, 'r2true_kde200': r2true_kde200,\n",
    "                                 'pear_true_bower': pear_true_bower, 'pear_true_kde200': pear_true_kde200\n",
    "                                })\n",
    "    #     break\n",
    "\n",
    "    pearsonr_res= pd.DataFrame(pearsonr_res)[['period', 'indicator', 'rtrue', 'ptrue', 'rp_true','rbower', 'pbower', \n",
    "                                              'rp_bower', 'rkde200', 'pkde200', 'rp_kde200', \n",
    "                                              'r2true_bower', 'r2true_kde200', 'pear_true_bower', 'pear_true_kde200']]\n",
    "    return pearsonr_res"
   ]
  },
  {
   "cell_type": "code",
   "execution_count": 14,
   "metadata": {},
   "outputs": [
    {
     "ename": "NameError",
     "evalue": "name 'top20_hotspots_count_2d' is not defined",
     "output_type": "error",
     "traceback": [
      "\u001b[0;31m---------------------------------------------------------------------------\u001b[0m",
      "\u001b[0;31mNameError\u001b[0m                                 Traceback (most recent call last)",
      "\u001b[0;32m<ipython-input-14-ae5cb77a072a>\u001b[0m in \u001b[0;36m<module>\u001b[0;34m()\u001b[0m\n\u001b[0;32m----> 1\u001b[0;31m \u001b[0mpear_top20_hotspots_count_2d\u001b[0m \u001b[0;34m=\u001b[0m \u001b[0mpear_ana\u001b[0m\u001b[0;34m(\u001b[0m\u001b[0mtop20_hotspots_count_2d\u001b[0m\u001b[0;34m,\u001b[0m\u001b[0mincome_cols\u001b[0m\u001b[0;34m)\u001b[0m\u001b[0;34m\u001b[0m\u001b[0m\n\u001b[0m\u001b[1;32m      2\u001b[0m \u001b[0mpear_sum_risk_hotspots_2d\u001b[0m \u001b[0;34m=\u001b[0m \u001b[0mpear_ana\u001b[0m\u001b[0;34m(\u001b[0m\u001b[0msum_risk_hotspots_2d\u001b[0m\u001b[0;34m,\u001b[0m\u001b[0mincome_cols\u001b[0m\u001b[0;34m)\u001b[0m\u001b[0;34m\u001b[0m\u001b[0m\n\u001b[1;32m      3\u001b[0m \u001b[0mpear_above_mean_hotspots_count_2d\u001b[0m \u001b[0;34m=\u001b[0m \u001b[0mpear_ana\u001b[0m\u001b[0;34m(\u001b[0m\u001b[0mabove_mean_hotspots_count_2d\u001b[0m\u001b[0;34m,\u001b[0m\u001b[0mincome_cols\u001b[0m\u001b[0;34m)\u001b[0m\u001b[0;34m\u001b[0m\u001b[0m\n\u001b[1;32m      4\u001b[0m \u001b[0mpear_above_mean_std_hotspots_count_2d\u001b[0m \u001b[0;34m=\u001b[0m \u001b[0mpear_ana\u001b[0m\u001b[0;34m(\u001b[0m\u001b[0mabove_mean_std_hotspots_count_2d\u001b[0m\u001b[0;34m,\u001b[0m\u001b[0mincome_cols\u001b[0m\u001b[0;34m)\u001b[0m\u001b[0;34m\u001b[0m\u001b[0m\n",
      "\u001b[0;31mNameError\u001b[0m: name 'top20_hotspots_count_2d' is not defined"
     ]
    }
   ],
   "source": [
    "pear_top20_hotspots_count_2d = pear_ana(top20_hotspots_count_2d,income_cols)\n",
    "pear_sum_risk_hotspots_2d = pear_ana(sum_risk_hotspots_2d,income_cols)\n",
    "pear_above_mean_hotspots_count_2d = pear_ana(above_mean_hotspots_count_2d,income_cols)\n",
    "pear_above_mean_std_hotspots_count_2d = pear_ana(above_mean_std_hotspots_count_2d,income_cols)"
   ]
  },
  {
   "cell_type": "code",
   "execution_count": null,
   "metadata": {},
   "outputs": [],
   "source": [
    "pear_top20_hotspots_count_7d = pear_ana(top20_hotspots_count_7d,income_cols)\n",
    "pear_sum_risk_hotspots_7d = pear_ana(sum_risk_hotspots_7d,income_cols)\n",
    "pear_above_mean_hotspots_count_7d = pear_ana(above_mean_hotspots_count_7d,income_cols)\n",
    "pear_above_mean_std_hotspots_count_7d = pear_ana(above_mean_std_hotspots_count_7d,income_cols)"
   ]
  },
  {
   "cell_type": "markdown",
   "metadata": {},
   "source": [
    "# analyze bias"
   ]
  },
  {
   "cell_type": "code",
   "execution_count": null,
   "metadata": {},
   "outputs": [],
   "source": [
    "p_thres_true = 0.05\n",
    "p_thres_pred = 0.05"
   ]
  },
  {
   "cell_type": "code",
   "execution_count": null,
   "metadata": {},
   "outputs": [],
   "source": [
    "def get_res_table(pearsonr_res, cond, kind, periods):\n",
    "    res = pearsonr_res[cond].pivot(index='period', columns='indicator', values='rp_'+kind) \n",
    "    return res.reindex(periods)\n",
    "def mean_not_null(pearsonr_res, cond, kind, periods):\n",
    "    ires = get_res_table(pearsonr_res, cond, kind, periods)\n",
    "    return (~ires.isnull()).mean()"
   ]
  },
  {
   "cell_type": "code",
   "execution_count": null,
   "metadata": {},
   "outputs": [],
   "source": [
    "def get_res_table_for_4kinds(pearsonr_res, res_cnt):\n",
    "    \n",
    "    bower_bias_sig = (pearsonr_res.ptrue>=p_thres_true) &(pearsonr_res.pbower<p_thres_pred)\n",
    "    bsig_not_null = mean_not_null(pearsonr_res, bower_bias_sig, 'bower', res_cnt.index)\n",
    "    \n",
    "    bower_bias_not_sig = (pearsonr_res.ptrue<p_thres_true) &(pearsonr_res.pbower>=p_thres_pred)\n",
    "    bnotsig_not_null = mean_not_null(pearsonr_res, bower_bias_not_sig, 'bower', res_cnt.index)\n",
    "    \n",
    "    kde200_bias_sig = (pearsonr_res.ptrue>=p_thres_true) &(pearsonr_res.pkde200<p_thres_pred)\n",
    "    ksig_not_null = mean_not_null(pearsonr_res, kde200_bias_sig, 'kde200', res_cnt.index)\n",
    "    \n",
    "    kde200_bias_not_sig = (pearsonr_res.ptrue<p_thres_true) &(pearsonr_res.pkde200>=p_thres_pred)\n",
    "    knotsig_not_null = mean_not_null(pearsonr_res, kde200_bias_not_sig, 'kde200', res_cnt.index)\n",
    "    \n",
    "    true_sig = (pearsonr_res.ptrue<p_thres_true) \n",
    "    tsig = mean_not_null(pearsonr_res, true_sig, 'true', res_cnt.index)\n",
    "    \n",
    "    tmp_df = pd.concat([bsig_not_null,bnotsig_not_null, ksig_not_null, knotsig_not_null, tsig],axis=1,sort=True)\n",
    "    tmp_df.columns = ['bower sig.', 'bower not sig.', 'kde200 sig.', 'kde200 not sig.', 'true sig.']\n",
    "    tmp_df.index.name = 'pred sig. different than true sig. level'\n",
    "    return tmp_df"
   ]
  },
  {
   "cell_type": "code",
   "execution_count": null,
   "metadata": {},
   "outputs": [],
   "source": [
    "sig_top20_hotspots_count_2d = get_res_table_for_4kinds(pear_top20_hotspots_count_2d, pred_res_top20_hotspots_count_2d)\n",
    "sig_sum_risk_hotspots_2d = get_res_table_for_4kinds(pear_sum_risk_hotspots_2d, pred_res_sum_risk_hotspots_2d)\n",
    "sig_above_mean_hotspots_count_2d = get_res_table_for_4kinds(pear_above_mean_hotspots_count_2d, pred_res_above_mean_hotspots_count_2d)\n",
    "sig_above_mean_std_hotspots_count_2d = get_res_table_for_4kinds(pear_above_mean_std_hotspots_count_2d, pred_res_above_mean_std_hotspots_count_2d)\n",
    "\n",
    "true_sig_pcnt = sig_top20_hotspots_count_2d['true sig.']\n",
    "\n",
    "c = 'bower sig.'\n",
    "bower_sig_pcnt_2d = pd.concat([true_sig_pcnt, \n",
    "                 sig_top20_hotspots_count_2d[c], \n",
    "                 sig_above_mean_hotspots_count_2d[c], \n",
    "                 sig_above_mean_std_hotspots_count_2d[c],\n",
    "                 sig_sum_risk_hotspots_2d[c], \n",
    "                ],\n",
    "          axis=1)\n",
    "bower_sig_pcnt_2d.columns = ['true sig.','top20', '>mean', '>mean+std', 'sum_risk', ]\n",
    "bower_sig_pcnt_2d = bower_sig_pcnt_2d.join(bower_sig_pcnt_2d.divide(true_sig_pcnt, axis=0),rsuffix='/true')\n",
    "print('=====================',c)\n",
    "display(bower_sig_pcnt_2d)\n",
    "\n",
    "c = 'kde200 sig.'\n",
    "kde200_sig_pcnt_2d = pd.concat([true_sig_pcnt, \n",
    "                 sig_top20_hotspots_count_2d[c], \n",
    "                 sig_above_mean_hotspots_count_2d[c], \n",
    "                 sig_above_mean_std_hotspots_count_2d[c],\n",
    "                 sig_sum_risk_hotspots_2d[c], \n",
    "                ],\n",
    "          axis=1)\n",
    "kde200_sig_pcnt_2d.columns = ['true sig.','top20', '>mean', '>mean+std', 'sum_risk', ]\n",
    "kde200_sig_pcnt_2d=kde200_sig_pcnt_2d.join(kde200_sig_pcnt_2d.divide(true_sig_pcnt, axis=0),rsuffix='/true')\n",
    "print('=====================',c)\n",
    "display(kde200_sig_pcnt_2d)"
   ]
  },
  {
   "cell_type": "code",
   "execution_count": null,
   "metadata": {},
   "outputs": [],
   "source": [
    "sig_top20_hotspots_count_7d = get_res_table_for_4kinds(pear_top20_hotspots_count_7d, pred_res_top20_hotspots_count_7d)\n",
    "sig_sum_risk_hotspots_7d = get_res_table_for_4kinds(pear_sum_risk_hotspots_7d, pred_res_sum_risk_hotspots_7d)\n",
    "sig_above_mean_hotspots_count_7d = get_res_table_for_4kinds(pear_above_mean_hotspots_count_7d, pred_res_above_mean_hotspots_count_7d)\n",
    "sig_above_mean_std_hotspots_count_7d = get_res_table_for_4kinds(pear_above_mean_std_hotspots_count_7d, pred_res_above_mean_std_hotspots_count_7d)\n",
    "\n",
    "true_sig_pcnt = sig_top20_hotspots_count_7d['true sig.']\n",
    "\n",
    "c = 'bower sig.'\n",
    "bower_sig_pcnt_7d = pd.concat([true_sig_pcnt, \n",
    "                 sig_top20_hotspots_count_7d[c], \n",
    "                 sig_above_mean_hotspots_count_7d[c], \n",
    "                 sig_above_mean_std_hotspots_count_7d[c],\n",
    "                 sig_sum_risk_hotspots_7d[c], \n",
    "                ],\n",
    "          axis=1)\n",
    "bower_sig_pcnt_7d.columns = ['true sig.','top20', '>mean', '>mean+std', 'sum_risk', ]\n",
    "bower_sig_pcnt_7d = bower_sig_pcnt_7d.join(bower_sig_pcnt_7d.divide(true_sig_pcnt, axis=0),rsuffix='/true')\n",
    "print('=====================',c)\n",
    "display(bower_sig_pcnt_7d)\n",
    "\n",
    "c = 'kde200 sig.'\n",
    "kde200_sig_pcnt_7d = pd.concat([true_sig_pcnt, \n",
    "                 sig_top20_hotspots_count_7d[c], \n",
    "                 sig_above_mean_hotspots_count_7d[c], \n",
    "                 sig_above_mean_std_hotspots_count_7d[c],\n",
    "                 sig_sum_risk_hotspots_7d[c], \n",
    "                ],\n",
    "          axis=1)\n",
    "kde200_sig_pcnt_7d.columns = ['true sig.','top20', '>mean', '>mean+std', 'sum_risk', ]\n",
    "kde200_sig_pcnt_7d=kde200_sig_pcnt_7d.join(kde200_sig_pcnt_7d.divide(true_sig_pcnt, axis=0),rsuffix='/true')\n",
    "print('=====================',c)\n",
    "display(kde200_sig_pcnt_7d)"
   ]
  },
  {
   "cell_type": "code",
   "execution_count": null,
   "metadata": {},
   "outputs": [],
   "source": []
  }
 ],
 "metadata": {
  "kernelspec": {
   "display_name": "Python [default]",
   "language": "python",
   "name": "python3"
  },
  "language_info": {
   "codemirror_mode": {
    "name": "ipython",
    "version": 3
   },
   "file_extension": ".py",
   "mimetype": "text/x-python",
   "name": "python",
   "nbconvert_exporter": "python",
   "pygments_lexer": "ipython3",
   "version": "3.6.6"
  }
 },
 "nbformat": 4,
 "nbformat_minor": 2
}
