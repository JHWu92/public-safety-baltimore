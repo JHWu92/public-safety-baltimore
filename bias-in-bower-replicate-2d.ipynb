{
 "cells": [
  {
   "cell_type": "code",
   "execution_count": 101,
   "metadata": {},
   "outputs": [],
   "source": [
    "from collections import defaultdict\n",
    "import geopandas as gp\n",
    "from scipy.stats import wilcoxon, pearsonr\n",
    "from collections import defaultdict\n",
    "import pandas as pd\n",
    "from src.constants import BniaIndicators\n",
    "from src.exp_helper import *\n",
    "from sklearn.metrics import r2_score"
   ]
  },
  {
   "cell_type": "code",
   "execution_count": 79,
   "metadata": {},
   "outputs": [],
   "source": [
    "population = pd.read_excel('data/open-baltimore/raw/VS16_Indicators_2010-2016.xlsx',sheet_name='2010')\n",
    "population = population.set_index('CSA2010').drop('Baltimore City')\n",
    "population = population['Total Population']"
   ]
  },
  {
   "cell_type": "code",
   "execution_count": 5,
   "metadata": {},
   "outputs": [],
   "source": [
    "indicators = pd.read_excel('data/open-baltimore/raw/VS16_Indicators_2010-2016.xlsx',sheet_name='2015')\n",
    "indicators = indicators.set_index('CSA2010').drop('Baltimore City')"
   ]
  },
  {
   "cell_type": "code",
   "execution_count": 55,
   "metadata": {},
   "outputs": [
    {
     "name": "stdout",
     "output_type": "stream",
     "text": [
      "****WARNING**** Some data get multiple assignments\n",
      "****WARNING**** Some data get 0 assignment\n",
      "****WARNING**** Some data get multiple assignments\n",
      "****WARNING**** Some data get 0 assignment\n"
     ]
    }
   ],
   "source": [
    "train_tw = 60\n",
    "verbose = 0\n",
    "d_nbh = CompileData(spu_name='bnia_nbh')\n",
    "d_nbh.set_x(['crime'], category_groups={'crime': [['burglary']]}, by_category=False)\n",
    "d_nbh.set_y('crime/burglary')"
   ]
  },
  {
   "cell_type": "code",
   "execution_count": 58,
   "metadata": {},
   "outputs": [],
   "source": [
    "er_bower_2 = Rolling(rsd='2016-07-01', red='2017-06-30', rstep=1, tw_past=train_tw, tw_pred=2)\n",
    "def get_true_y(compile_data, eval_roller, x_setting='time_indexed_points', y_setting='event_cnt'):\n",
    "    pred_res = defaultdict(dict)\n",
    "    for i, dates in enumerate(eval_roller.roll()):\n",
    "        past_sd, past_ed, pred_sd, pred_ed = dates\n",
    "        period = 'X: %s~%s -> Y: %s~%s' % (past_sd, past_ed, pred_sd, pred_ed)\n",
    "        eval_x, eval_y = data_for_fit(compile_data, x_setting=x_setting, y_setting=y_setting, dates=dates,\n",
    "                                      verbose=verbose)\n",
    "        pred_res[period]['true_y'] = eval_y\n",
    "    return pd.DataFrame.from_dict(pred_res, 'index')\n",
    "nbh_true_y = get_true_y(d_nbh, er_bower_2)"
   ]
  },
  {
   "cell_type": "code",
   "execution_count": 26,
   "metadata": {},
   "outputs": [],
   "source": [
    "cols = list(set(indicators.columns.tolist()) & set(BniaIndicators.household_income))"
   ]
  },
  {
   "cell_type": "code",
   "execution_count": 74,
   "metadata": {
    "scrolled": true
   },
   "outputs": [
    {
     "name": "stdout",
     "output_type": "stream",
     "text": [
      "Percent of Households Earning Less than $25,000 (55, 8)\n",
      "Percent of Family Households Living Below the Poverty Line (55, 8)\n",
      "Percent of Households Earning More than $75,000 (55, 8)\n",
      "Median Household Income (55, 8)\n",
      "Percent of Households Earning $25,000 to $40,000 (55, 8)\n",
      "Percent of Households Earning $60,000 to $75,000 (55, 8)\n",
      "Percent of Children Living Below the Poverty Line (55, 8)\n",
      "Percent of Households Earning $40,000 to $60,000 (55, 8)\n"
     ]
    }
   ],
   "source": [
    "for col in cols:\n",
    "    print(col,indicators[cols].shape)"
   ]
  },
  {
   "cell_type": "code",
   "execution_count": 37,
   "metadata": {},
   "outputs": [],
   "source": [
    "eval_res_2d = pd.read_csv('exp_res/bower_2day.csv')\n",
    "pd.concat([eval_res_2d.kde200.apply(lambda x: eval(x)[0]).describe(), eval_res_2d.bower.apply(lambda x: eval(x)[0]).describe()], axis=1)"
   ]
  },
  {
   "cell_type": "code",
   "execution_count": 63,
   "metadata": {},
   "outputs": [],
   "source": [
    "res_cnt = pd.read_csv('exp_res/bower_2day_bnia_top20_hotspots.csv', index_col=0).join(nbh_true_y)"
   ]
  },
  {
   "cell_type": "code",
   "execution_count": 117,
   "metadata": {},
   "outputs": [],
   "source": [
    "pearsonr_res = []\n",
    "for period, (bower, kde200, true_y) in res_cnt.iterrows():\n",
    "    bower = eval(bower)\n",
    "    kde200 = eval(kde200)\n",
    "    for idctr_col in cols:\n",
    "        idctr = indicators[idctr_col].values   \n",
    "        rtrue,ptrue = pearsonr(true_y,idctr)\n",
    "        rbower,pbower = pearsonr(bower,idctr)\n",
    "        rp_bower = 'pear=%0.4f, p=%0.4f' % (rbower,pbower)\n",
    "        rkde200,pkde200 = pearsonr(kde200,idctr)\n",
    "        rp_kde200 = 'pear=%0.4f, p=%0.4f' % (rkde200,pkde200)\n",
    "        r2true_bower = r2_score(true_y, bower)\n",
    "        r2true_kde200 = r2_score(true_y, kde200)\n",
    "        pearsonr_res.append({'period': period, 'indicator': idctr_col, \n",
    "                             'rtrue': rtrue, 'ptrue':ptrue, \n",
    "                             'rbower': rbower,'pbower':pbower, 'rp_bower': rp_bower,\n",
    "                             'rkde200': rkde200, 'pkde200': pkde200, 'rp_kde200': rp_kde200,\n",
    "                             'r2true_bower': r2true_bower, 'r2true_kde200': r2true_kde200\n",
    "                            })\n",
    "#     break\n",
    "\n",
    "pearsonr_res= pd.DataFrame(pearsonr_res)[['period', 'indicator', 'rtrue', 'ptrue', 'rbower', 'pbower', 'rp_bower', 'rkde200', 'pkde200', 'rp_kde200', 'r2true_bower', 'r2true_kde200']]\n"
   ]
  },
  {
   "cell_type": "code",
   "execution_count": 132,
   "metadata": {},
   "outputs": [],
   "source": [
    "p_thres_true = 0.05\n",
    "p_thres_pred = 0.05"
   ]
  },
  {
   "cell_type": "code",
   "execution_count": 159,
   "metadata": {},
   "outputs": [],
   "source": [
    "def get_res_table(pearsonr_res, cond, kind, periods):\n",
    "    res = pearsonr_res[cond].pivot(index='period', columns='indicator', values='rp_'+kind) \n",
    "    return res.reindex(periods)"
   ]
  },
  {
   "cell_type": "code",
   "execution_count": 160,
   "metadata": {},
   "outputs": [
    {
     "data": {
      "text/plain": [
       "indicator\n",
       "Median Household Income                                       0.122517\n",
       "Percent of Children Living Below the Poverty Line             0.539735\n",
       "Percent of Family Households Living Below the Poverty Line    0.456954\n",
       "Percent of Households Earning $25,000 to $40,000              0.066225\n",
       "Percent of Households Earning $40,000 to $60,000              0.039735\n",
       "Percent of Households Earning Less than $25,000               0.115894\n",
       "Percent of Households Earning More than $75,000               0.168874\n",
       "dtype: float64"
      ]
     },
     "execution_count": 160,
     "metadata": {},
     "output_type": "execute_result"
    }
   ],
   "source": [
    "bower_bias_sig = (pearsonr_res.ptrue>=p_thres_true) &(pearsonr_res.pbower<p_thres_pred)\n",
    "ires = get_res_table(pearsonr_res, bower_bias_sig, 'bower', res_cnt.index)\n",
    "(~ires.isnull()).mean()"
   ]
  },
  {
   "cell_type": "code",
   "execution_count": 161,
   "metadata": {},
   "outputs": [
    {
     "data": {
      "text/plain": [
       "indicator\n",
       "Median Household Income                                       0.003311\n",
       "Percent of Family Households Living Below the Poverty Line    0.009934\n",
       "Percent of Households Earning $25,000 to $40,000              0.006623\n",
       "Percent of Households Earning $40,000 to $60,000              0.006623\n",
       "Percent of Households Earning $60,000 to $75,000              0.003311\n",
       "Percent of Households Earning Less than $25,000               0.006623\n",
       "Percent of Households Earning More than $75,000               0.003311\n",
       "dtype: float64"
      ]
     },
     "execution_count": 161,
     "metadata": {},
     "output_type": "execute_result"
    }
   ],
   "source": [
    "bower_bias_not_sig = (pearsonr_res.ptrue<p_thres) &(pearsonr_res.pbower>=p_thres)\n",
    "ires = get_res_table(pearsonr_res, bower_bias_not_sig, 'bower', res_cnt.index)\n",
    "(~ires.isnull()).mean()"
   ]
  },
  {
   "cell_type": "code",
   "execution_count": 162,
   "metadata": {},
   "outputs": [
    {
     "data": {
      "text/plain": [
       "indicator\n",
       "Median Household Income                                       0.135762\n",
       "Percent of Children Living Below the Poverty Line             0.668874\n",
       "Percent of Family Households Living Below the Poverty Line    0.523179\n",
       "Percent of Households Earning $25,000 to $40,000              0.086093\n",
       "Percent of Households Earning $40,000 to $60,000              0.009934\n",
       "Percent of Households Earning Less than $25,000               0.215232\n",
       "Percent of Households Earning More than $75,000               0.152318\n",
       "dtype: float64"
      ]
     },
     "execution_count": 162,
     "metadata": {},
     "output_type": "execute_result"
    }
   ],
   "source": [
    "kde200_bias_sig = (pearsonr_res.ptrue>=p_thres_true) &(pearsonr_res.pkde200<p_thres_pred)\n",
    "ires = get_res_table(pearsonr_res, kde200_bias_sig, 'kde200', res_cnt.index)\n",
    "(~ires.isnull()).mean()\n"
   ]
  },
  {
   "cell_type": "code",
   "execution_count": 163,
   "metadata": {},
   "outputs": [
    {
     "data": {
      "text/plain": [
       "indicator\n",
       "Median Household Income                                       0.003311\n",
       "Percent of Family Households Living Below the Poverty Line    0.003311\n",
       "Percent of Households Earning $25,000 to $40,000              0.006623\n",
       "Percent of Households Earning $40,000 to $60,000              0.006623\n",
       "Percent of Households Earning $60,000 to $75,000              0.003311\n",
       "Percent of Households Earning Less than $25,000               0.006623\n",
       "Percent of Households Earning More than $75,000               0.003311\n",
       "dtype: float64"
      ]
     },
     "execution_count": 163,
     "metadata": {},
     "output_type": "execute_result"
    }
   ],
   "source": [
    "\n",
    "kde200_bias_not_sig = (pearsonr_res.ptrue<p_thres) &(pearsonr_res.pkde200>=p_thres)\n",
    "ires = get_res_table(pearsonr_res, kde200_bias_not_sig, 'kde200', res_cnt.index)\n",
    "(~ires.isnull()).mean()"
   ]
  }
 ],
 "metadata": {
  "kernelspec": {
   "display_name": "Python [default]",
   "language": "python",
   "name": "python3"
  },
  "language_info": {
   "codemirror_mode": {
    "name": "ipython",
    "version": 3
   },
   "file_extension": ".py",
   "mimetype": "text/x-python",
   "name": "python",
   "nbconvert_exporter": "python",
   "pygments_lexer": "ipython3",
   "version": "3.6.6"
  }
 },
 "nbformat": 4,
 "nbformat_minor": 2
}
